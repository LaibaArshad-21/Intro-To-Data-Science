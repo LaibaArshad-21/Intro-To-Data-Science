{
  "nbformat": 4,
  "nbformat_minor": 0,
  "metadata": {
    "colab": {
      "provenance": []
    },
    "kernelspec": {
      "name": "python3",
      "display_name": "Python 3"
    },
    "language_info": {
      "name": "python"
    }
  },
  "cells": [
    {
      "cell_type": "code",
      "execution_count": null,
      "metadata": {
        "id": "V9WZNoRYmt5j"
      },
      "outputs": [],
      "source": [
        "import numpy as np\n",
        "import pandas as pd\n",
        "import plotly.express as px\n",
        "from textblob import TextBlob\n",
        "\n",
        "df = pd.read_csv('netflix_titles_nov_2019.csv')\n"
      ]
    },
    {
      "cell_type": "code",
      "source": [
        "df.shape"
      ],
      "metadata": {
        "colab": {
          "base_uri": "https://localhost:8080/"
        },
        "id": "uw3dP9-ipwZ4",
        "outputId": "4f2de4f2-83d2-4812-fcf1-0a82b1f74cca"
      },
      "execution_count": null,
      "outputs": [
        {
          "output_type": "execute_result",
          "data": {
            "text/plain": [
              "(5836, 12)"
            ]
          },
          "metadata": {},
          "execution_count": 4
        }
      ]
    },
    {
      "cell_type": "code",
      "source": [
        "df.head()"
      ],
      "metadata": {
        "colab": {
          "base_uri": "https://localhost:8080/",
          "height": 642
        },
        "id": "ZJDJvdPfp5ps",
        "outputId": "1d5aac57-55ba-4fe6-c81e-cdc3fc9aab29"
      },
      "execution_count": null,
      "outputs": [
        {
          "output_type": "execute_result",
          "data": {
            "text/plain": [
              "    show_id                                title                    director  \\\n",
              "0  81193313                            Chocolate                         NaN   \n",
              "1  81197050  Guatemala: Heart of the Mayan World  Luis Ara, Ignacio Jaunsolo   \n",
              "2  81213894                      The Zoya Factor             Abhishek Sharma   \n",
              "3  81082007                            Atlantics                   Mati Diop   \n",
              "4  80213643                      Chip and Potato                         NaN   \n",
              "\n",
              "                                                cast  \\\n",
              "0  Ha Ji-won, Yoon Kye-sang, Jang Seung-jo, Kang ...   \n",
              "1                                  Christian Morales   \n",
              "2  Sonam Kapoor, Dulquer Salmaan, Sanjay Kapoor, ...   \n",
              "3  Mama Sane, Amadou Mbow, Ibrahima Traore, Nicol...   \n",
              "4  Abigail Oliver, Andrea Libman, Briana Buckmast...   \n",
              "\n",
              "                    country date_added  release_year rating   duration  \\\n",
              "0               South Korea  30-Nov-19          2019  TV-14   1 Season   \n",
              "1                       NaN  30-Nov-19          2019   TV-G     67 min   \n",
              "2                     India  30-Nov-19          2019  TV-14    135 min   \n",
              "3  France, Senegal, Belgium  29-Nov-19          2019  TV-14    106 min   \n",
              "4    Canada, United Kingdom        NaN          2019   TV-Y  2 Seasons   \n",
              "\n",
              "                                           listed_in  \\\n",
              "0  International TV Shows, Korean TV Shows, Roman...   \n",
              "1                Documentaries, International Movies   \n",
              "2             Comedies, Dramas, International Movies   \n",
              "3   Dramas, Independent Movies, International Movies   \n",
              "4                                           Kids' TV   \n",
              "\n",
              "                                         description     type  \n",
              "0  Brought together by meaningful meals in the pa...  TV Show  \n",
              "1  From Sierra de las Minas to Esquipulas, explor...    Movie  \n",
              "2  A goofy copywriter unwittingly convinces the I...    Movie  \n",
              "3  Arranged to marry a rich man, young Ada is cru...    Movie  \n",
              "4  Lovable pug Chip starts kindergarten, makes ne...  TV Show  "
            ],
            "text/html": [
              "\n",
              "  <div id=\"df-4c626fdf-74a4-41d5-b650-a7605b0415eb\" class=\"colab-df-container\">\n",
              "    <div>\n",
              "<style scoped>\n",
              "    .dataframe tbody tr th:only-of-type {\n",
              "        vertical-align: middle;\n",
              "    }\n",
              "\n",
              "    .dataframe tbody tr th {\n",
              "        vertical-align: top;\n",
              "    }\n",
              "\n",
              "    .dataframe thead th {\n",
              "        text-align: right;\n",
              "    }\n",
              "</style>\n",
              "<table border=\"1\" class=\"dataframe\">\n",
              "  <thead>\n",
              "    <tr style=\"text-align: right;\">\n",
              "      <th></th>\n",
              "      <th>show_id</th>\n",
              "      <th>title</th>\n",
              "      <th>director</th>\n",
              "      <th>cast</th>\n",
              "      <th>country</th>\n",
              "      <th>date_added</th>\n",
              "      <th>release_year</th>\n",
              "      <th>rating</th>\n",
              "      <th>duration</th>\n",
              "      <th>listed_in</th>\n",
              "      <th>description</th>\n",
              "      <th>type</th>\n",
              "    </tr>\n",
              "  </thead>\n",
              "  <tbody>\n",
              "    <tr>\n",
              "      <th>0</th>\n",
              "      <td>81193313</td>\n",
              "      <td>Chocolate</td>\n",
              "      <td>NaN</td>\n",
              "      <td>Ha Ji-won, Yoon Kye-sang, Jang Seung-jo, Kang ...</td>\n",
              "      <td>South Korea</td>\n",
              "      <td>30-Nov-19</td>\n",
              "      <td>2019</td>\n",
              "      <td>TV-14</td>\n",
              "      <td>1 Season</td>\n",
              "      <td>International TV Shows, Korean TV Shows, Roman...</td>\n",
              "      <td>Brought together by meaningful meals in the pa...</td>\n",
              "      <td>TV Show</td>\n",
              "    </tr>\n",
              "    <tr>\n",
              "      <th>1</th>\n",
              "      <td>81197050</td>\n",
              "      <td>Guatemala: Heart of the Mayan World</td>\n",
              "      <td>Luis Ara, Ignacio Jaunsolo</td>\n",
              "      <td>Christian Morales</td>\n",
              "      <td>NaN</td>\n",
              "      <td>30-Nov-19</td>\n",
              "      <td>2019</td>\n",
              "      <td>TV-G</td>\n",
              "      <td>67 min</td>\n",
              "      <td>Documentaries, International Movies</td>\n",
              "      <td>From Sierra de las Minas to Esquipulas, explor...</td>\n",
              "      <td>Movie</td>\n",
              "    </tr>\n",
              "    <tr>\n",
              "      <th>2</th>\n",
              "      <td>81213894</td>\n",
              "      <td>The Zoya Factor</td>\n",
              "      <td>Abhishek Sharma</td>\n",
              "      <td>Sonam Kapoor, Dulquer Salmaan, Sanjay Kapoor, ...</td>\n",
              "      <td>India</td>\n",
              "      <td>30-Nov-19</td>\n",
              "      <td>2019</td>\n",
              "      <td>TV-14</td>\n",
              "      <td>135 min</td>\n",
              "      <td>Comedies, Dramas, International Movies</td>\n",
              "      <td>A goofy copywriter unwittingly convinces the I...</td>\n",
              "      <td>Movie</td>\n",
              "    </tr>\n",
              "    <tr>\n",
              "      <th>3</th>\n",
              "      <td>81082007</td>\n",
              "      <td>Atlantics</td>\n",
              "      <td>Mati Diop</td>\n",
              "      <td>Mama Sane, Amadou Mbow, Ibrahima Traore, Nicol...</td>\n",
              "      <td>France, Senegal, Belgium</td>\n",
              "      <td>29-Nov-19</td>\n",
              "      <td>2019</td>\n",
              "      <td>TV-14</td>\n",
              "      <td>106 min</td>\n",
              "      <td>Dramas, Independent Movies, International Movies</td>\n",
              "      <td>Arranged to marry a rich man, young Ada is cru...</td>\n",
              "      <td>Movie</td>\n",
              "    </tr>\n",
              "    <tr>\n",
              "      <th>4</th>\n",
              "      <td>80213643</td>\n",
              "      <td>Chip and Potato</td>\n",
              "      <td>NaN</td>\n",
              "      <td>Abigail Oliver, Andrea Libman, Briana Buckmast...</td>\n",
              "      <td>Canada, United Kingdom</td>\n",
              "      <td>NaN</td>\n",
              "      <td>2019</td>\n",
              "      <td>TV-Y</td>\n",
              "      <td>2 Seasons</td>\n",
              "      <td>Kids' TV</td>\n",
              "      <td>Lovable pug Chip starts kindergarten, makes ne...</td>\n",
              "      <td>TV Show</td>\n",
              "    </tr>\n",
              "  </tbody>\n",
              "</table>\n",
              "</div>\n",
              "    <div class=\"colab-df-buttons\">\n",
              "\n",
              "  <div class=\"colab-df-container\">\n",
              "    <button class=\"colab-df-convert\" onclick=\"convertToInteractive('df-4c626fdf-74a4-41d5-b650-a7605b0415eb')\"\n",
              "            title=\"Convert this dataframe to an interactive table.\"\n",
              "            style=\"display:none;\">\n",
              "\n",
              "  <svg xmlns=\"http://www.w3.org/2000/svg\" height=\"24px\" viewBox=\"0 -960 960 960\">\n",
              "    <path d=\"M120-120v-720h720v720H120Zm60-500h600v-160H180v160Zm220 220h160v-160H400v160Zm0 220h160v-160H400v160ZM180-400h160v-160H180v160Zm440 0h160v-160H620v160ZM180-180h160v-160H180v160Zm440 0h160v-160H620v160Z\"/>\n",
              "  </svg>\n",
              "    </button>\n",
              "\n",
              "  <style>\n",
              "    .colab-df-container {\n",
              "      display:flex;\n",
              "      gap: 12px;\n",
              "    }\n",
              "\n",
              "    .colab-df-convert {\n",
              "      background-color: #E8F0FE;\n",
              "      border: none;\n",
              "      border-radius: 50%;\n",
              "      cursor: pointer;\n",
              "      display: none;\n",
              "      fill: #1967D2;\n",
              "      height: 32px;\n",
              "      padding: 0 0 0 0;\n",
              "      width: 32px;\n",
              "    }\n",
              "\n",
              "    .colab-df-convert:hover {\n",
              "      background-color: #E2EBFA;\n",
              "      box-shadow: 0px 1px 2px rgba(60, 64, 67, 0.3), 0px 1px 3px 1px rgba(60, 64, 67, 0.15);\n",
              "      fill: #174EA6;\n",
              "    }\n",
              "\n",
              "    .colab-df-buttons div {\n",
              "      margin-bottom: 4px;\n",
              "    }\n",
              "\n",
              "    [theme=dark] .colab-df-convert {\n",
              "      background-color: #3B4455;\n",
              "      fill: #D2E3FC;\n",
              "    }\n",
              "\n",
              "    [theme=dark] .colab-df-convert:hover {\n",
              "      background-color: #434B5C;\n",
              "      box-shadow: 0px 1px 3px 1px rgba(0, 0, 0, 0.15);\n",
              "      filter: drop-shadow(0px 1px 2px rgba(0, 0, 0, 0.3));\n",
              "      fill: #FFFFFF;\n",
              "    }\n",
              "  </style>\n",
              "\n",
              "    <script>\n",
              "      const buttonEl =\n",
              "        document.querySelector('#df-4c626fdf-74a4-41d5-b650-a7605b0415eb button.colab-df-convert');\n",
              "      buttonEl.style.display =\n",
              "        google.colab.kernel.accessAllowed ? 'block' : 'none';\n",
              "\n",
              "      async function convertToInteractive(key) {\n",
              "        const element = document.querySelector('#df-4c626fdf-74a4-41d5-b650-a7605b0415eb');\n",
              "        const dataTable =\n",
              "          await google.colab.kernel.invokeFunction('convertToInteractive',\n",
              "                                                    [key], {});\n",
              "        if (!dataTable) return;\n",
              "\n",
              "        const docLinkHtml = 'Like what you see? Visit the ' +\n",
              "          '<a target=\"_blank\" href=https://colab.research.google.com/notebooks/data_table.ipynb>data table notebook</a>'\n",
              "          + ' to learn more about interactive tables.';\n",
              "        element.innerHTML = '';\n",
              "        dataTable['output_type'] = 'display_data';\n",
              "        await google.colab.output.renderOutput(dataTable, element);\n",
              "        const docLink = document.createElement('div');\n",
              "        docLink.innerHTML = docLinkHtml;\n",
              "        element.appendChild(docLink);\n",
              "      }\n",
              "    </script>\n",
              "  </div>\n",
              "\n",
              "\n",
              "<div id=\"df-3ac880ee-5e44-4116-a261-d7f98c167ab0\">\n",
              "  <button class=\"colab-df-quickchart\" onclick=\"quickchart('df-3ac880ee-5e44-4116-a261-d7f98c167ab0')\"\n",
              "            title=\"Suggest charts\"\n",
              "            style=\"display:none;\">\n",
              "\n",
              "<svg xmlns=\"http://www.w3.org/2000/svg\" height=\"24px\"viewBox=\"0 0 24 24\"\n",
              "     width=\"24px\">\n",
              "    <g>\n",
              "        <path d=\"M19 3H5c-1.1 0-2 .9-2 2v14c0 1.1.9 2 2 2h14c1.1 0 2-.9 2-2V5c0-1.1-.9-2-2-2zM9 17H7v-7h2v7zm4 0h-2V7h2v10zm4 0h-2v-4h2v4z\"/>\n",
              "    </g>\n",
              "</svg>\n",
              "  </button>\n",
              "\n",
              "<style>\n",
              "  .colab-df-quickchart {\n",
              "      --bg-color: #E8F0FE;\n",
              "      --fill-color: #1967D2;\n",
              "      --hover-bg-color: #E2EBFA;\n",
              "      --hover-fill-color: #174EA6;\n",
              "      --disabled-fill-color: #AAA;\n",
              "      --disabled-bg-color: #DDD;\n",
              "  }\n",
              "\n",
              "  [theme=dark] .colab-df-quickchart {\n",
              "      --bg-color: #3B4455;\n",
              "      --fill-color: #D2E3FC;\n",
              "      --hover-bg-color: #434B5C;\n",
              "      --hover-fill-color: #FFFFFF;\n",
              "      --disabled-bg-color: #3B4455;\n",
              "      --disabled-fill-color: #666;\n",
              "  }\n",
              "\n",
              "  .colab-df-quickchart {\n",
              "    background-color: var(--bg-color);\n",
              "    border: none;\n",
              "    border-radius: 50%;\n",
              "    cursor: pointer;\n",
              "    display: none;\n",
              "    fill: var(--fill-color);\n",
              "    height: 32px;\n",
              "    padding: 0;\n",
              "    width: 32px;\n",
              "  }\n",
              "\n",
              "  .colab-df-quickchart:hover {\n",
              "    background-color: var(--hover-bg-color);\n",
              "    box-shadow: 0 1px 2px rgba(60, 64, 67, 0.3), 0 1px 3px 1px rgba(60, 64, 67, 0.15);\n",
              "    fill: var(--button-hover-fill-color);\n",
              "  }\n",
              "\n",
              "  .colab-df-quickchart-complete:disabled,\n",
              "  .colab-df-quickchart-complete:disabled:hover {\n",
              "    background-color: var(--disabled-bg-color);\n",
              "    fill: var(--disabled-fill-color);\n",
              "    box-shadow: none;\n",
              "  }\n",
              "\n",
              "  .colab-df-spinner {\n",
              "    border: 2px solid var(--fill-color);\n",
              "    border-color: transparent;\n",
              "    border-bottom-color: var(--fill-color);\n",
              "    animation:\n",
              "      spin 1s steps(1) infinite;\n",
              "  }\n",
              "\n",
              "  @keyframes spin {\n",
              "    0% {\n",
              "      border-color: transparent;\n",
              "      border-bottom-color: var(--fill-color);\n",
              "      border-left-color: var(--fill-color);\n",
              "    }\n",
              "    20% {\n",
              "      border-color: transparent;\n",
              "      border-left-color: var(--fill-color);\n",
              "      border-top-color: var(--fill-color);\n",
              "    }\n",
              "    30% {\n",
              "      border-color: transparent;\n",
              "      border-left-color: var(--fill-color);\n",
              "      border-top-color: var(--fill-color);\n",
              "      border-right-color: var(--fill-color);\n",
              "    }\n",
              "    40% {\n",
              "      border-color: transparent;\n",
              "      border-right-color: var(--fill-color);\n",
              "      border-top-color: var(--fill-color);\n",
              "    }\n",
              "    60% {\n",
              "      border-color: transparent;\n",
              "      border-right-color: var(--fill-color);\n",
              "    }\n",
              "    80% {\n",
              "      border-color: transparent;\n",
              "      border-right-color: var(--fill-color);\n",
              "      border-bottom-color: var(--fill-color);\n",
              "    }\n",
              "    90% {\n",
              "      border-color: transparent;\n",
              "      border-bottom-color: var(--fill-color);\n",
              "    }\n",
              "  }\n",
              "</style>\n",
              "\n",
              "  <script>\n",
              "    async function quickchart(key) {\n",
              "      const quickchartButtonEl =\n",
              "        document.querySelector('#' + key + ' button');\n",
              "      quickchartButtonEl.disabled = true;  // To prevent multiple clicks.\n",
              "      quickchartButtonEl.classList.add('colab-df-spinner');\n",
              "      try {\n",
              "        const charts = await google.colab.kernel.invokeFunction(\n",
              "            'suggestCharts', [key], {});\n",
              "      } catch (error) {\n",
              "        console.error('Error during call to suggestCharts:', error);\n",
              "      }\n",
              "      quickchartButtonEl.classList.remove('colab-df-spinner');\n",
              "      quickchartButtonEl.classList.add('colab-df-quickchart-complete');\n",
              "    }\n",
              "    (() => {\n",
              "      let quickchartButtonEl =\n",
              "        document.querySelector('#df-3ac880ee-5e44-4116-a261-d7f98c167ab0 button');\n",
              "      quickchartButtonEl.style.display =\n",
              "        google.colab.kernel.accessAllowed ? 'block' : 'none';\n",
              "    })();\n",
              "  </script>\n",
              "</div>\n",
              "\n",
              "    </div>\n",
              "  </div>\n"
            ],
            "application/vnd.google.colaboratory.intrinsic+json": {
              "type": "dataframe",
              "variable_name": "df",
              "summary": "{\n  \"name\": \"df\",\n  \"rows\": 5836,\n  \"fields\": [\n    {\n      \"column\": \"show_id\",\n      \"properties\": {\n        \"dtype\": \"number\",\n        \"std\": 9480520,\n        \"min\": 269880,\n        \"max\": 81227195,\n        \"num_unique_values\": 5836,\n        \"samples\": [\n          80100933,\n          80024113,\n          70096752\n        ],\n        \"semantic_type\": \"\",\n        \"description\": \"\"\n      }\n    },\n    {\n      \"column\": \"title\",\n      \"properties\": {\n        \"dtype\": \"string\",\n        \"num_unique_values\": 5779,\n        \"samples\": [\n          \"The Confirmation\",\n          \"Baby Ballroom\",\n          \"Highway to Heaven\"\n        ],\n        \"semantic_type\": \"\",\n        \"description\": \"\"\n      }\n    },\n    {\n      \"column\": \"director\",\n      \"properties\": {\n        \"dtype\": \"string\",\n        \"num_unique_values\": 3108,\n        \"samples\": [\n          \"Michael Anderson\",\n          \"Kunle Afolayan\",\n          \"Maris Curran\"\n        ],\n        \"semantic_type\": \"\",\n        \"description\": \"\"\n      }\n    },\n    {\n      \"column\": \"cast\",\n      \"properties\": {\n        \"dtype\": \"string\",\n        \"num_unique_values\": 5086,\n        \"samples\": [\n          \"Ranbir Kapoor, Vicky Kaushal, Paresh Rawal, Sonam Kapoor, Dia Mirza, Jim Sarbh, Anushka Sharma, Manisha Koirala, Boman Irani\",\n          \"Justin Willman\",\n          \"Chai Hansen, Luciane Buchanan, Josh Thomson, Emilie Cocquerel, Josh McKenzie, Jordan Mooney, Jarred Blakiston\"\n        ],\n        \"semantic_type\": \"\",\n        \"description\": \"\"\n      }\n    },\n    {\n      \"column\": \"country\",\n      \"properties\": {\n        \"dtype\": \"category\",\n        \"num_unique_values\": 527,\n        \"samples\": [\n          \"United States, Canada, Ireland\",\n          \"Australia, India\",\n          \"South Africa\"\n        ],\n        \"semantic_type\": \"\",\n        \"description\": \"\"\n      }\n    },\n    {\n      \"column\": \"date_added\",\n      \"properties\": {\n        \"dtype\": \"object\",\n        \"num_unique_values\": 1092,\n        \"samples\": [\n          \"22-May-18\",\n          \"21-Jun-19\",\n          \"22-Aug-19\"\n        ],\n        \"semantic_type\": \"\",\n        \"description\": \"\"\n      }\n    },\n    {\n      \"column\": \"release_year\",\n      \"properties\": {\n        \"dtype\": \"number\",\n        \"std\": 8,\n        \"min\": 1925,\n        \"max\": 2020,\n        \"num_unique_values\": 71,\n        \"samples\": [\n          2011,\n          2019,\n          1984\n        ],\n        \"semantic_type\": \"\",\n        \"description\": \"\"\n      }\n    },\n    {\n      \"column\": \"rating\",\n      \"properties\": {\n        \"dtype\": \"category\",\n        \"num_unique_values\": 14,\n        \"samples\": [\n          \"PG-13\",\n          \"NR\",\n          \"TV-14\"\n        ],\n        \"semantic_type\": \"\",\n        \"description\": \"\"\n      }\n    },\n    {\n      \"column\": \"duration\",\n      \"properties\": {\n        \"dtype\": \"category\",\n        \"num_unique_values\": 194,\n        \"samples\": [\n          \"15 min\",\n          \"209 min\",\n          \"51 min\"\n        ],\n        \"semantic_type\": \"\",\n        \"description\": \"\"\n      }\n    },\n    {\n      \"column\": \"listed_in\",\n      \"properties\": {\n        \"dtype\": \"category\",\n        \"num_unique_values\": 449,\n        \"samples\": [\n          \"Children & Family Movies, Comedies, Faith & Spirituality\",\n          \"Comedies, Dramas, Music & Musicals\",\n          \"Classic Movies, Dramas, International Movies\"\n        ],\n        \"semantic_type\": \"\",\n        \"description\": \"\"\n      }\n    },\n    {\n      \"column\": \"description\",\n      \"properties\": {\n        \"dtype\": \"string\",\n        \"num_unique_values\": 5828,\n        \"samples\": [\n          \"During an uprising in Russia's St. Petersburg, teen girl Lucky meets handsome Aditya, the Indian ambassador's son, and together they flee the chaos.\",\n          \"This documentary chronicles the philosophy and life's work of archivist P.K. Nair, who made a mission of preserving Indian cinema\\u2019s rich history.\",\n          \"After the world learns the truth about her failing marriage, a successful self-help author tries to salvage her career and find her way as a divorc\\u00e9e.\"\n        ],\n        \"semantic_type\": \"\",\n        \"description\": \"\"\n      }\n    },\n    {\n      \"column\": \"type\",\n      \"properties\": {\n        \"dtype\": \"category\",\n        \"num_unique_values\": 2,\n        \"samples\": [\n          \"Movie\",\n          \"TV Show\"\n        ],\n        \"semantic_type\": \"\",\n        \"description\": \"\"\n      }\n    }\n  ]\n}"
            }
          },
          "metadata": {},
          "execution_count": 5
        }
      ]
    },
    {
      "cell_type": "code",
      "source": [
        "df.columns"
      ],
      "metadata": {
        "colab": {
          "base_uri": "https://localhost:8080/"
        },
        "id": "49QZYcj3qHwN",
        "outputId": "b0d574d1-fb5a-4f5e-bdf6-adb49e3d6ed0"
      },
      "execution_count": null,
      "outputs": [
        {
          "output_type": "execute_result",
          "data": {
            "text/plain": [
              "Index(['show_id', 'title', 'director', 'cast', 'country', 'date_added',\n",
              "       'release_year', 'rating', 'duration', 'listed_in', 'description',\n",
              "       'type'],\n",
              "      dtype='object')"
            ]
          },
          "metadata": {},
          "execution_count": 6
        }
      ]
    },
    {
      "cell_type": "code",
      "source": [
        "x = df.groupby(['rating']).size().reset_index(name='counts')\n",
        "print(x)"
      ],
      "metadata": {
        "colab": {
          "base_uri": "https://localhost:8080/"
        },
        "id": "QPUX6KSutZtb",
        "outputId": "551098b3-4753-475d-f308-6404fffcdad6"
      },
      "execution_count": null,
      "outputs": [
        {
          "output_type": "stream",
          "name": "stdout",
          "text": [
            "      rating  counts\n",
            "0          G      32\n",
            "1      NC-17       2\n",
            "2         NR     218\n",
            "3         PG     160\n",
            "4      PG-13     227\n",
            "5          R     439\n",
            "6      TV-14    1593\n",
            "7       TV-G     147\n",
            "8      TV-MA    1936\n",
            "9      TV-PG     678\n",
            "10      TV-Y     139\n",
            "11     TV-Y7     156\n",
            "12  TV-Y7-FV      92\n",
            "13        UR       7\n"
          ]
        }
      ]
    },
    {
      "cell_type": "code",
      "source": [
        "pieChart = px.pie(x, values='counts', names='rating', title='Distribution of content ratings on Netflix')\n",
        "pieChart.show()"
      ],
      "metadata": {
        "colab": {
          "base_uri": "https://localhost:8080/",
          "height": 542
        },
        "id": "CE2Pb0jQvMHz",
        "outputId": "fc7345c3-6801-484f-b216-d2117e9ca586"
      },
      "execution_count": null,
      "outputs": [
        {
          "output_type": "display_data",
          "data": {
            "text/html": [
              "<html>\n",
              "<head><meta charset=\"utf-8\" /></head>\n",
              "<body>\n",
              "    <div>            <script src=\"https://cdnjs.cloudflare.com/ajax/libs/mathjax/2.7.5/MathJax.js?config=TeX-AMS-MML_SVG\"></script><script type=\"text/javascript\">if (window.MathJax && window.MathJax.Hub && window.MathJax.Hub.Config) {window.MathJax.Hub.Config({SVG: {font: \"STIX-Web\"}});}</script>                <script type=\"text/javascript\">window.PlotlyConfig = {MathJaxConfig: 'local'};</script>\n",
              "        <script charset=\"utf-8\" src=\"https://cdn.plot.ly/plotly-2.35.2.min.js\"></script>                <div id=\"b782e238-e0f5-4740-8674-c5b19b022089\" class=\"plotly-graph-div\" style=\"height:525px; width:100%;\"></div>            <script type=\"text/javascript\">                                    window.PLOTLYENV=window.PLOTLYENV || {};                                    if (document.getElementById(\"b782e238-e0f5-4740-8674-c5b19b022089\")) {                    Plotly.newPlot(                        \"b782e238-e0f5-4740-8674-c5b19b022089\",                        [{\"domain\":{\"x\":[0.0,1.0],\"y\":[0.0,1.0]},\"hovertemplate\":\"rating=%{label}\\u003cbr\\u003ecounts=%{value}\\u003cextra\\u003e\\u003c\\u002fextra\\u003e\",\"labels\":[\"G\",\"NC-17\",\"NR\",\"PG\",\"PG-13\",\"R\",\"TV-14\",\"TV-G\",\"TV-MA\",\"TV-PG\",\"TV-Y\",\"TV-Y7\",\"TV-Y7-FV\",\"UR\"],\"legendgroup\":\"\",\"name\":\"\",\"showlegend\":true,\"values\":[32,2,218,160,227,439,1593,147,1936,678,139,156,92,7],\"type\":\"pie\"}],                        {\"template\":{\"data\":{\"histogram2dcontour\":[{\"type\":\"histogram2dcontour\",\"colorbar\":{\"outlinewidth\":0,\"ticks\":\"\"},\"colorscale\":[[0.0,\"#0d0887\"],[0.1111111111111111,\"#46039f\"],[0.2222222222222222,\"#7201a8\"],[0.3333333333333333,\"#9c179e\"],[0.4444444444444444,\"#bd3786\"],[0.5555555555555556,\"#d8576b\"],[0.6666666666666666,\"#ed7953\"],[0.7777777777777778,\"#fb9f3a\"],[0.8888888888888888,\"#fdca26\"],[1.0,\"#f0f921\"]]}],\"choropleth\":[{\"type\":\"choropleth\",\"colorbar\":{\"outlinewidth\":0,\"ticks\":\"\"}}],\"histogram2d\":[{\"type\":\"histogram2d\",\"colorbar\":{\"outlinewidth\":0,\"ticks\":\"\"},\"colorscale\":[[0.0,\"#0d0887\"],[0.1111111111111111,\"#46039f\"],[0.2222222222222222,\"#7201a8\"],[0.3333333333333333,\"#9c179e\"],[0.4444444444444444,\"#bd3786\"],[0.5555555555555556,\"#d8576b\"],[0.6666666666666666,\"#ed7953\"],[0.7777777777777778,\"#fb9f3a\"],[0.8888888888888888,\"#fdca26\"],[1.0,\"#f0f921\"]]}],\"heatmap\":[{\"type\":\"heatmap\",\"colorbar\":{\"outlinewidth\":0,\"ticks\":\"\"},\"colorscale\":[[0.0,\"#0d0887\"],[0.1111111111111111,\"#46039f\"],[0.2222222222222222,\"#7201a8\"],[0.3333333333333333,\"#9c179e\"],[0.4444444444444444,\"#bd3786\"],[0.5555555555555556,\"#d8576b\"],[0.6666666666666666,\"#ed7953\"],[0.7777777777777778,\"#fb9f3a\"],[0.8888888888888888,\"#fdca26\"],[1.0,\"#f0f921\"]]}],\"heatmapgl\":[{\"type\":\"heatmapgl\",\"colorbar\":{\"outlinewidth\":0,\"ticks\":\"\"},\"colorscale\":[[0.0,\"#0d0887\"],[0.1111111111111111,\"#46039f\"],[0.2222222222222222,\"#7201a8\"],[0.3333333333333333,\"#9c179e\"],[0.4444444444444444,\"#bd3786\"],[0.5555555555555556,\"#d8576b\"],[0.6666666666666666,\"#ed7953\"],[0.7777777777777778,\"#fb9f3a\"],[0.8888888888888888,\"#fdca26\"],[1.0,\"#f0f921\"]]}],\"contourcarpet\":[{\"type\":\"contourcarpet\",\"colorbar\":{\"outlinewidth\":0,\"ticks\":\"\"}}],\"contour\":[{\"type\":\"contour\",\"colorbar\":{\"outlinewidth\":0,\"ticks\":\"\"},\"colorscale\":[[0.0,\"#0d0887\"],[0.1111111111111111,\"#46039f\"],[0.2222222222222222,\"#7201a8\"],[0.3333333333333333,\"#9c179e\"],[0.4444444444444444,\"#bd3786\"],[0.5555555555555556,\"#d8576b\"],[0.6666666666666666,\"#ed7953\"],[0.7777777777777778,\"#fb9f3a\"],[0.8888888888888888,\"#fdca26\"],[1.0,\"#f0f921\"]]}],\"surface\":[{\"type\":\"surface\",\"colorbar\":{\"outlinewidth\":0,\"ticks\":\"\"},\"colorscale\":[[0.0,\"#0d0887\"],[0.1111111111111111,\"#46039f\"],[0.2222222222222222,\"#7201a8\"],[0.3333333333333333,\"#9c179e\"],[0.4444444444444444,\"#bd3786\"],[0.5555555555555556,\"#d8576b\"],[0.6666666666666666,\"#ed7953\"],[0.7777777777777778,\"#fb9f3a\"],[0.8888888888888888,\"#fdca26\"],[1.0,\"#f0f921\"]]}],\"mesh3d\":[{\"type\":\"mesh3d\",\"colorbar\":{\"outlinewidth\":0,\"ticks\":\"\"}}],\"scatter\":[{\"fillpattern\":{\"fillmode\":\"overlay\",\"size\":10,\"solidity\":0.2},\"type\":\"scatter\"}],\"parcoords\":[{\"type\":\"parcoords\",\"line\":{\"colorbar\":{\"outlinewidth\":0,\"ticks\":\"\"}}}],\"scatterpolargl\":[{\"type\":\"scatterpolargl\",\"marker\":{\"colorbar\":{\"outlinewidth\":0,\"ticks\":\"\"}}}],\"bar\":[{\"error_x\":{\"color\":\"#2a3f5f\"},\"error_y\":{\"color\":\"#2a3f5f\"},\"marker\":{\"line\":{\"color\":\"#E5ECF6\",\"width\":0.5},\"pattern\":{\"fillmode\":\"overlay\",\"size\":10,\"solidity\":0.2}},\"type\":\"bar\"}],\"scattergeo\":[{\"type\":\"scattergeo\",\"marker\":{\"colorbar\":{\"outlinewidth\":0,\"ticks\":\"\"}}}],\"scatterpolar\":[{\"type\":\"scatterpolar\",\"marker\":{\"colorbar\":{\"outlinewidth\":0,\"ticks\":\"\"}}}],\"histogram\":[{\"marker\":{\"pattern\":{\"fillmode\":\"overlay\",\"size\":10,\"solidity\":0.2}},\"type\":\"histogram\"}],\"scattergl\":[{\"type\":\"scattergl\",\"marker\":{\"colorbar\":{\"outlinewidth\":0,\"ticks\":\"\"}}}],\"scatter3d\":[{\"type\":\"scatter3d\",\"line\":{\"colorbar\":{\"outlinewidth\":0,\"ticks\":\"\"}},\"marker\":{\"colorbar\":{\"outlinewidth\":0,\"ticks\":\"\"}}}],\"scattermapbox\":[{\"type\":\"scattermapbox\",\"marker\":{\"colorbar\":{\"outlinewidth\":0,\"ticks\":\"\"}}}],\"scatterternary\":[{\"type\":\"scatterternary\",\"marker\":{\"colorbar\":{\"outlinewidth\":0,\"ticks\":\"\"}}}],\"scattercarpet\":[{\"type\":\"scattercarpet\",\"marker\":{\"colorbar\":{\"outlinewidth\":0,\"ticks\":\"\"}}}],\"carpet\":[{\"aaxis\":{\"endlinecolor\":\"#2a3f5f\",\"gridcolor\":\"white\",\"linecolor\":\"white\",\"minorgridcolor\":\"white\",\"startlinecolor\":\"#2a3f5f\"},\"baxis\":{\"endlinecolor\":\"#2a3f5f\",\"gridcolor\":\"white\",\"linecolor\":\"white\",\"minorgridcolor\":\"white\",\"startlinecolor\":\"#2a3f5f\"},\"type\":\"carpet\"}],\"table\":[{\"cells\":{\"fill\":{\"color\":\"#EBF0F8\"},\"line\":{\"color\":\"white\"}},\"header\":{\"fill\":{\"color\":\"#C8D4E3\"},\"line\":{\"color\":\"white\"}},\"type\":\"table\"}],\"barpolar\":[{\"marker\":{\"line\":{\"color\":\"#E5ECF6\",\"width\":0.5},\"pattern\":{\"fillmode\":\"overlay\",\"size\":10,\"solidity\":0.2}},\"type\":\"barpolar\"}],\"pie\":[{\"automargin\":true,\"type\":\"pie\"}]},\"layout\":{\"autotypenumbers\":\"strict\",\"colorway\":[\"#636efa\",\"#EF553B\",\"#00cc96\",\"#ab63fa\",\"#FFA15A\",\"#19d3f3\",\"#FF6692\",\"#B6E880\",\"#FF97FF\",\"#FECB52\"],\"font\":{\"color\":\"#2a3f5f\"},\"hovermode\":\"closest\",\"hoverlabel\":{\"align\":\"left\"},\"paper_bgcolor\":\"white\",\"plot_bgcolor\":\"#E5ECF6\",\"polar\":{\"bgcolor\":\"#E5ECF6\",\"angularaxis\":{\"gridcolor\":\"white\",\"linecolor\":\"white\",\"ticks\":\"\"},\"radialaxis\":{\"gridcolor\":\"white\",\"linecolor\":\"white\",\"ticks\":\"\"}},\"ternary\":{\"bgcolor\":\"#E5ECF6\",\"aaxis\":{\"gridcolor\":\"white\",\"linecolor\":\"white\",\"ticks\":\"\"},\"baxis\":{\"gridcolor\":\"white\",\"linecolor\":\"white\",\"ticks\":\"\"},\"caxis\":{\"gridcolor\":\"white\",\"linecolor\":\"white\",\"ticks\":\"\"}},\"coloraxis\":{\"colorbar\":{\"outlinewidth\":0,\"ticks\":\"\"}},\"colorscale\":{\"sequential\":[[0.0,\"#0d0887\"],[0.1111111111111111,\"#46039f\"],[0.2222222222222222,\"#7201a8\"],[0.3333333333333333,\"#9c179e\"],[0.4444444444444444,\"#bd3786\"],[0.5555555555555556,\"#d8576b\"],[0.6666666666666666,\"#ed7953\"],[0.7777777777777778,\"#fb9f3a\"],[0.8888888888888888,\"#fdca26\"],[1.0,\"#f0f921\"]],\"sequentialminus\":[[0.0,\"#0d0887\"],[0.1111111111111111,\"#46039f\"],[0.2222222222222222,\"#7201a8\"],[0.3333333333333333,\"#9c179e\"],[0.4444444444444444,\"#bd3786\"],[0.5555555555555556,\"#d8576b\"],[0.6666666666666666,\"#ed7953\"],[0.7777777777777778,\"#fb9f3a\"],[0.8888888888888888,\"#fdca26\"],[1.0,\"#f0f921\"]],\"diverging\":[[0,\"#8e0152\"],[0.1,\"#c51b7d\"],[0.2,\"#de77ae\"],[0.3,\"#f1b6da\"],[0.4,\"#fde0ef\"],[0.5,\"#f7f7f7\"],[0.6,\"#e6f5d0\"],[0.7,\"#b8e186\"],[0.8,\"#7fbc41\"],[0.9,\"#4d9221\"],[1,\"#276419\"]]},\"xaxis\":{\"gridcolor\":\"white\",\"linecolor\":\"white\",\"ticks\":\"\",\"title\":{\"standoff\":15},\"zerolinecolor\":\"white\",\"automargin\":true,\"zerolinewidth\":2},\"yaxis\":{\"gridcolor\":\"white\",\"linecolor\":\"white\",\"ticks\":\"\",\"title\":{\"standoff\":15},\"zerolinecolor\":\"white\",\"automargin\":true,\"zerolinewidth\":2},\"scene\":{\"xaxis\":{\"backgroundcolor\":\"#E5ECF6\",\"gridcolor\":\"white\",\"linecolor\":\"white\",\"showbackground\":true,\"ticks\":\"\",\"zerolinecolor\":\"white\",\"gridwidth\":2},\"yaxis\":{\"backgroundcolor\":\"#E5ECF6\",\"gridcolor\":\"white\",\"linecolor\":\"white\",\"showbackground\":true,\"ticks\":\"\",\"zerolinecolor\":\"white\",\"gridwidth\":2},\"zaxis\":{\"backgroundcolor\":\"#E5ECF6\",\"gridcolor\":\"white\",\"linecolor\":\"white\",\"showbackground\":true,\"ticks\":\"\",\"zerolinecolor\":\"white\",\"gridwidth\":2}},\"shapedefaults\":{\"line\":{\"color\":\"#2a3f5f\"}},\"annotationdefaults\":{\"arrowcolor\":\"#2a3f5f\",\"arrowhead\":0,\"arrowwidth\":1},\"geo\":{\"bgcolor\":\"white\",\"landcolor\":\"#E5ECF6\",\"subunitcolor\":\"white\",\"showland\":true,\"showlakes\":true,\"lakecolor\":\"white\"},\"title\":{\"x\":0.05},\"mapbox\":{\"style\":\"light\"}}},\"legend\":{\"tracegroupgap\":0},\"title\":{\"text\":\"Distribution of content ratings on Netflix\"}},                        {\"responsive\": true}                    ).then(function(){\n",
              "                            \n",
              "var gd = document.getElementById('b782e238-e0f5-4740-8674-c5b19b022089');\n",
              "var x = new MutationObserver(function (mutations, observer) {{\n",
              "        var display = window.getComputedStyle(gd).display;\n",
              "        if (!display || display === 'none') {{\n",
              "            console.log([gd, 'removed!']);\n",
              "            Plotly.purge(gd);\n",
              "            observer.disconnect();\n",
              "        }}\n",
              "}});\n",
              "\n",
              "// Listen for the removal of the full notebook cells\n",
              "var notebookContainer = gd.closest('#notebook-container');\n",
              "if (notebookContainer) {{\n",
              "    x.observe(notebookContainer, {childList: true});\n",
              "}}\n",
              "\n",
              "// Listen for the clearing of the current output cell\n",
              "var outputEl = gd.closest('.output');\n",
              "if (outputEl) {{\n",
              "    x.observe(outputEl, {childList: true});\n",
              "}}\n",
              "\n",
              "                        })                };                            </script>        </div>\n",
              "</body>\n",
              "</html>"
            ]
          },
          "metadata": {}
        }
      ]
    },
    {
      "cell_type": "code",
      "source": [
        "df['director']=df['director'].fillna('Director not specified')\n",
        "df.head()"
      ],
      "metadata": {
        "colab": {
          "base_uri": "https://localhost:8080/",
          "height": 642
        },
        "id": "aU3JBKoyxQZV",
        "outputId": "6cb597c8-bf82-494b-da47-eeb1c1641c0e"
      },
      "execution_count": null,
      "outputs": [
        {
          "output_type": "execute_result",
          "data": {
            "text/plain": [
              "    show_id                                title                    director  \\\n",
              "0  81193313                            Chocolate      Director not specified   \n",
              "1  81197050  Guatemala: Heart of the Mayan World  Luis Ara, Ignacio Jaunsolo   \n",
              "2  81213894                      The Zoya Factor             Abhishek Sharma   \n",
              "3  81082007                            Atlantics                   Mati Diop   \n",
              "4  80213643                      Chip and Potato      Director not specified   \n",
              "\n",
              "                                                cast  \\\n",
              "0  Ha Ji-won, Yoon Kye-sang, Jang Seung-jo, Kang ...   \n",
              "1                                  Christian Morales   \n",
              "2  Sonam Kapoor, Dulquer Salmaan, Sanjay Kapoor, ...   \n",
              "3  Mama Sane, Amadou Mbow, Ibrahima Traore, Nicol...   \n",
              "4  Abigail Oliver, Andrea Libman, Briana Buckmast...   \n",
              "\n",
              "                    country date_added  release_year rating   duration  \\\n",
              "0               South Korea  30-Nov-19          2019  TV-14   1 Season   \n",
              "1                       NaN  30-Nov-19          2019   TV-G     67 min   \n",
              "2                     India  30-Nov-19          2019  TV-14    135 min   \n",
              "3  France, Senegal, Belgium  29-Nov-19          2019  TV-14    106 min   \n",
              "4    Canada, United Kingdom        NaN          2019   TV-Y  2 Seasons   \n",
              "\n",
              "                                           listed_in  \\\n",
              "0  International TV Shows, Korean TV Shows, Roman...   \n",
              "1                Documentaries, International Movies   \n",
              "2             Comedies, Dramas, International Movies   \n",
              "3   Dramas, Independent Movies, International Movies   \n",
              "4                                           Kids' TV   \n",
              "\n",
              "                                         description     type  \n",
              "0  Brought together by meaningful meals in the pa...  TV Show  \n",
              "1  From Sierra de las Minas to Esquipulas, explor...    Movie  \n",
              "2  A goofy copywriter unwittingly convinces the I...    Movie  \n",
              "3  Arranged to marry a rich man, young Ada is cru...    Movie  \n",
              "4  Lovable pug Chip starts kindergarten, makes ne...  TV Show  "
            ],
            "text/html": [
              "\n",
              "  <div id=\"df-12c67432-c4f8-4539-9e57-4f2a0340a779\" class=\"colab-df-container\">\n",
              "    <div>\n",
              "<style scoped>\n",
              "    .dataframe tbody tr th:only-of-type {\n",
              "        vertical-align: middle;\n",
              "    }\n",
              "\n",
              "    .dataframe tbody tr th {\n",
              "        vertical-align: top;\n",
              "    }\n",
              "\n",
              "    .dataframe thead th {\n",
              "        text-align: right;\n",
              "    }\n",
              "</style>\n",
              "<table border=\"1\" class=\"dataframe\">\n",
              "  <thead>\n",
              "    <tr style=\"text-align: right;\">\n",
              "      <th></th>\n",
              "      <th>show_id</th>\n",
              "      <th>title</th>\n",
              "      <th>director</th>\n",
              "      <th>cast</th>\n",
              "      <th>country</th>\n",
              "      <th>date_added</th>\n",
              "      <th>release_year</th>\n",
              "      <th>rating</th>\n",
              "      <th>duration</th>\n",
              "      <th>listed_in</th>\n",
              "      <th>description</th>\n",
              "      <th>type</th>\n",
              "    </tr>\n",
              "  </thead>\n",
              "  <tbody>\n",
              "    <tr>\n",
              "      <th>0</th>\n",
              "      <td>81193313</td>\n",
              "      <td>Chocolate</td>\n",
              "      <td>Director not specified</td>\n",
              "      <td>Ha Ji-won, Yoon Kye-sang, Jang Seung-jo, Kang ...</td>\n",
              "      <td>South Korea</td>\n",
              "      <td>30-Nov-19</td>\n",
              "      <td>2019</td>\n",
              "      <td>TV-14</td>\n",
              "      <td>1 Season</td>\n",
              "      <td>International TV Shows, Korean TV Shows, Roman...</td>\n",
              "      <td>Brought together by meaningful meals in the pa...</td>\n",
              "      <td>TV Show</td>\n",
              "    </tr>\n",
              "    <tr>\n",
              "      <th>1</th>\n",
              "      <td>81197050</td>\n",
              "      <td>Guatemala: Heart of the Mayan World</td>\n",
              "      <td>Luis Ara, Ignacio Jaunsolo</td>\n",
              "      <td>Christian Morales</td>\n",
              "      <td>NaN</td>\n",
              "      <td>30-Nov-19</td>\n",
              "      <td>2019</td>\n",
              "      <td>TV-G</td>\n",
              "      <td>67 min</td>\n",
              "      <td>Documentaries, International Movies</td>\n",
              "      <td>From Sierra de las Minas to Esquipulas, explor...</td>\n",
              "      <td>Movie</td>\n",
              "    </tr>\n",
              "    <tr>\n",
              "      <th>2</th>\n",
              "      <td>81213894</td>\n",
              "      <td>The Zoya Factor</td>\n",
              "      <td>Abhishek Sharma</td>\n",
              "      <td>Sonam Kapoor, Dulquer Salmaan, Sanjay Kapoor, ...</td>\n",
              "      <td>India</td>\n",
              "      <td>30-Nov-19</td>\n",
              "      <td>2019</td>\n",
              "      <td>TV-14</td>\n",
              "      <td>135 min</td>\n",
              "      <td>Comedies, Dramas, International Movies</td>\n",
              "      <td>A goofy copywriter unwittingly convinces the I...</td>\n",
              "      <td>Movie</td>\n",
              "    </tr>\n",
              "    <tr>\n",
              "      <th>3</th>\n",
              "      <td>81082007</td>\n",
              "      <td>Atlantics</td>\n",
              "      <td>Mati Diop</td>\n",
              "      <td>Mama Sane, Amadou Mbow, Ibrahima Traore, Nicol...</td>\n",
              "      <td>France, Senegal, Belgium</td>\n",
              "      <td>29-Nov-19</td>\n",
              "      <td>2019</td>\n",
              "      <td>TV-14</td>\n",
              "      <td>106 min</td>\n",
              "      <td>Dramas, Independent Movies, International Movies</td>\n",
              "      <td>Arranged to marry a rich man, young Ada is cru...</td>\n",
              "      <td>Movie</td>\n",
              "    </tr>\n",
              "    <tr>\n",
              "      <th>4</th>\n",
              "      <td>80213643</td>\n",
              "      <td>Chip and Potato</td>\n",
              "      <td>Director not specified</td>\n",
              "      <td>Abigail Oliver, Andrea Libman, Briana Buckmast...</td>\n",
              "      <td>Canada, United Kingdom</td>\n",
              "      <td>NaN</td>\n",
              "      <td>2019</td>\n",
              "      <td>TV-Y</td>\n",
              "      <td>2 Seasons</td>\n",
              "      <td>Kids' TV</td>\n",
              "      <td>Lovable pug Chip starts kindergarten, makes ne...</td>\n",
              "      <td>TV Show</td>\n",
              "    </tr>\n",
              "  </tbody>\n",
              "</table>\n",
              "</div>\n",
              "    <div class=\"colab-df-buttons\">\n",
              "\n",
              "  <div class=\"colab-df-container\">\n",
              "    <button class=\"colab-df-convert\" onclick=\"convertToInteractive('df-12c67432-c4f8-4539-9e57-4f2a0340a779')\"\n",
              "            title=\"Convert this dataframe to an interactive table.\"\n",
              "            style=\"display:none;\">\n",
              "\n",
              "  <svg xmlns=\"http://www.w3.org/2000/svg\" height=\"24px\" viewBox=\"0 -960 960 960\">\n",
              "    <path d=\"M120-120v-720h720v720H120Zm60-500h600v-160H180v160Zm220 220h160v-160H400v160Zm0 220h160v-160H400v160ZM180-400h160v-160H180v160Zm440 0h160v-160H620v160ZM180-180h160v-160H180v160Zm440 0h160v-160H620v160Z\"/>\n",
              "  </svg>\n",
              "    </button>\n",
              "\n",
              "  <style>\n",
              "    .colab-df-container {\n",
              "      display:flex;\n",
              "      gap: 12px;\n",
              "    }\n",
              "\n",
              "    .colab-df-convert {\n",
              "      background-color: #E8F0FE;\n",
              "      border: none;\n",
              "      border-radius: 50%;\n",
              "      cursor: pointer;\n",
              "      display: none;\n",
              "      fill: #1967D2;\n",
              "      height: 32px;\n",
              "      padding: 0 0 0 0;\n",
              "      width: 32px;\n",
              "    }\n",
              "\n",
              "    .colab-df-convert:hover {\n",
              "      background-color: #E2EBFA;\n",
              "      box-shadow: 0px 1px 2px rgba(60, 64, 67, 0.3), 0px 1px 3px 1px rgba(60, 64, 67, 0.15);\n",
              "      fill: #174EA6;\n",
              "    }\n",
              "\n",
              "    .colab-df-buttons div {\n",
              "      margin-bottom: 4px;\n",
              "    }\n",
              "\n",
              "    [theme=dark] .colab-df-convert {\n",
              "      background-color: #3B4455;\n",
              "      fill: #D2E3FC;\n",
              "    }\n",
              "\n",
              "    [theme=dark] .colab-df-convert:hover {\n",
              "      background-color: #434B5C;\n",
              "      box-shadow: 0px 1px 3px 1px rgba(0, 0, 0, 0.15);\n",
              "      filter: drop-shadow(0px 1px 2px rgba(0, 0, 0, 0.3));\n",
              "      fill: #FFFFFF;\n",
              "    }\n",
              "  </style>\n",
              "\n",
              "    <script>\n",
              "      const buttonEl =\n",
              "        document.querySelector('#df-12c67432-c4f8-4539-9e57-4f2a0340a779 button.colab-df-convert');\n",
              "      buttonEl.style.display =\n",
              "        google.colab.kernel.accessAllowed ? 'block' : 'none';\n",
              "\n",
              "      async function convertToInteractive(key) {\n",
              "        const element = document.querySelector('#df-12c67432-c4f8-4539-9e57-4f2a0340a779');\n",
              "        const dataTable =\n",
              "          await google.colab.kernel.invokeFunction('convertToInteractive',\n",
              "                                                    [key], {});\n",
              "        if (!dataTable) return;\n",
              "\n",
              "        const docLinkHtml = 'Like what you see? Visit the ' +\n",
              "          '<a target=\"_blank\" href=https://colab.research.google.com/notebooks/data_table.ipynb>data table notebook</a>'\n",
              "          + ' to learn more about interactive tables.';\n",
              "        element.innerHTML = '';\n",
              "        dataTable['output_type'] = 'display_data';\n",
              "        await google.colab.output.renderOutput(dataTable, element);\n",
              "        const docLink = document.createElement('div');\n",
              "        docLink.innerHTML = docLinkHtml;\n",
              "        element.appendChild(docLink);\n",
              "      }\n",
              "    </script>\n",
              "  </div>\n",
              "\n",
              "\n",
              "<div id=\"df-e616db5d-7564-4485-88cb-e08fa4100321\">\n",
              "  <button class=\"colab-df-quickchart\" onclick=\"quickchart('df-e616db5d-7564-4485-88cb-e08fa4100321')\"\n",
              "            title=\"Suggest charts\"\n",
              "            style=\"display:none;\">\n",
              "\n",
              "<svg xmlns=\"http://www.w3.org/2000/svg\" height=\"24px\"viewBox=\"0 0 24 24\"\n",
              "     width=\"24px\">\n",
              "    <g>\n",
              "        <path d=\"M19 3H5c-1.1 0-2 .9-2 2v14c0 1.1.9 2 2 2h14c1.1 0 2-.9 2-2V5c0-1.1-.9-2-2-2zM9 17H7v-7h2v7zm4 0h-2V7h2v10zm4 0h-2v-4h2v4z\"/>\n",
              "    </g>\n",
              "</svg>\n",
              "  </button>\n",
              "\n",
              "<style>\n",
              "  .colab-df-quickchart {\n",
              "      --bg-color: #E8F0FE;\n",
              "      --fill-color: #1967D2;\n",
              "      --hover-bg-color: #E2EBFA;\n",
              "      --hover-fill-color: #174EA6;\n",
              "      --disabled-fill-color: #AAA;\n",
              "      --disabled-bg-color: #DDD;\n",
              "  }\n",
              "\n",
              "  [theme=dark] .colab-df-quickchart {\n",
              "      --bg-color: #3B4455;\n",
              "      --fill-color: #D2E3FC;\n",
              "      --hover-bg-color: #434B5C;\n",
              "      --hover-fill-color: #FFFFFF;\n",
              "      --disabled-bg-color: #3B4455;\n",
              "      --disabled-fill-color: #666;\n",
              "  }\n",
              "\n",
              "  .colab-df-quickchart {\n",
              "    background-color: var(--bg-color);\n",
              "    border: none;\n",
              "    border-radius: 50%;\n",
              "    cursor: pointer;\n",
              "    display: none;\n",
              "    fill: var(--fill-color);\n",
              "    height: 32px;\n",
              "    padding: 0;\n",
              "    width: 32px;\n",
              "  }\n",
              "\n",
              "  .colab-df-quickchart:hover {\n",
              "    background-color: var(--hover-bg-color);\n",
              "    box-shadow: 0 1px 2px rgba(60, 64, 67, 0.3), 0 1px 3px 1px rgba(60, 64, 67, 0.15);\n",
              "    fill: var(--button-hover-fill-color);\n",
              "  }\n",
              "\n",
              "  .colab-df-quickchart-complete:disabled,\n",
              "  .colab-df-quickchart-complete:disabled:hover {\n",
              "    background-color: var(--disabled-bg-color);\n",
              "    fill: var(--disabled-fill-color);\n",
              "    box-shadow: none;\n",
              "  }\n",
              "\n",
              "  .colab-df-spinner {\n",
              "    border: 2px solid var(--fill-color);\n",
              "    border-color: transparent;\n",
              "    border-bottom-color: var(--fill-color);\n",
              "    animation:\n",
              "      spin 1s steps(1) infinite;\n",
              "  }\n",
              "\n",
              "  @keyframes spin {\n",
              "    0% {\n",
              "      border-color: transparent;\n",
              "      border-bottom-color: var(--fill-color);\n",
              "      border-left-color: var(--fill-color);\n",
              "    }\n",
              "    20% {\n",
              "      border-color: transparent;\n",
              "      border-left-color: var(--fill-color);\n",
              "      border-top-color: var(--fill-color);\n",
              "    }\n",
              "    30% {\n",
              "      border-color: transparent;\n",
              "      border-left-color: var(--fill-color);\n",
              "      border-top-color: var(--fill-color);\n",
              "      border-right-color: var(--fill-color);\n",
              "    }\n",
              "    40% {\n",
              "      border-color: transparent;\n",
              "      border-right-color: var(--fill-color);\n",
              "      border-top-color: var(--fill-color);\n",
              "    }\n",
              "    60% {\n",
              "      border-color: transparent;\n",
              "      border-right-color: var(--fill-color);\n",
              "    }\n",
              "    80% {\n",
              "      border-color: transparent;\n",
              "      border-right-color: var(--fill-color);\n",
              "      border-bottom-color: var(--fill-color);\n",
              "    }\n",
              "    90% {\n",
              "      border-color: transparent;\n",
              "      border-bottom-color: var(--fill-color);\n",
              "    }\n",
              "  }\n",
              "</style>\n",
              "\n",
              "  <script>\n",
              "    async function quickchart(key) {\n",
              "      const quickchartButtonEl =\n",
              "        document.querySelector('#' + key + ' button');\n",
              "      quickchartButtonEl.disabled = true;  // To prevent multiple clicks.\n",
              "      quickchartButtonEl.classList.add('colab-df-spinner');\n",
              "      try {\n",
              "        const charts = await google.colab.kernel.invokeFunction(\n",
              "            'suggestCharts', [key], {});\n",
              "      } catch (error) {\n",
              "        console.error('Error during call to suggestCharts:', error);\n",
              "      }\n",
              "      quickchartButtonEl.classList.remove('colab-df-spinner');\n",
              "      quickchartButtonEl.classList.add('colab-df-quickchart-complete');\n",
              "    }\n",
              "    (() => {\n",
              "      let quickchartButtonEl =\n",
              "        document.querySelector('#df-e616db5d-7564-4485-88cb-e08fa4100321 button');\n",
              "      quickchartButtonEl.style.display =\n",
              "        google.colab.kernel.accessAllowed ? 'block' : 'none';\n",
              "    })();\n",
              "  </script>\n",
              "</div>\n",
              "\n",
              "    </div>\n",
              "  </div>\n"
            ],
            "application/vnd.google.colaboratory.intrinsic+json": {
              "type": "dataframe",
              "variable_name": "df",
              "summary": "{\n  \"name\": \"df\",\n  \"rows\": 5836,\n  \"fields\": [\n    {\n      \"column\": \"show_id\",\n      \"properties\": {\n        \"dtype\": \"number\",\n        \"std\": 9480520,\n        \"min\": 269880,\n        \"max\": 81227195,\n        \"num_unique_values\": 5836,\n        \"samples\": [\n          80100933,\n          80024113,\n          70096752\n        ],\n        \"semantic_type\": \"\",\n        \"description\": \"\"\n      }\n    },\n    {\n      \"column\": \"title\",\n      \"properties\": {\n        \"dtype\": \"string\",\n        \"num_unique_values\": 5779,\n        \"samples\": [\n          \"The Confirmation\",\n          \"Baby Ballroom\",\n          \"Highway to Heaven\"\n        ],\n        \"semantic_type\": \"\",\n        \"description\": \"\"\n      }\n    },\n    {\n      \"column\": \"director\",\n      \"properties\": {\n        \"dtype\": \"string\",\n        \"num_unique_values\": 3109,\n        \"samples\": [\n          \"Ellen Weissbrod\",\n          \"Marek Piwowski\",\n          \"Michael Paul Stephenson\"\n        ],\n        \"semantic_type\": \"\",\n        \"description\": \"\"\n      }\n    },\n    {\n      \"column\": \"cast\",\n      \"properties\": {\n        \"dtype\": \"string\",\n        \"num_unique_values\": 5086,\n        \"samples\": [\n          \"Ranbir Kapoor, Vicky Kaushal, Paresh Rawal, Sonam Kapoor, Dia Mirza, Jim Sarbh, Anushka Sharma, Manisha Koirala, Boman Irani\",\n          \"Justin Willman\",\n          \"Chai Hansen, Luciane Buchanan, Josh Thomson, Emilie Cocquerel, Josh McKenzie, Jordan Mooney, Jarred Blakiston\"\n        ],\n        \"semantic_type\": \"\",\n        \"description\": \"\"\n      }\n    },\n    {\n      \"column\": \"country\",\n      \"properties\": {\n        \"dtype\": \"category\",\n        \"num_unique_values\": 527,\n        \"samples\": [\n          \"United States, Canada, Ireland\",\n          \"Australia, India\",\n          \"South Africa\"\n        ],\n        \"semantic_type\": \"\",\n        \"description\": \"\"\n      }\n    },\n    {\n      \"column\": \"date_added\",\n      \"properties\": {\n        \"dtype\": \"object\",\n        \"num_unique_values\": 1092,\n        \"samples\": [\n          \"22-May-18\",\n          \"21-Jun-19\",\n          \"22-Aug-19\"\n        ],\n        \"semantic_type\": \"\",\n        \"description\": \"\"\n      }\n    },\n    {\n      \"column\": \"release_year\",\n      \"properties\": {\n        \"dtype\": \"number\",\n        \"std\": 8,\n        \"min\": 1925,\n        \"max\": 2020,\n        \"num_unique_values\": 71,\n        \"samples\": [\n          2011,\n          2019,\n          1984\n        ],\n        \"semantic_type\": \"\",\n        \"description\": \"\"\n      }\n    },\n    {\n      \"column\": \"rating\",\n      \"properties\": {\n        \"dtype\": \"category\",\n        \"num_unique_values\": 14,\n        \"samples\": [\n          \"PG-13\",\n          \"NR\",\n          \"TV-14\"\n        ],\n        \"semantic_type\": \"\",\n        \"description\": \"\"\n      }\n    },\n    {\n      \"column\": \"duration\",\n      \"properties\": {\n        \"dtype\": \"category\",\n        \"num_unique_values\": 194,\n        \"samples\": [\n          \"15 min\",\n          \"209 min\",\n          \"51 min\"\n        ],\n        \"semantic_type\": \"\",\n        \"description\": \"\"\n      }\n    },\n    {\n      \"column\": \"listed_in\",\n      \"properties\": {\n        \"dtype\": \"category\",\n        \"num_unique_values\": 449,\n        \"samples\": [\n          \"Children & Family Movies, Comedies, Faith & Spirituality\",\n          \"Comedies, Dramas, Music & Musicals\",\n          \"Classic Movies, Dramas, International Movies\"\n        ],\n        \"semantic_type\": \"\",\n        \"description\": \"\"\n      }\n    },\n    {\n      \"column\": \"description\",\n      \"properties\": {\n        \"dtype\": \"string\",\n        \"num_unique_values\": 5828,\n        \"samples\": [\n          \"During an uprising in Russia's St. Petersburg, teen girl Lucky meets handsome Aditya, the Indian ambassador's son, and together they flee the chaos.\",\n          \"This documentary chronicles the philosophy and life's work of archivist P.K. Nair, who made a mission of preserving Indian cinema\\u2019s rich history.\",\n          \"After the world learns the truth about her failing marriage, a successful self-help author tries to salvage her career and find her way as a divorc\\u00e9e.\"\n        ],\n        \"semantic_type\": \"\",\n        \"description\": \"\"\n      }\n    },\n    {\n      \"column\": \"type\",\n      \"properties\": {\n        \"dtype\": \"category\",\n        \"num_unique_values\": 2,\n        \"samples\": [\n          \"Movie\",\n          \"TV Show\"\n        ],\n        \"semantic_type\": \"\",\n        \"description\": \"\"\n      }\n    }\n  ]\n}"
            }
          },
          "metadata": {},
          "execution_count": 9
        }
      ]
    },
    {
      "cell_type": "code",
      "source": [
        "directors_list = pd.DataFrame()\n",
        "print(directors_list)"
      ],
      "metadata": {
        "colab": {
          "base_uri": "https://localhost:8080/"
        },
        "id": "61dAkhf3xmoV",
        "outputId": "3f10d2c0-cc21-4a0f-e791-d48f492533a4"
      },
      "execution_count": null,
      "outputs": [
        {
          "output_type": "stream",
          "name": "stdout",
          "text": [
            "Empty DataFrame\n",
            "Columns: []\n",
            "Index: []\n"
          ]
        }
      ]
    },
    {
      "cell_type": "code",
      "source": [
        "directors_list = df['director'].str.split(',', expand=True).stack()\n",
        "print(directors_list)"
      ],
      "metadata": {
        "colab": {
          "base_uri": "https://localhost:8080/"
        },
        "id": "vV5LykTZx6Gg",
        "outputId": "0bf94a92-892b-446b-c08c-4645518c603c"
      },
      "execution_count": null,
      "outputs": [
        {
          "output_type": "stream",
          "name": "stdout",
          "text": [
            "0     0    Director not specified\n",
            "1     0                  Luis Ara\n",
            "      1          Ignacio Jaunsolo\n",
            "2     0           Abhishek Sharma\n",
            "3     0                 Mati Diop\n",
            "                    ...          \n",
            "5831  0                Jim Monaco\n",
            "5832  0                 Joe Dante\n",
            "5833  0              Ole Bornedal\n",
            "5834  0    Director not specified\n",
            "5835  0      Sorin Dan Mihalcescu\n",
            "Length: 6397, dtype: object\n"
          ]
        }
      ]
    },
    {
      "cell_type": "code",
      "source": [
        "\n",
        "print(directors_list)"
      ],
      "metadata": {
        "colab": {
          "base_uri": "https://localhost:8080/"
        },
        "id": "sqUxdIM-yMjp",
        "outputId": "500206da-8851-414e-b662-1ee96646b6b3"
      },
      "execution_count": null,
      "outputs": [
        {
          "output_type": "stream",
          "name": "stdout",
          "text": [
            "0     0    Director not specified\n",
            "1     0                  Luis Ara\n",
            "      1          Ignacio Jaunsolo\n",
            "2     0           Abhishek Sharma\n",
            "3     0                 Mati Diop\n",
            "                    ...          \n",
            "5831  0                Jim Monaco\n",
            "5832  0                 Joe Dante\n",
            "5833  0              Ole Bornedal\n",
            "5834  0    Director not specified\n",
            "5835  0      Sorin Dan Mihalcescu\n",
            "Length: 6397, dtype: object\n"
          ]
        }
      ]
    },
    {
      "cell_type": "code",
      "source": [
        "directors_list.columns = ['Director']\n",
        "print(directors_list)\n"
      ],
      "metadata": {
        "colab": {
          "base_uri": "https://localhost:8080/"
        },
        "id": "5wT1wr1XyZxr",
        "outputId": "902fa326-d7cc-4cc7-9261-8efb149348fb"
      },
      "execution_count": null,
      "outputs": [
        {
          "output_type": "stream",
          "name": "stdout",
          "text": [
            "0     0    Director not specified\n",
            "1     0                  Luis Ara\n",
            "      1          Ignacio Jaunsolo\n",
            "2     0           Abhishek Sharma\n",
            "3     0                 Mati Diop\n",
            "                    ...          \n",
            "5831  0                Jim Monaco\n",
            "5832  0                 Joe Dante\n",
            "5833  0              Ole Bornedal\n",
            "5834  0    Director not specified\n",
            "5835  0      Sorin Dan Mihalcescu\n",
            "Length: 6397, dtype: object\n"
          ]
        }
      ]
    },
    {
      "cell_type": "code",
      "source": [
        "directors_list = directors_list.to_frame(name='Director') # Convert Series to DataFrame with 'Director' as column name\n",
        "directors = directors_list.groupby(['Director']).size().reset_index(name='Total Count')\n",
        "print(directors)"
      ],
      "metadata": {
        "colab": {
          "base_uri": "https://localhost:8080/"
        },
        "id": "40qHC96DzSEA",
        "outputId": "98f0f0a9-7a22-4d9c-931e-de42689f3097"
      },
      "execution_count": null,
      "outputs": [
        {
          "output_type": "stream",
          "name": "stdout",
          "text": [
            "                       Director  Total Count\n",
            "0                Aaron Moorhead            1\n",
            "1                   Aaron Woolf            1\n",
            "2      Abbas Alibhai Burmawalla            1\n",
            "3           Abhinav Shiv Tiwari            1\n",
            "4                  Adam Carolla            2\n",
            "...                         ...          ...\n",
            "3523                Çagan Irmak            1\n",
            "3524           Ísold Uggadóttir            1\n",
            "3525        Óskar Thór Axelsson            1\n",
            "3526           Ömer Faruk Sorak            2\n",
            "3527               Şenol Sönmez            2\n",
            "\n",
            "[3528 rows x 2 columns]\n"
          ]
        }
      ]
    },
    {
      "cell_type": "code",
      "source": [
        "directors = directors[directors.Director != 'Director not specified']\n",
        "print(directors)\n"
      ],
      "metadata": {
        "colab": {
          "base_uri": "https://localhost:8080/"
        },
        "id": "RqNouQbjzwyB",
        "outputId": "b903fb52-d9cb-40b8-880a-b0a88b2c7e9b"
      },
      "execution_count": null,
      "outputs": [
        {
          "output_type": "stream",
          "name": "stdout",
          "text": [
            "                       Director  Total Count\n",
            "0                Aaron Moorhead            1\n",
            "1                   Aaron Woolf            1\n",
            "2      Abbas Alibhai Burmawalla            1\n",
            "3           Abhinav Shiv Tiwari            1\n",
            "4                  Adam Carolla            2\n",
            "...                         ...          ...\n",
            "3523                Çagan Irmak            1\n",
            "3524           Ísold Uggadóttir            1\n",
            "3525        Óskar Thór Axelsson            1\n",
            "3526           Ömer Faruk Sorak            2\n",
            "3527               Şenol Sönmez            2\n",
            "\n",
            "[3527 rows x 2 columns]\n"
          ]
        }
      ]
    },
    {
      "cell_type": "code",
      "source": [
        "directors = directors.sort_values(by=['Total Count'], ascending = False)\n",
        "print(directors)"
      ],
      "metadata": {
        "colab": {
          "base_uri": "https://localhost:8080/"
        },
        "id": "PYSmsWY-0DFF",
        "outputId": "760dff7a-5b62-4acd-e57c-63baf0f76c43"
      },
      "execution_count": null,
      "outputs": [
        {
          "output_type": "stream",
          "name": "stdout",
          "text": [
            "                   Director  Total Count\n",
            "189               Jan Suter           18\n",
            "2816            Raúl Campos           18\n",
            "1693              Jay Karas           14\n",
            "2258           Marcus Raboy           14\n",
            "1691            Jay Chapman           12\n",
            "...                     ...          ...\n",
            "1250  Doesjka van Hoogdalem            1\n",
            "1252              Don Bluth            1\n",
            "1253            Don Mancini            1\n",
            "1255              Don Omope            1\n",
            "1764    Jesús Torres Torres            1\n",
            "\n",
            "[3527 rows x 2 columns]\n"
          ]
        }
      ]
    },
    {
      "cell_type": "code",
      "source": [
        "top5Directors = directors.head()\n",
        "print(top5Directors)\n"
      ],
      "metadata": {
        "colab": {
          "base_uri": "https://localhost:8080/"
        },
        "id": "UItjj7b40T4T",
        "outputId": "0d131687-6bab-45c6-fe44-0526e50cf897"
      },
      "execution_count": null,
      "outputs": [
        {
          "output_type": "stream",
          "name": "stdout",
          "text": [
            "          Director  Total Count\n",
            "189      Jan Suter           18\n",
            "2816   Raúl Campos           18\n",
            "1693     Jay Karas           14\n",
            "2258  Marcus Raboy           14\n",
            "1691   Jay Chapman           12\n"
          ]
        }
      ]
    },
    {
      "cell_type": "code",
      "source": [
        "top5Directors = top5Directors.sort_values(by=['Total Count'])\n",
        "barChart = px.bar(top5Directors, x='Total Count', y = 'Director', title = 'Top 5 Directors on Netflix')\n",
        "barChart.show()"
      ],
      "metadata": {
        "colab": {
          "base_uri": "https://localhost:8080/",
          "height": 542
        },
        "id": "ED4kqBQa0kWy",
        "outputId": "b5578d85-4e97-46c6-d910-ac0c72897508"
      },
      "execution_count": null,
      "outputs": [
        {
          "output_type": "display_data",
          "data": {
            "text/html": [
              "<html>\n",
              "<head><meta charset=\"utf-8\" /></head>\n",
              "<body>\n",
              "    <div>            <script src=\"https://cdnjs.cloudflare.com/ajax/libs/mathjax/2.7.5/MathJax.js?config=TeX-AMS-MML_SVG\"></script><script type=\"text/javascript\">if (window.MathJax && window.MathJax.Hub && window.MathJax.Hub.Config) {window.MathJax.Hub.Config({SVG: {font: \"STIX-Web\"}});}</script>                <script type=\"text/javascript\">window.PlotlyConfig = {MathJaxConfig: 'local'};</script>\n",
              "        <script charset=\"utf-8\" src=\"https://cdn.plot.ly/plotly-2.35.2.min.js\"></script>                <div id=\"90f53a67-112d-43c0-8665-0020ba2a94e7\" class=\"plotly-graph-div\" style=\"height:525px; width:100%;\"></div>            <script type=\"text/javascript\">                                    window.PLOTLYENV=window.PLOTLYENV || {};                                    if (document.getElementById(\"90f53a67-112d-43c0-8665-0020ba2a94e7\")) {                    Plotly.newPlot(                        \"90f53a67-112d-43c0-8665-0020ba2a94e7\",                        [{\"alignmentgroup\":\"True\",\"hovertemplate\":\"Total Count=%{x}\\u003cbr\\u003eDirector=%{y}\\u003cextra\\u003e\\u003c\\u002fextra\\u003e\",\"legendgroup\":\"\",\"marker\":{\"color\":\"#636efa\",\"pattern\":{\"shape\":\"\"}},\"name\":\"\",\"offsetgroup\":\"\",\"orientation\":\"h\",\"showlegend\":false,\"textposition\":\"auto\",\"x\":[12,14,14,18,18],\"xaxis\":\"x\",\"y\":[\"Jay Chapman\",\"Jay Karas\",\"Marcus Raboy\",\" Jan Suter\",\"Raúl Campos\"],\"yaxis\":\"y\",\"type\":\"bar\"}],                        {\"template\":{\"data\":{\"histogram2dcontour\":[{\"type\":\"histogram2dcontour\",\"colorbar\":{\"outlinewidth\":0,\"ticks\":\"\"},\"colorscale\":[[0.0,\"#0d0887\"],[0.1111111111111111,\"#46039f\"],[0.2222222222222222,\"#7201a8\"],[0.3333333333333333,\"#9c179e\"],[0.4444444444444444,\"#bd3786\"],[0.5555555555555556,\"#d8576b\"],[0.6666666666666666,\"#ed7953\"],[0.7777777777777778,\"#fb9f3a\"],[0.8888888888888888,\"#fdca26\"],[1.0,\"#f0f921\"]]}],\"choropleth\":[{\"type\":\"choropleth\",\"colorbar\":{\"outlinewidth\":0,\"ticks\":\"\"}}],\"histogram2d\":[{\"type\":\"histogram2d\",\"colorbar\":{\"outlinewidth\":0,\"ticks\":\"\"},\"colorscale\":[[0.0,\"#0d0887\"],[0.1111111111111111,\"#46039f\"],[0.2222222222222222,\"#7201a8\"],[0.3333333333333333,\"#9c179e\"],[0.4444444444444444,\"#bd3786\"],[0.5555555555555556,\"#d8576b\"],[0.6666666666666666,\"#ed7953\"],[0.7777777777777778,\"#fb9f3a\"],[0.8888888888888888,\"#fdca26\"],[1.0,\"#f0f921\"]]}],\"heatmap\":[{\"type\":\"heatmap\",\"colorbar\":{\"outlinewidth\":0,\"ticks\":\"\"},\"colorscale\":[[0.0,\"#0d0887\"],[0.1111111111111111,\"#46039f\"],[0.2222222222222222,\"#7201a8\"],[0.3333333333333333,\"#9c179e\"],[0.4444444444444444,\"#bd3786\"],[0.5555555555555556,\"#d8576b\"],[0.6666666666666666,\"#ed7953\"],[0.7777777777777778,\"#fb9f3a\"],[0.8888888888888888,\"#fdca26\"],[1.0,\"#f0f921\"]]}],\"heatmapgl\":[{\"type\":\"heatmapgl\",\"colorbar\":{\"outlinewidth\":0,\"ticks\":\"\"},\"colorscale\":[[0.0,\"#0d0887\"],[0.1111111111111111,\"#46039f\"],[0.2222222222222222,\"#7201a8\"],[0.3333333333333333,\"#9c179e\"],[0.4444444444444444,\"#bd3786\"],[0.5555555555555556,\"#d8576b\"],[0.6666666666666666,\"#ed7953\"],[0.7777777777777778,\"#fb9f3a\"],[0.8888888888888888,\"#fdca26\"],[1.0,\"#f0f921\"]]}],\"contourcarpet\":[{\"type\":\"contourcarpet\",\"colorbar\":{\"outlinewidth\":0,\"ticks\":\"\"}}],\"contour\":[{\"type\":\"contour\",\"colorbar\":{\"outlinewidth\":0,\"ticks\":\"\"},\"colorscale\":[[0.0,\"#0d0887\"],[0.1111111111111111,\"#46039f\"],[0.2222222222222222,\"#7201a8\"],[0.3333333333333333,\"#9c179e\"],[0.4444444444444444,\"#bd3786\"],[0.5555555555555556,\"#d8576b\"],[0.6666666666666666,\"#ed7953\"],[0.7777777777777778,\"#fb9f3a\"],[0.8888888888888888,\"#fdca26\"],[1.0,\"#f0f921\"]]}],\"surface\":[{\"type\":\"surface\",\"colorbar\":{\"outlinewidth\":0,\"ticks\":\"\"},\"colorscale\":[[0.0,\"#0d0887\"],[0.1111111111111111,\"#46039f\"],[0.2222222222222222,\"#7201a8\"],[0.3333333333333333,\"#9c179e\"],[0.4444444444444444,\"#bd3786\"],[0.5555555555555556,\"#d8576b\"],[0.6666666666666666,\"#ed7953\"],[0.7777777777777778,\"#fb9f3a\"],[0.8888888888888888,\"#fdca26\"],[1.0,\"#f0f921\"]]}],\"mesh3d\":[{\"type\":\"mesh3d\",\"colorbar\":{\"outlinewidth\":0,\"ticks\":\"\"}}],\"scatter\":[{\"fillpattern\":{\"fillmode\":\"overlay\",\"size\":10,\"solidity\":0.2},\"type\":\"scatter\"}],\"parcoords\":[{\"type\":\"parcoords\",\"line\":{\"colorbar\":{\"outlinewidth\":0,\"ticks\":\"\"}}}],\"scatterpolargl\":[{\"type\":\"scatterpolargl\",\"marker\":{\"colorbar\":{\"outlinewidth\":0,\"ticks\":\"\"}}}],\"bar\":[{\"error_x\":{\"color\":\"#2a3f5f\"},\"error_y\":{\"color\":\"#2a3f5f\"},\"marker\":{\"line\":{\"color\":\"#E5ECF6\",\"width\":0.5},\"pattern\":{\"fillmode\":\"overlay\",\"size\":10,\"solidity\":0.2}},\"type\":\"bar\"}],\"scattergeo\":[{\"type\":\"scattergeo\",\"marker\":{\"colorbar\":{\"outlinewidth\":0,\"ticks\":\"\"}}}],\"scatterpolar\":[{\"type\":\"scatterpolar\",\"marker\":{\"colorbar\":{\"outlinewidth\":0,\"ticks\":\"\"}}}],\"histogram\":[{\"marker\":{\"pattern\":{\"fillmode\":\"overlay\",\"size\":10,\"solidity\":0.2}},\"type\":\"histogram\"}],\"scattergl\":[{\"type\":\"scattergl\",\"marker\":{\"colorbar\":{\"outlinewidth\":0,\"ticks\":\"\"}}}],\"scatter3d\":[{\"type\":\"scatter3d\",\"line\":{\"colorbar\":{\"outlinewidth\":0,\"ticks\":\"\"}},\"marker\":{\"colorbar\":{\"outlinewidth\":0,\"ticks\":\"\"}}}],\"scattermapbox\":[{\"type\":\"scattermapbox\",\"marker\":{\"colorbar\":{\"outlinewidth\":0,\"ticks\":\"\"}}}],\"scatterternary\":[{\"type\":\"scatterternary\",\"marker\":{\"colorbar\":{\"outlinewidth\":0,\"ticks\":\"\"}}}],\"scattercarpet\":[{\"type\":\"scattercarpet\",\"marker\":{\"colorbar\":{\"outlinewidth\":0,\"ticks\":\"\"}}}],\"carpet\":[{\"aaxis\":{\"endlinecolor\":\"#2a3f5f\",\"gridcolor\":\"white\",\"linecolor\":\"white\",\"minorgridcolor\":\"white\",\"startlinecolor\":\"#2a3f5f\"},\"baxis\":{\"endlinecolor\":\"#2a3f5f\",\"gridcolor\":\"white\",\"linecolor\":\"white\",\"minorgridcolor\":\"white\",\"startlinecolor\":\"#2a3f5f\"},\"type\":\"carpet\"}],\"table\":[{\"cells\":{\"fill\":{\"color\":\"#EBF0F8\"},\"line\":{\"color\":\"white\"}},\"header\":{\"fill\":{\"color\":\"#C8D4E3\"},\"line\":{\"color\":\"white\"}},\"type\":\"table\"}],\"barpolar\":[{\"marker\":{\"line\":{\"color\":\"#E5ECF6\",\"width\":0.5},\"pattern\":{\"fillmode\":\"overlay\",\"size\":10,\"solidity\":0.2}},\"type\":\"barpolar\"}],\"pie\":[{\"automargin\":true,\"type\":\"pie\"}]},\"layout\":{\"autotypenumbers\":\"strict\",\"colorway\":[\"#636efa\",\"#EF553B\",\"#00cc96\",\"#ab63fa\",\"#FFA15A\",\"#19d3f3\",\"#FF6692\",\"#B6E880\",\"#FF97FF\",\"#FECB52\"],\"font\":{\"color\":\"#2a3f5f\"},\"hovermode\":\"closest\",\"hoverlabel\":{\"align\":\"left\"},\"paper_bgcolor\":\"white\",\"plot_bgcolor\":\"#E5ECF6\",\"polar\":{\"bgcolor\":\"#E5ECF6\",\"angularaxis\":{\"gridcolor\":\"white\",\"linecolor\":\"white\",\"ticks\":\"\"},\"radialaxis\":{\"gridcolor\":\"white\",\"linecolor\":\"white\",\"ticks\":\"\"}},\"ternary\":{\"bgcolor\":\"#E5ECF6\",\"aaxis\":{\"gridcolor\":\"white\",\"linecolor\":\"white\",\"ticks\":\"\"},\"baxis\":{\"gridcolor\":\"white\",\"linecolor\":\"white\",\"ticks\":\"\"},\"caxis\":{\"gridcolor\":\"white\",\"linecolor\":\"white\",\"ticks\":\"\"}},\"coloraxis\":{\"colorbar\":{\"outlinewidth\":0,\"ticks\":\"\"}},\"colorscale\":{\"sequential\":[[0.0,\"#0d0887\"],[0.1111111111111111,\"#46039f\"],[0.2222222222222222,\"#7201a8\"],[0.3333333333333333,\"#9c179e\"],[0.4444444444444444,\"#bd3786\"],[0.5555555555555556,\"#d8576b\"],[0.6666666666666666,\"#ed7953\"],[0.7777777777777778,\"#fb9f3a\"],[0.8888888888888888,\"#fdca26\"],[1.0,\"#f0f921\"]],\"sequentialminus\":[[0.0,\"#0d0887\"],[0.1111111111111111,\"#46039f\"],[0.2222222222222222,\"#7201a8\"],[0.3333333333333333,\"#9c179e\"],[0.4444444444444444,\"#bd3786\"],[0.5555555555555556,\"#d8576b\"],[0.6666666666666666,\"#ed7953\"],[0.7777777777777778,\"#fb9f3a\"],[0.8888888888888888,\"#fdca26\"],[1.0,\"#f0f921\"]],\"diverging\":[[0,\"#8e0152\"],[0.1,\"#c51b7d\"],[0.2,\"#de77ae\"],[0.3,\"#f1b6da\"],[0.4,\"#fde0ef\"],[0.5,\"#f7f7f7\"],[0.6,\"#e6f5d0\"],[0.7,\"#b8e186\"],[0.8,\"#7fbc41\"],[0.9,\"#4d9221\"],[1,\"#276419\"]]},\"xaxis\":{\"gridcolor\":\"white\",\"linecolor\":\"white\",\"ticks\":\"\",\"title\":{\"standoff\":15},\"zerolinecolor\":\"white\",\"automargin\":true,\"zerolinewidth\":2},\"yaxis\":{\"gridcolor\":\"white\",\"linecolor\":\"white\",\"ticks\":\"\",\"title\":{\"standoff\":15},\"zerolinecolor\":\"white\",\"automargin\":true,\"zerolinewidth\":2},\"scene\":{\"xaxis\":{\"backgroundcolor\":\"#E5ECF6\",\"gridcolor\":\"white\",\"linecolor\":\"white\",\"showbackground\":true,\"ticks\":\"\",\"zerolinecolor\":\"white\",\"gridwidth\":2},\"yaxis\":{\"backgroundcolor\":\"#E5ECF6\",\"gridcolor\":\"white\",\"linecolor\":\"white\",\"showbackground\":true,\"ticks\":\"\",\"zerolinecolor\":\"white\",\"gridwidth\":2},\"zaxis\":{\"backgroundcolor\":\"#E5ECF6\",\"gridcolor\":\"white\",\"linecolor\":\"white\",\"showbackground\":true,\"ticks\":\"\",\"zerolinecolor\":\"white\",\"gridwidth\":2}},\"shapedefaults\":{\"line\":{\"color\":\"#2a3f5f\"}},\"annotationdefaults\":{\"arrowcolor\":\"#2a3f5f\",\"arrowhead\":0,\"arrowwidth\":1},\"geo\":{\"bgcolor\":\"white\",\"landcolor\":\"#E5ECF6\",\"subunitcolor\":\"white\",\"showland\":true,\"showlakes\":true,\"lakecolor\":\"white\"},\"title\":{\"x\":0.05},\"mapbox\":{\"style\":\"light\"}}},\"xaxis\":{\"anchor\":\"y\",\"domain\":[0.0,1.0],\"title\":{\"text\":\"Total Count\"}},\"yaxis\":{\"anchor\":\"x\",\"domain\":[0.0,1.0],\"title\":{\"text\":\"Director\"}},\"legend\":{\"tracegroupgap\":0},\"title\":{\"text\":\"Top 5 Directors on Netflix\"},\"barmode\":\"relative\"},                        {\"responsive\": true}                    ).then(function(){\n",
              "                            \n",
              "var gd = document.getElementById('90f53a67-112d-43c0-8665-0020ba2a94e7');\n",
              "var x = new MutationObserver(function (mutations, observer) {{\n",
              "        var display = window.getComputedStyle(gd).display;\n",
              "        if (!display || display === 'none') {{\n",
              "            console.log([gd, 'removed!']);\n",
              "            Plotly.purge(gd);\n",
              "            observer.disconnect();\n",
              "        }}\n",
              "}});\n",
              "\n",
              "// Listen for the removal of the full notebook cells\n",
              "var notebookContainer = gd.closest('#notebook-container');\n",
              "if (notebookContainer) {{\n",
              "    x.observe(notebookContainer, {childList: true});\n",
              "}}\n",
              "\n",
              "// Listen for the clearing of the current output cell\n",
              "var outputEl = gd.closest('.output');\n",
              "if (outputEl) {{\n",
              "    x.observe(outputEl, {childList: true});\n",
              "}}\n",
              "\n",
              "                        })                };                            </script>        </div>\n",
              "</body>\n",
              "</html>"
            ]
          },
          "metadata": {}
        }
      ]
    },
    {
      "cell_type": "code",
      "source": [
        "df['cast']=df['cast'].fillna('No cast specified')\n",
        "cast_df = pd.DataFrame()\n",
        "cast_df = df['cast'].str.split(',',expand=True).stack()\n",
        "cast_df = cast_df.to_frame()\n",
        "cast_df.columns = ['Actor']\n",
        "actors = cast_df.groupby(['Actor']).size().reset_index(name = 'Total Count')\n",
        "actors = actors[actors.Actor != 'No cast specified']\n",
        "actors = actors.sort_values(by=['Total Count'], ascending=False)\n",
        "top5Actors = actors.head()\n",
        "top5Actors = top5Actors.sort_values(by=['Total Count'])\n",
        "barChart2 = px.bar(top5Actors, x='Total Count', y='Actor', title='Top 5 Actors on Netflix')\n",
        "barChart2.show()"
      ],
      "metadata": {
        "colab": {
          "base_uri": "https://localhost:8080/",
          "height": 542
        },
        "id": "GIn_Wz461RBk",
        "outputId": "009f025c-274d-4d54-e66c-e4d17a7a87f1"
      },
      "execution_count": null,
      "outputs": [
        {
          "output_type": "display_data",
          "data": {
            "text/html": [
              "<html>\n",
              "<head><meta charset=\"utf-8\" /></head>\n",
              "<body>\n",
              "    <div>            <script src=\"https://cdnjs.cloudflare.com/ajax/libs/mathjax/2.7.5/MathJax.js?config=TeX-AMS-MML_SVG\"></script><script type=\"text/javascript\">if (window.MathJax && window.MathJax.Hub && window.MathJax.Hub.Config) {window.MathJax.Hub.Config({SVG: {font: \"STIX-Web\"}});}</script>                <script type=\"text/javascript\">window.PlotlyConfig = {MathJaxConfig: 'local'};</script>\n",
              "        <script charset=\"utf-8\" src=\"https://cdn.plot.ly/plotly-2.35.2.min.js\"></script>                <div id=\"8600b372-a97b-4181-afa2-96ac5ef82806\" class=\"plotly-graph-div\" style=\"height:525px; width:100%;\"></div>            <script type=\"text/javascript\">                                    window.PLOTLYENV=window.PLOTLYENV || {};                                    if (document.getElementById(\"8600b372-a97b-4181-afa2-96ac5ef82806\")) {                    Plotly.newPlot(                        \"8600b372-a97b-4181-afa2-96ac5ef82806\",                        [{\"alignmentgroup\":\"True\",\"hovertemplate\":\"Total Count=%{x}\\u003cbr\\u003eActor=%{y}\\u003cextra\\u003e\\u003c\\u002fextra\\u003e\",\"legendgroup\":\"\",\"marker\":{\"color\":\"#636efa\",\"pattern\":{\"shape\":\"\"}},\"name\":\"\",\"offsetgroup\":\"\",\"orientation\":\"h\",\"showlegend\":false,\"textposition\":\"auto\",\"x\":[19,21,22,22,26],\"xaxis\":\"x\",\"y\":[\" Yuki Kaji\",\" Takahiro Sakurai\",\" Andrea Libman\",\"Shah Rukh Khan\",\" Anupam Kher\"],\"yaxis\":\"y\",\"type\":\"bar\"}],                        {\"template\":{\"data\":{\"histogram2dcontour\":[{\"type\":\"histogram2dcontour\",\"colorbar\":{\"outlinewidth\":0,\"ticks\":\"\"},\"colorscale\":[[0.0,\"#0d0887\"],[0.1111111111111111,\"#46039f\"],[0.2222222222222222,\"#7201a8\"],[0.3333333333333333,\"#9c179e\"],[0.4444444444444444,\"#bd3786\"],[0.5555555555555556,\"#d8576b\"],[0.6666666666666666,\"#ed7953\"],[0.7777777777777778,\"#fb9f3a\"],[0.8888888888888888,\"#fdca26\"],[1.0,\"#f0f921\"]]}],\"choropleth\":[{\"type\":\"choropleth\",\"colorbar\":{\"outlinewidth\":0,\"ticks\":\"\"}}],\"histogram2d\":[{\"type\":\"histogram2d\",\"colorbar\":{\"outlinewidth\":0,\"ticks\":\"\"},\"colorscale\":[[0.0,\"#0d0887\"],[0.1111111111111111,\"#46039f\"],[0.2222222222222222,\"#7201a8\"],[0.3333333333333333,\"#9c179e\"],[0.4444444444444444,\"#bd3786\"],[0.5555555555555556,\"#d8576b\"],[0.6666666666666666,\"#ed7953\"],[0.7777777777777778,\"#fb9f3a\"],[0.8888888888888888,\"#fdca26\"],[1.0,\"#f0f921\"]]}],\"heatmap\":[{\"type\":\"heatmap\",\"colorbar\":{\"outlinewidth\":0,\"ticks\":\"\"},\"colorscale\":[[0.0,\"#0d0887\"],[0.1111111111111111,\"#46039f\"],[0.2222222222222222,\"#7201a8\"],[0.3333333333333333,\"#9c179e\"],[0.4444444444444444,\"#bd3786\"],[0.5555555555555556,\"#d8576b\"],[0.6666666666666666,\"#ed7953\"],[0.7777777777777778,\"#fb9f3a\"],[0.8888888888888888,\"#fdca26\"],[1.0,\"#f0f921\"]]}],\"heatmapgl\":[{\"type\":\"heatmapgl\",\"colorbar\":{\"outlinewidth\":0,\"ticks\":\"\"},\"colorscale\":[[0.0,\"#0d0887\"],[0.1111111111111111,\"#46039f\"],[0.2222222222222222,\"#7201a8\"],[0.3333333333333333,\"#9c179e\"],[0.4444444444444444,\"#bd3786\"],[0.5555555555555556,\"#d8576b\"],[0.6666666666666666,\"#ed7953\"],[0.7777777777777778,\"#fb9f3a\"],[0.8888888888888888,\"#fdca26\"],[1.0,\"#f0f921\"]]}],\"contourcarpet\":[{\"type\":\"contourcarpet\",\"colorbar\":{\"outlinewidth\":0,\"ticks\":\"\"}}],\"contour\":[{\"type\":\"contour\",\"colorbar\":{\"outlinewidth\":0,\"ticks\":\"\"},\"colorscale\":[[0.0,\"#0d0887\"],[0.1111111111111111,\"#46039f\"],[0.2222222222222222,\"#7201a8\"],[0.3333333333333333,\"#9c179e\"],[0.4444444444444444,\"#bd3786\"],[0.5555555555555556,\"#d8576b\"],[0.6666666666666666,\"#ed7953\"],[0.7777777777777778,\"#fb9f3a\"],[0.8888888888888888,\"#fdca26\"],[1.0,\"#f0f921\"]]}],\"surface\":[{\"type\":\"surface\",\"colorbar\":{\"outlinewidth\":0,\"ticks\":\"\"},\"colorscale\":[[0.0,\"#0d0887\"],[0.1111111111111111,\"#46039f\"],[0.2222222222222222,\"#7201a8\"],[0.3333333333333333,\"#9c179e\"],[0.4444444444444444,\"#bd3786\"],[0.5555555555555556,\"#d8576b\"],[0.6666666666666666,\"#ed7953\"],[0.7777777777777778,\"#fb9f3a\"],[0.8888888888888888,\"#fdca26\"],[1.0,\"#f0f921\"]]}],\"mesh3d\":[{\"type\":\"mesh3d\",\"colorbar\":{\"outlinewidth\":0,\"ticks\":\"\"}}],\"scatter\":[{\"fillpattern\":{\"fillmode\":\"overlay\",\"size\":10,\"solidity\":0.2},\"type\":\"scatter\"}],\"parcoords\":[{\"type\":\"parcoords\",\"line\":{\"colorbar\":{\"outlinewidth\":0,\"ticks\":\"\"}}}],\"scatterpolargl\":[{\"type\":\"scatterpolargl\",\"marker\":{\"colorbar\":{\"outlinewidth\":0,\"ticks\":\"\"}}}],\"bar\":[{\"error_x\":{\"color\":\"#2a3f5f\"},\"error_y\":{\"color\":\"#2a3f5f\"},\"marker\":{\"line\":{\"color\":\"#E5ECF6\",\"width\":0.5},\"pattern\":{\"fillmode\":\"overlay\",\"size\":10,\"solidity\":0.2}},\"type\":\"bar\"}],\"scattergeo\":[{\"type\":\"scattergeo\",\"marker\":{\"colorbar\":{\"outlinewidth\":0,\"ticks\":\"\"}}}],\"scatterpolar\":[{\"type\":\"scatterpolar\",\"marker\":{\"colorbar\":{\"outlinewidth\":0,\"ticks\":\"\"}}}],\"histogram\":[{\"marker\":{\"pattern\":{\"fillmode\":\"overlay\",\"size\":10,\"solidity\":0.2}},\"type\":\"histogram\"}],\"scattergl\":[{\"type\":\"scattergl\",\"marker\":{\"colorbar\":{\"outlinewidth\":0,\"ticks\":\"\"}}}],\"scatter3d\":[{\"type\":\"scatter3d\",\"line\":{\"colorbar\":{\"outlinewidth\":0,\"ticks\":\"\"}},\"marker\":{\"colorbar\":{\"outlinewidth\":0,\"ticks\":\"\"}}}],\"scattermapbox\":[{\"type\":\"scattermapbox\",\"marker\":{\"colorbar\":{\"outlinewidth\":0,\"ticks\":\"\"}}}],\"scatterternary\":[{\"type\":\"scatterternary\",\"marker\":{\"colorbar\":{\"outlinewidth\":0,\"ticks\":\"\"}}}],\"scattercarpet\":[{\"type\":\"scattercarpet\",\"marker\":{\"colorbar\":{\"outlinewidth\":0,\"ticks\":\"\"}}}],\"carpet\":[{\"aaxis\":{\"endlinecolor\":\"#2a3f5f\",\"gridcolor\":\"white\",\"linecolor\":\"white\",\"minorgridcolor\":\"white\",\"startlinecolor\":\"#2a3f5f\"},\"baxis\":{\"endlinecolor\":\"#2a3f5f\",\"gridcolor\":\"white\",\"linecolor\":\"white\",\"minorgridcolor\":\"white\",\"startlinecolor\":\"#2a3f5f\"},\"type\":\"carpet\"}],\"table\":[{\"cells\":{\"fill\":{\"color\":\"#EBF0F8\"},\"line\":{\"color\":\"white\"}},\"header\":{\"fill\":{\"color\":\"#C8D4E3\"},\"line\":{\"color\":\"white\"}},\"type\":\"table\"}],\"barpolar\":[{\"marker\":{\"line\":{\"color\":\"#E5ECF6\",\"width\":0.5},\"pattern\":{\"fillmode\":\"overlay\",\"size\":10,\"solidity\":0.2}},\"type\":\"barpolar\"}],\"pie\":[{\"automargin\":true,\"type\":\"pie\"}]},\"layout\":{\"autotypenumbers\":\"strict\",\"colorway\":[\"#636efa\",\"#EF553B\",\"#00cc96\",\"#ab63fa\",\"#FFA15A\",\"#19d3f3\",\"#FF6692\",\"#B6E880\",\"#FF97FF\",\"#FECB52\"],\"font\":{\"color\":\"#2a3f5f\"},\"hovermode\":\"closest\",\"hoverlabel\":{\"align\":\"left\"},\"paper_bgcolor\":\"white\",\"plot_bgcolor\":\"#E5ECF6\",\"polar\":{\"bgcolor\":\"#E5ECF6\",\"angularaxis\":{\"gridcolor\":\"white\",\"linecolor\":\"white\",\"ticks\":\"\"},\"radialaxis\":{\"gridcolor\":\"white\",\"linecolor\":\"white\",\"ticks\":\"\"}},\"ternary\":{\"bgcolor\":\"#E5ECF6\",\"aaxis\":{\"gridcolor\":\"white\",\"linecolor\":\"white\",\"ticks\":\"\"},\"baxis\":{\"gridcolor\":\"white\",\"linecolor\":\"white\",\"ticks\":\"\"},\"caxis\":{\"gridcolor\":\"white\",\"linecolor\":\"white\",\"ticks\":\"\"}},\"coloraxis\":{\"colorbar\":{\"outlinewidth\":0,\"ticks\":\"\"}},\"colorscale\":{\"sequential\":[[0.0,\"#0d0887\"],[0.1111111111111111,\"#46039f\"],[0.2222222222222222,\"#7201a8\"],[0.3333333333333333,\"#9c179e\"],[0.4444444444444444,\"#bd3786\"],[0.5555555555555556,\"#d8576b\"],[0.6666666666666666,\"#ed7953\"],[0.7777777777777778,\"#fb9f3a\"],[0.8888888888888888,\"#fdca26\"],[1.0,\"#f0f921\"]],\"sequentialminus\":[[0.0,\"#0d0887\"],[0.1111111111111111,\"#46039f\"],[0.2222222222222222,\"#7201a8\"],[0.3333333333333333,\"#9c179e\"],[0.4444444444444444,\"#bd3786\"],[0.5555555555555556,\"#d8576b\"],[0.6666666666666666,\"#ed7953\"],[0.7777777777777778,\"#fb9f3a\"],[0.8888888888888888,\"#fdca26\"],[1.0,\"#f0f921\"]],\"diverging\":[[0,\"#8e0152\"],[0.1,\"#c51b7d\"],[0.2,\"#de77ae\"],[0.3,\"#f1b6da\"],[0.4,\"#fde0ef\"],[0.5,\"#f7f7f7\"],[0.6,\"#e6f5d0\"],[0.7,\"#b8e186\"],[0.8,\"#7fbc41\"],[0.9,\"#4d9221\"],[1,\"#276419\"]]},\"xaxis\":{\"gridcolor\":\"white\",\"linecolor\":\"white\",\"ticks\":\"\",\"title\":{\"standoff\":15},\"zerolinecolor\":\"white\",\"automargin\":true,\"zerolinewidth\":2},\"yaxis\":{\"gridcolor\":\"white\",\"linecolor\":\"white\",\"ticks\":\"\",\"title\":{\"standoff\":15},\"zerolinecolor\":\"white\",\"automargin\":true,\"zerolinewidth\":2},\"scene\":{\"xaxis\":{\"backgroundcolor\":\"#E5ECF6\",\"gridcolor\":\"white\",\"linecolor\":\"white\",\"showbackground\":true,\"ticks\":\"\",\"zerolinecolor\":\"white\",\"gridwidth\":2},\"yaxis\":{\"backgroundcolor\":\"#E5ECF6\",\"gridcolor\":\"white\",\"linecolor\":\"white\",\"showbackground\":true,\"ticks\":\"\",\"zerolinecolor\":\"white\",\"gridwidth\":2},\"zaxis\":{\"backgroundcolor\":\"#E5ECF6\",\"gridcolor\":\"white\",\"linecolor\":\"white\",\"showbackground\":true,\"ticks\":\"\",\"zerolinecolor\":\"white\",\"gridwidth\":2}},\"shapedefaults\":{\"line\":{\"color\":\"#2a3f5f\"}},\"annotationdefaults\":{\"arrowcolor\":\"#2a3f5f\",\"arrowhead\":0,\"arrowwidth\":1},\"geo\":{\"bgcolor\":\"white\",\"landcolor\":\"#E5ECF6\",\"subunitcolor\":\"white\",\"showland\":true,\"showlakes\":true,\"lakecolor\":\"white\"},\"title\":{\"x\":0.05},\"mapbox\":{\"style\":\"light\"}}},\"xaxis\":{\"anchor\":\"y\",\"domain\":[0.0,1.0],\"title\":{\"text\":\"Total Count\"}},\"yaxis\":{\"anchor\":\"x\",\"domain\":[0.0,1.0],\"title\":{\"text\":\"Actor\"}},\"legend\":{\"tracegroupgap\":0},\"title\":{\"text\":\"Top 5 Actors on Netflix\"},\"barmode\":\"relative\"},                        {\"responsive\": true}                    ).then(function(){\n",
              "                            \n",
              "var gd = document.getElementById('8600b372-a97b-4181-afa2-96ac5ef82806');\n",
              "var x = new MutationObserver(function (mutations, observer) {{\n",
              "        var display = window.getComputedStyle(gd).display;\n",
              "        if (!display || display === 'none') {{\n",
              "            console.log([gd, 'removed!']);\n",
              "            Plotly.purge(gd);\n",
              "            observer.disconnect();\n",
              "        }}\n",
              "}});\n",
              "\n",
              "// Listen for the removal of the full notebook cells\n",
              "var notebookContainer = gd.closest('#notebook-container');\n",
              "if (notebookContainer) {{\n",
              "    x.observe(notebookContainer, {childList: true});\n",
              "}}\n",
              "\n",
              "// Listen for the clearing of the current output cell\n",
              "var outputEl = gd.closest('.output');\n",
              "if (outputEl) {{\n",
              "    x.observe(outputEl, {childList: true});\n",
              "}}\n",
              "\n",
              "                        })                };                            </script>        </div>\n",
              "</body>\n",
              "</html>"
            ]
          },
          "metadata": {}
        }
      ]
    },
    {
      "cell_type": "code",
      "source": [
        "df1 = df[['type', 'release_year']]\n",
        "df1 = df1.rename(columns = {\"release_year\":\"Release Year\", \"type\": \"Type\"})\n",
        "df2 = df1.groupby(['Release Year', 'Type']).size().reset_index(name='Total Count')\n"
      ],
      "metadata": {
        "id": "KH6nYx07321T"
      },
      "execution_count": null,
      "outputs": []
    },
    {
      "cell_type": "code",
      "source": [
        "print(df2)"
      ],
      "metadata": {
        "colab": {
          "base_uri": "https://localhost:8080/"
        },
        "id": "OmhdZFlB5WYI",
        "outputId": "e507cb20-f91d-4f3f-bb23-66891326756a"
      },
      "execution_count": null,
      "outputs": [
        {
          "output_type": "stream",
          "name": "stdout",
          "text": [
            "     Release Year     Type  Total Count\n",
            "0            1925  TV Show            1\n",
            "1            1942    Movie            2\n",
            "2            1943    Movie            3\n",
            "3            1944    Movie            3\n",
            "4            1945    Movie            3\n",
            "..            ...      ...          ...\n",
            "108          2018    Movie          630\n",
            "109          2018  TV Show          410\n",
            "110          2019    Movie          347\n",
            "111          2019  TV Show          414\n",
            "112          2020  TV Show            1\n",
            "\n",
            "[113 rows x 3 columns]\n"
          ]
        }
      ]
    },
    {
      "cell_type": "code",
      "source": [
        "df2 = df2[df2['Release Year']>=2000]\n",
        "graph = px.line(df2, x = \"Release Year\", y=\"Total Count\", color = \"Type\", title = \"Trend of Content Produced on Netfilx Every Year\")\n",
        "graph.show()"
      ],
      "metadata": {
        "colab": {
          "base_uri": "https://localhost:8080/",
          "height": 542
        },
        "id": "RwyvTygf5zdm",
        "outputId": "dcd57615-691b-42b2-d915-d34a5cbf0434"
      },
      "execution_count": null,
      "outputs": [
        {
          "output_type": "display_data",
          "data": {
            "text/html": [
              "<html>\n",
              "<head><meta charset=\"utf-8\" /></head>\n",
              "<body>\n",
              "    <div>            <script src=\"https://cdnjs.cloudflare.com/ajax/libs/mathjax/2.7.5/MathJax.js?config=TeX-AMS-MML_SVG\"></script><script type=\"text/javascript\">if (window.MathJax && window.MathJax.Hub && window.MathJax.Hub.Config) {window.MathJax.Hub.Config({SVG: {font: \"STIX-Web\"}});}</script>                <script type=\"text/javascript\">window.PlotlyConfig = {MathJaxConfig: 'local'};</script>\n",
              "        <script charset=\"utf-8\" src=\"https://cdn.plot.ly/plotly-2.35.2.min.js\"></script>                <div id=\"8c1e19ff-c1e0-4f49-b08f-c3ecc7d98457\" class=\"plotly-graph-div\" style=\"height:525px; width:100%;\"></div>            <script type=\"text/javascript\">                                    window.PLOTLYENV=window.PLOTLYENV || {};                                    if (document.getElementById(\"8c1e19ff-c1e0-4f49-b08f-c3ecc7d98457\")) {                    Plotly.newPlot(                        \"8c1e19ff-c1e0-4f49-b08f-c3ecc7d98457\",                        [{\"hovertemplate\":\"Type=Movie\\u003cbr\\u003eRelease Year=%{x}\\u003cbr\\u003eTotal Count=%{y}\\u003cextra\\u003e\\u003c\\u002fextra\\u003e\",\"legendgroup\":\"Movie\",\"line\":{\"color\":\"#636efa\",\"dash\":\"solid\"},\"marker\":{\"symbol\":\"circle\"},\"mode\":\"lines\",\"name\":\"Movie\",\"orientation\":\"v\",\"showlegend\":true,\"x\":[2000,2001,2002,2003,2004,2005,2006,2007,2008,2009,2010,2011,2012,2013,2014,2015,2016,2017,2018,2019],\"xaxis\":\"x\",\"y\":[19,24,23,29,33,41,48,50,82,73,100,92,119,172,206,351,584,655,630,347],\"yaxis\":\"y\",\"type\":\"scatter\"},{\"hovertemplate\":\"Type=TV Show\\u003cbr\\u003eRelease Year=%{x}\\u003cbr\\u003eTotal Count=%{y}\\u003cextra\\u003e\\u003c\\u002fextra\\u003e\",\"legendgroup\":\"TV Show\",\"line\":{\"color\":\"#EF553B\",\"dash\":\"solid\"},\"marker\":{\"symbol\":\"circle\"},\"mode\":\"lines\",\"name\":\"TV Show\",\"orientation\":\"v\",\"showlegend\":true,\"x\":[2000,2001,2002,2003,2004,2005,2006,2007,2008,2009,2010,2011,2012,2013,2014,2015,2016,2017,2018,2019,2020],\"xaxis\":\"x\",\"y\":[3,4,3,8,8,11,9,11,20,33,37,35,55,60,75,151,234,273,410,414,1],\"yaxis\":\"y\",\"type\":\"scatter\"}],                        {\"template\":{\"data\":{\"histogram2dcontour\":[{\"type\":\"histogram2dcontour\",\"colorbar\":{\"outlinewidth\":0,\"ticks\":\"\"},\"colorscale\":[[0.0,\"#0d0887\"],[0.1111111111111111,\"#46039f\"],[0.2222222222222222,\"#7201a8\"],[0.3333333333333333,\"#9c179e\"],[0.4444444444444444,\"#bd3786\"],[0.5555555555555556,\"#d8576b\"],[0.6666666666666666,\"#ed7953\"],[0.7777777777777778,\"#fb9f3a\"],[0.8888888888888888,\"#fdca26\"],[1.0,\"#f0f921\"]]}],\"choropleth\":[{\"type\":\"choropleth\",\"colorbar\":{\"outlinewidth\":0,\"ticks\":\"\"}}],\"histogram2d\":[{\"type\":\"histogram2d\",\"colorbar\":{\"outlinewidth\":0,\"ticks\":\"\"},\"colorscale\":[[0.0,\"#0d0887\"],[0.1111111111111111,\"#46039f\"],[0.2222222222222222,\"#7201a8\"],[0.3333333333333333,\"#9c179e\"],[0.4444444444444444,\"#bd3786\"],[0.5555555555555556,\"#d8576b\"],[0.6666666666666666,\"#ed7953\"],[0.7777777777777778,\"#fb9f3a\"],[0.8888888888888888,\"#fdca26\"],[1.0,\"#f0f921\"]]}],\"heatmap\":[{\"type\":\"heatmap\",\"colorbar\":{\"outlinewidth\":0,\"ticks\":\"\"},\"colorscale\":[[0.0,\"#0d0887\"],[0.1111111111111111,\"#46039f\"],[0.2222222222222222,\"#7201a8\"],[0.3333333333333333,\"#9c179e\"],[0.4444444444444444,\"#bd3786\"],[0.5555555555555556,\"#d8576b\"],[0.6666666666666666,\"#ed7953\"],[0.7777777777777778,\"#fb9f3a\"],[0.8888888888888888,\"#fdca26\"],[1.0,\"#f0f921\"]]}],\"heatmapgl\":[{\"type\":\"heatmapgl\",\"colorbar\":{\"outlinewidth\":0,\"ticks\":\"\"},\"colorscale\":[[0.0,\"#0d0887\"],[0.1111111111111111,\"#46039f\"],[0.2222222222222222,\"#7201a8\"],[0.3333333333333333,\"#9c179e\"],[0.4444444444444444,\"#bd3786\"],[0.5555555555555556,\"#d8576b\"],[0.6666666666666666,\"#ed7953\"],[0.7777777777777778,\"#fb9f3a\"],[0.8888888888888888,\"#fdca26\"],[1.0,\"#f0f921\"]]}],\"contourcarpet\":[{\"type\":\"contourcarpet\",\"colorbar\":{\"outlinewidth\":0,\"ticks\":\"\"}}],\"contour\":[{\"type\":\"contour\",\"colorbar\":{\"outlinewidth\":0,\"ticks\":\"\"},\"colorscale\":[[0.0,\"#0d0887\"],[0.1111111111111111,\"#46039f\"],[0.2222222222222222,\"#7201a8\"],[0.3333333333333333,\"#9c179e\"],[0.4444444444444444,\"#bd3786\"],[0.5555555555555556,\"#d8576b\"],[0.6666666666666666,\"#ed7953\"],[0.7777777777777778,\"#fb9f3a\"],[0.8888888888888888,\"#fdca26\"],[1.0,\"#f0f921\"]]}],\"surface\":[{\"type\":\"surface\",\"colorbar\":{\"outlinewidth\":0,\"ticks\":\"\"},\"colorscale\":[[0.0,\"#0d0887\"],[0.1111111111111111,\"#46039f\"],[0.2222222222222222,\"#7201a8\"],[0.3333333333333333,\"#9c179e\"],[0.4444444444444444,\"#bd3786\"],[0.5555555555555556,\"#d8576b\"],[0.6666666666666666,\"#ed7953\"],[0.7777777777777778,\"#fb9f3a\"],[0.8888888888888888,\"#fdca26\"],[1.0,\"#f0f921\"]]}],\"mesh3d\":[{\"type\":\"mesh3d\",\"colorbar\":{\"outlinewidth\":0,\"ticks\":\"\"}}],\"scatter\":[{\"fillpattern\":{\"fillmode\":\"overlay\",\"size\":10,\"solidity\":0.2},\"type\":\"scatter\"}],\"parcoords\":[{\"type\":\"parcoords\",\"line\":{\"colorbar\":{\"outlinewidth\":0,\"ticks\":\"\"}}}],\"scatterpolargl\":[{\"type\":\"scatterpolargl\",\"marker\":{\"colorbar\":{\"outlinewidth\":0,\"ticks\":\"\"}}}],\"bar\":[{\"error_x\":{\"color\":\"#2a3f5f\"},\"error_y\":{\"color\":\"#2a3f5f\"},\"marker\":{\"line\":{\"color\":\"#E5ECF6\",\"width\":0.5},\"pattern\":{\"fillmode\":\"overlay\",\"size\":10,\"solidity\":0.2}},\"type\":\"bar\"}],\"scattergeo\":[{\"type\":\"scattergeo\",\"marker\":{\"colorbar\":{\"outlinewidth\":0,\"ticks\":\"\"}}}],\"scatterpolar\":[{\"type\":\"scatterpolar\",\"marker\":{\"colorbar\":{\"outlinewidth\":0,\"ticks\":\"\"}}}],\"histogram\":[{\"marker\":{\"pattern\":{\"fillmode\":\"overlay\",\"size\":10,\"solidity\":0.2}},\"type\":\"histogram\"}],\"scattergl\":[{\"type\":\"scattergl\",\"marker\":{\"colorbar\":{\"outlinewidth\":0,\"ticks\":\"\"}}}],\"scatter3d\":[{\"type\":\"scatter3d\",\"line\":{\"colorbar\":{\"outlinewidth\":0,\"ticks\":\"\"}},\"marker\":{\"colorbar\":{\"outlinewidth\":0,\"ticks\":\"\"}}}],\"scattermapbox\":[{\"type\":\"scattermapbox\",\"marker\":{\"colorbar\":{\"outlinewidth\":0,\"ticks\":\"\"}}}],\"scatterternary\":[{\"type\":\"scatterternary\",\"marker\":{\"colorbar\":{\"outlinewidth\":0,\"ticks\":\"\"}}}],\"scattercarpet\":[{\"type\":\"scattercarpet\",\"marker\":{\"colorbar\":{\"outlinewidth\":0,\"ticks\":\"\"}}}],\"carpet\":[{\"aaxis\":{\"endlinecolor\":\"#2a3f5f\",\"gridcolor\":\"white\",\"linecolor\":\"white\",\"minorgridcolor\":\"white\",\"startlinecolor\":\"#2a3f5f\"},\"baxis\":{\"endlinecolor\":\"#2a3f5f\",\"gridcolor\":\"white\",\"linecolor\":\"white\",\"minorgridcolor\":\"white\",\"startlinecolor\":\"#2a3f5f\"},\"type\":\"carpet\"}],\"table\":[{\"cells\":{\"fill\":{\"color\":\"#EBF0F8\"},\"line\":{\"color\":\"white\"}},\"header\":{\"fill\":{\"color\":\"#C8D4E3\"},\"line\":{\"color\":\"white\"}},\"type\":\"table\"}],\"barpolar\":[{\"marker\":{\"line\":{\"color\":\"#E5ECF6\",\"width\":0.5},\"pattern\":{\"fillmode\":\"overlay\",\"size\":10,\"solidity\":0.2}},\"type\":\"barpolar\"}],\"pie\":[{\"automargin\":true,\"type\":\"pie\"}]},\"layout\":{\"autotypenumbers\":\"strict\",\"colorway\":[\"#636efa\",\"#EF553B\",\"#00cc96\",\"#ab63fa\",\"#FFA15A\",\"#19d3f3\",\"#FF6692\",\"#B6E880\",\"#FF97FF\",\"#FECB52\"],\"font\":{\"color\":\"#2a3f5f\"},\"hovermode\":\"closest\",\"hoverlabel\":{\"align\":\"left\"},\"paper_bgcolor\":\"white\",\"plot_bgcolor\":\"#E5ECF6\",\"polar\":{\"bgcolor\":\"#E5ECF6\",\"angularaxis\":{\"gridcolor\":\"white\",\"linecolor\":\"white\",\"ticks\":\"\"},\"radialaxis\":{\"gridcolor\":\"white\",\"linecolor\":\"white\",\"ticks\":\"\"}},\"ternary\":{\"bgcolor\":\"#E5ECF6\",\"aaxis\":{\"gridcolor\":\"white\",\"linecolor\":\"white\",\"ticks\":\"\"},\"baxis\":{\"gridcolor\":\"white\",\"linecolor\":\"white\",\"ticks\":\"\"},\"caxis\":{\"gridcolor\":\"white\",\"linecolor\":\"white\",\"ticks\":\"\"}},\"coloraxis\":{\"colorbar\":{\"outlinewidth\":0,\"ticks\":\"\"}},\"colorscale\":{\"sequential\":[[0.0,\"#0d0887\"],[0.1111111111111111,\"#46039f\"],[0.2222222222222222,\"#7201a8\"],[0.3333333333333333,\"#9c179e\"],[0.4444444444444444,\"#bd3786\"],[0.5555555555555556,\"#d8576b\"],[0.6666666666666666,\"#ed7953\"],[0.7777777777777778,\"#fb9f3a\"],[0.8888888888888888,\"#fdca26\"],[1.0,\"#f0f921\"]],\"sequentialminus\":[[0.0,\"#0d0887\"],[0.1111111111111111,\"#46039f\"],[0.2222222222222222,\"#7201a8\"],[0.3333333333333333,\"#9c179e\"],[0.4444444444444444,\"#bd3786\"],[0.5555555555555556,\"#d8576b\"],[0.6666666666666666,\"#ed7953\"],[0.7777777777777778,\"#fb9f3a\"],[0.8888888888888888,\"#fdca26\"],[1.0,\"#f0f921\"]],\"diverging\":[[0,\"#8e0152\"],[0.1,\"#c51b7d\"],[0.2,\"#de77ae\"],[0.3,\"#f1b6da\"],[0.4,\"#fde0ef\"],[0.5,\"#f7f7f7\"],[0.6,\"#e6f5d0\"],[0.7,\"#b8e186\"],[0.8,\"#7fbc41\"],[0.9,\"#4d9221\"],[1,\"#276419\"]]},\"xaxis\":{\"gridcolor\":\"white\",\"linecolor\":\"white\",\"ticks\":\"\",\"title\":{\"standoff\":15},\"zerolinecolor\":\"white\",\"automargin\":true,\"zerolinewidth\":2},\"yaxis\":{\"gridcolor\":\"white\",\"linecolor\":\"white\",\"ticks\":\"\",\"title\":{\"standoff\":15},\"zerolinecolor\":\"white\",\"automargin\":true,\"zerolinewidth\":2},\"scene\":{\"xaxis\":{\"backgroundcolor\":\"#E5ECF6\",\"gridcolor\":\"white\",\"linecolor\":\"white\",\"showbackground\":true,\"ticks\":\"\",\"zerolinecolor\":\"white\",\"gridwidth\":2},\"yaxis\":{\"backgroundcolor\":\"#E5ECF6\",\"gridcolor\":\"white\",\"linecolor\":\"white\",\"showbackground\":true,\"ticks\":\"\",\"zerolinecolor\":\"white\",\"gridwidth\":2},\"zaxis\":{\"backgroundcolor\":\"#E5ECF6\",\"gridcolor\":\"white\",\"linecolor\":\"white\",\"showbackground\":true,\"ticks\":\"\",\"zerolinecolor\":\"white\",\"gridwidth\":2}},\"shapedefaults\":{\"line\":{\"color\":\"#2a3f5f\"}},\"annotationdefaults\":{\"arrowcolor\":\"#2a3f5f\",\"arrowhead\":0,\"arrowwidth\":1},\"geo\":{\"bgcolor\":\"white\",\"landcolor\":\"#E5ECF6\",\"subunitcolor\":\"white\",\"showland\":true,\"showlakes\":true,\"lakecolor\":\"white\"},\"title\":{\"x\":0.05},\"mapbox\":{\"style\":\"light\"}}},\"xaxis\":{\"anchor\":\"y\",\"domain\":[0.0,1.0],\"title\":{\"text\":\"Release Year\"}},\"yaxis\":{\"anchor\":\"x\",\"domain\":[0.0,1.0],\"title\":{\"text\":\"Total Count\"}},\"legend\":{\"title\":{\"text\":\"Type\"},\"tracegroupgap\":0},\"title\":{\"text\":\"Trend of Content Produced on Netfilx Every Year\"}},                        {\"responsive\": true}                    ).then(function(){\n",
              "                            \n",
              "var gd = document.getElementById('8c1e19ff-c1e0-4f49-b08f-c3ecc7d98457');\n",
              "var x = new MutationObserver(function (mutations, observer) {{\n",
              "        var display = window.getComputedStyle(gd).display;\n",
              "        if (!display || display === 'none') {{\n",
              "            console.log([gd, 'removed!']);\n",
              "            Plotly.purge(gd);\n",
              "            observer.disconnect();\n",
              "        }}\n",
              "}});\n",
              "\n",
              "// Listen for the removal of the full notebook cells\n",
              "var notebookContainer = gd.closest('#notebook-container');\n",
              "if (notebookContainer) {{\n",
              "    x.observe(notebookContainer, {childList: true});\n",
              "}}\n",
              "\n",
              "// Listen for the clearing of the current output cell\n",
              "var outputEl = gd.closest('.output');\n",
              "if (outputEl) {{\n",
              "    x.observe(outputEl, {childList: true});\n",
              "}}\n",
              "\n",
              "                        })                };                            </script>        </div>\n",
              "</body>\n",
              "</html>"
            ]
          },
          "metadata": {}
        }
      ]
    },
    {
      "cell_type": "code",
      "source": [
        "df3 = df[['release_year', 'description']]\n",
        "df3 = df3.rename(columns = {'release_year':'Release Year', 'description':'Description'})\n",
        "for index, row in df3.iterrows():\n",
        "  d=row['Description']\n",
        "  testimonial = TextBlob(d)\n",
        "  p = testimonial.sentiment.polarity\n",
        "  if p==0:\n",
        "    sent = 'Neutral'\n",
        "  elif p>0:\n",
        "    sent = 'Positive'\n",
        "  else:\n",
        "    sent = 'Negative'\n",
        "  df3.loc[[index, 2], 'Sentiment']=sent\n",
        "\n",
        "df3 = df3.groupby(['Release Year', 'Sentiment']).size().reset_index(name = 'Total Count')\n",
        "\n",
        "df3 = df3[df3['Release Year']>2005]\n",
        "barGraph = px.bar(df3, x=\"Release Year\", y=\"Total Count\", color = \"Sentiment\", title = \"Sentiment Analysis of Content on Netflix\")\n",
        "barGraph.show()\n"
      ],
      "metadata": {
        "colab": {
          "base_uri": "https://localhost:8080/",
          "height": 542
        },
        "id": "cheUDCYq8QkZ",
        "outputId": "dd738055-fb57-4389-9ade-161abf0fa6c8"
      },
      "execution_count": null,
      "outputs": [
        {
          "output_type": "display_data",
          "data": {
            "text/html": [
              "<html>\n",
              "<head><meta charset=\"utf-8\" /></head>\n",
              "<body>\n",
              "    <div>            <script src=\"https://cdnjs.cloudflare.com/ajax/libs/mathjax/2.7.5/MathJax.js?config=TeX-AMS-MML_SVG\"></script><script type=\"text/javascript\">if (window.MathJax && window.MathJax.Hub && window.MathJax.Hub.Config) {window.MathJax.Hub.Config({SVG: {font: \"STIX-Web\"}});}</script>                <script type=\"text/javascript\">window.PlotlyConfig = {MathJaxConfig: 'local'};</script>\n",
              "        <script charset=\"utf-8\" src=\"https://cdn.plot.ly/plotly-2.35.2.min.js\"></script>                <div id=\"80f67fbd-e90d-43c5-ac5a-224683353002\" class=\"plotly-graph-div\" style=\"height:525px; width:100%;\"></div>            <script type=\"text/javascript\">                                    window.PLOTLYENV=window.PLOTLYENV || {};                                    if (document.getElementById(\"80f67fbd-e90d-43c5-ac5a-224683353002\")) {                    Plotly.newPlot(                        \"80f67fbd-e90d-43c5-ac5a-224683353002\",                        [{\"alignmentgroup\":\"True\",\"hovertemplate\":\"Sentiment=Negative\\u003cbr\\u003eRelease Year=%{x}\\u003cbr\\u003eTotal Count=%{y}\\u003cextra\\u003e\\u003c\\u002fextra\\u003e\",\"legendgroup\":\"Negative\",\"marker\":{\"color\":\"#636efa\",\"pattern\":{\"shape\":\"\"}},\"name\":\"Negative\",\"offsetgroup\":\"Negative\",\"orientation\":\"v\",\"showlegend\":true,\"textposition\":\"auto\",\"x\":[2006,2007,2008,2009,2010,2011,2012,2013,2014,2015,2016,2017,2018,2019],\"xaxis\":\"x\",\"y\":[16,18,24,29,36,31,52,70,93,144,247,288,317,226],\"yaxis\":\"y\",\"type\":\"bar\"},{\"alignmentgroup\":\"True\",\"hovertemplate\":\"Sentiment=Neutral\\u003cbr\\u003eRelease Year=%{x}\\u003cbr\\u003eTotal Count=%{y}\\u003cextra\\u003e\\u003c\\u002fextra\\u003e\",\"legendgroup\":\"Neutral\",\"marker\":{\"color\":\"#EF553B\",\"pattern\":{\"shape\":\"\"}},\"name\":\"Neutral\",\"offsetgroup\":\"Neutral\",\"orientation\":\"v\",\"showlegend\":true,\"textposition\":\"auto\",\"x\":[2006,2007,2008,2009,2010,2011,2012,2013,2014,2015,2016,2017,2018,2019],\"xaxis\":\"x\",\"y\":[11,17,24,21,26,23,28,36,47,84,138,187,192,113],\"yaxis\":\"y\",\"type\":\"bar\"},{\"alignmentgroup\":\"True\",\"hovertemplate\":\"Sentiment=Positive\\u003cbr\\u003eRelease Year=%{x}\\u003cbr\\u003eTotal Count=%{y}\\u003cextra\\u003e\\u003c\\u002fextra\\u003e\",\"legendgroup\":\"Positive\",\"marker\":{\"color\":\"#00cc96\",\"pattern\":{\"shape\":\"\"}},\"name\":\"Positive\",\"offsetgroup\":\"Positive\",\"orientation\":\"v\",\"showlegend\":true,\"textposition\":\"auto\",\"x\":[2006,2007,2008,2009,2010,2011,2012,2013,2014,2015,2016,2017,2018,2019,2020],\"xaxis\":\"x\",\"y\":[30,26,54,56,75,73,94,126,141,274,433,453,531,422,1],\"yaxis\":\"y\",\"type\":\"bar\"}],                        {\"template\":{\"data\":{\"histogram2dcontour\":[{\"type\":\"histogram2dcontour\",\"colorbar\":{\"outlinewidth\":0,\"ticks\":\"\"},\"colorscale\":[[0.0,\"#0d0887\"],[0.1111111111111111,\"#46039f\"],[0.2222222222222222,\"#7201a8\"],[0.3333333333333333,\"#9c179e\"],[0.4444444444444444,\"#bd3786\"],[0.5555555555555556,\"#d8576b\"],[0.6666666666666666,\"#ed7953\"],[0.7777777777777778,\"#fb9f3a\"],[0.8888888888888888,\"#fdca26\"],[1.0,\"#f0f921\"]]}],\"choropleth\":[{\"type\":\"choropleth\",\"colorbar\":{\"outlinewidth\":0,\"ticks\":\"\"}}],\"histogram2d\":[{\"type\":\"histogram2d\",\"colorbar\":{\"outlinewidth\":0,\"ticks\":\"\"},\"colorscale\":[[0.0,\"#0d0887\"],[0.1111111111111111,\"#46039f\"],[0.2222222222222222,\"#7201a8\"],[0.3333333333333333,\"#9c179e\"],[0.4444444444444444,\"#bd3786\"],[0.5555555555555556,\"#d8576b\"],[0.6666666666666666,\"#ed7953\"],[0.7777777777777778,\"#fb9f3a\"],[0.8888888888888888,\"#fdca26\"],[1.0,\"#f0f921\"]]}],\"heatmap\":[{\"type\":\"heatmap\",\"colorbar\":{\"outlinewidth\":0,\"ticks\":\"\"},\"colorscale\":[[0.0,\"#0d0887\"],[0.1111111111111111,\"#46039f\"],[0.2222222222222222,\"#7201a8\"],[0.3333333333333333,\"#9c179e\"],[0.4444444444444444,\"#bd3786\"],[0.5555555555555556,\"#d8576b\"],[0.6666666666666666,\"#ed7953\"],[0.7777777777777778,\"#fb9f3a\"],[0.8888888888888888,\"#fdca26\"],[1.0,\"#f0f921\"]]}],\"heatmapgl\":[{\"type\":\"heatmapgl\",\"colorbar\":{\"outlinewidth\":0,\"ticks\":\"\"},\"colorscale\":[[0.0,\"#0d0887\"],[0.1111111111111111,\"#46039f\"],[0.2222222222222222,\"#7201a8\"],[0.3333333333333333,\"#9c179e\"],[0.4444444444444444,\"#bd3786\"],[0.5555555555555556,\"#d8576b\"],[0.6666666666666666,\"#ed7953\"],[0.7777777777777778,\"#fb9f3a\"],[0.8888888888888888,\"#fdca26\"],[1.0,\"#f0f921\"]]}],\"contourcarpet\":[{\"type\":\"contourcarpet\",\"colorbar\":{\"outlinewidth\":0,\"ticks\":\"\"}}],\"contour\":[{\"type\":\"contour\",\"colorbar\":{\"outlinewidth\":0,\"ticks\":\"\"},\"colorscale\":[[0.0,\"#0d0887\"],[0.1111111111111111,\"#46039f\"],[0.2222222222222222,\"#7201a8\"],[0.3333333333333333,\"#9c179e\"],[0.4444444444444444,\"#bd3786\"],[0.5555555555555556,\"#d8576b\"],[0.6666666666666666,\"#ed7953\"],[0.7777777777777778,\"#fb9f3a\"],[0.8888888888888888,\"#fdca26\"],[1.0,\"#f0f921\"]]}],\"surface\":[{\"type\":\"surface\",\"colorbar\":{\"outlinewidth\":0,\"ticks\":\"\"},\"colorscale\":[[0.0,\"#0d0887\"],[0.1111111111111111,\"#46039f\"],[0.2222222222222222,\"#7201a8\"],[0.3333333333333333,\"#9c179e\"],[0.4444444444444444,\"#bd3786\"],[0.5555555555555556,\"#d8576b\"],[0.6666666666666666,\"#ed7953\"],[0.7777777777777778,\"#fb9f3a\"],[0.8888888888888888,\"#fdca26\"],[1.0,\"#f0f921\"]]}],\"mesh3d\":[{\"type\":\"mesh3d\",\"colorbar\":{\"outlinewidth\":0,\"ticks\":\"\"}}],\"scatter\":[{\"fillpattern\":{\"fillmode\":\"overlay\",\"size\":10,\"solidity\":0.2},\"type\":\"scatter\"}],\"parcoords\":[{\"type\":\"parcoords\",\"line\":{\"colorbar\":{\"outlinewidth\":0,\"ticks\":\"\"}}}],\"scatterpolargl\":[{\"type\":\"scatterpolargl\",\"marker\":{\"colorbar\":{\"outlinewidth\":0,\"ticks\":\"\"}}}],\"bar\":[{\"error_x\":{\"color\":\"#2a3f5f\"},\"error_y\":{\"color\":\"#2a3f5f\"},\"marker\":{\"line\":{\"color\":\"#E5ECF6\",\"width\":0.5},\"pattern\":{\"fillmode\":\"overlay\",\"size\":10,\"solidity\":0.2}},\"type\":\"bar\"}],\"scattergeo\":[{\"type\":\"scattergeo\",\"marker\":{\"colorbar\":{\"outlinewidth\":0,\"ticks\":\"\"}}}],\"scatterpolar\":[{\"type\":\"scatterpolar\",\"marker\":{\"colorbar\":{\"outlinewidth\":0,\"ticks\":\"\"}}}],\"histogram\":[{\"marker\":{\"pattern\":{\"fillmode\":\"overlay\",\"size\":10,\"solidity\":0.2}},\"type\":\"histogram\"}],\"scattergl\":[{\"type\":\"scattergl\",\"marker\":{\"colorbar\":{\"outlinewidth\":0,\"ticks\":\"\"}}}],\"scatter3d\":[{\"type\":\"scatter3d\",\"line\":{\"colorbar\":{\"outlinewidth\":0,\"ticks\":\"\"}},\"marker\":{\"colorbar\":{\"outlinewidth\":0,\"ticks\":\"\"}}}],\"scattermapbox\":[{\"type\":\"scattermapbox\",\"marker\":{\"colorbar\":{\"outlinewidth\":0,\"ticks\":\"\"}}}],\"scatterternary\":[{\"type\":\"scatterternary\",\"marker\":{\"colorbar\":{\"outlinewidth\":0,\"ticks\":\"\"}}}],\"scattercarpet\":[{\"type\":\"scattercarpet\",\"marker\":{\"colorbar\":{\"outlinewidth\":0,\"ticks\":\"\"}}}],\"carpet\":[{\"aaxis\":{\"endlinecolor\":\"#2a3f5f\",\"gridcolor\":\"white\",\"linecolor\":\"white\",\"minorgridcolor\":\"white\",\"startlinecolor\":\"#2a3f5f\"},\"baxis\":{\"endlinecolor\":\"#2a3f5f\",\"gridcolor\":\"white\",\"linecolor\":\"white\",\"minorgridcolor\":\"white\",\"startlinecolor\":\"#2a3f5f\"},\"type\":\"carpet\"}],\"table\":[{\"cells\":{\"fill\":{\"color\":\"#EBF0F8\"},\"line\":{\"color\":\"white\"}},\"header\":{\"fill\":{\"color\":\"#C8D4E3\"},\"line\":{\"color\":\"white\"}},\"type\":\"table\"}],\"barpolar\":[{\"marker\":{\"line\":{\"color\":\"#E5ECF6\",\"width\":0.5},\"pattern\":{\"fillmode\":\"overlay\",\"size\":10,\"solidity\":0.2}},\"type\":\"barpolar\"}],\"pie\":[{\"automargin\":true,\"type\":\"pie\"}]},\"layout\":{\"autotypenumbers\":\"strict\",\"colorway\":[\"#636efa\",\"#EF553B\",\"#00cc96\",\"#ab63fa\",\"#FFA15A\",\"#19d3f3\",\"#FF6692\",\"#B6E880\",\"#FF97FF\",\"#FECB52\"],\"font\":{\"color\":\"#2a3f5f\"},\"hovermode\":\"closest\",\"hoverlabel\":{\"align\":\"left\"},\"paper_bgcolor\":\"white\",\"plot_bgcolor\":\"#E5ECF6\",\"polar\":{\"bgcolor\":\"#E5ECF6\",\"angularaxis\":{\"gridcolor\":\"white\",\"linecolor\":\"white\",\"ticks\":\"\"},\"radialaxis\":{\"gridcolor\":\"white\",\"linecolor\":\"white\",\"ticks\":\"\"}},\"ternary\":{\"bgcolor\":\"#E5ECF6\",\"aaxis\":{\"gridcolor\":\"white\",\"linecolor\":\"white\",\"ticks\":\"\"},\"baxis\":{\"gridcolor\":\"white\",\"linecolor\":\"white\",\"ticks\":\"\"},\"caxis\":{\"gridcolor\":\"white\",\"linecolor\":\"white\",\"ticks\":\"\"}},\"coloraxis\":{\"colorbar\":{\"outlinewidth\":0,\"ticks\":\"\"}},\"colorscale\":{\"sequential\":[[0.0,\"#0d0887\"],[0.1111111111111111,\"#46039f\"],[0.2222222222222222,\"#7201a8\"],[0.3333333333333333,\"#9c179e\"],[0.4444444444444444,\"#bd3786\"],[0.5555555555555556,\"#d8576b\"],[0.6666666666666666,\"#ed7953\"],[0.7777777777777778,\"#fb9f3a\"],[0.8888888888888888,\"#fdca26\"],[1.0,\"#f0f921\"]],\"sequentialminus\":[[0.0,\"#0d0887\"],[0.1111111111111111,\"#46039f\"],[0.2222222222222222,\"#7201a8\"],[0.3333333333333333,\"#9c179e\"],[0.4444444444444444,\"#bd3786\"],[0.5555555555555556,\"#d8576b\"],[0.6666666666666666,\"#ed7953\"],[0.7777777777777778,\"#fb9f3a\"],[0.8888888888888888,\"#fdca26\"],[1.0,\"#f0f921\"]],\"diverging\":[[0,\"#8e0152\"],[0.1,\"#c51b7d\"],[0.2,\"#de77ae\"],[0.3,\"#f1b6da\"],[0.4,\"#fde0ef\"],[0.5,\"#f7f7f7\"],[0.6,\"#e6f5d0\"],[0.7,\"#b8e186\"],[0.8,\"#7fbc41\"],[0.9,\"#4d9221\"],[1,\"#276419\"]]},\"xaxis\":{\"gridcolor\":\"white\",\"linecolor\":\"white\",\"ticks\":\"\",\"title\":{\"standoff\":15},\"zerolinecolor\":\"white\",\"automargin\":true,\"zerolinewidth\":2},\"yaxis\":{\"gridcolor\":\"white\",\"linecolor\":\"white\",\"ticks\":\"\",\"title\":{\"standoff\":15},\"zerolinecolor\":\"white\",\"automargin\":true,\"zerolinewidth\":2},\"scene\":{\"xaxis\":{\"backgroundcolor\":\"#E5ECF6\",\"gridcolor\":\"white\",\"linecolor\":\"white\",\"showbackground\":true,\"ticks\":\"\",\"zerolinecolor\":\"white\",\"gridwidth\":2},\"yaxis\":{\"backgroundcolor\":\"#E5ECF6\",\"gridcolor\":\"white\",\"linecolor\":\"white\",\"showbackground\":true,\"ticks\":\"\",\"zerolinecolor\":\"white\",\"gridwidth\":2},\"zaxis\":{\"backgroundcolor\":\"#E5ECF6\",\"gridcolor\":\"white\",\"linecolor\":\"white\",\"showbackground\":true,\"ticks\":\"\",\"zerolinecolor\":\"white\",\"gridwidth\":2}},\"shapedefaults\":{\"line\":{\"color\":\"#2a3f5f\"}},\"annotationdefaults\":{\"arrowcolor\":\"#2a3f5f\",\"arrowhead\":0,\"arrowwidth\":1},\"geo\":{\"bgcolor\":\"white\",\"landcolor\":\"#E5ECF6\",\"subunitcolor\":\"white\",\"showland\":true,\"showlakes\":true,\"lakecolor\":\"white\"},\"title\":{\"x\":0.05},\"mapbox\":{\"style\":\"light\"}}},\"xaxis\":{\"anchor\":\"y\",\"domain\":[0.0,1.0],\"title\":{\"text\":\"Release Year\"}},\"yaxis\":{\"anchor\":\"x\",\"domain\":[0.0,1.0],\"title\":{\"text\":\"Total Count\"}},\"legend\":{\"title\":{\"text\":\"Sentiment\"},\"tracegroupgap\":0},\"title\":{\"text\":\"Sentiment Analysis of Content on Netflix\"},\"barmode\":\"relative\"},                        {\"responsive\": true}                    ).then(function(){\n",
              "                            \n",
              "var gd = document.getElementById('80f67fbd-e90d-43c5-ac5a-224683353002');\n",
              "var x = new MutationObserver(function (mutations, observer) {{\n",
              "        var display = window.getComputedStyle(gd).display;\n",
              "        if (!display || display === 'none') {{\n",
              "            console.log([gd, 'removed!']);\n",
              "            Plotly.purge(gd);\n",
              "            observer.disconnect();\n",
              "        }}\n",
              "}});\n",
              "\n",
              "// Listen for the removal of the full notebook cells\n",
              "var notebookContainer = gd.closest('#notebook-container');\n",
              "if (notebookContainer) {{\n",
              "    x.observe(notebookContainer, {childList: true});\n",
              "}}\n",
              "\n",
              "// Listen for the clearing of the current output cell\n",
              "var outputEl = gd.closest('.output');\n",
              "if (outputEl) {{\n",
              "    x.observe(outputEl, {childList: true});\n",
              "}}\n",
              "\n",
              "                        })                };                            </script>        </div>\n",
              "</body>\n",
              "</html>"
            ]
          },
          "metadata": {}
        }
      ]
    },
    {
      "source": [
        "import plotly.express as px\n",
        "import pandas as pd\n",
        "\n",
        "# Assuming your data is in 'netflix_titles_nov_2019.csv'\n",
        "df = pd.read_csv('netflix_titles_nov_2019.csv') # This line is crucial, reads the data into df\n",
        "\n",
        "# Filter for movies only\n",
        "movies_df = df[df['type'] == 'Movie']\n",
        "\n",
        "# Create a histogram of movie durations\n",
        "fig = px.histogram(movies_df, x='duration',\n",
        "                   title='Distribution of Movie Durations on Netflix')\n",
        "fig.show()"
      ],
      "cell_type": "code",
      "metadata": {
        "colab": {
          "base_uri": "https://localhost:8080/",
          "height": 542
        },
        "id": "CjvCCKKN83BV",
        "outputId": "2032c5d0-2d46-4a1b-d3a0-776c39ad7f3c"
      },
      "execution_count": 4,
      "outputs": [
        {
          "output_type": "display_data",
          "data": {
            "text/html": [
              "<html>\n",
              "<head><meta charset=\"utf-8\" /></head>\n",
              "<body>\n",
              "    <div>            <script src=\"https://cdnjs.cloudflare.com/ajax/libs/mathjax/2.7.5/MathJax.js?config=TeX-AMS-MML_SVG\"></script><script type=\"text/javascript\">if (window.MathJax && window.MathJax.Hub && window.MathJax.Hub.Config) {window.MathJax.Hub.Config({SVG: {font: \"STIX-Web\"}});}</script>                <script type=\"text/javascript\">window.PlotlyConfig = {MathJaxConfig: 'local'};</script>\n",
              "        <script charset=\"utf-8\" src=\"https://cdn.plot.ly/plotly-2.35.2.min.js\"></script>                <div id=\"44054989-65b1-4f97-9046-53cac37830ff\" class=\"plotly-graph-div\" style=\"height:525px; width:100%;\"></div>            <script type=\"text/javascript\">                                    window.PLOTLYENV=window.PLOTLYENV || {};                                    if (document.getElementById(\"44054989-65b1-4f97-9046-53cac37830ff\")) {                    Plotly.newPlot(                        \"44054989-65b1-4f97-9046-53cac37830ff\",                        [{\"alignmentgroup\":\"True\",\"bingroup\":\"x\",\"hovertemplate\":\"duration=%{x}\\u003cbr\\u003ecount=%{y}\\u003cextra\\u003e\\u003c\\u002fextra\\u003e\",\"legendgroup\":\"\",\"marker\":{\"color\":\"#636efa\",\"pattern\":{\"shape\":\"\"}},\"name\":\"\",\"offsetgroup\":\"\",\"orientation\":\"v\",\"showlegend\":false,\"x\":[\"67 min\",\"135 min\",\"106 min\",\"107 min\",\"81 min\",\"107 min\",\"118 min\",\"110 min\",\"104 min\",\"93 min\",\"94 min\",\"124 min\",\"137 min\",\"134 min\",\"69 min\",\"106 min\",\"209 min\",\"86 min\",\"24 min\",\"46 min\",\"117 min\",\"87 min\",\"92 min\",\"114 min\",\"121 min\",\"94 min\",\"109 min\",\"110 min\",\"96 min\",\"97 min\",\"121 min\",\"56 min\",\"119 min\",\"138 min\",\"93 min\",\"111 min\",\"88 min\",\"81 min\",\"73 min\",\"86 min\",\"116 min\",\"85 min\",\"134 min\",\"109 min\",\"102 min\",\"101 min\",\"88 min\",\"101 min\",\"28 min\",\"103 min\",\"131 min\",\"166 min\",\"105 min\",\"82 min\",\"107 min\",\"84 min\",\"103 min\",\"112 min\",\"89 min\",\"121 min\",\"87 min\",\"136 min\",\"118 min\",\"129 min\",\"94 min\",\"88 min\",\"158 min\",\"78 min\",\"100 min\",\"93 min\",\"84 min\",\"107 min\",\"101 min\",\"107 min\",\"74 min\",\"60 min\",\"143 min\",\"105 min\",\"110 min\",\"98 min\",\"100 min\",\"74 min\",\"100 min\",\"46 min\",\"88 min\",\"54 min\",\"59 min\",\"100 min\",\"95 min\",\"88 min\",\"100 min\",\"93 min\",\"94 min\",\"121 min\",\"78 min\",\"116 min\",\"87 min\",\"61 min\",\"98 min\",\"123 min\",\"85 min\",\"92 min\",\"87 min\",\"92 min\",\"112 min\",\"97 min\",\"78 min\",\"103 min\",\"107 min\",\"44 min\",\"68 min\",\"68 min\",\"99 min\",\"69 min\",\"81 min\",\"69 min\",\"68 min\",\"68 min\",\"91 min\",\"86 min\",\"40 min\",\"102 min\",\"119 min\",\"94 min\",\"119 min\",\"90 min\",\"105 min\",\"89 min\",\"108 min\",\"108 min\",\"87 min\",\"112 min\",\"101 min\",\"89 min\",\"91 min\",\"200 min\",\"119 min\",\"90 min\",\"103 min\",\"110 min\",\"133 min\",\"124 min\",\"118 min\",\"40 min\",\"98 min\",\"85 min\",\"115 min\",\"137 min\",\"98 min\",\"110 min\",\"55 min\",\"86 min\",\"92 min\",\"116 min\",\"94 min\",\"134 min\",\"102 min\",\"98 min\",\"100 min\",\"105 min\",\"116 min\",\"118 min\",\"153 min\",\"109 min\",\"99 min\",\"96 min\",\"91 min\",\"185 min\",\"92 min\",\"82 min\",\"127 min\",\"98 min\",\"111 min\",\"120 min\",\"137 min\",\"121 min\",\"89 min\",\"91 min\",\"135 min\",\"98 min\",\"139 min\",\"95 min\",\"98 min\",\"91 min\",\"122 min\",\"100 min\",\"103 min\",\"129 min\",\"133 min\",\"36 min\",\"141 min\",\"105 min\",\"107 min\",\"136 min\",\"138 min\",\"129 min\",\"97 min\",\"141 min\",\"99 min\",\"89 min\",\"24 min\",\"90 min\",\"98 min\",\"89 min\",\"88 min\",\"65 min\",\"126 min\",\"63 min\",\"14 min\",\"28 min\",\"20 min\",\"88 min\",\"98 min\",\"94 min\",\"106 min\",\"118 min\",\"127 min\",\"61 min\",\"86 min\",\"94 min\",\"82 min\",\"92 min\",\"95 min\",\"52 min\",\"108 min\",\"91 min\",\"96 min\",\"67 min\",\"83 min\",\"94 min\",\"97 min\",\"91 min\",\"66 min\",\"98 min\",\"92 min\",\"118 min\",\"87 min\",\"121 min\",\"98 min\",\"99 min\",\"95 min\",\"107 min\",\"100 min\",\"101 min\",\"86 min\",\"96 min\",\"99 min\",\"112 min\",\"127 min\",\"140 min\",\"22 min\",\"78 min\",\"63 min\",\"97 min\",\"86 min\",\"93 min\",\"73 min\",\"62 min\",\"96 min\",\"104 min\",\"123 min\",\"100 min\",\"99 min\",\"151 min\",\"102 min\",\"154 min\",\"106 min\",\"87 min\",\"70 min\",\"46 min\",\"111 min\",\"101 min\",\"109 min\",\"100 min\",\"110 min\",\"102 min\",\"102 min\",\"24 min\",\"96 min\",\"98 min\",\"76 min\",\"93 min\",\"77 min\",\"103 min\",\"45 min\",\"119 min\",\"147 min\",\"123 min\",\"99 min\",\"98 min\",\"106 min\",\"112 min\",\"85 min\",\"91 min\",\"88 min\",\"101 min\",\"90 min\",\"96 min\",\"99 min\",\"101 min\",\"111 min\",\"96 min\",\"86 min\",\"97 min\",\"121 min\",\"59 min\",\"58 min\",\"90 min\",\"88 min\",\"64 min\",\"104 min\",\"122 min\",\"125 min\",\"92 min\",\"129 min\",\"79 min\",\"121 min\",\"106 min\",\"124 min\",\"87 min\",\"125 min\",\"154 min\",\"86 min\",\"111 min\",\"97 min\",\"66 min\",\"121 min\",\"91 min\",\"91 min\",\"82 min\",\"117 min\",\"81 min\",\"84 min\",\"81 min\",\"107 min\",\"94 min\",\"163 min\",\"90 min\",\"96 min\",\"91 min\",\"93 min\",\"64 min\",\"45 min\",\"89 min\",\"90 min\",\"102 min\",\"116 min\",\"42 min\",\"133 min\",\"108 min\",\"38 min\",\"97 min\",\"89 min\",\"146 min\",\"146 min\",\"130 min\",\"106 min\",\"58 min\",\"152 min\",\"87 min\",\"121 min\",\"182 min\",\"106 min\",\"102 min\",\"98 min\",\"83 min\",\"82 min\",\"111 min\",\"24 min\",\"171 min\",\"84 min\",\"112 min\",\"80 min\",\"88 min\",\"124 min\",\"104 min\",\"76 min\",\"91 min\",\"64 min\",\"94 min\",\"86 min\",\"157 min\",\"83 min\",\"95 min\",\"106 min\",\"87 min\",\"90 min\",\"65 min\",\"105 min\",\"107 min\",\"103 min\",\"88 min\",\"96 min\",\"67 min\",\"140 min\",\"96 min\",\"93 min\",\"90 min\",\"125 min\",\"142 min\",\"133 min\",\"100 min\",\"10 min\",\"128 min\",\"88 min\",\"108 min\",\"93 min\",\"96 min\",\"102 min\",\"108 min\",\"81 min\",\"102 min\",\"93 min\",\"87 min\",\"94 min\",\"100 min\",\"88 min\",\"109 min\",\"138 min\",\"149 min\",\"82 min\",\"86 min\",\"112 min\",\"98 min\",\"113 min\",\"47 min\",\"106 min\",\"113 min\",\"119 min\",\"109 min\",\"98 min\",\"88 min\",\"116 min\",\"106 min\",\"95 min\",\"95 min\",\"113 min\",\"84 min\",\"91 min\",\"102 min\",\"100 min\",\"81 min\",\"98 min\",\"110 min\",\"106 min\",\"85 min\",\"66 min\",\"92 min\",\"92 min\",\"91 min\",\"133 min\",\"135 min\",\"120 min\",\"118 min\",\"123 min\",\"110 min\",\"98 min\",\"98 min\",\"98 min\",\"104 min\",\"167 min\",\"63 min\",\"52 min\",\"95 min\",\"72 min\",\"117 min\",\"100 min\",\"24 min\",\"86 min\",\"112 min\",\"69 min\",\"119 min\",\"123 min\",\"93 min\",\"109 min\",\"97 min\",\"66 min\",\"107 min\",\"46 min\",\"96 min\",\"91 min\",\"80 min\",\"103 min\",\"117 min\",\"76 min\",\"67 min\",\"114 min\",\"67 min\",\"77 min\",\"84 min\",\"105 min\",\"63 min\",\"94 min\",\"99 min\",\"59 min\",\"102 min\",\"81 min\",\"145 min\",\"84 min\",\"102 min\",\"101 min\",\"116 min\",\"164 min\",\"87 min\",\"90 min\",\"106 min\",\"116 min\",\"134 min\",\"133 min\",\"118 min\",\"120 min\",\"154 min\",\"128 min\",\"115 min\",\"177 min\",\"105 min\",\"112 min\",\"120 min\",\"119 min\",\"100 min\",\"92 min\",\"104 min\",\"97 min\",\"88 min\",\"128 min\",\"130 min\",\"108 min\",\"98 min\",\"89 min\",\"90 min\",\"130 min\",\"83 min\",\"99 min\",\"59 min\",\"107 min\",\"99 min\",\"94 min\",\"111 min\",\"100 min\",\"77 min\",\"57 min\",\"107 min\",\"93 min\",\"114 min\",\"103 min\",\"153 min\",\"94 min\",\"149 min\",\"111 min\",\"58 min\",\"56 min\",\"110 min\",\"98 min\",\"106 min\",\"102 min\",\"93 min\",\"81 min\",\"77 min\",\"98 min\",\"97 min\",\"136 min\",\"161 min\",\"32 min\",\"86 min\",\"107 min\",\"98 min\",\"83 min\",\"77 min\",\"133 min\",\"105 min\",\"79 min\",\"106 min\",\"90 min\",\"87 min\",\"95 min\",\"91 min\",\"67 min\",\"106 min\",\"65 min\",\"131 min\",\"105 min\",\"119 min\",\"105 min\",\"40 min\",\"107 min\",\"112 min\",\"97 min\",\"106 min\",\"66 min\",\"106 min\",\"110 min\",\"102 min\",\"105 min\",\"112 min\",\"96 min\",\"97 min\",\"53 min\",\"113 min\",\"53 min\",\"54 min\",\"53 min\",\"54 min\",\"113 min\",\"53 min\",\"53 min\",\"53 min\",\"54 min\",\"54 min\",\"52 min\",\"54 min\",\"54 min\",\"53 min\",\"53 min\",\"53 min\",\"113 min\",\"53 min\",\"91 min\",\"126 min\",\"99 min\",\"134 min\",\"26 min\",\"117 min\",\"89 min\",\"94 min\",\"101 min\",\"94 min\",\"99 min\",\"114 min\",\"48 min\",\"78 min\",\"118 min\",\"119 min\",\"104 min\",\"98 min\",\"93 min\",\"61 min\",\"90 min\",\"122 min\",\"113 min\",\"141 min\",\"81 min\",\"176 min\",\"119 min\",\"73 min\",\"87 min\",\"88 min\",\"15 min\",\"55 min\",\"141 min\",\"122 min\",\"117 min\",\"95 min\",\"109 min\",\"63 min\",\"73 min\",\"107 min\",\"87 min\",\"99 min\",\"96 min\",\"113 min\",\"69 min\",\"99 min\",\"87 min\",\"85 min\",\"112 min\",\"116 min\",\"99 min\",\"101 min\",\"110 min\",\"116 min\",\"96 min\",\"83 min\",\"110 min\",\"86 min\",\"110 min\",\"122 min\",\"99 min\",\"59 min\",\"65 min\",\"126 min\",\"97 min\",\"68 min\",\"65 min\",\"63 min\",\"89 min\",\"88 min\",\"91 min\",\"53 min\",\"40 min\",\"113 min\",\"117 min\",\"90 min\",\"95 min\",\"98 min\",\"97 min\",\"102 min\",\"61 min\",\"93 min\",\"117 min\",\"108 min\",\"126 min\",\"93 min\",\"60 min\",\"142 min\",\"113 min\",\"90 min\",\"120 min\",\"107 min\",\"74 min\",\"119 min\",\"114 min\",\"125 min\",\"71 min\",\"110 min\",\"127 min\",\"118 min\",\"90 min\",\"94 min\",\"90 min\",\"98 min\",\"98 min\",\"99 min\",\"133 min\",\"94 min\",\"116 min\",\"93 min\",\"103 min\",\"84 min\",\"90 min\",\"107 min\",\"89 min\",\"90 min\",\"96 min\",\"130 min\",\"90 min\",\"86 min\",\"79 min\",\"93 min\",\"12 min\",\"62 min\",\"3 min\",\"94 min\",\"93 min\",\"114 min\",\"110 min\",\"125 min\",\"119 min\",\"109 min\",\"100 min\",\"98 min\",\"98 min\",\"128 min\",\"83 min\",\"105 min\",\"109 min\",\"83 min\",\"101 min\",\"78 min\",\"110 min\",\"116 min\",\"141 min\",\"120 min\",\"97 min\",\"109 min\",\"105 min\",\"102 min\",\"127 min\",\"101 min\",\"135 min\",\"124 min\",\"103 min\",\"105 min\",\"98 min\",\"93 min\",\"113 min\",\"106 min\",\"99 min\",\"123 min\",\"91 min\",\"84 min\",\"99 min\",\"93 min\",\"122 min\",\"38 min\",\"101 min\",\"99 min\",\"91 min\",\"30 min\",\"30 min\",\"137 min\",\"111 min\",\"66 min\",\"159 min\",\"125 min\",\"95 min\",\"95 min\",\"70 min\",\"87 min\",\"88 min\",\"96 min\",\"90 min\",\"84 min\",\"53 min\",\"87 min\",\"90 min\",\"96 min\",\"150 min\",\"105 min\",\"112 min\",\"119 min\",\"142 min\",\"94 min\",\"97 min\",\"137 min\",\"100 min\",\"125 min\",\"128 min\",\"108 min\",\"136 min\",\"165 min\",\"124 min\",\"133 min\",\"116 min\",\"102 min\",\"87 min\",\"61 min\",\"94 min\",\"70 min\",\"92 min\",\"88 min\",\"100 min\",\"111 min\",\"128 min\",\"63 min\",\"63 min\",\"62 min\",\"62 min\",\"98 min\",\"104 min\",\"110 min\",\"87 min\",\"126 min\",\"103 min\",\"111 min\",\"100 min\",\"112 min\",\"96 min\",\"71 min\",\"86 min\",\"99 min\",\"125 min\",\"147 min\",\"88 min\",\"40 min\",\"79 min\",\"110 min\",\"101 min\",\"128 min\",\"110 min\",\"79 min\",\"87 min\",\"133 min\",\"116 min\",\"119 min\",\"53 min\",\"82 min\",\"99 min\",\"87 min\",\"90 min\",\"124 min\",\"53 min\",\"88 min\",\"54 min\",\"104 min\",\"92 min\",\"126 min\",\"140 min\",\"87 min\",\"93 min\",\"80 min\",\"92 min\",\"64 min\",\"72 min\",\"148 min\",\"110 min\",\"119 min\",\"163 min\",\"125 min\",\"87 min\",\"96 min\",\"91 min\",\"122 min\",\"125 min\",\"49 min\",\"95 min\",\"99 min\",\"98 min\",\"98 min\",\"90 min\",\"97 min\",\"97 min\",\"86 min\",\"114 min\",\"96 min\",\"99 min\",\"88 min\",\"66 min\",\"70 min\",\"168 min\",\"98 min\",\"89 min\",\"100 min\",\"90 min\",\"77 min\",\"100 min\",\"102 min\",\"98 min\",\"92 min\",\"116 min\",\"111 min\",\"91 min\",\"99 min\",\"99 min\",\"99 min\",\"98 min\",\"73 min\",\"113 min\",\"153 min\",\"81 min\",\"54 min\",\"138 min\",\"93 min\",\"123 min\",\"96 min\",\"101 min\",\"59 min\",\"53 min\",\"102 min\",\"141 min\",\"95 min\",\"111 min\",\"131 min\",\"116 min\",\"119 min\",\"146 min\",\"101 min\",\"82 min\",\"90 min\",\"87 min\",\"95 min\",\"94 min\",\"129 min\",\"94 min\",\"103 min\",\"133 min\",\"135 min\",\"61 min\",\"85 min\",\"91 min\",\"105 min\",\"59 min\",\"91 min\",\"94 min\",\"89 min\",\"131 min\",\"136 min\",\"170 min\",\"91 min\",\"128 min\",\"88 min\",\"97 min\",\"110 min\",\"170 min\",\"92 min\",\"94 min\",\"92 min\",\"113 min\",\"59 min\",\"126 min\",\"86 min\",\"120 min\",\"76 min\",\"60 min\",\"118 min\",\"88 min\",\"55 min\",\"110 min\",\"113 min\",\"110 min\",\"94 min\",\"54 min\",\"53 min\",\"103 min\",\"126 min\",\"89 min\",\"124 min\",\"128 min\",\"88 min\",\"83 min\",\"96 min\",\"118 min\",\"91 min\",\"91 min\",\"53 min\",\"103 min\",\"108 min\",\"88 min\",\"81 min\",\"124 min\",\"102 min\",\"98 min\",\"132 min\",\"87 min\",\"89 min\",\"109 min\",\"75 min\",\"126 min\",\"61 min\",\"126 min\",\"108 min\",\"89 min\",\"100 min\",\"129 min\",\"71 min\",\"108 min\",\"101 min\",\"60 min\",\"105 min\",\"115 min\",\"118 min\",\"130 min\",\"101 min\",\"115 min\",\"99 min\",\"69 min\",\"97 min\",\"61 min\",\"87 min\",\"97 min\",\"101 min\",\"92 min\",\"123 min\",\"108 min\",\"104 min\",\"98 min\",\"65 min\",\"88 min\",\"106 min\",\"69 min\",\"97 min\",\"80 min\",\"85 min\",\"99 min\",\"98 min\",\"115 min\",\"138 min\",\"90 min\",\"86 min\",\"90 min\",\"117 min\",\"132 min\",\"127 min\",\"125 min\",\"128 min\",\"126 min\",\"58 min\",\"87 min\",\"98 min\",\"116 min\",\"90 min\",\"111 min\",\"100 min\",\"123 min\",\"106 min\",\"100 min\",\"104 min\",\"99 min\",\"105 min\",\"128 min\",\"91 min\",\"127 min\",\"100 min\",\"131 min\",\"104 min\",\"94 min\",\"124 min\",\"106 min\",\"108 min\",\"104 min\",\"103 min\",\"100 min\",\"79 min\",\"92 min\",\"116 min\",\"83 min\",\"118 min\",\"162 min\",\"162 min\",\"126 min\",\"109 min\",\"109 min\",\"89 min\",\"111 min\",\"89 min\",\"97 min\",\"108 min\",\"103 min\",\"88 min\",\"120 min\",\"90 min\",\"99 min\",\"83 min\",\"107 min\",\"109 min\",\"105 min\",\"87 min\",\"93 min\",\"90 min\",\"89 min\",\"131 min\",\"114 min\",\"92 min\",\"75 min\",\"107 min\",\"97 min\",\"90 min\",\"98 min\",\"100 min\",\"103 min\",\"66 min\",\"106 min\",\"125 min\",\"77 min\",\"130 min\",\"119 min\",\"110 min\",\"120 min\",\"102 min\",\"125 min\",\"103 min\",\"127 min\",\"121 min\",\"101 min\",\"113 min\",\"118 min\",\"132 min\",\"106 min\",\"116 min\",\"117 min\",\"90 min\",\"61 min\",\"90 min\",\"107 min\",\"80 min\",\"58 min\",\"58 min\",\"56 min\",\"110 min\",\"70 min\",\"117 min\",\"89 min\",\"84 min\",\"131 min\",\"91 min\",\"103 min\",\"100 min\",\"139 min\",\"103 min\",\"42 min\",\"79 min\",\"90 min\",\"88 min\",\"96 min\",\"114 min\",\"99 min\",\"89 min\",\"103 min\",\"127 min\",\"113 min\",\"111 min\",\"112 min\",\"96 min\",\"103 min\",\"104 min\",\"102 min\",\"86 min\",\"97 min\",\"111 min\",\"132 min\",\"89 min\",\"102 min\",\"120 min\",\"137 min\",\"82 min\",\"85 min\",\"115 min\",\"107 min\",\"130 min\",\"57 min\",\"62 min\",\"112 min\",\"26 min\",\"102 min\",\"93 min\",\"111 min\",\"93 min\",\"91 min\",\"118 min\",\"63 min\",\"74 min\",\"136 min\",\"90 min\",\"132 min\",\"101 min\",\"59 min\",\"84 min\",\"91 min\",\"93 min\",\"91 min\",\"84 min\",\"101 min\",\"110 min\",\"82 min\",\"100 min\",\"52 min\",\"51 min\",\"127 min\",\"86 min\",\"107 min\",\"22 min\",\"22 min\",\"22 min\",\"44 min\",\"91 min\",\"99 min\",\"105 min\",\"105 min\",\"88 min\",\"128 min\",\"24 min\",\"113 min\",\"52 min\",\"50 min\",\"49 min\",\"92 min\",\"110 min\",\"106 min\",\"120 min\",\"83 min\",\"123 min\",\"56 min\",\"141 min\",\"97 min\",\"118 min\",\"95 min\",\"127 min\",\"118 min\",\"74 min\",\"91 min\",\"137 min\",\"86 min\",\"106 min\",\"125 min\",\"114 min\",\"143 min\",\"121 min\",\"119 min\",\"108 min\",\"150 min\",\"88 min\",\"105 min\",\"119 min\",\"97 min\",\"96 min\",\"91 min\",\"49 min\",\"95 min\",\"98 min\",\"96 min\",\"83 min\",\"96 min\",\"90 min\",\"97 min\",\"99 min\",\"94 min\",\"90 min\",\"88 min\",\"105 min\",\"118 min\",\"86 min\",\"127 min\",\"88 min\",\"125 min\",\"116 min\",\"102 min\",\"65 min\",\"88 min\",\"106 min\",\"117 min\",\"91 min\",\"93 min\",\"136 min\",\"116 min\",\"121 min\",\"89 min\",\"104 min\",\"65 min\",\"91 min\",\"99 min\",\"91 min\",\"117 min\",\"135 min\",\"135 min\",\"91 min\",\"95 min\",\"75 min\",\"95 min\",\"82 min\",\"124 min\",\"106 min\",\"86 min\",\"115 min\",\"99 min\",\"101 min\",\"142 min\",\"102 min\",\"122 min\",\"95 min\",\"120 min\",\"96 min\",\"92 min\",\"110 min\",\"133 min\",\"143 min\",\"111 min\",\"144 min\",\"121 min\",\"99 min\",\"93 min\",\"100 min\",\"102 min\",\"123 min\",\"127 min\",\"116 min\",\"119 min\",\"105 min\",\"134 min\",\"90 min\",\"93 min\",\"93 min\",\"108 min\",\"115 min\",\"119 min\",\"61 min\",\"109 min\",\"97 min\",\"154 min\",\"120 min\",\"148 min\",\"121 min\",\"95 min\",\"102 min\",\"87 min\",\"114 min\",\"48 min\",\"124 min\",\"101 min\",\"28 min\",\"34 min\",\"61 min\",\"56 min\",\"81 min\",\"68 min\",\"58 min\",\"100 min\",\"50 min\",\"49 min\",\"71 min\",\"29 min\",\"108 min\",\"125 min\",\"72 min\",\"100 min\",\"30 min\",\"30 min\",\"146 min\",\"127 min\",\"46 min\",\"57 min\",\"87 min\",\"90 min\",\"86 min\",\"122 min\",\"97 min\",\"312 min\",\"109 min\",\"122 min\",\"116 min\",\"73 min\",\"96 min\",\"91 min\",\"110 min\",\"115 min\",\"150 min\",\"90 min\",\"89 min\",\"93 min\",\"105 min\",\"105 min\",\"124 min\",\"105 min\",\"44 min\",\"91 min\",\"95 min\",\"78 min\",\"22 min\",\"95 min\",\"82 min\",\"89 min\",\"90 min\",\"94 min\",\"85 min\",\"29 min\",\"96 min\",\"101 min\",\"137 min\",\"27 min\",\"112 min\",\"112 min\",\"107 min\",\"153 min\",\"123 min\",\"90 min\",\"84 min\",\"78 min\",\"79 min\",\"73 min\",\"83 min\",\"83 min\",\"87 min\",\"145 min\",\"135 min\",\"109 min\",\"35 min\",\"86 min\",\"68 min\",\"107 min\",\"110 min\",\"86 min\",\"85 min\",\"75 min\",\"90 min\",\"105 min\",\"124 min\",\"110 min\",\"96 min\",\"110 min\",\"58 min\",\"105 min\",\"59 min\",\"28 min\",\"98 min\",\"111 min\",\"116 min\",\"106 min\",\"63 min\",\"109 min\",\"88 min\",\"155 min\",\"119 min\",\"122 min\",\"87 min\",\"73 min\",\"98 min\",\"130 min\",\"99 min\",\"105 min\",\"110 min\",\"81 min\",\"115 min\",\"113 min\",\"146 min\",\"118 min\",\"122 min\",\"109 min\",\"68 min\",\"117 min\",\"23 min\",\"95 min\",\"124 min\",\"90 min\",\"96 min\",\"96 min\",\"123 min\",\"85 min\",\"93 min\",\"30 min\",\"82 min\",\"95 min\",\"127 min\",\"120 min\",\"114 min\",\"119 min\",\"101 min\",\"96 min\",\"120 min\",\"139 min\",\"95 min\",\"44 min\",\"104 min\",\"110 min\",\"91 min\",\"91 min\",\"114 min\",\"91 min\",\"64 min\",\"89 min\",\"95 min\",\"86 min\",\"94 min\",\"133 min\",\"102 min\",\"122 min\",\"86 min\",\"111 min\",\"132 min\",\"111 min\",\"136 min\",\"121 min\",\"76 min\",\"92 min\",\"119 min\",\"45 min\",\"75 min\",\"71 min\",\"81 min\",\"115 min\",\"128 min\",\"92 min\",\"95 min\",\"114 min\",\"99 min\",\"132 min\",\"106 min\",\"122 min\",\"79 min\",\"78 min\",\"111 min\",\"112 min\",\"107 min\",\"102 min\",\"81 min\",\"129 min\",\"90 min\",\"86 min\",\"116 min\",\"59 min\",\"95 min\",\"122 min\",\"98 min\",\"103 min\",\"117 min\",\"95 min\",\"146 min\",\"136 min\",\"91 min\",\"123 min\",\"144 min\",\"103 min\",\"11 min\",\"22 min\",\"126 min\",\"121 min\",\"91 min\",\"158 min\",\"157 min\",\"124 min\",\"106 min\",\"92 min\",\"80 min\",\"94 min\",\"126 min\",\"129 min\",\"133 min\",\"109 min\",\"143 min\",\"140 min\",\"150 min\",\"128 min\",\"120 min\",\"154 min\",\"45 min\",\"132 min\",\"126 min\",\"95 min\",\"91 min\",\"135 min\",\"139 min\",\"131 min\",\"118 min\",\"129 min\",\"131 min\",\"146 min\",\"123 min\",\"141 min\",\"93 min\",\"91 min\",\"58 min\",\"91 min\",\"112 min\",\"119 min\",\"106 min\",\"131 min\",\"95 min\",\"104 min\",\"126 min\",\"118 min\",\"116 min\",\"122 min\",\"105 min\",\"90 min\",\"87 min\",\"102 min\",\"89 min\",\"94 min\",\"100 min\",\"126 min\",\"89 min\",\"90 min\",\"87 min\",\"97 min\",\"115 min\",\"93 min\",\"138 min\",\"74 min\",\"102 min\",\"103 min\",\"119 min\",\"104 min\",\"161 min\",\"51 min\",\"50 min\",\"86 min\",\"140 min\",\"122 min\",\"23 min\",\"95 min\",\"205 min\",\"123 min\",\"190 min\",\"121 min\",\"131 min\",\"80 min\",\"63 min\",\"150 min\",\"159 min\",\"131 min\",\"130 min\",\"99 min\",\"86 min\",\"106 min\",\"57 min\",\"97 min\",\"118 min\",\"98 min\",\"144 min\",\"110 min\",\"96 min\",\"57 min\",\"98 min\",\"119 min\",\"92 min\",\"94 min\",\"151 min\",\"74 min\",\"89 min\",\"124 min\",\"25 min\",\"84 min\",\"121 min\",\"85 min\",\"25 min\",\"121 min\",\"88 min\",\"111 min\",\"81 min\",\"64 min\",\"55 min\",\"137 min\",\"56 min\",\"58 min\",\"80 min\",\"94 min\",\"94 min\",\"72 min\",\"60 min\",\"140 min\",\"91 min\",\"97 min\",\"146 min\",\"118 min\",\"133 min\",\"106 min\",\"128 min\",\"137 min\",\"145 min\",\"141 min\",\"106 min\",\"61 min\",\"135 min\",\"137 min\",\"129 min\",\"99 min\",\"155 min\",\"142 min\",\"214 min\",\"137 min\",\"128 min\",\"89 min\",\"67 min\",\"151 min\",\"121 min\",\"101 min\",\"145 min\",\"147 min\",\"90 min\",\"129 min\",\"129 min\",\"136 min\",\"117 min\",\"74 min\",\"150 min\",\"134 min\",\"100 min\",\"44 min\",\"44 min\",\"111 min\",\"147 min\",\"115 min\",\"121 min\",\"103 min\",\"73 min\",\"129 min\",\"102 min\",\"122 min\",\"155 min\",\"139 min\",\"131 min\",\"127 min\",\"156 min\",\"91 min\",\"132 min\",\"130 min\",\"137 min\",\"132 min\",\"156 min\",\"132 min\",\"119 min\",\"140 min\",\"101 min\",\"126 min\",\"107 min\",\"112 min\",\"111 min\",\"126 min\",\"130 min\",\"126 min\",\"24 min\",\"127 min\",\"108 min\",\"163 min\",\"117 min\",\"95 min\",\"103 min\",\"110 min\",\"111 min\",\"91 min\",\"101 min\",\"124 min\",\"63 min\",\"102 min\",\"103 min\",\"112 min\",\"103 min\",\"92 min\",\"93 min\",\"112 min\",\"113 min\",\"92 min\",\"153 min\",\"111 min\",\"141 min\",\"128 min\",\"52 min\",\"117 min\",\"100 min\",\"112 min\",\"110 min\",\"98 min\",\"107 min\",\"109 min\",\"100 min\",\"114 min\",\"98 min\",\"100 min\",\"100 min\",\"123 min\",\"86 min\",\"77 min\",\"112 min\",\"106 min\",\"106 min\",\"102 min\",\"86 min\",\"146 min\",\"122 min\",\"126 min\",\"116 min\",\"135 min\",\"125 min\",\"96 min\",\"130 min\",\"135 min\",\"88 min\",\"96 min\",\"100 min\",\"122 min\",\"110 min\",\"104 min\",\"96 min\",\"109 min\",\"95 min\",\"110 min\",\"110 min\",\"79 min\",\"101 min\",\"112 min\",\"94 min\",\"94 min\",\"86 min\",\"84 min\",\"95 min\",\"93 min\",\"113 min\",\"111 min\",\"68 min\",\"135 min\",\"95 min\",\"93 min\",\"101 min\",\"98 min\",\"90 min\",\"112 min\",\"141 min\",\"120 min\",\"140 min\",\"87 min\",\"99 min\",\"86 min\",\"104 min\",\"100 min\",\"50 min\",\"124 min\",\"57 min\",\"31 min\",\"90 min\",\"96 min\",\"196 min\",\"93 min\",\"110 min\",\"162 min\",\"139 min\",\"130 min\",\"145 min\",\"88 min\",\"91 min\",\"91 min\",\"102 min\",\"95 min\",\"33 min\",\"119 min\",\"114 min\",\"100 min\",\"54 min\",\"150 min\",\"108 min\",\"90 min\",\"101 min\",\"104 min\",\"88 min\",\"93 min\",\"79 min\",\"92 min\",\"90 min\",\"86 min\",\"90 min\",\"103 min\",\"86 min\",\"108 min\",\"97 min\",\"92 min\",\"101 min\",\"83 min\",\"85 min\",\"85 min\",\"106 min\",\"86 min\",\"131 min\",\"105 min\",\"134 min\",\"85 min\",\"203 min\",\"120 min\",\"91 min\",\"124 min\",\"95 min\",\"12 min\",\"104 min\",\"92 min\",\"143 min\",\"127 min\",\"100 min\",\"74 min\",\"104 min\",\"148 min\",\"127 min\",\"96 min\",\"82 min\",\"158 min\",\"124 min\",\"163 min\",\"74 min\",\"121 min\",\"154 min\",\"127 min\",\"128 min\",\"98 min\",\"124 min\",\"109 min\",\"168 min\",\"89 min\",\"162 min\",\"159 min\",\"137 min\",\"133 min\",\"125 min\",\"127 min\",\"131 min\",\"90 min\",\"89 min\",\"88 min\",\"125 min\",\"88 min\",\"94 min\",\"83 min\",\"89 min\",\"118 min\",\"109 min\",\"87 min\",\"105 min\",\"79 min\",\"133 min\",\"147 min\",\"92 min\",\"103 min\",\"119 min\",\"80 min\",\"110 min\",\"128 min\",\"88 min\",\"86 min\",\"70 min\",\"66 min\",\"72 min\",\"122 min\",\"117 min\",\"98 min\",\"126 min\",\"115 min\",\"86 min\",\"108 min\",\"94 min\",\"151 min\",\"88 min\",\"97 min\",\"92 min\",\"102 min\",\"93 min\",\"126 min\",\"82 min\",\"86 min\",\"105 min\",\"101 min\",\"100 min\",\"57 min\",\"95 min\",\"101 min\",\"128 min\",\"99 min\",\"113 min\",\"108 min\",\"105 min\",\"109 min\",\"93 min\",\"82 min\",\"95 min\",\"84 min\",\"106 min\",\"122 min\",\"108 min\",\"94 min\",\"103 min\",\"106 min\",\"124 min\",\"92 min\",\"88 min\",\"68 min\",\"72 min\",\"93 min\",\"102 min\",\"69 min\",\"125 min\",\"99 min\",\"89 min\",\"95 min\",\"92 min\",\"95 min\",\"133 min\",\"112 min\",\"85 min\",\"85 min\",\"84 min\",\"118 min\",\"99 min\",\"109 min\",\"103 min\",\"94 min\",\"105 min\",\"101 min\",\"103 min\",\"86 min\",\"91 min\",\"95 min\",\"99 min\",\"90 min\",\"88 min\",\"85 min\",\"98 min\",\"94 min\",\"71 min\",\"95 min\",\"124 min\",\"108 min\",\"87 min\",\"95 min\",\"108 min\",\"110 min\",\"113 min\",\"71 min\",\"75 min\",\"75 min\",\"97 min\",\"83 min\",\"93 min\",\"66 min\",\"83 min\",\"110 min\",\"88 min\",\"112 min\",\"77 min\",\"91 min\",\"58 min\",\"69 min\",\"61 min\",\"100 min\",\"88 min\",\"128 min\",\"122 min\",\"60 min\",\"126 min\",\"166 min\",\"113 min\",\"88 min\",\"151 min\",\"107 min\",\"42 min\",\"94 min\",\"130 min\",\"87 min\",\"116 min\",\"77 min\",\"117 min\",\"84 min\",\"92 min\",\"130 min\",\"103 min\",\"89 min\",\"109 min\",\"104 min\",\"114 min\",\"133 min\",\"101 min\",\"137 min\",\"88 min\",\"88 min\",\"115 min\",\"120 min\",\"104 min\",\"114 min\",\"128 min\",\"125 min\",\"38 min\",\"102 min\",\"96 min\",\"94 min\",\"69 min\",\"92 min\",\"90 min\",\"101 min\",\"77 min\",\"89 min\",\"90 min\",\"98 min\",\"88 min\",\"49 min\",\"152 min\",\"66 min\",\"103 min\",\"95 min\",\"79 min\",\"89 min\",\"75 min\",\"78 min\",\"89 min\",\"74 min\",\"119 min\",\"70 min\",\"104 min\",\"48 min\",\"121 min\",\"106 min\",\"74 min\",\"106 min\",\"113 min\",\"119 min\",\"82 min\",\"76 min\",\"95 min\",\"100 min\",\"110 min\",\"66 min\",\"99 min\",\"131 min\",\"86 min\",\"118 min\",\"126 min\",\"130 min\",\"99 min\",\"89 min\",\"136 min\",\"131 min\",\"165 min\",\"110 min\",\"85 min\",\"92 min\",\"89 min\",\"117 min\",\"114 min\",\"63 min\",\"94 min\",\"74 min\",\"103 min\",\"58 min\",\"94 min\",\"92 min\",\"104 min\",\"117 min\",\"89 min\",\"87 min\",\"129 min\",\"160 min\",\"66 min\",\"150 min\",\"158 min\",\"118 min\",\"100 min\",\"90 min\",\"64 min\",\"92 min\",\"63 min\",\"105 min\",\"76 min\",\"67 min\",\"99 min\",\"69 min\",\"91 min\",\"92 min\",\"87 min\",\"100 min\",\"113 min\",\"40 min\",\"105 min\",\"94 min\",\"109 min\",\"116 min\",\"99 min\",\"89 min\",\"92 min\",\"82 min\",\"70 min\",\"131 min\",\"105 min\",\"130 min\",\"69 min\",\"98 min\",\"90 min\",\"105 min\",\"106 min\",\"126 min\",\"84 min\",\"65 min\",\"121 min\",\"163 min\",\"92 min\",\"124 min\",\"107 min\",\"19 min\",\"25 min\",\"22 min\",\"40 min\",\"22 min\",\"24 min\",\"103 min\",\"45 min\",\"101 min\",\"60 min\",\"90 min\",\"96 min\",\"98 min\",\"94 min\",\"74 min\",\"112 min\",\"115 min\",\"92 min\",\"93 min\",\"95 min\",\"105 min\",\"117 min\",\"66 min\",\"110 min\",\"97 min\",\"78 min\",\"102 min\",\"62 min\",\"90 min\",\"97 min\",\"105 min\",\"79 min\",\"90 min\",\"129 min\",\"92 min\",\"109 min\",\"77 min\",\"107 min\",\"69 min\",\"87 min\",\"91 min\",\"99 min\",\"105 min\",\"99 min\",\"108 min\",\"66 min\",\"94 min\",\"93 min\",\"75 min\",\"96 min\",\"95 min\",\"32 min\",\"70 min\",\"94 min\",\"117 min\",\"78 min\",\"100 min\",\"91 min\",\"115 min\",\"122 min\",\"107 min\",\"109 min\",\"104 min\",\"95 min\",\"110 min\",\"100 min\",\"93 min\",\"104 min\",\"134 min\",\"75 min\",\"100 min\",\"105 min\",\"104 min\",\"101 min\",\"96 min\",\"80 min\",\"75 min\",\"75 min\",\"79 min\",\"78 min\",\"75 min\",\"78 min\",\"166 min\",\"90 min\",\"132 min\",\"91 min\",\"117 min\",\"103 min\",\"100 min\",\"176 min\",\"91 min\",\"49 min\",\"97 min\",\"116 min\",\"90 min\",\"60 min\",\"149 min\",\"86 min\",\"171 min\",\"103 min\",\"116 min\",\"169 min\",\"134 min\",\"159 min\",\"130 min\",\"103 min\",\"173 min\",\"195 min\",\"111 min\",\"99 min\",\"110 min\",\"32 min\",\"94 min\",\"87 min\",\"103 min\",\"78 min\",\"108 min\",\"62 min\",\"97 min\",\"102 min\",\"95 min\",\"106 min\",\"115 min\",\"76 min\",\"80 min\",\"102 min\",\"99 min\",\"82 min\",\"74 min\",\"100 min\",\"150 min\",\"90 min\",\"75 min\",\"103 min\",\"87 min\",\"88 min\",\"63 min\",\"127 min\",\"129 min\",\"120 min\",\"138 min\",\"129 min\",\"137 min\",\"91 min\",\"103 min\",\"145 min\",\"23 min\",\"25 min\",\"92 min\",\"83 min\",\"81 min\",\"115 min\",\"150 min\",\"106 min\",\"115 min\",\"140 min\",\"79 min\",\"104 min\",\"52 min\",\"90 min\",\"83 min\",\"97 min\",\"85 min\",\"69 min\",\"94 min\",\"121 min\",\"40 min\",\"89 min\",\"94 min\",\"90 min\",\"86 min\",\"100 min\",\"84 min\",\"58 min\",\"95 min\",\"92 min\",\"78 min\",\"51 min\",\"69 min\",\"104 min\",\"101 min\",\"59 min\",\"91 min\",\"153 min\",\"61 min\",\"149 min\",\"94 min\",\"79 min\",\"137 min\",\"53 min\",\"166 min\",\"162 min\",\"92 min\",\"93 min\",\"155 min\",\"158 min\",\"138 min\",\"151 min\",\"96 min\",\"106 min\",\"141 min\",\"127 min\",\"130 min\",\"140 min\",\"145 min\",\"132 min\",\"41 min\",\"110 min\",\"170 min\",\"157 min\",\"165 min\",\"114 min\",\"143 min\",\"106 min\",\"73 min\",\"71 min\",\"161 min\",\"187 min\",\"127 min\",\"165 min\",\"117 min\",\"134 min\",\"116 min\",\"94 min\",\"168 min\",\"109 min\",\"148 min\",\"135 min\",\"127 min\",\"115 min\",\"150 min\",\"87 min\",\"127 min\",\"185 min\",\"75 min\",\"177 min\",\"81 min\",\"137 min\",\"118 min\",\"124 min\",\"123 min\",\"90 min\",\"91 min\",\"87 min\",\"89 min\",\"81 min\",\"47 min\",\"46 min\",\"173 min\",\"108 min\",\"125 min\",\"124 min\",\"137 min\",\"171 min\",\"160 min\",\"87 min\",\"110 min\",\"69 min\",\"67 min\",\"92 min\",\"96 min\",\"92 min\",\"85 min\",\"105 min\",\"127 min\",\"109 min\",\"150 min\",\"100 min\",\"73 min\",\"93 min\",\"91 min\",\"87 min\",\"134 min\",\"118 min\",\"85 min\",\"60 min\",\"96 min\",\"133 min\",\"118 min\",\"150 min\",\"132 min\",\"121 min\",\"127 min\",\"152 min\",\"126 min\",\"104 min\",\"162 min\",\"120 min\",\"65 min\",\"133 min\",\"110 min\",\"96 min\",\"95 min\",\"24 min\",\"97 min\",\"94 min\",\"65 min\",\"84 min\",\"91 min\",\"97 min\",\"102 min\",\"93 min\",\"105 min\",\"53 min\",\"116 min\",\"102 min\",\"81 min\",\"93 min\",\"97 min\",\"94 min\",\"90 min\",\"110 min\",\"88 min\",\"80 min\",\"86 min\",\"143 min\",\"84 min\",\"42 min\",\"117 min\",\"96 min\",\"78 min\",\"96 min\",\"69 min\",\"74 min\",\"108 min\",\"91 min\",\"68 min\",\"92 min\",\"102 min\",\"61 min\",\"57 min\",\"85 min\",\"49 min\",\"87 min\",\"85 min\",\"59 min\",\"97 min\",\"104 min\",\"77 min\",\"63 min\",\"69 min\",\"86 min\",\"62 min\",\"108 min\",\"95 min\",\"99 min\",\"62 min\",\"106 min\",\"117 min\",\"60 min\",\"94 min\",\"147 min\",\"94 min\",\"89 min\",\"89 min\",\"89 min\",\"111 min\",\"118 min\",\"153 min\",\"87 min\",\"122 min\",\"97 min\",\"121 min\",\"124 min\",\"68 min\",\"94 min\",\"100 min\",\"71 min\",\"76 min\",\"60 min\",\"89 min\",\"92 min\",\"63 min\",\"135 min\",\"112 min\",\"88 min\",\"97 min\",\"83 min\",\"89 min\",\"86 min\",\"52 min\",\"126 min\",\"133 min\",\"90 min\",\"91 min\",\"104 min\",\"105 min\",\"123 min\",\"89 min\",\"87 min\",\"91 min\",\"102 min\",\"106 min\",\"102 min\",\"91 min\",\"87 min\",\"103 min\",\"193 min\",\"176 min\",\"124 min\",\"135 min\",\"106 min\",\"133 min\",\"107 min\",\"78 min\",\"192 min\",\"55 min\",\"132 min\",\"148 min\",\"46 min\",\"46 min\",\"46 min\",\"74 min\",\"46 min\",\"50 min\",\"114 min\",\"117 min\",\"108 min\",\"97 min\",\"122 min\",\"115 min\",\"104 min\",\"140 min\",\"101 min\",\"99 min\",\"102 min\",\"94 min\",\"92 min\",\"125 min\",\"82 min\",\"151 min\",\"85 min\",\"86 min\",\"93 min\",\"49 min\",\"82 min\",\"100 min\",\"55 min\",\"53 min\",\"87 min\",\"102 min\",\"112 min\",\"105 min\",\"106 min\",\"89 min\",\"91 min\",\"61 min\",\"94 min\",\"93 min\",\"80 min\",\"118 min\",\"141 min\",\"94 min\",\"84 min\",\"103 min\",\"85 min\",\"69 min\",\"100 min\",\"85 min\",\"97 min\",\"129 min\",\"143 min\",\"90 min\",\"92 min\",\"81 min\",\"105 min\",\"91 min\",\"111 min\",\"103 min\",\"118 min\",\"148 min\",\"88 min\",\"75 min\",\"89 min\",\"128 min\",\"86 min\",\"83 min\",\"109 min\",\"111 min\",\"40 min\",\"70 min\",\"108 min\",\"106 min\",\"106 min\",\"81 min\",\"94 min\",\"102 min\",\"102 min\",\"89 min\",\"162 min\",\"147 min\",\"224 min\",\"137 min\",\"109 min\",\"163 min\",\"162 min\",\"104 min\",\"91 min\",\"27 min\",\"67 min\",\"142 min\",\"78 min\",\"26 min\",\"123 min\",\"113 min\",\"92 min\",\"46 min\",\"124 min\",\"81 min\",\"97 min\",\"81 min\",\"119 min\",\"149 min\",\"106 min\",\"140 min\",\"121 min\",\"87 min\",\"99 min\",\"96 min\",\"128 min\",\"76 min\",\"94 min\",\"114 min\",\"101 min\",\"93 min\",\"109 min\",\"51 min\",\"61 min\",\"73 min\",\"113 min\",\"125 min\",\"92 min\",\"94 min\",\"65 min\",\"135 min\",\"86 min\",\"80 min\",\"142 min\",\"131 min\",\"66 min\",\"88 min\",\"99 min\",\"96 min\",\"126 min\",\"65 min\",\"54 min\",\"76 min\",\"100 min\",\"81 min\",\"123 min\",\"144 min\",\"153 min\",\"105 min\",\"103 min\",\"141 min\",\"115 min\",\"120 min\",\"104 min\",\"22 min\",\"97 min\",\"54 min\",\"120 min\",\"132 min\",\"135 min\",\"87 min\",\"82 min\",\"158 min\",\"107 min\",\"122 min\",\"62 min\",\"95 min\",\"98 min\",\"113 min\",\"94 min\",\"120 min\",\"92 min\",\"132 min\",\"84 min\",\"76 min\",\"75 min\",\"93 min\",\"98 min\",\"91 min\",\"48 min\",\"168 min\",\"68 min\",\"97 min\",\"115 min\",\"148 min\",\"149 min\",\"113 min\",\"137 min\",\"140 min\",\"144 min\",\"103 min\",\"90 min\",\"95 min\",\"82 min\",\"94 min\",\"79 min\",\"66 min\",\"135 min\",\"96 min\",\"144 min\",\"108 min\",\"127 min\",\"127 min\",\"90 min\",\"126 min\",\"121 min\",\"119 min\",\"109 min\",\"132 min\",\"118 min\",\"84 min\",\"93 min\",\"96 min\",\"145 min\",\"158 min\",\"132 min\",\"111 min\",\"133 min\",\"143 min\",\"117 min\",\"84 min\",\"107 min\",\"83 min\",\"102 min\",\"52 min\",\"110 min\",\"85 min\",\"113 min\",\"88 min\",\"89 min\",\"59 min\",\"80 min\",\"107 min\",\"106 min\",\"90 min\",\"66 min\",\"92 min\",\"101 min\",\"135 min\",\"107 min\",\"74 min\",\"74 min\",\"74 min\",\"83 min\",\"79 min\",\"72 min\",\"80 min\",\"75 min\",\"75 min\",\"72 min\",\"80 min\",\"93 min\",\"79 min\",\"86 min\",\"107 min\",\"47 min\",\"107 min\",\"119 min\",\"108 min\",\"85 min\",\"90 min\",\"72 min\",\"23 min\",\"68 min\",\"85 min\",\"84 min\",\"118 min\",\"116 min\",\"89 min\",\"81 min\",\"73 min\",\"140 min\",\"130 min\",\"103 min\",\"40 min\",\"103 min\",\"85 min\",\"106 min\",\"104 min\",\"82 min\",\"94 min\",\"81 min\",\"91 min\",\"112 min\",\"102 min\",\"101 min\",\"119 min\",\"62 min\",\"64 min\",\"137 min\",\"108 min\",\"132 min\",\"87 min\",\"92 min\",\"108 min\",\"78 min\",\"40 min\",\"71 min\",\"89 min\",\"99 min\",\"110 min\",\"60 min\",\"90 min\",\"78 min\",\"95 min\",\"58 min\",\"62 min\",\"65 min\",\"61 min\",\"65 min\",\"58 min\",\"60 min\",\"135 min\",\"98 min\",\"96 min\",\"79 min\",\"113 min\",\"90 min\",\"114 min\",\"79 min\",\"98 min\",\"70 min\",\"116 min\",\"139 min\",\"101 min\",\"148 min\",\"54 min\",\"92 min\",\"107 min\",\"90 min\",\"135 min\",\"52 min\",\"151 min\",\"90 min\",\"88 min\",\"99 min\",\"99 min\",\"132 min\",\"95 min\",\"155 min\",\"162 min\",\"163 min\",\"102 min\",\"96 min\",\"85 min\",\"97 min\",\"95 min\",\"83 min\",\"89 min\",\"28 min\",\"103 min\",\"84 min\",\"160 min\",\"113 min\",\"99 min\",\"86 min\",\"83 min\",\"113 min\",\"86 min\",\"78 min\",\"96 min\",\"95 min\",\"57 min\",\"92 min\",\"81 min\",\"98 min\",\"95 min\",\"105 min\",\"116 min\",\"100 min\",\"95 min\",\"70 min\",\"51 min\",\"94 min\",\"83 min\",\"92 min\",\"88 min\",\"104 min\",\"104 min\",\"104 min\",\"124 min\",\"113 min\",\"124 min\",\"96 min\",\"101 min\",\"63 min\",\"56 min\",\"92 min\",\"91 min\",\"94 min\",\"94 min\",\"82 min\",\"100 min\",\"90 min\",\"71 min\",\"97 min\",\"89 min\",\"83 min\",\"98 min\",\"92 min\",\"88 min\",\"62 min\",\"165 min\",\"166 min\",\"166 min\",\"159 min\",\"160 min\",\"159 min\",\"93 min\",\"95 min\",\"22 min\",\"22 min\",\"105 min\",\"101 min\",\"124 min\",\"100 min\",\"54 min\",\"121 min\",\"103 min\",\"129 min\",\"89 min\",\"92 min\",\"111 min\",\"92 min\",\"91 min\",\"172 min\",\"45 min\",\"95 min\",\"80 min\",\"67 min\",\"84 min\",\"97 min\",\"86 min\",\"59 min\",\"58 min\",\"47 min\",\"114 min\",\"103 min\",\"93 min\",\"84 min\",\"67 min\",\"91 min\",\"110 min\",\"110 min\",\"84 min\",\"63 min\",\"94 min\",\"116 min\",\"104 min\",\"143 min\",\"116 min\",\"14 min\",\"89 min\",\"108 min\",\"59 min\",\"99 min\",\"74 min\",\"103 min\",\"105 min\",\"84 min\",\"109 min\",\"96 min\",\"78 min\",\"83 min\",\"89 min\",\"97 min\",\"95 min\",\"106 min\",\"116 min\",\"91 min\",\"90 min\",\"86 min\",\"97 min\",\"170 min\",\"153 min\",\"104 min\",\"162 min\",\"163 min\",\"106 min\",\"108 min\",\"130 min\",\"133 min\",\"148 min\",\"105 min\",\"90 min\",\"79 min\",\"121 min\",\"66 min\",\"102 min\",\"108 min\",\"139 min\",\"91 min\",\"90 min\",\"81 min\",\"96 min\",\"72 min\",\"89 min\",\"92 min\",\"81 min\",\"161 min\",\"92 min\",\"24 min\",\"66 min\",\"100 min\",\"122 min\",\"91 min\",\"81 min\",\"92 min\",\"77 min\",\"104 min\",\"73 min\",\"102 min\",\"82 min\",\"47 min\",\"98 min\",\"102 min\",\"112 min\",\"85 min\",\"108 min\",\"87 min\",\"84 min\",\"107 min\",\"117 min\",\"89 min\",\"119 min\",\"88 min\",\"126 min\",\"130 min\",\"102 min\",\"154 min\",\"44 min\",\"104 min\",\"76 min\",\"96 min\",\"63 min\",\"108 min\",\"105 min\",\"47 min\",\"44 min\",\"109 min\",\"89 min\",\"92 min\",\"122 min\",\"19 min\",\"154 min\",\"152 min\",\"161 min\",\"123 min\",\"44 min\",\"106 min\",\"80 min\",\"71 min\",\"87 min\",\"153 min\",\"98 min\",\"79 min\",\"143 min\",\"123 min\",\"97 min\",\"80 min\",\"73 min\",\"90 min\",\"106 min\",\"101 min\",\"119 min\",\"140 min\",\"59 min\",\"164 min\",\"92 min\",\"151 min\",\"84 min\",\"51 min\",\"142 min\",\"66 min\",\"110 min\",\"99 min\",\"86 min\",\"101 min\",\"88 min\",\"86 min\",\"151 min\",\"116 min\",\"128 min\",\"128 min\",\"86 min\",\"88 min\",\"80 min\",\"61 min\",\"92 min\",\"82 min\",\"81 min\",\"72 min\",\"98 min\",\"64 min\",\"95 min\",\"96 min\",\"111 min\",\"127 min\",\"117 min\",\"123 min\",\"139 min\",\"95 min\",\"148 min\",\"121 min\",\"79 min\",\"127 min\",\"92 min\",\"162 min\",\"163 min\",\"83 min\",\"112 min\",\"117 min\",\"90 min\",\"95 min\",\"99 min\",\"125 min\",\"44 min\",\"93 min\",\"89 min\",\"92 min\",\"120 min\",\"114 min\",\"109 min\",\"83 min\",\"107 min\",\"129 min\",\"135 min\",\"149 min\",\"136 min\",\"138 min\",\"177 min\",\"61 min\",\"126 min\",\"137 min\",\"114 min\",\"104 min\",\"96 min\",\"147 min\",\"107 min\",\"91 min\",\"81 min\",\"53 min\",\"95 min\",\"95 min\",\"149 min\",\"106 min\",\"108 min\",\"66 min\",\"54 min\",\"55 min\",\"55 min\",\"55 min\",\"55 min\",\"113 min\",\"83 min\",\"53 min\",\"102 min\",\"95 min\",\"50 min\",\"97 min\",\"92 min\",\"97 min\",\"105 min\",\"107 min\",\"99 min\",\"101 min\",\"81 min\",\"92 min\",\"131 min\",\"111 min\",\"104 min\",\"99 min\",\"101 min\",\"71 min\",\"96 min\",\"85 min\",\"106 min\",\"119 min\",\"84 min\",\"85 min\",\"110 min\",\"89 min\",\"76 min\",\"74 min\",\"103 min\",\"101 min\",\"98 min\",\"74 min\",\"156 min\",\"88 min\",\"70 min\",\"88 min\",\"93 min\",\"143 min\",\"83 min\",\"90 min\",\"107 min\",\"93 min\",\"99 min\",\"134 min\",\"77 min\",\"78 min\",\"101 min\",\"53 min\",\"81 min\",\"106 min\",\"84 min\",\"51 min\",\"90 min\",\"77 min\",\"95 min\",\"63 min\",\"58 min\",\"59 min\",\"52 min\",\"32 min\",\"18 min\",\"102 min\",\"40 min\",\"40 min\",\"42 min\",\"76 min\",\"61 min\",\"82 min\",\"45 min\",\"92 min\",\"118 min\",\"91 min\",\"63 min\",\"110 min\",\"91 min\",\"93 min\",\"93 min\",\"108 min\",\"72 min\",\"114 min\",\"91 min\",\"97 min\",\"118 min\",\"92 min\",\"91 min\",\"137 min\",\"97 min\",\"101 min\",\"143 min\",\"97 min\",\"107 min\",\"168 min\",\"117 min\",\"103 min\",\"80 min\",\"87 min\",\"160 min\",\"88 min\",\"85 min\",\"104 min\",\"62 min\",\"109 min\",\"103 min\",\"99 min\",\"102 min\",\"97 min\",\"99 min\",\"101 min\",\"102 min\",\"102 min\",\"107 min\",\"99 min\",\"106 min\",\"103 min\",\"123 min\",\"98 min\",\"118 min\",\"100 min\",\"101 min\",\"103 min\",\"101 min\",\"104 min\",\"104 min\",\"100 min\",\"136 min\",\"102 min\",\"105 min\",\"24 min\",\"110 min\",\"105 min\",\"105 min\",\"102 min\",\"98 min\",\"118 min\",\"106 min\",\"106 min\",\"92 min\",\"92 min\",\"91 min\",\"83 min\",\"123 min\",\"90 min\",\"57 min\",\"103 min\",\"92 min\",\"52 min\",\"52 min\",\"87 min\",\"56 min\",\"115 min\",\"53 min\",\"94 min\",\"118 min\",\"92 min\",\"98 min\",\"125 min\",\"113 min\",\"110 min\",\"71 min\",\"108 min\",\"123 min\",\"97 min\",\"99 min\",\"97 min\",\"100 min\",\"98 min\",\"75 min\",\"54 min\",\"54 min\",\"55 min\",\"54 min\",\"55 min\",\"67 min\",\"129 min\",\"105 min\",\"78 min\",\"99 min\",\"96 min\",\"95 min\",\"87 min\",\"134 min\",\"119 min\",\"128 min\",\"128 min\",\"91 min\",\"109 min\",\"79 min\",\"88 min\",\"107 min\",\"92 min\",\"88 min\",\"71 min\",\"64 min\",\"83 min\",\"124 min\",\"123 min\",\"97 min\",\"96 min\",\"150 min\",\"91 min\",\"79 min\",\"93 min\",\"54 min\",\"73 min\",\"88 min\",\"109 min\",\"93 min\",\"78 min\",\"86 min\",\"94 min\",\"116 min\",\"154 min\",\"90 min\",\"179 min\",\"93 min\",\"97 min\",\"80 min\",\"88 min\",\"99 min\",\"104 min\",\"94 min\",\"77 min\",\"111 min\",\"108 min\",\"92 min\",\"78 min\",\"87 min\",\"99 min\",\"91 min\",\"37 min\",\"102 min\",\"67 min\",\"57 min\",\"78 min\",\"130 min\",\"80 min\",\"90 min\",\"93 min\",\"66 min\",\"93 min\",\"119 min\",\"90 min\",\"105 min\",\"83 min\",\"96 min\",\"84 min\",\"98 min\",\"91 min\",\"89 min\",\"90 min\",\"89 min\",\"123 min\",\"117 min\",\"100 min\",\"91 min\",\"87 min\",\"146 min\",\"82 min\",\"104 min\",\"85 min\",\"109 min\",\"74 min\",\"94 min\",\"84 min\",\"98 min\",\"82 min\",\"22 min\",\"141 min\",\"95 min\",\"117 min\",\"100 min\",\"75 min\",\"69 min\",\"80 min\",\"97 min\",\"92 min\",\"92 min\",\"85 min\",\"83 min\",\"118 min\",\"84 min\",\"52 min\",\"84 min\",\"146 min\",\"93 min\",\"97 min\",\"90 min\",\"75 min\",\"93 min\",\"62 min\",\"98 min\",\"92 min\",\"22 min\",\"115 min\",\"88 min\",\"87 min\",\"86 min\",\"94 min\",\"105 min\",\"88 min\",\"88 min\",\"86 min\",\"93 min\",\"98 min\",\"29 min\",\"88 min\",\"93 min\",\"81 min\",\"83 min\",\"31 min\",\"83 min\",\"73 min\",\"38 min\",\"108 min\",\"90 min\",\"97 min\",\"81 min\",\"70 min\",\"62 min\",\"104 min\",\"97 min\",\"99 min\",\"96 min\",\"84 min\",\"112 min\",\"90 min\",\"88 min\",\"56 min\",\"89 min\",\"24 min\",\"100 min\",\"116 min\",\"101 min\",\"92 min\",\"79 min\",\"67 min\",\"72 min\",\"96 min\",\"103 min\",\"92 min\",\"61 min\",\"88 min\",\"88 min\",\"113 min\",\"67 min\",\"65 min\",\"62 min\",\"107 min\",\"85 min\",\"69 min\",\"60 min\",\"77 min\",\"98 min\",\"71 min\",\"101 min\",\"64 min\",\"112 min\",\"125 min\",\"125 min\",\"59 min\",\"91 min\",\"44 min\",\"107 min\",\"101 min\",\"93 min\",\"82 min\",\"86 min\",\"81 min\",\"92 min\",\"89 min\",\"107 min\",\"94 min\",\"110 min\",\"81 min\",\"77 min\",\"64 min\",\"111 min\",\"97 min\",\"77 min\",\"94 min\",\"94 min\",\"91 min\",\"93 min\",\"95 min\",\"80 min\",\"95 min\",\"90 min\",\"101 min\",\"73 min\",\"108 min\",\"25 min\",\"86 min\",\"105 min\",\"100 min\",\"96 min\",\"97 min\",\"73 min\",\"44 min\",\"132 min\",\"96 min\",\"92 min\",\"99 min\",\"92 min\",\"99 min\",\"78 min\",\"87 min\",\"65 min\",\"65 min\",\"69 min\",\"64 min\",\"63 min\",\"63 min\",\"89 min\",\"60 min\",\"84 min\",\"93 min\",\"41 min\",\"91 min\",\"83 min\",\"25 min\",\"94 min\",\"102 min\",\"111 min\",\"88 min\",\"93 min\",\"29 min\",\"88 min\",\"103 min\",\"107 min\",\"52 min\",\"91 min\",\"180 min\",\"75 min\",\"92 min\",\"90 min\",\"114 min\",\"80 min\",\"99 min\",\"79 min\",\"66 min\",\"46 min\",\"90 min\",\"72 min\",\"71 min\",\"77 min\",\"70 min\",\"73 min\",\"107 min\",\"81 min\",\"86 min\",\"63 min\",\"44 min\",\"128 min\",\"51 min\",\"45 min\",\"46 min\",\"112 min\",\"87 min\",\"87 min\",\"106 min\",\"100 min\",\"101 min\",\"117 min\",\"114 min\",\"94 min\",\"100 min\",\"96 min\",\"58 min\",\"87 min\",\"81 min\",\"96 min\",\"52 min\",\"114 min\",\"105 min\",\"157 min\",\"84 min\",\"91 min\",\"80 min\",\"97 min\",\"105 min\",\"96 min\",\"60 min\",\"79 min\",\"93 min\",\"95 min\",\"99 min\",\"109 min\",\"96 min\",\"102 min\",\"107 min\",\"60 min\",\"86 min\",\"29 min\",\"163 min\",\"98 min\",\"101 min\",\"91 min\",\"99 min\",\"74 min\",\"66 min\",\"76 min\",\"95 min\",\"127 min\",\"86 min\",\"116 min\",\"82 min\",\"70 min\",\"102 min\",\"88 min\",\"109 min\",\"75 min\",\"23 min\",\"83 min\",\"97 min\",\"62 min\",\"84 min\",\"90 min\",\"82 min\",\"96 min\",\"65 min\",\"92 min\",\"90 min\",\"93 min\",\"91 min\",\"100 min\",\"101 min\",\"103 min\",\"74 min\",\"44 min\",\"43 min\",\"95 min\",\"94 min\",\"68 min\",\"72 min\",\"47 min\",\"52 min\",\"92 min\",\"107 min\",\"108 min\",\"74 min\",\"110 min\",\"24 min\",\"46 min\",\"24 min\",\"55 min\",\"24 min\",\"23 min\",\"24 min\",\"24 min\",\"101 min\",\"29 min\",\"60 min\",\"60 min\",\"78 min\",\"73 min\",\"72 min\",\"60 min\",\"47 min\",\"70 min\",\"77 min\",\"120 min\",\"74 min\",\"57 min\",\"72 min\",\"78 min\",\"91 min\",\"62 min\",\"85 min\",\"85 min\",\"90 min\",\"105 min\",\"59 min\",\"137 min\",\"86 min\",\"135 min\",\"99 min\",\"64 min\",\"72 min\",\"83 min\",\"82 min\",\"90 min\",\"80 min\",\"130 min\",\"62 min\",\"90 min\",\"92 min\",\"155 min\",\"78 min\",\"92 min\",\"60 min\",\"69 min\",\"103 min\",\"92 min\",\"143 min\",\"83 min\",\"78 min\",\"84 min\",\"78 min\",\"93 min\",\"84 min\",\"77 min\",\"58 min\",\"82 min\",\"83 min\",\"100 min\",\"29 min\",\"72 min\",\"26 min\",\"48 min\",\"73 min\",\"103 min\",\"81 min\",\"75 min\",\"100 min\",\"90 min\",\"68 min\",\"71 min\",\"71 min\",\"100 min\",\"94 min\",\"80 min\",\"78 min\",\"35 min\",\"72 min\",\"93 min\",\"105 min\",\"130 min\",\"100 min\",\"44 min\",\"80 min\",\"72 min\",\"75 min\",\"26 min\",\"84 min\",\"120 min\",\"76 min\",\"95 min\",\"96 min\",\"94 min\",\"94 min\",\"93 min\",\"96 min\",\"94 min\",\"94 min\",\"93 min\",\"95 min\",\"93 min\",\"75 min\",\"103 min\",\"84 min\",\"29 min\",\"104 min\",\"81 min\"],\"xaxis\":\"x\",\"yaxis\":\"y\",\"type\":\"histogram\"}],                        {\"template\":{\"data\":{\"histogram2dcontour\":[{\"type\":\"histogram2dcontour\",\"colorbar\":{\"outlinewidth\":0,\"ticks\":\"\"},\"colorscale\":[[0.0,\"#0d0887\"],[0.1111111111111111,\"#46039f\"],[0.2222222222222222,\"#7201a8\"],[0.3333333333333333,\"#9c179e\"],[0.4444444444444444,\"#bd3786\"],[0.5555555555555556,\"#d8576b\"],[0.6666666666666666,\"#ed7953\"],[0.7777777777777778,\"#fb9f3a\"],[0.8888888888888888,\"#fdca26\"],[1.0,\"#f0f921\"]]}],\"choropleth\":[{\"type\":\"choropleth\",\"colorbar\":{\"outlinewidth\":0,\"ticks\":\"\"}}],\"histogram2d\":[{\"type\":\"histogram2d\",\"colorbar\":{\"outlinewidth\":0,\"ticks\":\"\"},\"colorscale\":[[0.0,\"#0d0887\"],[0.1111111111111111,\"#46039f\"],[0.2222222222222222,\"#7201a8\"],[0.3333333333333333,\"#9c179e\"],[0.4444444444444444,\"#bd3786\"],[0.5555555555555556,\"#d8576b\"],[0.6666666666666666,\"#ed7953\"],[0.7777777777777778,\"#fb9f3a\"],[0.8888888888888888,\"#fdca26\"],[1.0,\"#f0f921\"]]}],\"heatmap\":[{\"type\":\"heatmap\",\"colorbar\":{\"outlinewidth\":0,\"ticks\":\"\"},\"colorscale\":[[0.0,\"#0d0887\"],[0.1111111111111111,\"#46039f\"],[0.2222222222222222,\"#7201a8\"],[0.3333333333333333,\"#9c179e\"],[0.4444444444444444,\"#bd3786\"],[0.5555555555555556,\"#d8576b\"],[0.6666666666666666,\"#ed7953\"],[0.7777777777777778,\"#fb9f3a\"],[0.8888888888888888,\"#fdca26\"],[1.0,\"#f0f921\"]]}],\"heatmapgl\":[{\"type\":\"heatmapgl\",\"colorbar\":{\"outlinewidth\":0,\"ticks\":\"\"},\"colorscale\":[[0.0,\"#0d0887\"],[0.1111111111111111,\"#46039f\"],[0.2222222222222222,\"#7201a8\"],[0.3333333333333333,\"#9c179e\"],[0.4444444444444444,\"#bd3786\"],[0.5555555555555556,\"#d8576b\"],[0.6666666666666666,\"#ed7953\"],[0.7777777777777778,\"#fb9f3a\"],[0.8888888888888888,\"#fdca26\"],[1.0,\"#f0f921\"]]}],\"contourcarpet\":[{\"type\":\"contourcarpet\",\"colorbar\":{\"outlinewidth\":0,\"ticks\":\"\"}}],\"contour\":[{\"type\":\"contour\",\"colorbar\":{\"outlinewidth\":0,\"ticks\":\"\"},\"colorscale\":[[0.0,\"#0d0887\"],[0.1111111111111111,\"#46039f\"],[0.2222222222222222,\"#7201a8\"],[0.3333333333333333,\"#9c179e\"],[0.4444444444444444,\"#bd3786\"],[0.5555555555555556,\"#d8576b\"],[0.6666666666666666,\"#ed7953\"],[0.7777777777777778,\"#fb9f3a\"],[0.8888888888888888,\"#fdca26\"],[1.0,\"#f0f921\"]]}],\"surface\":[{\"type\":\"surface\",\"colorbar\":{\"outlinewidth\":0,\"ticks\":\"\"},\"colorscale\":[[0.0,\"#0d0887\"],[0.1111111111111111,\"#46039f\"],[0.2222222222222222,\"#7201a8\"],[0.3333333333333333,\"#9c179e\"],[0.4444444444444444,\"#bd3786\"],[0.5555555555555556,\"#d8576b\"],[0.6666666666666666,\"#ed7953\"],[0.7777777777777778,\"#fb9f3a\"],[0.8888888888888888,\"#fdca26\"],[1.0,\"#f0f921\"]]}],\"mesh3d\":[{\"type\":\"mesh3d\",\"colorbar\":{\"outlinewidth\":0,\"ticks\":\"\"}}],\"scatter\":[{\"fillpattern\":{\"fillmode\":\"overlay\",\"size\":10,\"solidity\":0.2},\"type\":\"scatter\"}],\"parcoords\":[{\"type\":\"parcoords\",\"line\":{\"colorbar\":{\"outlinewidth\":0,\"ticks\":\"\"}}}],\"scatterpolargl\":[{\"type\":\"scatterpolargl\",\"marker\":{\"colorbar\":{\"outlinewidth\":0,\"ticks\":\"\"}}}],\"bar\":[{\"error_x\":{\"color\":\"#2a3f5f\"},\"error_y\":{\"color\":\"#2a3f5f\"},\"marker\":{\"line\":{\"color\":\"#E5ECF6\",\"width\":0.5},\"pattern\":{\"fillmode\":\"overlay\",\"size\":10,\"solidity\":0.2}},\"type\":\"bar\"}],\"scattergeo\":[{\"type\":\"scattergeo\",\"marker\":{\"colorbar\":{\"outlinewidth\":0,\"ticks\":\"\"}}}],\"scatterpolar\":[{\"type\":\"scatterpolar\",\"marker\":{\"colorbar\":{\"outlinewidth\":0,\"ticks\":\"\"}}}],\"histogram\":[{\"marker\":{\"pattern\":{\"fillmode\":\"overlay\",\"size\":10,\"solidity\":0.2}},\"type\":\"histogram\"}],\"scattergl\":[{\"type\":\"scattergl\",\"marker\":{\"colorbar\":{\"outlinewidth\":0,\"ticks\":\"\"}}}],\"scatter3d\":[{\"type\":\"scatter3d\",\"line\":{\"colorbar\":{\"outlinewidth\":0,\"ticks\":\"\"}},\"marker\":{\"colorbar\":{\"outlinewidth\":0,\"ticks\":\"\"}}}],\"scattermapbox\":[{\"type\":\"scattermapbox\",\"marker\":{\"colorbar\":{\"outlinewidth\":0,\"ticks\":\"\"}}}],\"scatterternary\":[{\"type\":\"scatterternary\",\"marker\":{\"colorbar\":{\"outlinewidth\":0,\"ticks\":\"\"}}}],\"scattercarpet\":[{\"type\":\"scattercarpet\",\"marker\":{\"colorbar\":{\"outlinewidth\":0,\"ticks\":\"\"}}}],\"carpet\":[{\"aaxis\":{\"endlinecolor\":\"#2a3f5f\",\"gridcolor\":\"white\",\"linecolor\":\"white\",\"minorgridcolor\":\"white\",\"startlinecolor\":\"#2a3f5f\"},\"baxis\":{\"endlinecolor\":\"#2a3f5f\",\"gridcolor\":\"white\",\"linecolor\":\"white\",\"minorgridcolor\":\"white\",\"startlinecolor\":\"#2a3f5f\"},\"type\":\"carpet\"}],\"table\":[{\"cells\":{\"fill\":{\"color\":\"#EBF0F8\"},\"line\":{\"color\":\"white\"}},\"header\":{\"fill\":{\"color\":\"#C8D4E3\"},\"line\":{\"color\":\"white\"}},\"type\":\"table\"}],\"barpolar\":[{\"marker\":{\"line\":{\"color\":\"#E5ECF6\",\"width\":0.5},\"pattern\":{\"fillmode\":\"overlay\",\"size\":10,\"solidity\":0.2}},\"type\":\"barpolar\"}],\"pie\":[{\"automargin\":true,\"type\":\"pie\"}]},\"layout\":{\"autotypenumbers\":\"strict\",\"colorway\":[\"#636efa\",\"#EF553B\",\"#00cc96\",\"#ab63fa\",\"#FFA15A\",\"#19d3f3\",\"#FF6692\",\"#B6E880\",\"#FF97FF\",\"#FECB52\"],\"font\":{\"color\":\"#2a3f5f\"},\"hovermode\":\"closest\",\"hoverlabel\":{\"align\":\"left\"},\"paper_bgcolor\":\"white\",\"plot_bgcolor\":\"#E5ECF6\",\"polar\":{\"bgcolor\":\"#E5ECF6\",\"angularaxis\":{\"gridcolor\":\"white\",\"linecolor\":\"white\",\"ticks\":\"\"},\"radialaxis\":{\"gridcolor\":\"white\",\"linecolor\":\"white\",\"ticks\":\"\"}},\"ternary\":{\"bgcolor\":\"#E5ECF6\",\"aaxis\":{\"gridcolor\":\"white\",\"linecolor\":\"white\",\"ticks\":\"\"},\"baxis\":{\"gridcolor\":\"white\",\"linecolor\":\"white\",\"ticks\":\"\"},\"caxis\":{\"gridcolor\":\"white\",\"linecolor\":\"white\",\"ticks\":\"\"}},\"coloraxis\":{\"colorbar\":{\"outlinewidth\":0,\"ticks\":\"\"}},\"colorscale\":{\"sequential\":[[0.0,\"#0d0887\"],[0.1111111111111111,\"#46039f\"],[0.2222222222222222,\"#7201a8\"],[0.3333333333333333,\"#9c179e\"],[0.4444444444444444,\"#bd3786\"],[0.5555555555555556,\"#d8576b\"],[0.6666666666666666,\"#ed7953\"],[0.7777777777777778,\"#fb9f3a\"],[0.8888888888888888,\"#fdca26\"],[1.0,\"#f0f921\"]],\"sequentialminus\":[[0.0,\"#0d0887\"],[0.1111111111111111,\"#46039f\"],[0.2222222222222222,\"#7201a8\"],[0.3333333333333333,\"#9c179e\"],[0.4444444444444444,\"#bd3786\"],[0.5555555555555556,\"#d8576b\"],[0.6666666666666666,\"#ed7953\"],[0.7777777777777778,\"#fb9f3a\"],[0.8888888888888888,\"#fdca26\"],[1.0,\"#f0f921\"]],\"diverging\":[[0,\"#8e0152\"],[0.1,\"#c51b7d\"],[0.2,\"#de77ae\"],[0.3,\"#f1b6da\"],[0.4,\"#fde0ef\"],[0.5,\"#f7f7f7\"],[0.6,\"#e6f5d0\"],[0.7,\"#b8e186\"],[0.8,\"#7fbc41\"],[0.9,\"#4d9221\"],[1,\"#276419\"]]},\"xaxis\":{\"gridcolor\":\"white\",\"linecolor\":\"white\",\"ticks\":\"\",\"title\":{\"standoff\":15},\"zerolinecolor\":\"white\",\"automargin\":true,\"zerolinewidth\":2},\"yaxis\":{\"gridcolor\":\"white\",\"linecolor\":\"white\",\"ticks\":\"\",\"title\":{\"standoff\":15},\"zerolinecolor\":\"white\",\"automargin\":true,\"zerolinewidth\":2},\"scene\":{\"xaxis\":{\"backgroundcolor\":\"#E5ECF6\",\"gridcolor\":\"white\",\"linecolor\":\"white\",\"showbackground\":true,\"ticks\":\"\",\"zerolinecolor\":\"white\",\"gridwidth\":2},\"yaxis\":{\"backgroundcolor\":\"#E5ECF6\",\"gridcolor\":\"white\",\"linecolor\":\"white\",\"showbackground\":true,\"ticks\":\"\",\"zerolinecolor\":\"white\",\"gridwidth\":2},\"zaxis\":{\"backgroundcolor\":\"#E5ECF6\",\"gridcolor\":\"white\",\"linecolor\":\"white\",\"showbackground\":true,\"ticks\":\"\",\"zerolinecolor\":\"white\",\"gridwidth\":2}},\"shapedefaults\":{\"line\":{\"color\":\"#2a3f5f\"}},\"annotationdefaults\":{\"arrowcolor\":\"#2a3f5f\",\"arrowhead\":0,\"arrowwidth\":1},\"geo\":{\"bgcolor\":\"white\",\"landcolor\":\"#E5ECF6\",\"subunitcolor\":\"white\",\"showland\":true,\"showlakes\":true,\"lakecolor\":\"white\"},\"title\":{\"x\":0.05},\"mapbox\":{\"style\":\"light\"}}},\"xaxis\":{\"anchor\":\"y\",\"domain\":[0.0,1.0],\"title\":{\"text\":\"duration\"}},\"yaxis\":{\"anchor\":\"x\",\"domain\":[0.0,1.0],\"title\":{\"text\":\"count\"}},\"legend\":{\"tracegroupgap\":0},\"title\":{\"text\":\"Distribution of Movie Durations on Netflix\"},\"barmode\":\"relative\"},                        {\"responsive\": true}                    ).then(function(){\n",
              "                            \n",
              "var gd = document.getElementById('44054989-65b1-4f97-9046-53cac37830ff');\n",
              "var x = new MutationObserver(function (mutations, observer) {{\n",
              "        var display = window.getComputedStyle(gd).display;\n",
              "        if (!display || display === 'none') {{\n",
              "            console.log([gd, 'removed!']);\n",
              "            Plotly.purge(gd);\n",
              "            observer.disconnect();\n",
              "        }}\n",
              "}});\n",
              "\n",
              "// Listen for the removal of the full notebook cells\n",
              "var notebookContainer = gd.closest('#notebook-container');\n",
              "if (notebookContainer) {{\n",
              "    x.observe(notebookContainer, {childList: true});\n",
              "}}\n",
              "\n",
              "// Listen for the clearing of the current output cell\n",
              "var outputEl = gd.closest('.output');\n",
              "if (outputEl) {{\n",
              "    x.observe(outputEl, {childList: true});\n",
              "}}\n",
              "\n",
              "                        })                };                            </script>        </div>\n",
              "</body>\n",
              "</html>"
            ]
          },
          "metadata": {}
        }
      ]
    },
    {
      "source": [
        "import plotly.express as px\n",
        "\n",
        "# Filter for movies only\n",
        "movies_df = df[df['type'] == 'Movie']\n",
        "\n",
        "# Extract duration as numeric values\n",
        "movies_df['duration_minutes'] = movies_df['duration'].str.extract('(\\d+)').astype(float)\n",
        "\n",
        "# Create a scatter plot\n",
        "fig = px.scatter(movies_df, x='duration_minutes', y='rating',\n",
        "                 title='Movie Duration vs. Rating')\n",
        "fig.show()"
      ],
      "cell_type": "code",
      "metadata": {
        "colab": {
          "base_uri": "https://localhost:8080/",
          "height": 701
        },
        "id": "aep-BbL99VFO",
        "outputId": "6cba28cf-df8c-4872-f081-6aabc775921f"
      },
      "execution_count": 5,
      "outputs": [
        {
          "output_type": "stream",
          "name": "stderr",
          "text": [
            "<ipython-input-5-98bb74507e69>:7: SettingWithCopyWarning:\n",
            "\n",
            "\n",
            "A value is trying to be set on a copy of a slice from a DataFrame.\n",
            "Try using .loc[row_indexer,col_indexer] = value instead\n",
            "\n",
            "See the caveats in the documentation: https://pandas.pydata.org/pandas-docs/stable/user_guide/indexing.html#returning-a-view-versus-a-copy\n",
            "\n"
          ]
        },
        {
          "output_type": "display_data",
          "data": {
            "text/html": [
              "<html>\n",
              "<head><meta charset=\"utf-8\" /></head>\n",
              "<body>\n",
              "    <div>            <script src=\"https://cdnjs.cloudflare.com/ajax/libs/mathjax/2.7.5/MathJax.js?config=TeX-AMS-MML_SVG\"></script><script type=\"text/javascript\">if (window.MathJax && window.MathJax.Hub && window.MathJax.Hub.Config) {window.MathJax.Hub.Config({SVG: {font: \"STIX-Web\"}});}</script>                <script type=\"text/javascript\">window.PlotlyConfig = {MathJaxConfig: 'local'};</script>\n",
              "        <script charset=\"utf-8\" src=\"https://cdn.plot.ly/plotly-2.35.2.min.js\"></script>                <div id=\"b5032454-65d6-4846-9d07-87fd2af6a438\" class=\"plotly-graph-div\" style=\"height:525px; width:100%;\"></div>            <script type=\"text/javascript\">                                    window.PLOTLYENV=window.PLOTLYENV || {};                                    if (document.getElementById(\"b5032454-65d6-4846-9d07-87fd2af6a438\")) {                    Plotly.newPlot(                        \"b5032454-65d6-4846-9d07-87fd2af6a438\",                        [{\"hovertemplate\":\"duration_minutes=%{x}\\u003cbr\\u003erating=%{y}\\u003cextra\\u003e\\u003c\\u002fextra\\u003e\",\"legendgroup\":\"\",\"marker\":{\"color\":\"#636efa\",\"symbol\":\"circle\"},\"mode\":\"markers\",\"name\":\"\",\"showlegend\":false,\"x\":[67.0,135.0,106.0,107.0,81.0,107.0,118.0,110.0,104.0,93.0,94.0,124.0,137.0,134.0,69.0,106.0,209.0,86.0,24.0,46.0,117.0,87.0,92.0,114.0,121.0,94.0,109.0,110.0,96.0,97.0,121.0,56.0,119.0,138.0,93.0,111.0,88.0,81.0,73.0,86.0,116.0,85.0,134.0,109.0,102.0,101.0,88.0,101.0,28.0,103.0,131.0,166.0,105.0,82.0,107.0,84.0,103.0,112.0,89.0,121.0,87.0,136.0,118.0,129.0,94.0,88.0,158.0,78.0,100.0,93.0,84.0,107.0,101.0,107.0,74.0,60.0,143.0,105.0,110.0,98.0,100.0,74.0,100.0,46.0,88.0,54.0,59.0,100.0,95.0,88.0,100.0,93.0,94.0,121.0,78.0,116.0,87.0,61.0,98.0,123.0,85.0,92.0,87.0,92.0,112.0,97.0,78.0,103.0,107.0,44.0,68.0,68.0,99.0,69.0,81.0,69.0,68.0,68.0,91.0,86.0,40.0,102.0,119.0,94.0,119.0,90.0,105.0,89.0,108.0,108.0,87.0,112.0,101.0,89.0,91.0,200.0,119.0,90.0,103.0,110.0,133.0,124.0,118.0,40.0,98.0,85.0,115.0,137.0,98.0,110.0,55.0,86.0,92.0,116.0,94.0,134.0,102.0,98.0,100.0,105.0,116.0,118.0,153.0,109.0,99.0,96.0,91.0,185.0,92.0,82.0,127.0,98.0,111.0,120.0,137.0,121.0,89.0,91.0,135.0,98.0,139.0,95.0,98.0,91.0,122.0,100.0,103.0,129.0,133.0,36.0,141.0,105.0,107.0,136.0,138.0,129.0,97.0,141.0,99.0,89.0,24.0,90.0,98.0,89.0,88.0,65.0,126.0,63.0,14.0,28.0,20.0,88.0,98.0,94.0,106.0,118.0,127.0,61.0,86.0,94.0,82.0,92.0,95.0,52.0,108.0,91.0,96.0,67.0,83.0,94.0,97.0,91.0,66.0,98.0,92.0,118.0,87.0,121.0,98.0,99.0,95.0,107.0,100.0,101.0,86.0,96.0,99.0,112.0,127.0,140.0,22.0,78.0,63.0,97.0,86.0,93.0,73.0,62.0,96.0,104.0,123.0,100.0,99.0,151.0,102.0,154.0,106.0,87.0,70.0,46.0,111.0,101.0,109.0,100.0,110.0,102.0,102.0,24.0,96.0,98.0,76.0,93.0,77.0,103.0,45.0,119.0,147.0,123.0,99.0,98.0,106.0,112.0,85.0,91.0,88.0,101.0,90.0,96.0,99.0,101.0,111.0,96.0,86.0,97.0,121.0,59.0,58.0,90.0,88.0,64.0,104.0,122.0,125.0,92.0,129.0,79.0,121.0,106.0,124.0,87.0,125.0,154.0,86.0,111.0,97.0,66.0,121.0,91.0,91.0,82.0,117.0,81.0,84.0,81.0,107.0,94.0,163.0,90.0,96.0,91.0,93.0,64.0,45.0,89.0,90.0,102.0,116.0,42.0,133.0,108.0,38.0,97.0,89.0,146.0,146.0,130.0,106.0,58.0,152.0,87.0,121.0,182.0,106.0,102.0,98.0,83.0,82.0,111.0,24.0,171.0,84.0,112.0,80.0,88.0,124.0,104.0,76.0,91.0,64.0,94.0,86.0,157.0,83.0,95.0,106.0,87.0,90.0,65.0,105.0,107.0,103.0,88.0,96.0,67.0,140.0,96.0,93.0,90.0,125.0,142.0,133.0,100.0,10.0,128.0,88.0,108.0,93.0,96.0,102.0,108.0,81.0,102.0,93.0,87.0,94.0,100.0,88.0,109.0,138.0,149.0,82.0,86.0,112.0,98.0,113.0,47.0,106.0,113.0,119.0,109.0,98.0,88.0,116.0,106.0,95.0,95.0,113.0,84.0,91.0,102.0,100.0,81.0,98.0,110.0,106.0,85.0,66.0,92.0,92.0,91.0,133.0,135.0,120.0,118.0,123.0,110.0,98.0,98.0,98.0,104.0,167.0,63.0,52.0,95.0,72.0,117.0,100.0,24.0,86.0,112.0,69.0,119.0,123.0,93.0,109.0,97.0,66.0,107.0,46.0,96.0,91.0,80.0,103.0,117.0,76.0,67.0,114.0,67.0,77.0,84.0,105.0,63.0,94.0,99.0,59.0,102.0,81.0,145.0,84.0,102.0,101.0,116.0,164.0,87.0,90.0,106.0,116.0,134.0,133.0,118.0,120.0,154.0,128.0,115.0,177.0,105.0,112.0,120.0,119.0,100.0,92.0,104.0,97.0,88.0,128.0,130.0,108.0,98.0,89.0,90.0,130.0,83.0,99.0,59.0,107.0,99.0,94.0,111.0,100.0,77.0,57.0,107.0,93.0,114.0,103.0,153.0,94.0,149.0,111.0,58.0,56.0,110.0,98.0,106.0,102.0,93.0,81.0,77.0,98.0,97.0,136.0,161.0,32.0,86.0,107.0,98.0,83.0,77.0,133.0,105.0,79.0,106.0,90.0,87.0,95.0,91.0,67.0,106.0,65.0,131.0,105.0,119.0,105.0,40.0,107.0,112.0,97.0,106.0,66.0,106.0,110.0,102.0,105.0,112.0,96.0,97.0,53.0,113.0,53.0,54.0,53.0,54.0,113.0,53.0,53.0,53.0,54.0,54.0,52.0,54.0,54.0,53.0,53.0,53.0,113.0,53.0,91.0,126.0,99.0,134.0,26.0,117.0,89.0,94.0,101.0,94.0,99.0,114.0,48.0,78.0,118.0,119.0,104.0,98.0,93.0,61.0,90.0,122.0,113.0,141.0,81.0,176.0,119.0,73.0,87.0,88.0,15.0,55.0,141.0,122.0,117.0,95.0,109.0,63.0,73.0,107.0,87.0,99.0,96.0,113.0,69.0,99.0,87.0,85.0,112.0,116.0,99.0,101.0,110.0,116.0,96.0,83.0,110.0,86.0,110.0,122.0,99.0,59.0,65.0,126.0,97.0,68.0,65.0,63.0,89.0,88.0,91.0,53.0,40.0,113.0,117.0,90.0,95.0,98.0,97.0,102.0,61.0,93.0,117.0,108.0,126.0,93.0,60.0,142.0,113.0,90.0,120.0,107.0,74.0,119.0,114.0,125.0,71.0,110.0,127.0,118.0,90.0,94.0,90.0,98.0,98.0,99.0,133.0,94.0,116.0,93.0,103.0,84.0,90.0,107.0,89.0,90.0,96.0,130.0,90.0,86.0,79.0,93.0,12.0,62.0,3.0,94.0,93.0,114.0,110.0,125.0,119.0,109.0,100.0,98.0,98.0,128.0,83.0,105.0,109.0,83.0,101.0,78.0,110.0,116.0,141.0,120.0,97.0,109.0,105.0,102.0,127.0,101.0,135.0,124.0,103.0,105.0,98.0,93.0,113.0,106.0,99.0,123.0,91.0,84.0,99.0,93.0,122.0,38.0,101.0,99.0,91.0,30.0,30.0,137.0,111.0,66.0,159.0,125.0,95.0,95.0,70.0,87.0,88.0,96.0,90.0,84.0,53.0,87.0,90.0,96.0,150.0,105.0,112.0,119.0,142.0,94.0,97.0,137.0,100.0,125.0,128.0,108.0,136.0,165.0,124.0,133.0,116.0,102.0,87.0,61.0,94.0,70.0,92.0,88.0,100.0,111.0,128.0,63.0,63.0,62.0,62.0,98.0,104.0,110.0,87.0,126.0,103.0,111.0,100.0,112.0,96.0,71.0,86.0,99.0,125.0,147.0,88.0,40.0,79.0,110.0,101.0,128.0,110.0,79.0,87.0,133.0,116.0,119.0,53.0,82.0,99.0,87.0,90.0,124.0,53.0,88.0,54.0,104.0,92.0,126.0,140.0,87.0,93.0,80.0,92.0,64.0,72.0,148.0,110.0,119.0,163.0,125.0,87.0,96.0,91.0,122.0,125.0,49.0,95.0,99.0,98.0,98.0,90.0,97.0,97.0,86.0,114.0,96.0,99.0,88.0,66.0,70.0,168.0,98.0,89.0,100.0,90.0,77.0,100.0,102.0,98.0,92.0,116.0,111.0,91.0,99.0,99.0,99.0,98.0,73.0,113.0,153.0,81.0,54.0,138.0,93.0,123.0,96.0,101.0,59.0,53.0,102.0,141.0,95.0,111.0,131.0,116.0,119.0,146.0,101.0,82.0,90.0,87.0,95.0,94.0,129.0,94.0,103.0,133.0,135.0,61.0,85.0,91.0,105.0,59.0,91.0,94.0,89.0,131.0,136.0,170.0,91.0,128.0,88.0,97.0,110.0,170.0,92.0,94.0,92.0,113.0,59.0,126.0,86.0,120.0,76.0,60.0,118.0,88.0,55.0,110.0,113.0,110.0,94.0,54.0,53.0,103.0,126.0,89.0,124.0,128.0,88.0,83.0,96.0,118.0,91.0,91.0,53.0,103.0,108.0,88.0,81.0,124.0,102.0,98.0,132.0,87.0,89.0,109.0,75.0,126.0,61.0,126.0,108.0,89.0,100.0,129.0,71.0,108.0,101.0,60.0,105.0,115.0,118.0,130.0,101.0,115.0,99.0,69.0,97.0,61.0,87.0,97.0,101.0,92.0,123.0,108.0,104.0,98.0,65.0,88.0,106.0,69.0,97.0,80.0,85.0,99.0,98.0,115.0,138.0,90.0,86.0,90.0,117.0,132.0,127.0,125.0,128.0,126.0,58.0,87.0,98.0,116.0,90.0,111.0,100.0,123.0,106.0,100.0,104.0,99.0,105.0,128.0,91.0,127.0,100.0,131.0,104.0,94.0,124.0,106.0,108.0,104.0,103.0,100.0,79.0,92.0,116.0,83.0,118.0,162.0,162.0,126.0,109.0,109.0,89.0,111.0,89.0,97.0,108.0,103.0,88.0,120.0,90.0,99.0,83.0,107.0,109.0,105.0,87.0,93.0,90.0,89.0,131.0,114.0,92.0,75.0,107.0,97.0,90.0,98.0,100.0,103.0,66.0,106.0,125.0,77.0,130.0,119.0,110.0,120.0,102.0,125.0,103.0,127.0,121.0,101.0,113.0,118.0,132.0,106.0,116.0,117.0,90.0,61.0,90.0,107.0,80.0,58.0,58.0,56.0,110.0,70.0,117.0,89.0,84.0,131.0,91.0,103.0,100.0,139.0,103.0,42.0,79.0,90.0,88.0,96.0,114.0,99.0,89.0,103.0,127.0,113.0,111.0,112.0,96.0,103.0,104.0,102.0,86.0,97.0,111.0,132.0,89.0,102.0,120.0,137.0,82.0,85.0,115.0,107.0,130.0,57.0,62.0,112.0,26.0,102.0,93.0,111.0,93.0,91.0,118.0,63.0,74.0,136.0,90.0,132.0,101.0,59.0,84.0,91.0,93.0,91.0,84.0,101.0,110.0,82.0,100.0,52.0,51.0,127.0,86.0,107.0,22.0,22.0,22.0,44.0,91.0,99.0,105.0,105.0,88.0,128.0,24.0,113.0,52.0,50.0,49.0,92.0,110.0,106.0,120.0,83.0,123.0,56.0,141.0,97.0,118.0,95.0,127.0,118.0,74.0,91.0,137.0,86.0,106.0,125.0,114.0,143.0,121.0,119.0,108.0,150.0,88.0,105.0,119.0,97.0,96.0,91.0,49.0,95.0,98.0,96.0,83.0,96.0,90.0,97.0,99.0,94.0,90.0,88.0,105.0,118.0,86.0,127.0,88.0,125.0,116.0,102.0,65.0,88.0,106.0,117.0,91.0,93.0,136.0,116.0,121.0,89.0,104.0,65.0,91.0,99.0,91.0,117.0,135.0,135.0,91.0,95.0,75.0,95.0,82.0,124.0,106.0,86.0,115.0,99.0,101.0,142.0,102.0,122.0,95.0,120.0,96.0,92.0,110.0,133.0,143.0,111.0,144.0,121.0,99.0,93.0,100.0,102.0,123.0,127.0,116.0,119.0,105.0,134.0,90.0,93.0,93.0,108.0,115.0,119.0,61.0,109.0,97.0,154.0,120.0,148.0,121.0,95.0,102.0,87.0,114.0,48.0,124.0,101.0,28.0,34.0,61.0,56.0,81.0,68.0,58.0,100.0,50.0,49.0,71.0,29.0,108.0,125.0,72.0,100.0,30.0,30.0,146.0,127.0,46.0,57.0,87.0,90.0,86.0,122.0,97.0,312.0,109.0,122.0,116.0,73.0,96.0,91.0,110.0,115.0,150.0,90.0,89.0,93.0,105.0,105.0,124.0,105.0,44.0,91.0,95.0,78.0,22.0,95.0,82.0,89.0,90.0,94.0,85.0,29.0,96.0,101.0,137.0,27.0,112.0,112.0,107.0,153.0,123.0,90.0,84.0,78.0,79.0,73.0,83.0,83.0,87.0,145.0,135.0,109.0,35.0,86.0,68.0,107.0,110.0,86.0,85.0,75.0,90.0,105.0,124.0,110.0,96.0,110.0,58.0,105.0,59.0,28.0,98.0,111.0,116.0,106.0,63.0,109.0,88.0,155.0,119.0,122.0,87.0,73.0,98.0,130.0,99.0,105.0,110.0,81.0,115.0,113.0,146.0,118.0,122.0,109.0,68.0,117.0,23.0,95.0,124.0,90.0,96.0,96.0,123.0,85.0,93.0,30.0,82.0,95.0,127.0,120.0,114.0,119.0,101.0,96.0,120.0,139.0,95.0,44.0,104.0,110.0,91.0,91.0,114.0,91.0,64.0,89.0,95.0,86.0,94.0,133.0,102.0,122.0,86.0,111.0,132.0,111.0,136.0,121.0,76.0,92.0,119.0,45.0,75.0,71.0,81.0,115.0,128.0,92.0,95.0,114.0,99.0,132.0,106.0,122.0,79.0,78.0,111.0,112.0,107.0,102.0,81.0,129.0,90.0,86.0,116.0,59.0,95.0,122.0,98.0,103.0,117.0,95.0,146.0,136.0,91.0,123.0,144.0,103.0,11.0,22.0,126.0,121.0,91.0,158.0,157.0,124.0,106.0,92.0,80.0,94.0,126.0,129.0,133.0,109.0,143.0,140.0,150.0,128.0,120.0,154.0,45.0,132.0,126.0,95.0,91.0,135.0,139.0,131.0,118.0,129.0,131.0,146.0,123.0,141.0,93.0,91.0,58.0,91.0,112.0,119.0,106.0,131.0,95.0,104.0,126.0,118.0,116.0,122.0,105.0,90.0,87.0,102.0,89.0,94.0,100.0,126.0,89.0,90.0,87.0,97.0,115.0,93.0,138.0,74.0,102.0,103.0,119.0,104.0,161.0,51.0,50.0,86.0,140.0,122.0,23.0,95.0,205.0,123.0,190.0,121.0,131.0,80.0,63.0,150.0,159.0,131.0,130.0,99.0,86.0,106.0,57.0,97.0,118.0,98.0,144.0,110.0,96.0,57.0,98.0,119.0,92.0,94.0,151.0,74.0,89.0,124.0,25.0,84.0,121.0,85.0,25.0,121.0,88.0,111.0,81.0,64.0,55.0,137.0,56.0,58.0,80.0,94.0,94.0,72.0,60.0,140.0,91.0,97.0,146.0,118.0,133.0,106.0,128.0,137.0,145.0,141.0,106.0,61.0,135.0,137.0,129.0,99.0,155.0,142.0,214.0,137.0,128.0,89.0,67.0,151.0,121.0,101.0,145.0,147.0,90.0,129.0,129.0,136.0,117.0,74.0,150.0,134.0,100.0,44.0,44.0,111.0,147.0,115.0,121.0,103.0,73.0,129.0,102.0,122.0,155.0,139.0,131.0,127.0,156.0,91.0,132.0,130.0,137.0,132.0,156.0,132.0,119.0,140.0,101.0,126.0,107.0,112.0,111.0,126.0,130.0,126.0,24.0,127.0,108.0,163.0,117.0,95.0,103.0,110.0,111.0,91.0,101.0,124.0,63.0,102.0,103.0,112.0,103.0,92.0,93.0,112.0,113.0,92.0,153.0,111.0,141.0,128.0,52.0,117.0,100.0,112.0,110.0,98.0,107.0,109.0,100.0,114.0,98.0,100.0,100.0,123.0,86.0,77.0,112.0,106.0,106.0,102.0,86.0,146.0,122.0,126.0,116.0,135.0,125.0,96.0,130.0,135.0,88.0,96.0,100.0,122.0,110.0,104.0,96.0,109.0,95.0,110.0,110.0,79.0,101.0,112.0,94.0,94.0,86.0,84.0,95.0,93.0,113.0,111.0,68.0,135.0,95.0,93.0,101.0,98.0,90.0,112.0,141.0,120.0,140.0,87.0,99.0,86.0,104.0,100.0,50.0,124.0,57.0,31.0,90.0,96.0,196.0,93.0,110.0,162.0,139.0,130.0,145.0,88.0,91.0,91.0,102.0,95.0,33.0,119.0,114.0,100.0,54.0,150.0,108.0,90.0,101.0,104.0,88.0,93.0,79.0,92.0,90.0,86.0,90.0,103.0,86.0,108.0,97.0,92.0,101.0,83.0,85.0,85.0,106.0,86.0,131.0,105.0,134.0,85.0,203.0,120.0,91.0,124.0,95.0,12.0,104.0,92.0,143.0,127.0,100.0,74.0,104.0,148.0,127.0,96.0,82.0,158.0,124.0,163.0,74.0,121.0,154.0,127.0,128.0,98.0,124.0,109.0,168.0,89.0,162.0,159.0,137.0,133.0,125.0,127.0,131.0,90.0,89.0,88.0,125.0,88.0,94.0,83.0,89.0,118.0,109.0,87.0,105.0,79.0,133.0,147.0,92.0,103.0,119.0,80.0,110.0,128.0,88.0,86.0,70.0,66.0,72.0,122.0,117.0,98.0,126.0,115.0,86.0,108.0,94.0,151.0,88.0,97.0,92.0,102.0,93.0,126.0,82.0,86.0,105.0,101.0,100.0,57.0,95.0,101.0,128.0,99.0,113.0,108.0,105.0,109.0,93.0,82.0,95.0,84.0,106.0,122.0,108.0,94.0,103.0,106.0,124.0,92.0,88.0,68.0,72.0,93.0,102.0,69.0,125.0,99.0,89.0,95.0,92.0,95.0,133.0,112.0,85.0,85.0,84.0,118.0,99.0,109.0,103.0,94.0,105.0,101.0,103.0,86.0,91.0,95.0,99.0,90.0,88.0,85.0,98.0,94.0,71.0,95.0,124.0,108.0,87.0,95.0,108.0,110.0,113.0,71.0,75.0,75.0,97.0,83.0,93.0,66.0,83.0,110.0,88.0,112.0,77.0,91.0,58.0,69.0,61.0,100.0,88.0,128.0,122.0,60.0,126.0,166.0,113.0,88.0,151.0,107.0,42.0,94.0,130.0,87.0,116.0,77.0,117.0,84.0,92.0,130.0,103.0,89.0,109.0,104.0,114.0,133.0,101.0,137.0,88.0,88.0,115.0,120.0,104.0,114.0,128.0,125.0,38.0,102.0,96.0,94.0,69.0,92.0,90.0,101.0,77.0,89.0,90.0,98.0,88.0,49.0,152.0,66.0,103.0,95.0,79.0,89.0,75.0,78.0,89.0,74.0,119.0,70.0,104.0,48.0,121.0,106.0,74.0,106.0,113.0,119.0,82.0,76.0,95.0,100.0,110.0,66.0,99.0,131.0,86.0,118.0,126.0,130.0,99.0,89.0,136.0,131.0,165.0,110.0,85.0,92.0,89.0,117.0,114.0,63.0,94.0,74.0,103.0,58.0,94.0,92.0,104.0,117.0,89.0,87.0,129.0,160.0,66.0,150.0,158.0,118.0,100.0,90.0,64.0,92.0,63.0,105.0,76.0,67.0,99.0,69.0,91.0,92.0,87.0,100.0,113.0,40.0,105.0,94.0,109.0,116.0,99.0,89.0,92.0,82.0,70.0,131.0,105.0,130.0,69.0,98.0,90.0,105.0,106.0,126.0,84.0,65.0,121.0,163.0,92.0,124.0,107.0,19.0,25.0,22.0,40.0,22.0,24.0,103.0,45.0,101.0,60.0,90.0,96.0,98.0,94.0,74.0,112.0,115.0,92.0,93.0,95.0,105.0,117.0,66.0,110.0,97.0,78.0,102.0,62.0,90.0,97.0,105.0,79.0,90.0,129.0,92.0,109.0,77.0,107.0,69.0,87.0,91.0,99.0,105.0,99.0,108.0,66.0,94.0,93.0,75.0,96.0,95.0,32.0,70.0,94.0,117.0,78.0,100.0,91.0,115.0,122.0,107.0,109.0,104.0,95.0,110.0,100.0,93.0,104.0,134.0,75.0,100.0,105.0,104.0,101.0,96.0,80.0,75.0,75.0,79.0,78.0,75.0,78.0,166.0,90.0,132.0,91.0,117.0,103.0,100.0,176.0,91.0,49.0,97.0,116.0,90.0,60.0,149.0,86.0,171.0,103.0,116.0,169.0,134.0,159.0,130.0,103.0,173.0,195.0,111.0,99.0,110.0,32.0,94.0,87.0,103.0,78.0,108.0,62.0,97.0,102.0,95.0,106.0,115.0,76.0,80.0,102.0,99.0,82.0,74.0,100.0,150.0,90.0,75.0,103.0,87.0,88.0,63.0,127.0,129.0,120.0,138.0,129.0,137.0,91.0,103.0,145.0,23.0,25.0,92.0,83.0,81.0,115.0,150.0,106.0,115.0,140.0,79.0,104.0,52.0,90.0,83.0,97.0,85.0,69.0,94.0,121.0,40.0,89.0,94.0,90.0,86.0,100.0,84.0,58.0,95.0,92.0,78.0,51.0,69.0,104.0,101.0,59.0,91.0,153.0,61.0,149.0,94.0,79.0,137.0,53.0,166.0,162.0,92.0,93.0,155.0,158.0,138.0,151.0,96.0,106.0,141.0,127.0,130.0,140.0,145.0,132.0,41.0,110.0,170.0,157.0,165.0,114.0,143.0,106.0,73.0,71.0,161.0,187.0,127.0,165.0,117.0,134.0,116.0,94.0,168.0,109.0,148.0,135.0,127.0,115.0,150.0,87.0,127.0,185.0,75.0,177.0,81.0,137.0,118.0,124.0,123.0,90.0,91.0,87.0,89.0,81.0,47.0,46.0,173.0,108.0,125.0,124.0,137.0,171.0,160.0,87.0,110.0,69.0,67.0,92.0,96.0,92.0,85.0,105.0,127.0,109.0,150.0,100.0,73.0,93.0,91.0,87.0,134.0,118.0,85.0,60.0,96.0,133.0,118.0,150.0,132.0,121.0,127.0,152.0,126.0,104.0,162.0,120.0,65.0,133.0,110.0,96.0,95.0,24.0,97.0,94.0,65.0,84.0,91.0,97.0,102.0,93.0,105.0,53.0,116.0,102.0,81.0,93.0,97.0,94.0,90.0,110.0,88.0,80.0,86.0,143.0,84.0,42.0,117.0,96.0,78.0,96.0,69.0,74.0,108.0,91.0,68.0,92.0,102.0,61.0,57.0,85.0,49.0,87.0,85.0,59.0,97.0,104.0,77.0,63.0,69.0,86.0,62.0,108.0,95.0,99.0,62.0,106.0,117.0,60.0,94.0,147.0,94.0,89.0,89.0,89.0,111.0,118.0,153.0,87.0,122.0,97.0,121.0,124.0,68.0,94.0,100.0,71.0,76.0,60.0,89.0,92.0,63.0,135.0,112.0,88.0,97.0,83.0,89.0,86.0,52.0,126.0,133.0,90.0,91.0,104.0,105.0,123.0,89.0,87.0,91.0,102.0,106.0,102.0,91.0,87.0,103.0,193.0,176.0,124.0,135.0,106.0,133.0,107.0,78.0,192.0,55.0,132.0,148.0,46.0,46.0,46.0,74.0,46.0,50.0,114.0,117.0,108.0,97.0,122.0,115.0,104.0,140.0,101.0,99.0,102.0,94.0,92.0,125.0,82.0,151.0,85.0,86.0,93.0,49.0,82.0,100.0,55.0,53.0,87.0,102.0,112.0,105.0,106.0,89.0,91.0,61.0,94.0,93.0,80.0,118.0,141.0,94.0,84.0,103.0,85.0,69.0,100.0,85.0,97.0,129.0,143.0,90.0,92.0,81.0,105.0,91.0,111.0,103.0,118.0,148.0,88.0,75.0,89.0,128.0,86.0,83.0,109.0,111.0,40.0,70.0,108.0,106.0,106.0,81.0,94.0,102.0,102.0,89.0,162.0,147.0,224.0,137.0,109.0,163.0,162.0,104.0,91.0,27.0,67.0,142.0,78.0,26.0,123.0,113.0,92.0,46.0,124.0,81.0,97.0,81.0,119.0,149.0,106.0,140.0,121.0,87.0,99.0,96.0,128.0,76.0,94.0,114.0,101.0,93.0,109.0,51.0,61.0,73.0,113.0,125.0,92.0,94.0,65.0,135.0,86.0,80.0,142.0,131.0,66.0,88.0,99.0,96.0,126.0,65.0,54.0,76.0,100.0,81.0,123.0,144.0,153.0,105.0,103.0,141.0,115.0,120.0,104.0,22.0,97.0,54.0,120.0,132.0,135.0,87.0,82.0,158.0,107.0,122.0,62.0,95.0,98.0,113.0,94.0,120.0,92.0,132.0,84.0,76.0,75.0,93.0,98.0,91.0,48.0,168.0,68.0,97.0,115.0,148.0,149.0,113.0,137.0,140.0,144.0,103.0,90.0,95.0,82.0,94.0,79.0,66.0,135.0,96.0,144.0,108.0,127.0,127.0,90.0,126.0,121.0,119.0,109.0,132.0,118.0,84.0,93.0,96.0,145.0,158.0,132.0,111.0,133.0,143.0,117.0,84.0,107.0,83.0,102.0,52.0,110.0,85.0,113.0,88.0,89.0,59.0,80.0,107.0,106.0,90.0,66.0,92.0,101.0,135.0,107.0,74.0,74.0,74.0,83.0,79.0,72.0,80.0,75.0,75.0,72.0,80.0,93.0,79.0,86.0,107.0,47.0,107.0,119.0,108.0,85.0,90.0,72.0,23.0,68.0,85.0,84.0,118.0,116.0,89.0,81.0,73.0,140.0,130.0,103.0,40.0,103.0,85.0,106.0,104.0,82.0,94.0,81.0,91.0,112.0,102.0,101.0,119.0,62.0,64.0,137.0,108.0,132.0,87.0,92.0,108.0,78.0,40.0,71.0,89.0,99.0,110.0,60.0,90.0,78.0,95.0,58.0,62.0,65.0,61.0,65.0,58.0,60.0,135.0,98.0,96.0,79.0,113.0,90.0,114.0,79.0,98.0,70.0,116.0,139.0,101.0,148.0,54.0,92.0,107.0,90.0,135.0,52.0,151.0,90.0,88.0,99.0,99.0,132.0,95.0,155.0,162.0,163.0,102.0,96.0,85.0,97.0,95.0,83.0,89.0,28.0,103.0,84.0,160.0,113.0,99.0,86.0,83.0,113.0,86.0,78.0,96.0,95.0,57.0,92.0,81.0,98.0,95.0,105.0,116.0,100.0,95.0,70.0,51.0,94.0,83.0,92.0,88.0,104.0,104.0,104.0,124.0,113.0,124.0,96.0,101.0,63.0,56.0,92.0,91.0,94.0,94.0,82.0,100.0,90.0,71.0,97.0,89.0,83.0,98.0,92.0,88.0,62.0,165.0,166.0,166.0,159.0,160.0,159.0,93.0,95.0,22.0,22.0,105.0,101.0,124.0,100.0,54.0,121.0,103.0,129.0,89.0,92.0,111.0,92.0,91.0,172.0,45.0,95.0,80.0,67.0,84.0,97.0,86.0,59.0,58.0,47.0,114.0,103.0,93.0,84.0,67.0,91.0,110.0,110.0,84.0,63.0,94.0,116.0,104.0,143.0,116.0,14.0,89.0,108.0,59.0,99.0,74.0,103.0,105.0,84.0,109.0,96.0,78.0,83.0,89.0,97.0,95.0,106.0,116.0,91.0,90.0,86.0,97.0,170.0,153.0,104.0,162.0,163.0,106.0,108.0,130.0,133.0,148.0,105.0,90.0,79.0,121.0,66.0,102.0,108.0,139.0,91.0,90.0,81.0,96.0,72.0,89.0,92.0,81.0,161.0,92.0,24.0,66.0,100.0,122.0,91.0,81.0,92.0,77.0,104.0,73.0,102.0,82.0,47.0,98.0,102.0,112.0,85.0,108.0,87.0,84.0,107.0,117.0,89.0,119.0,88.0,126.0,130.0,102.0,154.0,44.0,104.0,76.0,96.0,63.0,108.0,105.0,47.0,44.0,109.0,89.0,92.0,122.0,19.0,154.0,152.0,161.0,123.0,44.0,106.0,80.0,71.0,87.0,153.0,98.0,79.0,143.0,123.0,97.0,80.0,73.0,90.0,106.0,101.0,119.0,140.0,59.0,164.0,92.0,151.0,84.0,51.0,142.0,66.0,110.0,99.0,86.0,101.0,88.0,86.0,151.0,116.0,128.0,128.0,86.0,88.0,80.0,61.0,92.0,82.0,81.0,72.0,98.0,64.0,95.0,96.0,111.0,127.0,117.0,123.0,139.0,95.0,148.0,121.0,79.0,127.0,92.0,162.0,163.0,83.0,112.0,117.0,90.0,95.0,99.0,125.0,44.0,93.0,89.0,92.0,120.0,114.0,109.0,83.0,107.0,129.0,135.0,149.0,136.0,138.0,177.0,61.0,126.0,137.0,114.0,104.0,96.0,147.0,107.0,91.0,81.0,53.0,95.0,95.0,149.0,106.0,108.0,66.0,54.0,55.0,55.0,55.0,55.0,113.0,83.0,53.0,102.0,95.0,50.0,97.0,92.0,97.0,105.0,107.0,99.0,101.0,81.0,92.0,131.0,111.0,104.0,99.0,101.0,71.0,96.0,85.0,106.0,119.0,84.0,85.0,110.0,89.0,76.0,74.0,103.0,101.0,98.0,74.0,156.0,88.0,70.0,88.0,93.0,143.0,83.0,90.0,107.0,93.0,99.0,134.0,77.0,78.0,101.0,53.0,81.0,106.0,84.0,51.0,90.0,77.0,95.0,63.0,58.0,59.0,52.0,32.0,18.0,102.0,40.0,40.0,42.0,76.0,61.0,82.0,45.0,92.0,118.0,91.0,63.0,110.0,91.0,93.0,93.0,108.0,72.0,114.0,91.0,97.0,118.0,92.0,91.0,137.0,97.0,101.0,143.0,97.0,107.0,168.0,117.0,103.0,80.0,87.0,160.0,88.0,85.0,104.0,62.0,109.0,103.0,99.0,102.0,97.0,99.0,101.0,102.0,102.0,107.0,99.0,106.0,103.0,123.0,98.0,118.0,100.0,101.0,103.0,101.0,104.0,104.0,100.0,136.0,102.0,105.0,24.0,110.0,105.0,105.0,102.0,98.0,118.0,106.0,106.0,92.0,92.0,91.0,83.0,123.0,90.0,57.0,103.0,92.0,52.0,52.0,87.0,56.0,115.0,53.0,94.0,118.0,92.0,98.0,125.0,113.0,110.0,71.0,108.0,123.0,97.0,99.0,97.0,100.0,98.0,75.0,54.0,54.0,55.0,54.0,55.0,67.0,129.0,105.0,78.0,99.0,96.0,95.0,87.0,134.0,119.0,128.0,128.0,91.0,109.0,79.0,88.0,107.0,92.0,88.0,71.0,64.0,83.0,124.0,123.0,97.0,96.0,150.0,91.0,79.0,93.0,54.0,73.0,88.0,109.0,93.0,78.0,86.0,94.0,116.0,154.0,90.0,179.0,93.0,97.0,80.0,88.0,99.0,104.0,94.0,77.0,111.0,108.0,92.0,78.0,87.0,99.0,91.0,37.0,102.0,67.0,57.0,78.0,130.0,80.0,90.0,93.0,66.0,93.0,119.0,90.0,105.0,83.0,96.0,84.0,98.0,91.0,89.0,90.0,89.0,123.0,117.0,100.0,91.0,87.0,146.0,82.0,104.0,85.0,109.0,74.0,94.0,84.0,98.0,82.0,22.0,141.0,95.0,117.0,100.0,75.0,69.0,80.0,97.0,92.0,92.0,85.0,83.0,118.0,84.0,52.0,84.0,146.0,93.0,97.0,90.0,75.0,93.0,62.0,98.0,92.0,22.0,115.0,88.0,87.0,86.0,94.0,105.0,88.0,88.0,86.0,93.0,98.0,29.0,88.0,93.0,81.0,83.0,31.0,83.0,73.0,38.0,108.0,90.0,97.0,81.0,70.0,62.0,104.0,97.0,99.0,96.0,84.0,112.0,90.0,88.0,56.0,89.0,24.0,100.0,116.0,101.0,92.0,79.0,67.0,72.0,96.0,103.0,92.0,61.0,88.0,88.0,113.0,67.0,65.0,62.0,107.0,85.0,69.0,60.0,77.0,98.0,71.0,101.0,64.0,112.0,125.0,125.0,59.0,91.0,44.0,107.0,101.0,93.0,82.0,86.0,81.0,92.0,89.0,107.0,94.0,110.0,81.0,77.0,64.0,111.0,97.0,77.0,94.0,94.0,91.0,93.0,95.0,80.0,95.0,90.0,101.0,73.0,108.0,25.0,86.0,105.0,100.0,96.0,97.0,73.0,44.0,132.0,96.0,92.0,99.0,92.0,99.0,78.0,87.0,65.0,65.0,69.0,64.0,63.0,63.0,89.0,60.0,84.0,93.0,41.0,91.0,83.0,25.0,94.0,102.0,111.0,88.0,93.0,29.0,88.0,103.0,107.0,52.0,91.0,180.0,75.0,92.0,90.0,114.0,80.0,99.0,79.0,66.0,46.0,90.0,72.0,71.0,77.0,70.0,73.0,107.0,81.0,86.0,63.0,44.0,128.0,51.0,45.0,46.0,112.0,87.0,87.0,106.0,100.0,101.0,117.0,114.0,94.0,100.0,96.0,58.0,87.0,81.0,96.0,52.0,114.0,105.0,157.0,84.0,91.0,80.0,97.0,105.0,96.0,60.0,79.0,93.0,95.0,99.0,109.0,96.0,102.0,107.0,60.0,86.0,29.0,163.0,98.0,101.0,91.0,99.0,74.0,66.0,76.0,95.0,127.0,86.0,116.0,82.0,70.0,102.0,88.0,109.0,75.0,23.0,83.0,97.0,62.0,84.0,90.0,82.0,96.0,65.0,92.0,90.0,93.0,91.0,100.0,101.0,103.0,74.0,44.0,43.0,95.0,94.0,68.0,72.0,47.0,52.0,92.0,107.0,108.0,74.0,110.0,24.0,46.0,24.0,55.0,24.0,23.0,24.0,24.0,101.0,29.0,60.0,60.0,78.0,73.0,72.0,60.0,47.0,70.0,77.0,120.0,74.0,57.0,72.0,78.0,91.0,62.0,85.0,85.0,90.0,105.0,59.0,137.0,86.0,135.0,99.0,64.0,72.0,83.0,82.0,90.0,80.0,130.0,62.0,90.0,92.0,155.0,78.0,92.0,60.0,69.0,103.0,92.0,143.0,83.0,78.0,84.0,78.0,93.0,84.0,77.0,58.0,82.0,83.0,100.0,29.0,72.0,26.0,48.0,73.0,103.0,81.0,75.0,100.0,90.0,68.0,71.0,71.0,100.0,94.0,80.0,78.0,35.0,72.0,93.0,105.0,130.0,100.0,44.0,80.0,72.0,75.0,26.0,84.0,120.0,76.0,95.0,96.0,94.0,94.0,93.0,96.0,94.0,94.0,93.0,95.0,93.0,75.0,103.0,84.0,29.0,104.0,81.0],\"xaxis\":\"x\",\"y\":[\"TV-G\",\"TV-14\",\"TV-14\",\"TV-14\",\"TV-MA\",\"TV-MA\",\"TV-14\",\"TV-MA\",\"TV-14\",\"TV-14\",\"TV-PG\",\"R\",\"R\",\"TV-14\",\"TV-Y7\",\"TV-MA\",\"R\",\"TV-MA\",\"TV-Y\",\"TV-Y\",\"TV-MA\",\"TV-MA\",\"TV-MA\",\"PG\",\"R\",\"G\",\"R\",\"R\",\"PG-13\",\"TV-MA\",\"TV-14\",\"TV-14\",\"TV-14\",\"PG-13\",\"TV-14\",\"R\",\"PG\",\"PG-13\",\"PG-13\",\"TV-MA\",\"R\",\"PG-13\",\"TV-14\",\"TV-MA\",\"PG-13\",\"R\",\"PG-13\",\"PG\",\"TV-G\",\"R\",\"TV-PG\",\"PG-13\",\"R\",\"PG-13\",\"PG\",\"R\",\"PG\",\"R\",\"R\",\"R\",\"PG-13\",\"PG-13\",\"PG-13\",\"PG-13\",\"R\",\"PG\",\"R\",\"TV-MA\",\"R\",\"TV-MA\",\"TV-14\",\"PG-13\",\"R\",\"R\",\"TV-PG\",\"TV-PG\",\"TV-MA\",\"TV-14\",\"TV-PG\",\"PG\",\"PG\",\"TV-PG\",\"TV-14\",\"TV-14\",\"TV-MA\",\"TV-MA\",\"TV-MA\",\"R\",\"TV-MA\",\"TV-MA\",\"R\",\"PG-13\",\"TV-MA\",\"TV-14\",\"TV-MA\",\"TV-MA\",\"TV-G\",\"TV-MA\",\"R\",\"TV-MA\",\"R\",\"TV-G\",\"TV-PG\",\"TV-PG\",\"R\",\"R\",\"TV-14\",\"TV-MA\",\"PG-13\",\"TV-G\",\"TV-G\",\"TV-PG\",\"R\",\"TV-G\",\"TV-PG\",\"TV-G\",\"TV-PG\",\"TV-PG\",\"PG-13\",\"TV-G\",\"TV-G\",\"PG-13\",\"R\",\"TV-MA\",\"R\",\"TV-MA\",\"PG-13\",\"TV-MA\",\"TV-14\",\"NR\",\"TV-PG\",\"TV-PG\",\"TV-MA\",\"PG\",\"PG-13\",\"PG-13\",\"TV-14\",\"PG\",\"R\",\"R\",\"R\",\"R\",\"R\",\"TV-MA\",\"G\",\"PG-13\",\"G\",\"R\",\"R\",\"PG\",\"TV-14\",\"TV-PG\",\"PG\",\"PG-13\",\"R\",\"PG-13\",\"R\",\"PG-13\",\"R\",\"R\",\"TV-14\",\"PG\",\"R\",\"R\",\"PG-13\",\"R\",\"PG\",\"TV-PG\",\"PG\",\"PG-13\",\"TV-PG\",\"R\",\"PG-13\",\"R\",\"R\",\"R\",\"R\",\"TV-PG\",\"R\",\"PG\",\"PG-13\",\"TV-14\",\"R\",\"R\",\"R\",\"PG\",\"TV-14\",\"R\",\"R\",\"TV-MA\",\"R\",\"R\",\"TV-14\",\"R\",\"R\",\"R\",\"TV-14\",\"PG-13\",\"PG-13\",\"PG-13\",\"TV-Y\",\"PG-13\",\"PG-13\",\"TV-14\",\"R\",\"TV-MA\",\"TV-14\",\"TV-MA\",\"TV-14\",\"TV-PG\",\"TV-G\",\"PG\",\"PG-13\",\"TV-14\",\"TV-MA\",\"R\",\"TV-MA\",\"TV-PG\",\"TV-MA\",\"TV-MA\",\"PG-13\",\"TV-14\",\"R\",\"TV-PG\",\"TV-MA\",\"R\",\"PG-13\",\"TV-MA\",\"R\",\"PG-13\",\"TV-14\",\"R\",\"TV-Y7\",\"PG-13\",\"TV-14\",\"PG-13\",\"TV-14\",\"TV-14\",\"TV-MA\",\"TV-14\",\"TV-14\",\"TV-14\",\"TV-MA\",\"TV-MA\",\"TV-MA\",\"R\",\"TV-14\",\"TV-14\",\"TV-14\",\"PG\",\"TV-MA\",\"TV-MA\",\"TV-MA\",\"R\",\"TV-MA\",\"R\",\"TV-PG\",\"TV-14\",\"TV-MA\",\"TV-MA\",\"TV-MA\",\"TV-MA\",\"TV-14\",\"TV-MA\",\"TV-MA\",\"TV-PG\",\"PG-13\",\"TV-14\",\"TV-MA\",\"TV-Y7\",\"R\",\"TV-14\",\"TV-MA\",\"TV-PG\",\"TV-14\",\"TV-MA\",\"TV-PG\",\"TV-Y\",\"PG\",\"TV-MA\",\"TV-PG\",\"TV-14\",\"TV-MA\",\"R\",\"TV-G\",\"R\",\"R\",\"R\",\"R\",\"PG-13\",\"PG-13\",\"R\",\"PG-13\",\"PG\",\"TV-MA\",\"R\",\"TV-PG\",\"PG\",\"UR\",\"R\",\"PG-13\",\"TV-MA\",\"TV-14\",\"TV-MA\",\"PG-13\",\"TV-PG\",\"TV-Y\",\"TV-MA\",\"PG-13\",\"TV-MA\",\"PG\",\"PG-13\",\"PG-13\",\"PG\",\"R\",\"G\",\"R\",\"PG-13\",\"R\",\"TV-MA\",\"PG\",\"PG-13\",\"PG\",\"PG-13\",\"PG-13\",\"TV-PG\",\"TV-14\",\"PG\",\"PG\",\"TV-14\",\"PG-13\",\"G\",\"TV-MA\",\"R\",\"PG-13\",\"R\",\"R\",\"PG\",\"PG-13\",\"TV-MA\",\"TV-MA\",\"TV-MA\",\"TV-G\",\"R\",\"TV-PG\",\"TV-PG\",\"TV-MA\",\"TV-MA\",\"TV-14\",\"PG-13\",\"TV-G\",\"TV-MA\",\"PG\",\"TV-14\",\"TV-14\",\"R\",\"R\",\"TV-MA\",\"TV-MA\",\"TV-MA\",\"TV-14\",\"TV-MA\",\"TV-MA\",\"PG-13\",\"TV-14\",\"TV-MA\",\"TV-MA\",\"TV-14\",\"TV-Y\",\"TV-MA\",\"G\",\"R\",\"TV-14\",\"TV-MA\",\"TV-14\",\"R\",\"TV-14\",\"R\",\"TV-PG\",\"TV-14\",\"TV-MA\",\"TV-14\",\"TV-PG\",\"TV-14\",\"TV-MA\",\"TV-14\",\"TV-MA\",\"TV-MA\",\"TV-14\",\"TV-14\",\"TV-PG\",\"TV-14\",\"PG\",\"TV-MA\",\"PG-13\",\"TV-MA\",\"TV-MA\",\"TV-PG\",\"TV-MA\",\"TV-14\",\"TV-14\",\"TV-14\",\"TV-G\",\"TV-14\",\"TV-MA\",\"PG\",\"TV-14\",\"R\",\"R\",\"PG-13\",\"TV-14\",\"R\",\"TV-MA\",\"PG\",\"PG-13\",\"TV-14\",\"PG-13\",\"PG-13\",\"R\",\"TV-MA\",\"TV-MA\",\"PG\",\"TV-14\",\"PG-13\",\"R\",\"G\",\"R\",\"R\",\"TV-14\",\"TV-14\",\"PG\",\"PG-13\",\"PG-13\",\"R\",\"TV-14\",\"TV-MA\",\"UR\",\"TV-MA\",\"TV-MA\",\"TV-PG\",\"TV-MA\",\"TV-14\",\"TV-PG\",\"TV-14\",\"TV-MA\",\"TV-MA\",\"TV-MA\",\"TV-MA\",\"TV-MA\",\"TV-14\",\"TV-PG\",\"TV-14\",\"TV-PG\",\"TV-14\",\"TV-MA\",\"TV-14\",\"TV-MA\",\"TV-MA\",\"TV-MA\",\"TV-MA\",\"R\",\"TV-G\",\"TV-MA\",\"TV-MA\",\"TV-Y7-FV\",\"PG-13\",\"TV-14\",\"TV-Y\",\"TV-MA\",\"TV-Y7-FV\",\"TV-MA\",\"TV-14\",\"TV-14\",\"TV-MA\",\"TV-MA\",\"TV-MA\",\"TV-14\",\"TV-MA\",\"TV-Y7\",\"TV-MA\",\"PG\",\"TV-MA\",\"TV-MA\",\"TV-14\",\"TV-14\",\"TV-MA\",\"TV-PG\",\"TV-MA\",\"NR\",\"TV-MA\",\"TV-MA\",\"TV-MA\",\"TV-14\",\"TV-14\",\"TV-MA\",\"TV-MA\",\"TV-14\",\"R\",\"TV-MA\",\"PG-13\",\"R\",\"TV-MA\",\"PG-13\",\"TV-14\",\"R\",\"PG-13\",\"TV-MA\",\"TV-MA\",\"TV-PG\",\"R\",\"R\",\"R\",\"PG-13\",\"R\",\"TV-MA\",\"R\",\"R\",\"PG\",\"PG\",\"PG\",\"PG\",\"PG-13\",\"PG-13\",\"TV-14\",\"PG-13\",\"PG-13\",\"PG-13\",\"TV-MA\",\"TV-MA\",\"TV-PG\",\"TV-MA\",\"TV-MA\",\"TV-MA\",\"TV-MA\",\"TV-MA\",\"PG\",\"TV-MA\",\"TV-MA\",\"TV-14\",\"TV-MA\",\"TV-G\",\"R\",\"TV-MA\",\"TV-MA\",\"TV-14\",\"R\",\"PG-13\",\"TV-PG\",\"TV-MA\",\"TV-MA\",\"TV-MA\",\"TV-MA\",\"TV-14\",\"TV-14\",\"TV-14\",\"TV-14\",\"TV-MA\",\"TV-14\",\"TV-14\",\"R\",\"TV-14\",\"TV-PG\",\"TV-14\",\"TV-MA\",\"PG-13\",\"G\",\"TV-14\",\"TV-MA\",\"TV-MA\",\"TV-MA\",\"TV-MA\",\"TV-MA\",\"TV-MA\",\"TV-MA\",\"R\",\"TV-14\",\"TV-Y7\",\"TV-14\",\"TV-MA\",\"PG\",\"PG-13\",\"TV-MA\",\"TV-G\",\"NR\",\"PG-13\",\"PG\",\"R\",\"PG\",\"TV-MA\",\"R\",\"PG-13\",\"PG\",\"R\",\"R\",\"PG-13\",\"PG-13\",\"TV-G\",\"TV-G\",\"TV-PG\",\"TV-PG\",\"TV-PG\",\"TV-G\",\"TV-14\",\"TV-G\",\"TV-PG\",\"TV-PG\",\"TV-14\",\"TV-PG\",\"TV-PG\",\"TV-PG\",\"TV-PG\",\"TV-G\",\"TV-PG\",\"TV-PG\",\"TV-PG\",\"TV-G\",\"PG\",\"PG-13\",\"PG\",\"R\",\"G\",\"R\",\"PG\",\"TV-MA\",\"PG-13\",\"TV-14\",\"R\",\"R\",\"TV-Y7\",\"TV-14\",\"R\",\"PG-13\",\"PG-13\",\"PG-13\",\"PG\",\"TV-14\",\"R\",\"TV-MA\",\"R\",\"TV-14\",\"TV-MA\",\"TV-MA\",\"R\",\"TV-14\",\"TV-MA\",\"TV-14\",\"TV-PG\",\"TV-MA\",\"TV-PG\",\"TV-14\",\"PG\",\"TV-MA\",\"TV-14\",\"TV-MA\",\"TV-MA\",\"TV-MA\",\"TV-PG\",\"TV-14\",\"NR\",\"TV-MA\",\"TV-14\",\"TV-MA\",\"TV-14\",\"TV-MA\",\"TV-14\",\"TV-MA\",\"TV-MA\",\"TV-MA\",\"TV-MA\",\"TV-14\",\"TV-MA\",\"TV-14\",\"TV-MA\",\"TV-14\",\"TV-14\",\"TV-14\",\"TV-MA\",\"TV-MA\",\"TV-Y7-FV\",\"R\",\"TV-MA\",\"TV-Y7-FV\",\"TV-Y7-FV\",\"TV-Y7-FV\",\"TV-14\",\"R\",\"TV-MA\",\"TV-14\",\"TV-PG\",\"TV-14\",\"TV-MA\",\"TV-14\",\"TV-PG\",\"PG-13\",\"TV-MA\",\"TV-14\",\"TV-14\",\"TV-MA\",\"TV-MA\",\"TV-14\",\"TV-MA\",\"TV-14\",\"TV-MA\",\"TV-MA\",\"PG\",\"TV-MA\",\"R\",\"R\",\"TV-MA\",\"TV-MA\",\"TV-14\",\"TV-14\",\"PG\",\"TV-PG\",\"TV-MA\",\"TV-MA\",\"TV-MA\",\"R\",\"TV-MA\",\"TV-14\",\"R\",\"PG\",\"R\",\"TV-MA\",\"TV-MA\",\"TV-14\",\"UR\",\"TV-14\",\"TV-14\",\"TV-14\",\"TV-14\",\"TV-MA\",\"TV-14\",\"TV-14\",\"TV-PG\",\"PG\",\"PG\",\"TV-MA\",\"TV-MA\",\"TV-14\",\"TV-Y7\",\"R\",\"PG\",\"TV-14\",\"R\",\"TV-MA\",\"TV-MA\",\"PG-13\",\"R\",\"TV-MA\",\"R\",\"TV-MA\",\"TV-PG\",\"TV-MA\",\"TV-MA\",\"TV-14\",\"R\",\"TV-14\",\"PG-13\",\"PG-13\",\"PG-13\",\"PG-13\",\"TV-14\",\"TV-14\",\"PG\",\"PG-13\",\"TV-14\",\"TV-MA\",\"TV-14\",\"TV-MA\",\"TV-MA\",\"TV-MA\",\"TV-14\",\"TV-MA\",\"TV-MA\",\"TV-MA\",\"R\",\"TV-14\",\"R\",\"TV-MA\",\"PG\",\"NR\",\"TV-MA\",\"TV-PG\",\"TV-MA\",\"TV-14\",\"TV-MA\",\"TV-MA\",\"TV-G\",\"TV-MA\",\"R\",\"TV-MA\",\"TV-14\",\"TV-MA\",\"R\",\"TV-MA\",\"TV-14\",\"TV-14\",\"TV-MA\",\"TV-14\",\"TV-MA\",\"TV-14\",\"TV-MA\",\"TV-MA\",\"TV-PG\",\"TV-14\",\"TV-PG\",\"PG-13\",\"TV-MA\",\"TV-MA\",\"TV-14\",\"TV-PG\",\"R\",\"TV-PG\",\"R\",\"TV-14\",\"TV-14\",\"TV-14\",\"TV-14\",\"TV-14\",\"R\",\"NR\",\"UR\",\"R\",\"TV-14\",\"TV-MA\",\"TV-14\",\"TV-G\",\"TV-PG\",\"TV-14\",\"TV-MA\",\"TV-MA\",\"TV-PG\",\"TV-Y7-FV\",\"TV-Y7\",\"TV-Y7\",\"TV-Y7\",\"TV-MA\",\"R\",\"TV-MA\",\"PG-13\",\"TV-MA\",\"PG-13\",\"TV-MA\",\"TV-MA\",\"TV-14\",\"TV-MA\",\"TV-MA\",\"TV-14\",\"TV-PG\",\"TV-MA\",\"PG-13\",\"R\",\"TV-14\",\"TV-MA\",\"R\",\"TV-14\",\"TV-MA\",\"TV-14\",\"TV-14\",\"TV-14\",\"PG-13\",\"TV-Y7\",\"R\",\"TV-14\",\"PG\",\"TV-MA\",\"TV-14\",\"TV-14\",\"TV-14\",\"TV-14\",\"PG\",\"TV-PG\",\"TV-MA\",\"TV-14\",\"R\",\"TV-14\",\"PG\",\"PG\",\"TV-MA\",\"TV-MA\",\"TV-MA\",\"TV-MA\",\"TV-MA\",\"TV-MA\",\"TV-MA\",\"R\",\"TV-14\",\"TV-14\",\"PG-13\",\"TV-MA\",\"TV-MA\",\"TV-PG\",\"TV-14\",\"PG-13\",\"PG-13\",\"TV-MA\",\"TV-14\",\"PG\",\"TV-14\",\"TV-MA\",\"TV-14\",\"TV-14\",\"R\",\"TV-MA\",\"TV-MA\",\"TV-Y7\",\"TV-14\",\"TV-14\",\"TV-MA\",\"TV-MA\",\"TV-MA\",\"TV-MA\",\"TV-14\",\"R\",\"TV-14\",\"TV-MA\",\"R\",\"TV-14\",\"TV-MA\",\"TV-14\",\"TV-14\",\"TV-14\",\"TV-14\",\"TV-MA\",\"TV-14\",\"R\",\"TV-MA\",\"TV-PG\",\"TV-MA\",\"TV-MA\",\"R\",\"R\",\"PG\",\"TV-MA\",\"TV-Y\",\"TV-14\",\"TV-MA\",\"TV-MA\",\"TV-MA\",\"TV-MA\",\"TV-MA\",\"TV-14\",\"TV-14\",\"TV-14\",\"TV-PG\",\"TV-MA\",\"TV-14\",\"TV-MA\",\"TV-MA\",\"TV-MA\",\"TV-PG\",\"R\",\"TV-MA\",\"TV-MA\",\"TV-MA\",\"TV-MA\",\"TV-MA\",\"TV-14\",\"TV-14\",\"TV-14\",\"TV-14\",\"R\",\"TV-MA\",\"TV-14\",\"TV-MA\",\"TV-14\",\"R\",\"PG-13\",\"TV-MA\",\"TV-MA\",\"TV-14\",\"TV-14\",\"TV-MA\",\"TV-14\",\"TV-PG\",\"R\",\"TV-MA\",\"TV-MA\",\"TV-MA\",\"TV-14\",\"TV-14\",\"TV-MA\",\"TV-14\",\"TV-MA\",\"TV-MA\",\"PG-13\",\"R\",\"PG-13\",\"PG\",\"TV-14\",\"TV-14\",\"TV-14\",\"PG-13\",\"PG\",\"TV-14\",\"PG-13\",\"PG\",\"PG\",\"PG-13\",\"TV-PG\",\"TV-MA\",\"R\",\"TV-PG\",\"R\",\"PG-13\",\"TV-14\",\"TV-14\",\"TV-14\",\"TV-MA\",\"R\",\"R\",\"TV-MA\",\"R\",\"R\",\"TV-14\",\"TV-14\",\"TV-PG\",\"TV-14\",\"TV-14\",\"PG-13\",\"TV-MA\",\"TV-MA\",\"TV-MA\",\"TV-MA\",\"TV-14\",\"TV-PG\",\"TV-14\",\"TV-14\",\"TV-MA\",\"TV-MA\",\"TV-PG\",\"TV-PG\",\"PG\",\"TV-14\",\"TV-PG\",\"TV-MA\",\"TV-MA\",\"TV-14\",\"R\",\"PG-13\",\"PG-13\",\"TV-14\",\"TV-MA\",\"TV-14\",\"TV-MA\",\"PG\",\"R\",\"NR\",\"TV-MA\",\"TV-MA\",\"TV-MA\",\"R\",\"TV-14\",\"TV-14\",\"R\",\"TV-14\",\"TV-14\",\"TV-MA\",\"TV-14\",\"TV-14\",\"TV-MA\",\"TV-14\",\"TV-MA\",\"R\",\"TV-MA\",\"PG-13\",\"PG-13\",\"TV-14\",\"TV-MA\",\"TV-14\",\"PG\",\"PG-13\",\"PG-13\",\"TV-PG\",\"PG-13\",\"TV-MA\",\"TV-14\",\"TV-14\",\"TV-MA\",\"TV-MA\",\"PG\",\"TV-14\",\"PG\",\"TV-MA\",\"TV-PG\",\"TV-MA\",\"TV-14\",\"TV-14\",\"TV-14\",\"TV-MA\",\"NR\",\"PG\",\"TV-MA\",\"TV-14\",\"TV-MA\",\"TV-MA\",\"TV-MA\",\"PG-13\",\"R\",\"TV-14\",\"TV-MA\",\"TV-MA\",\"TV-14\",\"TV-PG\",\"TV-PG\",\"TV-MA\",\"TV-G\",\"PG-13\",\"TV-MA\",\"TV-MA\",\"PG-13\",\"R\",\"R\",\"R\",\"TV-G\",\"TV-MA\",\"TV-G\",\"TV-MA\",\"TV-14\",\"TV-14\",\"TV-PG\",\"TV-G\",\"TV-MA\",\"PG\",\"R\",\"R\",\"R\",\"TV-MA\",\"TV-PG\",\"TV-MA\",\"TV-MA\",\"TV-MA\",\"TV-14\",\"TV-14\",\"TV-G\",\"TV-14\",\"TV-14\",\"TV-14\",\"TV-14\",\"TV-PG\",\"TV-14\",\"TV-PG\",\"TV-PG\",\"TV-14\",\"TV-14\",\"TV-PG\",\"TV-PG\",\"TV-PG\",\"R\",\"TV-MA\",\"R\",\"PG\",\"TV-14\",\"NR\",\"NR\",\"NR\",\"TV-MA\",\"TV-MA\",\"TV-MA\",\"TV-MA\",\"TV-MA\",\"TV-14\",\"R\",\"PG-13\",\"R\",\"TV-MA\",\"TV-MA\",\"TV-PG\",\"TV-MA\",\"TV-MA\",\"PG\",\"TV-14\",\"R\",\"TV-MA\",\"R\",\"R\",\"TV-14\",\"TV-MA\",\"TV-MA\",\"TV-14\",\"TV-14\",\"TV-MA\",\"TV-MA\",\"TV-14\",\"TV-14\",\"TV-14\",\"TV-14\",\"TV-14\",\"TV-14\",\"TV-MA\",\"TV-14\",\"TV-14\",\"TV-MA\",\"TV-MA\",\"TV-14\",\"TV-PG\",\"TV-MA\",\"TV-MA\",\"TV-MA\",\"R\",\"TV-PG\",\"TV-MA\",\"R\",\"PG\",\"R\",\"TV-MA\",\"PG\",\"TV-PG\",\"TV-MA\",\"TV-MA\",\"TV-14\",\"TV-MA\",\"PG-13\",\"TV-MA\",\"TV-MA\",\"TV-MA\",\"TV-14\",\"R\",\"TV-14\",\"PG-13\",\"R\",\"PG\",\"TV-MA\",\"TV-14\",\"TV-Y7\",\"TV-MA\",\"TV-MA\",\"TV-PG\",\"TV-Y7\",\"TV-Y7-FV\",\"TV-Y7-FV\",\"TV-Y7-FV\",\"TV-MA\",\"R\",\"R\",\"R\",\"TV-14\",\"TV-14\",\"TV-Y\",\"R\",\"TV-14\",\"TV-14\",\"TV-PG\",\"TV-14\",\"TV-14\",\"TV-PG\",\"TV-MA\",\"TV-MA\",\"PG\",\"TV-14\",\"TV-PG\",\"R\",\"PG\",\"PG\",\"TV-14\",\"PG-13\",\"TV-14\",\"TV-14\",\"TV-MA\",\"TV-MA\",\"TV-MA\",\"TV-14\",\"TV-14\",\"TV-14\",\"TV-14\",\"TV-14\",\"R\",\"TV-MA\",\"TV-MA\",\"TV-MA\",\"TV-MA\",\"PG\",\"TV-MA\",\"PG\",\"TV-PG\",\"TV-MA\",\"TV-MA\",\"TV-14\",\"NC-17\",\"TV-PG\",\"TV-MA\",\"TV-MA\",\"TV-PG\",\"PG-13\",\"TV-14\",\"TV-14\",\"TV-14\",\"TV-14\",\"TV-PG\",\"TV-14\",\"TV-14\",\"TV-14\",\"TV-14\",\"TV-MA\",\"TV-MA\",\"TV-14\",\"TV-MA\",\"TV-MA\",\"TV-PG\",\"R\",\"TV-14\",\"R\",\"PG-13\",\"R\",\"TV-14\",\"TV-MA\",\"TV-MA\",\"TV-MA\",\"TV-14\",\"TV-14\",\"PG-13\",\"PG-13\",\"R\",\"R\",\"TV-PG\",\"TV-14\",\"TV-PG\",\"TV-PG\",\"TV-MA\",\"TV-14\",\"TV-14\",\"TV-MA\",\"TV-14\",\"TV-MA\",\"TV-14\",\"TV-MA\",\"TV-PG\",\"R\",\"PG\",\"PG\",\"TV-MA\",\"PG-13\",\"R\",\"TV-14\",\"R\",\"R\",\"PG\",\"PG\",\"R\",\"R\",\"PG-13\",\"PG-13\",\"PG\",\"PG\",\"R\",\"R\",\"TV-MA\",\"R\",\"R\",\"R\",\"TV-MA\",\"PG-13\",\"TV-MA\",\"R\",\"TV-Y7\",\"R\",\"TV-MA\",\"TV-14\",\"R\",\"PG-13\",\"R\",\"NR\",\"R\",\"TV-MA\",\"PG-13\",\"PG-13\",\"TV-MA\",\"TV-MA\",\"TV-MA\",\"TV-MA\",\"NR\",\"TV-MA\",\"TV-MA\",\"TV-MA\",\"TV-MA\",\"TV-MA\",\"TV-MA\",\"TV-MA\",\"TV-14\",\"TV-PG\",\"TV-MA\",\"TV-14\",\"TV-14\",\"TV-MA\",\"TV-MA\",\"TV-MA\",\"TV-MA\",\"TV-14\",\"TV-MA\",\"R\",\"R\",\"TV-MA\",\"TV-MA\",\"TV-MA\",\"TV-14\",\"R\",\"TV-14\",\"TV-MA\",\"TV-MA\",\"TV-14\",\"PG-13\",\"PG-13\",\"PG-13\",\"R\",\"R\",\"R\",\"PG-13\",\"TV-MA\",\"R\",\"TV-MA\",\"TV-MA\",\"TV-14\",\"TV-14\",\"R\",\"TV-PG\",\"TV-MA\",\"TV-MA\",\"TV-MA\",\"TV-MA\",\"R\",\"TV-MA\",\"TV-Y7\",\"R\",\"TV-14\",\"TV-14\",\"TV-PG\",\"R\",\"R\",\"PG-13\",\"TV-MA\",\"PG-13\",\"TV-PG\",\"TV-PG\",\"TV-14\",\"TV-MA\",\"TV-PG\",\"TV-MA\",\"TV-14\",\"TV-MA\",\"TV-MA\",\"R\",\"PG-13\",\"TV-PG\",\"R\",\"TV-MA\",\"TV-MA\",\"R\",\"TV-MA\",\"TV-MA\",\"TV-14\",\"R\",\"TV-MA\",\"TV-14\",\"R\",\"TV-14\",\"PG-13\",\"TV-Y7\",\"PG-13\",\"TV-MA\",\"TV-Y\",\"TV-MA\",\"TV-PG\",\"TV-MA\",\"PG\",\"TV-MA\",\"TV-14\",\"TV-MA\",\"TV-14\",\"R\",\"TV-14\",\"TV-MA\",\"TV-14\",\"TV-MA\",\"TV-MA\",\"TV-14\",\"TV-14\",\"TV-14\",\"TV-14\",\"TV-PG\",\"TV-14\",\"TV-14\",\"TV-MA\",\"PG-13\",\"TV-MA\",\"TV-Y7-FV\",\"TV-PG\",\"TV-Y\",\"TV-MA\",\"TV-14\",\"TV-MA\",\"TV-MA\",\"TV-MA\",\"PG-13\",\"PG\",\"TV-PG\",\"TV-G\",\"TV-MA\",\"TV-PG\",\"PG-13\",\"TV-PG\",\"TV-MA\",\"TV-MA\",\"TV-MA\",\"TV-MA\",\"TV-MA\",\"TV-MA\",\"TV-14\",\"TV-Y\",\"TV-PG\",\"R\",\"TV-MA\",\"PG\",\"TV-MA\",\"TV-14\",\"TV-MA\",\"G\",\"TV-MA\",\"TV-MA\",\"TV-MA\",\"R\",\"TV-PG\",\"TV-14\",\"PG\",\"TV-14\",\"TV-PG\",\"TV-MA\",\"TV-MA\",\"TV-14\",\"TV-MA\",\"TV-PG\",\"TV-14\",\"TV-Y\",\"TV-Y\",\"TV-Y\",\"TV-MA\",\"TV-MA\",\"TV-MA\",\"TV-14\",\"R\",\"TV-MA\",\"TV-14\",\"TV-MA\",\"TV-MA\",\"R\",\"PG\",\"TV-14\",\"PG-13\",\"TV-PG\",\"TV-PG\",\"R\",\"R\",\"TV-14\",\"TV-MA\",\"PG\",\"TV-14\",\"TV-MA\",\"TV-PG\",\"R\",\"TV-MA\",\"TV-MA\",\"TV-MA\",\"TV-14\",\"TV-14\",\"TV-14\",\"TV-14\",\"TV-14\",\"TV-PG\",\"R\",\"TV-Y\",\"TV-Y\",\"TV-PG\",\"TV-14\",\"TV-PG\",\"TV-14\",\"TV-14\",\"TV-14\",\"TV-PG\",\"TV-MA\",\"TV-MA\",\"TV-MA\",\"TV-MA\",\"TV-14\",\"TV-14\",\"TV-14\",\"TV-MA\",\"TV-14\",\"TV-14\",\"TV-PG\",\"TV-14\",\"TV-14\",\"TV-MA\",\"TV-14\",\"TV-14\",\"TV-MA\",\"R\",\"TV-MA\",\"TV-14\",\"TV-MA\",\"TV-14\",\"TV-MA\",\"TV-14\",\"TV-14\",\"TV-14\",\"TV-14\",\"TV-MA\",\"TV-PG\",\"TV-G\",\"TV-MA\",\"PG\",\"PG-13\",\"TV-MA\",\"TV-PG\",\"TV-14\",\"PG\",\"TV-MA\",\"R\",\"TV-PG\",\"TV-14\",\"TV-G\",\"TV-PG\",\"R\",\"PG-13\",\"TV-MA\",\"TV-MA\",\"TV-MA\",\"PG-13\",\"TV-MA\",\"TV-MA\",\"TV-14\",\"TV-14\",\"TV-MA\",\"TV-14\",\"TV-14\",\"TV-MA\",\"PG-13\",\"TV-PG\",\"TV-PG\",\"TV-MA\",\"TV-14\",\"TV-MA\",\"TV-MA\",\"PG\",\"TV-MA\",\"TV-MA\",\"TV-Y\",\"TV-MA\",\"TV-14\",\"TV-14\",\"TV-14\",\"TV-MA\",\"TV-MA\",\"TV-PG\",\"TV-MA\",\"TV-14\",\"TV-MA\",\"TV-14\",\"TV-MA\",\"TV-MA\",\"TV-MA\",\"TV-14\",\"TV-14\",\"R\",\"TV-PG\",\"TV-14\",\"R\",\"R\",\"TV-PG\",\"TV-MA\",\"TV-14\",\"TV-14\",\"TV-14\",\"PG-13\",\"TV-14\",\"TV-PG\",\"TV-MA\",\"R\",\"TV-Y\",\"TV-MA\",\"TV-PG\",\"PG-13\",\"TV-G\",\"PG-13\",\"TV-MA\",\"R\",\"TV-MA\",\"TV-MA\",\"TV-MA\",\"TV-MA\",\"TV-14\",\"TV-MA\",\"R\",\"TV-MA\",\"R\",\"TV-14\",\"TV-MA\",\"TV-PG\",\"PG\",\"TV-MA\",\"TV-MA\",\"TV-14\",\"R\",\"PG-13\",\"TV-14\",\"TV-MA\",\"TV-PG\",\"TV-14\",\"TV-14\",\"NR\",\"TV-MA\",\"TV-14\",\"TV-14\",\"TV-PG\",\"TV-14\",\"TV-14\",\"TV-14\",\"TV-14\",\"TV-MA\",\"R\",\"TV-MA\",\"TV-14\",\"TV-14\",\"TV-14\",\"TV-PG\",\"TV-MA\",\"TV-14\",\"TV-14\",\"TV-14\",\"TV-PG\",\"TV-14\",\"PG\",\"TV-14\",\"TV-14\",\"TV-PG\",\"TV-Y7\",\"TV-Y7\",\"NR\",\"TV-MA\",\"TV-MA\",\"TV-PG\",\"TV-MA\",\"TV-14\",\"TV-14\",\"TV-14\",\"TV-PG\",\"TV-14\",\"TV-14\",\"TV-14\",\"TV-14\",\"TV-14\",\"TV-MA\",\"TV-PG\",\"TV-MA\",\"TV-MA\",\"R\",\"TV-MA\",\"TV-14\",\"TV-PG\",\"TV-14\",\"R\",\"TV-14\",\"PG\",\"NR\",\"TV-MA\",\"TV-14\",\"TV-MA\",\"TV-MA\",\"TV-PG\",\"TV-PG\",\"TV-MA\",\"TV-14\",\"TV-MA\",\"TV-14\",\"PG-13\",\"PG\",\"TV-MA\",\"PG-13\",\"TV-MA\",\"TV-MA\",\"TV-MA\",\"TV-MA\",\"TV-14\",\"TV-MA\",\"TV-14\",\"R\",\"R\",\"PG-13\",\"TV-14\",\"TV-MA\",\"TV-14\",\"TV-PG\",\"TV-14\",\"TV-MA\",\"TV-14\",\"TV-14\",\"TV-14\",\"TV-14\",\"TV-MA\",\"TV-MA\",\"TV-MA\",\"TV-14\",\"TV-MA\",\"TV-MA\",\"TV-MA\",\"TV-14\",\"TV-MA\",\"TV-MA\",\"TV-14\",\"TV-MA\",\"TV-MA\",\"TV-PG\",\"PG-13\",\"TV-MA\",\"R\",\"TV-14\",\"TV-14\",\"TV-14\",\"TV-14\",\"TV-PG\",\"TV-MA\",\"TV-MA\",\"TV-MA\",\"PG-13\",\"R\",\"TV-MA\",\"TV-PG\",\"TV-14\",\"R\",\"TV-MA\",\"R\",\"TV-MA\",\"TV-14\",\"TV-14\",\"TV-MA\",\"NR\",\"TV-PG\",\"TV-MA\",\"NR\",\"TV-14\",\"R\",\"TV-MA\",\"PG-13\",\"TV-14\",\"TV-MA\",\"PG-13\",\"TV-Y7-FV\",\"TV-14\",\"TV-14\",\"TV-PG\",\"TV-MA\",\"TV-14\",\"PG\",\"TV-MA\",\"TV-14\",\"TV-14\",\"TV-14\",\"TV-MA\",\"NR\",\"TV-MA\",\"TV-MA\",\"TV-MA\",\"TV-MA\",\"TV-MA\",\"TV-MA\",\"TV-MA\",\"TV-MA\",\"TV-PG\",\"TV-MA\",\"R\",\"TV-PG\",\"TV-14\",\"TV-MA\",\"PG-13\",\"TV-14\",\"TV-14\",\"TV-14\",\"TV-MA\",\"TV-14\",\"PG\",\"TV-14\",\"PG-13\",\"TV-MA\",\"TV-14\",\"TV-MA\",\"TV-14\",\"TV-MA\",\"NR\",\"TV-14\",\"TV-14\",\"TV-MA\",\"TV-14\",\"TV-14\",\"TV-PG\",\"TV-MA\",\"TV-14\",\"TV-MA\",\"TV-MA\",\"TV-MA\",\"TV-PG\",\"R\",\"TV-14\",\"R\",\"TV-MA\",\"TV-14\",\"TV-14\",\"R\",\"NR\",\"TV-14\",\"TV-MA\",\"R\",\"TV-MA\",\"TV-PG\",\"TV-14\",\"TV-14\",\"TV-14\",\"TV-MA\",\"TV-PG\",\"TV-MA\",\"TV-PG\",\"TV-PG\",\"TV-14\",\"TV-MA\",\"TV-PG\",\"TV-MA\",\"TV-MA\",\"TV-PG\",\"R\",\"TV-MA\",\"TV-MA\",\"TV-14\",\"TV-14\",\"TV-14\",\"TV-14\",\"TV-MA\",\"TV-14\",\"TV-14\",\"TV-PG\",\"TV-14\",\"TV-PG\",\"TV-14\",\"TV-14\",\"TV-MA\",\"TV-MA\",\"TV-MA\",\"TV-PG\",\"TV-PG\",\"TV-PG\",\"TV-14\",\"TV-PG\",\"PG-13\",\"TV-14\",\"TV-MA\",\"R\",\"TV-14\",\"TV-MA\",\"TV-MA\",\"TV-14\",\"TV-14\",\"TV-MA\",\"TV-14\",\"TV-Y7\",\"TV-14\",\"TV-14\",\"TV-14\",\"TV-MA\",\"TV-14\",\"TV-MA\",\"TV-PG\",\"TV-PG\",\"TV-14\",\"TV-PG\",\"TV-PG\",\"TV-MA\",\"TV-PG\",\"TV-14\",\"TV-14\",\"PG\",\"TV-14\",\"TV-PG\",\"TV-MA\",\"R\",\"R\",\"TV-MA\",\"TV-MA\",\"R\",\"TV-14\",\"TV-14\",\"TV-MA\",\"R\",\"TV-14\",\"TV-14\",\"R\",\"TV-MA\",\"TV-MA\",\"TV-MA\",\"TV-MA\",\"TV-14\",\"R\",\"PG-13\",\"R\",\"R\",\"R\",\"R\",\"R\",\"TV-14\",\"R\",\"R\",\"R\",\"TV-MA\",\"TV-MA\",\"TV-14\",\"TV-MA\",\"TV-MA\",\"TV-14\",\"TV-14\",\"NR\",\"PG\",\"TV-MA\",\"TV-MA\",\"R\",\"TV-14\",\"R\",\"PG\",\"R\",\"R\",\"PG\",\"TV-14\",\"PG\",\"R\",\"TV-MA\",\"NR\",\"R\",\"R\",\"R\",\"R\",\"R\",\"TV-PG\",\"TV-14\",\"TV-14\",\"PG\",\"R\",\"R\",\"NR\",\"PG\",\"PG-13\",\"TV-G\",\"R\",\"TV-PG\",\"R\",\"TV-14\",\"TV-14\",\"TV-MA\",\"TV-MA\",\"R\",\"R\",\"R\",\"R\",\"TV-MA\",\"TV-MA\",\"R\",\"TV-MA\",\"PG-13\",\"TV-MA\",\"TV-14\",\"TV-14\",\"TV-14\",\"TV-14\",\"TV-PG\",\"R\",\"NR\",\"R\",\"NR\",\"TV-MA\",\"NR\",\"TV-PG\",\"TV-PG\",\"TV-14\",\"TV-14\",\"TV-MA\",\"TV-14\",\"TV-PG\",\"TV-14\",\"TV-14\",\"TV-PG\",\"TV-14\",\"TV-G\",\"TV-MA\",\"TV-PG\",\"TV-PG\",\"TV-PG\",\"TV-MA\",\"TV-14\",\"R\",\"TV-14\",\"TV-PG\",\"TV-PG\",\"TV-MA\",\"TV-PG\",\"TV-14\",\"TV-14\",\"TV-14\",\"TV-PG\",\"TV-PG\",\"TV-MA\",\"TV-MA\",\"TV-PG\",\"TV-14\",\"TV-14\",\"PG-13\",\"TV-PG\",\"TV-14\",\"TV-PG\",\"TV-PG\",\"TV-MA\",\"TV-MA\",\"NR\",\"TV-MA\",\"TV-MA\",\"TV-MA\",\"TV-MA\",\"TV-14\",\"TV-MA\",\"R\",\"TV-MA\",\"TV-G\",\"PG-13\",\"TV-MA\",\"TV-14\",\"TV-MA\",\"TV-MA\",\"G\",\"TV-MA\",\"TV-Y\",\"PG-13\",\"TV-MA\",\"TV-MA\",\"TV-MA\",\"R\",\"TV-G\",\"TV-MA\",\"TV-MA\",\"TV-G\",\"TV-14\",\"TV-14\",\"TV-MA\",\"R\",\"TV-PG\",\"TV-14\",\"TV-MA\",\"TV-MA\",\"TV-MA\",\"NR\",\"PG-13\",\"PG\",\"R\",\"TV-14\",\"TV-MA\",\"TV-MA\",\"PG-13\",\"PG\",\"PG\",\"TV-14\",\"TV-MA\",\"TV-MA\",\"PG-13\",\"TV-14\",\"TV-MA\",\"TV-14\",\"TV-MA\",\"TV-MA\",\"TV-14\",\"TV-MA\",\"TV-14\",\"TV-14\",\"R\",\"TV-MA\",\"TV-MA\",\"NR\",\"TV-PG\",\"TV-PG\",\"TV-PG\",\"TV-14\",\"TV-14\",\"TV-14\",\"TV-14\",\"PG-13\",\"R\",\"TV-MA\",\"TV-MA\",\"TV-MA\",\"TV-14\",\"TV-MA\",\"TV-MA\",\"TV-MA\",\"TV-MA\",\"TV-14\",\"TV-MA\",\"G\",\"TV-MA\",\"TV-MA\",\"TV-PG\",\"TV-MA\",\"TV-PG\",\"TV-MA\",\"TV-MA\",\"TV-14\",\"TV-MA\",\"TV-MA\",\"TV-MA\",\"TV-MA\",\"TV-14\",\"TV-MA\",\"TV-14\",\"TV-PG\",\"TV-MA\",\"TV-MA\",\"TV-MA\",\"TV-14\",\"TV-14\",\"NR\",\"TV-MA\",\"TV-14\",\"TV-PG\",\"PG\",\"TV-14\",\"TV-14\",\"TV-Y\",\"TV-G\",\"TV-Y\",\"TV-G\",\"TV-G\",\"TV-Y\",\"TV-14\",\"TV-14\",\"TV-14\",\"TV-14\",\"R\",\"TV-MA\",\"PG-13\",\"TV-14\",\"TV-MA\",\"TV-14\",\"TV-14\",\"TV-MA\",\"TV-14\",\"TV-14\",\"TV-MA\",\"TV-14\",\"TV-MA\",\"TV-MA\",\"TV-PG\",\"TV-Y\",\"TV-MA\",\"PG\",\"TV-PG\",\"TV-MA\",\"TV-MA\",\"TV-PG\",\"TV-MA\",\"TV-MA\",\"R\",\"PG-13\",\"TV-MA\",\"R\",\"NR\",\"TV-G\",\"TV-MA\",\"R\",\"TV-14\",\"TV-MA\",\"TV-MA\",\"TV-MA\",\"TV-14\",\"R\",\"TV-MA\",\"TV-MA\",\"TV-14\",\"TV-14\",\"TV-MA\",\"TV-MA\",\"TV-MA\",\"TV-MA\",\"TV-MA\",\"R\",\"TV-MA\",\"TV-MA\",\"TV-14\",\"TV-PG\",\"TV-14\",\"TV-14\",\"TV-MA\",\"TV-14\",\"PG\",\"TV-14\",\"TV-MA\",\"TV-MA\",\"PG-13\",\"TV-14\",\"TV-PG\",\"R\",\"TV-14\",\"G\",\"G\",\"G\",\"G\",\"G\",\"G\",\"G\",\"TV-PG\",\"TV-MA\",\"TV-PG\",\"TV-PG\",\"PG\",\"TV-MA\",\"TV-PG\",\"TV-14\",\"TV-14\",\"TV-14\",\"TV-MA\",\"PG-13\",\"TV-PG\",\"NR\",\"TV-PG\",\"TV-MA\",\"TV-14\",\"TV-14\",\"TV-14\",\"TV-14\",\"TV-PG\",\"TV-PG\",\"TV-14\",\"TV-MA\",\"TV-14\",\"R\",\"PG-13\",\"TV-MA\",\"PG-13\",\"TV-G\",\"R\",\"R\",\"TV-MA\",\"TV-MA\",\"TV-MA\",\"TV-MA\",\"TV-MA\",\"R\",\"R\",\"TV-MA\",\"TV-MA\",\"TV-Y7\",\"TV-PG\",\"TV-MA\",\"TV-MA\",\"NR\",\"TV-MA\",\"TV-MA\",\"TV-14\",\"R\",\"TV-14\",\"R\",\"TV-PG\",\"TV-14\",\"TV-MA\",\"TV-14\",\"TV-14\",\"TV-PG\",\"TV-14\",\"PG-13\",\"TV-14\",\"TV-MA\",\"TV-MA\",\"TV-MA\",\"TV-Y7\",\"TV-Y7\",\"TV-14\",\"TV-14\",\"TV-MA\",\"TV-MA\",\"TV-14\",\"TV-14\",\"TV-MA\",\"TV-MA\",\"TV-MA\",\"TV-Y7-FV\",\"TV-MA\",\"TV-MA\",\"TV-MA\",\"R\",\"TV-MA\",\"TV-MA\",\"TV-PG\",\"TV-MA\",\"TV-G\",\"R\",\"R\",\"PG\",\"G\",\"PG\",\"G\",\"TV-14\",\"TV-MA\",\"TV-MA\",\"G\",\"TV-MA\",\"TV-MA\",\"TV-MA\",\"TV-MA\",\"TV-MA\",\"R\",\"TV-14\",\"TV-14\",\"TV-14\",\"TV-MA\",\"TV-MA\",\"TV-MA\",\"TV-MA\",\"TV-14\",\"TV-14\",\"TV-14\",\"TV-MA\",\"TV-14\",\"TV-14\",\"TV-G\",\"TV-PG\",\"TV-14\",\"R\",\"TV-14\",\"TV-Y7\",\"TV-14\",\"TV-MA\",\"TV-14\",\"TV-14\",\"TV-14\",\"TV-14\",\"TV-14\",\"TV-14\",\"TV-PG\",\"R\",\"TV-14\",\"R\",\"TV-Y7\",\"TV-Y7\",\"TV-PG\",\"TV-14\",\"TV-MA\",\"TV-14\",\"TV-14\",\"TV-14\",\"TV-14\",\"TV-14\",\"TV-MA\",\"TV-14\",\"TV-PG\",\"TV-14\",\"TV-PG\",\"TV-14\",\"TV-14\",\"TV-MA\",\"TV-PG\",\"TV-PG\",\"TV-MA\",\"TV-PG\",\"TV-MA\",\"TV-PG\",\"R\",\"TV-MA\",\"TV-MA\",\"TV-MA\",\"TV-MA\",\"TV-14\",\"NR\",\"NR\",\"TV-MA\",\"TV-MA\",\"TV-PG\",\"R\",\"TV-14\",\"TV-MA\",\"TV-MA\",\"TV-14\",\"TV-MA\",\"TV-MA\",\"TV-MA\",\"TV-MA\",\"TV-MA\",\"TV-MA\",\"TV-MA\",\"TV-MA\",\"TV-14\",\"TV-MA\",\"TV-MA\",\"TV-MA\",\"PG-13\",\"TV-14\",\"TV-G\",\"PG-13\",\"TV-14\",\"TV-14\",\"TV-14\",\"TV-MA\",\"R\",\"TV-MA\",\"TV-MA\",\"NR\",\"TV-14\",\"TV-14\",\"TV-14\",\"TV-14\",\"TV-14\",\"TV-PG\",\"TV-14\",\"R\",\"TV-PG\",\"TV-14\",\"TV-MA\",\"TV-14\",\"TV-MA\",\"TV-14\",\"TV-MA\",\"TV-PG\",\"TV-14\",\"R\",\"TV-PG\",\"TV-MA\",\"PG\",\"TV-MA\",\"TV-MA\",\"TV-MA\",\"R\",\"TV-MA\",\"TV-MA\",\"TV-14\",\"TV-MA\",\"PG-13\",\"PG\",\"PG-13\",\"TV-PG\",\"TV-PG\",\"TV-MA\",\"TV-MA\",\"TV-MA\",\"NR\",\"NR\",\"TV-G\",\"TV-MA\",\"R\",\"PG\",\"TV-PG\",\"TV-G\",\"TV-Y7\",\"TV-14\",\"TV-MA\",\"TV-14\",\"TV-MA\",\"TV-MA\",\"TV-MA\",\"TV-MA\",\"PG\",\"TV-MA\",\"R\",\"TV-MA\",\"TV-MA\",\"PG-13\",\"R\",\"PG-13\",\"TV-MA\",\"TV-MA\",\"R\",\"TV-PG\",\"TV-14\",\"TV-MA\",\"TV-MA\",\"TV-MA\",\"R\",\"R\",\"TV-MA\",\"PG\",\"TV-PG\",\"TV-PG\",\"TV-MA\",\"TV-MA\",\"TV-MA\",\"NR\",\"TV-14\",\"TV-PG\",\"TV-Y7\",\"TV-MA\",\"TV-14\",\"TV-MA\",\"TV-MA\",\"TV-14\",\"TV-14\",\"TV-MA\",\"TV-MA\",\"TV-MA\",\"TV-MA\",\"PG-13\",\"TV-14\",\"TV-PG\",\"TV-14\",\"R\",\"TV-14\",\"PG-13\",\"TV-14\",\"TV-MA\",\"TV-14\",\"TV-14\",\"TV-PG\",\"TV-14\",\"TV-G\",\"TV-14\",\"TV-G\",\"NR\",\"TV-PG\",\"TV-PG\",\"TV-14\",\"TV-14\",\"NR\",\"TV-MA\",\"TV-MA\",\"TV-MA\",\"TV-MA\",\"TV-14\",\"NR\",\"TV-G\",\"TV-14\",\"TV-MA\",\"G\",\"TV-14\",\"TV-PG\",\"TV-MA\",\"TV-PG\",\"TV-PG\",\"TV-PG\",\"TV-14\",\"TV-Y7\",\"TV-Y7\",\"TV-Y7\",\"TV-Y7\",\"TV-Y7\",\"TV-14\",\"TV-MA\",\"NR\",\"TV-MA\",\"TV-MA\",\"TV-14\",\"TV-14\",\"TV-MA\",\"TV-MA\",\"TV-MA\",\"TV-14\",\"TV-MA\",\"R\",\"TV-MA\",\"TV-14\",\"TV-G\",\"TV-PG\",\"TV-MA\",\"TV-MA\",\"TV-14\",\"TV-PG\",\"R\",\"TV-MA\",\"TV-PG\",\"TV-14\",\"TV-G\",\"R\",\"R\",\"TV-14\",\"TV-14\",\"R\",\"R\",\"TV-MA\",\"TV-PG\",\"TV-MA\",\"TV-MA\",\"TV-MA\",\"TV-PG\",\"TV-MA\",\"TV-Y7\",\"R\",\"TV-14\",\"TV-MA\",\"TV-PG\",\"TV-PG\",\"TV-MA\",\"NR\",\"TV-MA\",\"PG-13\",\"TV-MA\",\"TV-MA\",\"TV-PG\",\"TV-MA\",\"TV-MA\",\"R\",\"TV-MA\",\"TV-MA\",\"TV-14\",\"TV-MA\",\"TV-14\",\"TV-14\",\"PG-13\",\"TV-MA\",\"TV-MA\",\"R\",\"TV-14\",\"TV-MA\",\"TV-MA\",\"TV-MA\",\"NR\",\"TV-MA\",\"R\",\"TV-MA\",\"TV-14\",\"TV-MA\",\"TV-MA\",\"TV-PG\",\"PG\",\"TV-PG\",\"TV-14\",\"TV-14\",\"PG\",\"TV-MA\",\"TV-PG\",\"TV-G\",\"TV-MA\",\"TV-14\",\"TV-MA\",\"TV-Y\",\"TV-14\",\"TV-PG\",\"TV-MA\",\"TV-Y7\",\"TV-14\",\"TV-14\",\"TV-MA\",\"TV-Y7-FV\",\"TV-14\",\"TV-14\",\"TV-MA\",\"TV-14\",\"TV-MA\",\"TV-MA\",\"TV-MA\",\"TV-MA\",\"PG-13\",\"TV-PG\",\"TV-MA\",\"TV-14\",\"TV-MA\",\"PG\",\"TV-14\",\"TV-Y\",\"TV-PG\",\"TV-PG\",\"TV-PG\",\"TV-MA\",\"TV-PG\",\"TV-MA\",\"TV-Y7\",\"R\",\"TV-PG\",\"PG-13\",\"TV-14\",\"TV-14\",\"TV-MA\",\"TV-MA\",\"TV-PG\",\"TV-14\",\"TV-MA\",\"NR\",\"TV-MA\",\"TV-MA\",\"TV-MA\",\"R\",\"R\",\"TV-MA\",\"PG-13\",\"TV-MA\",\"TV-MA\",\"TV-14\",\"TV-MA\",\"TV-PG\",\"TV-MA\",\"TV-Y\",\"TV-PG\",\"TV-14\",\"TV-14\",\"TV-PG\",\"TV-14\",\"TV-G\",\"TV-G\",\"TV-14\",\"TV-MA\",\"TV-14\",\"TV-PG\",\"TV-MA\",\"TV-14\",\"TV-MA\",\"PG-13\",\"TV-14\",\"TV-14\",\"TV-14\",\"TV-MA\",\"TV-MA\",\"PG-13\",\"PG\",\"TV-14\",\"R\",\"TV-14\",\"R\",\"TV-MA\",\"R\",\"TV-14\",\"TV-14\",\"TV-PG\",\"TV-14\",\"TV-14\",\"TV-PG\",\"TV-PG\",\"TV-MA\",\"NR\",\"TV-14\",\"TV-MA\",\"TV-MA\",\"TV-PG\",\"TV-MA\",\"TV-14\",\"R\",\"TV-14\",\"TV-MA\",\"TV-14\",\"TV-14\",\"TV-MA\",\"TV-14\",\"TV-14\",\"TV-14\",\"TV-14\",\"TV-14\",\"TV-MA\",\"R\",\"TV-MA\",\"TV-MA\",\"TV-PG\",\"TV-PG\",\"TV-PG\",\"TV-MA\",\"TV-PG\",\"TV-PG\",\"TV-14\",\"TV-MA\",\"TV-PG\",\"TV-14\",\"TV-MA\",\"TV-MA\",\"TV-MA\",\"TV-MA\",\"TV-MA\",\"TV-14\",\"TV-MA\",\"TV-MA\",\"TV-MA\",\"TV-PG\",\"TV-MA\",\"R\",\"TV-MA\",\"R\",\"R\",\"TV-MA\",\"PG\",\"TV-Y\",\"TV-Y\",\"TV-Y\",\"TV-Y\",\"TV-Y\",\"TV-Y7\",\"TV-Y\",\"TV-Y\",\"TV-Y\",\"TV-Y\",\"PG\",\"TV-MA\",\"TV-MA\",\"R\",\"PG-13\",\"TV-Y7-FV\",\"PG\",\"PG\",\"TV-MA\",\"PG\",\"PG-13\",\"TV-Y7\",\"TV-Y7\",\"PG-13\",\"PG\",\"TV-PG\",\"TV-PG\",\"TV-MA\",\"TV-14\",\"TV-MA\",\"TV-Y7\",\"TV-MA\",\"TV-MA\",\"TV-MA\",\"TV-14\",\"TV-14\",\"TV-14\",\"TV-14\",\"TV-MA\",\"TV-MA\",\"TV-MA\",\"TV-14\",\"TV-MA\",\"NR\",\"TV-MA\",\"TV-MA\",\"R\",\"TV-14\",\"TV-G\",\"TV-MA\",\"TV-14\",\"TV-14\",\"TV-14\",\"TV-MA\",\"TV-MA\",\"G\",\"TV-14\",\"TV-MA\",\"TV-MA\",\"TV-14\",\"R\",\"TV-MA\",\"R\",\"TV-MA\",\"R\",\"TV-Y7\",\"TV-Y7\",\"TV-Y\",\"TV-Y7\",\"TV-Y7\",\"TV-Y7\",\"TV-Y7\",\"NR\",\"TV-14\",\"R\",\"TV-MA\",\"PG-13\",\"R\",\"R\",\"TV-MA\",\"TV-14\",\"TV-MA\",\"TV-14\",\"TV-14\",\"R\",\"TV-14\",\"TV-14\",\"TV-MA\",\"TV-MA\",\"TV-14\",\"TV-PG\",\"TV-MA\",\"TV-14\",\"TV-MA\",\"NR\",\"NR\",\"NR\",\"TV-14\",\"TV-MA\",\"TV-14\",\"TV-14\",\"TV-14\",\"TV-14\",\"TV-14\",\"TV-14\",\"NR\",\"NR\",\"NR\",\"TV-MA\",\"TV-MA\",\"TV-MA\",\"R\",\"TV-PG\",\"TV-MA\",\"TV-MA\",\"TV-Y7-FV\",\"TV-MA\",\"TV-MA\",\"TV-14\",\"TV-MA\",\"TV-MA\",\"PG-13\",\"TV-14\",\"PG-13\",\"TV-MA\",\"TV-MA\",\"TV-MA\",\"TV-14\",\"R\",\"TV-MA\",\"TV-MA\",\"TV-MA\",\"TV-MA\",\"TV-14\",\"TV-MA\",\"TV-MA\",\"TV-14\",\"TV-MA\",\"TV-MA\",\"TV-14\",\"TV-14\",\"PG-13\",\"TV-MA\",\"PG\",\"TV-MA\",\"TV-MA\",\"TV-MA\",\"R\",\"TV-MA\",\"TV-MA\",\"PG-13\",\"TV-MA\",\"TV-14\",\"TV-MA\",\"TV-MA\",\"TV-14\",\"TV-14\",\"R\",\"TV-MA\",\"TV-14\",\"TV-MA\",\"R\",\"TV-MA\",\"TV-MA\",\"TV-MA\",\"TV-14\",\"TV-14\",\"TV-14\",\"TV-14\",\"TV-MA\",\"TV-Y\",\"TV-Y7\",\"PG-13\",\"R\",\"TV-MA\",\"TV-MA\",\"TV-MA\",\"TV-MA\",\"TV-MA\",\"TV-MA\",\"TV-PG\",\"TV-G\",\"TV-MA\",\"TV-PG\",\"TV-MA\",\"R\",\"TV-MA\",\"TV-MA\",\"TV-G\",\"TV-MA\",\"TV-MA\",\"TV-G\",\"TV-MA\",\"TV-14\",\"TV-14\",\"TV-MA\",\"TV-MA\",\"TV-MA\",\"TV-PG\",\"TV-MA\",\"TV-MA\",\"TV-14\",\"PG-13\",\"TV-MA\",\"TV-14\",\"TV-MA\",\"TV-PG\",\"TV-MA\",\"TV-MA\",\"TV-14\",\"TV-14\",\"TV-PG\",\"TV-PG\",\"TV-MA\",\"TV-MA\",\"TV-MA\",\"TV-MA\",\"UR\",\"TV-14\",\"TV-MA\",\"TV-Y7-FV\",\"PG-13\",\"TV-14\",\"TV-MA\",\"TV-PG\",\"TV-PG\",\"PG\",\"TV-PG\",\"TV-PG\",\"TV-MA\",\"TV-PG\",\"TV-MA\",\"TV-MA\",\"TV-PG\",\"TV-PG\",\"TV-MA\",\"TV-14\",\"TV-PG\",\"TV-14\",\"TV-MA\",\"TV-MA\",\"TV-14\",\"TV-14\",\"TV-PG\",\"PG\",\"TV-14\",\"TV-MA\",\"TV-MA\",\"TV-MA\",\"R\",\"TV-PG\",\"TV-PG\",\"TV-PG\",\"TV-MA\",\"TV-14\",\"G\",\"TV-MA\",\"TV-14\",\"R\",\"TV-PG\",\"TV-MA\",\"TV-Y7\",\"TV-MA\",\"TV-MA\",\"R\",\"TV-MA\",\"TV-PG\",\"TV-PG\",\"TV-MA\",\"TV-PG\",\"TV-MA\",\"TV-14\",\"TV-MA\",\"TV-14\",\"PG-13\",\"TV-MA\",\"NR\",\"TV-MA\",\"TV-MA\",\"TV-MA\",\"TV-MA\",\"TV-MA\",\"TV-14\",\"TV-MA\",\"TV-MA\",\"TV-MA\",\"TV-14\",\"R\",\"TV-MA\",\"TV-14\",\"TV-PG\",\"TV-PG\",\"TV-MA\",\"TV-MA\",\"TV-MA\",\"TV-MA\",\"PG\",\"TV-14\",\"TV-PG\",\"TV-MA\",\"TV-14\",\"TV-MA\",\"NR\",\"TV-PG\",\"TV-14\",\"TV-14\",\"TV-14\",\"TV-14\",\"TV-PG\",\"R\",\"TV-14\",\"TV-MA\",\"TV-MA\",\"TV-14\",\"TV-14\",\"TV-14\",\"NR\",\"TV-MA\",\"R\",\"TV-MA\",\"TV-MA\",\"TV-G\",\"TV-14\",\"TV-MA\",\"R\",\"R\",\"TV-MA\",\"TV-14\",\"TV-PG\",\"TV-14\",\"TV-MA\",\"TV-14\",\"TV-14\",\"TV-MA\",\"TV-14\",\"TV-MA\",\"PG-13\",\"TV-MA\",\"TV-MA\",\"TV-Y7\",\"TV-14\",\"TV-14\",\"TV-14\",\"NR\",\"TV-MA\",\"TV-Y7\",\"TV-MA\",\"TV-MA\",\"TV-MA\",\"TV-MA\",\"TV-MA\",\"TV-MA\",\"TV-PG\",\"TV-MA\",\"R\",\"R\",\"NR\",\"TV-PG\",\"TV-14\",\"TV-14\",\"NR\",\"TV-14\",\"NR\",\"TV-PG\",\"TV-14\",\"TV-PG\",\"R\",\"TV-14\",\"TV-14\",\"TV-14\",\"TV-14\",\"PG-13\",\"NR\",\"TV-14\",\"TV-MA\",\"NR\",\"TV-PG\",\"TV-14\",\"TV-MA\",\"TV-14\",\"TV-14\",\"TV-PG\",\"TV-MA\",\"TV-MA\",\"TV-14\",\"TV-PG\",\"TV-PG\",\"TV-14\",\"TV-MA\",\"TV-MA\",\"TV-14\",\"TV-MA\",\"TV-MA\",\"TV-PG\",\"TV-14\",\"TV-MA\",\"TV-14\",\"TV-14\",\"TV-PG\",\"PG-13\",\"TV-14\",\"TV-MA\",\"TV-MA\",\"TV-MA\",\"TV-PG\",\"R\",\"TV-MA\",\"TV-MA\",\"TV-PG\",\"TV-14\",\"TV-PG\",\"TV-PG\",\"TV-PG\",\"TV-MA\",\"TV-MA\",\"TV-MA\",\"TV-14\",\"PG\",\"TV-MA\",\"PG-13\",\"TV-MA\",\"TV-PG\",\"TV-14\",\"TV-14\",\"TV-MA\",\"TV-14\",\"TV-14\",\"TV-MA\",\"TV-14\",\"TV-14\",\"R\",\"TV-MA\",\"TV-MA\",\"TV-MA\",\"R\",\"TV-MA\",\"TV-14\",\"TV-MA\",\"NR\",\"TV-MA\",\"TV-MA\",\"TV-MA\",\"R\",null,\"R\",\"R\",\"TV-14\",\"TV-14\",\"TV-PG\",\"TV-MA\",\"TV-MA\",\"TV-MA\",\"TV-MA\",\"TV-PG\",\"TV-14\",\"TV-14\",\"TV-14\",\"NR\",\"NR\",\"TV-14\",\"TV-PG\",\"TV-MA\",\"TV-MA\",\"TV-PG\",\"TV-MA\",\"NR\",\"TV-MA\",\"TV-MA\",\"TV-MA\",\"NR\",\"TV-PG\",\"TV-14\",\"TV-PG\",\"TV-MA\",\"TV-PG\",\"TV-14\",\"TV-G\",\"TV-MA\",\"TV-PG\",\"TV-14\",\"TV-14\",\"TV-PG\",\"TV-PG\",\"TV-14\",\"NR\",\"NR\",\"TV-14\",\"R\",\"TV-MA\",\"TV-14\",\"TV-MA\",\"TV-14\",\"TV-MA\",\"R\",\"TV-PG\",\"TV-14\",\"TV-MA\",\"TV-14\",\"TV-MA\",\"TV-14\",\"TV-PG\",\"TV-MA\",\"R\",\"PG\",\"PG\",\"R\",\"R\",\"R\",\"R\",\"TV-MA\",\"NR\",\"TV-PG\",\"TV-14\",\"TV-PG\",\"TV-MA\",\"TV-MA\",\"TV-MA\",\"TV-MA\",\"TV-14\",\"TV-14\",\"TV-MA\",\"TV-14\",\"TV-MA\",\"TV-14\",\"TV-14\",\"TV-PG\",\"TV-MA\",\"TV-MA\",\"TV-PG\",\"TV-PG\",\"TV-MA\",\"TV-14\",\"TV-MA\",\"TV-MA\",\"TV-14\",\"TV-14\",\"TV-14\",\"TV-14\",\"TV-14\",\"TV-MA\",\"TV-14\",\"TV-14\",\"TV-MA\",\"TV-PG\",\"NR\",\"TV-14\",\"TV-MA\",\"TV-14\",\"TV-MA\",\"TV-PG\",\"NR\",\"NR\",\"R\",\"TV-MA\",\"TV-MA\",\"TV-MA\",\"TV-MA\",\"PG-13\",\"TV-MA\",\"TV-MA\",\"R\",\"TV-G\",\"TV-G\",\"TV-G\",\"TV-G\",null,\"TV-G\",\"NR\",\"NR\",\"TV-G\",\"TV-MA\",\"NR\",\"TV-PG\",\"TV-MA\",\"TV-MA\",\"TV-MA\",\"TV-MA\",\"NR\",\"TV-MA\",\"TV-MA\",\"TV-MA\",\"TV-14\",\"TV-PG\",\"TV-PG\",\"TV-PG\",\"TV-PG\",\"TV-PG\",\"TV-PG\",\"TV-14\",\"TV-MA\",\"TV-MA\",\"G\",\"G\",\"TV-MA\",\"NR\",\"TV-MA\",\"TV-14\",\"NR\",\"TV-14\",\"R\",\"TV-MA\",\"NR\",\"TV-14\",\"TV-MA\",\"TV-14\",\"NR\",\"NR\",\"TV-MA\",\"TV-MA\",\"TV-MA\",\"R\",\"NR\",\"TV-MA\",\"TV-MA\",\"TV-MA\",\"PG\",\"NR\",\"PG\",\"TV-MA\",\"TV-PG\",\"TV-14\",\"R\",\"R\",\"TV-MA\",\"TV-MA\",\"R\",\"TV-14\",\"TV-14\",\"TV-PG\",\"TV-14\",\"NR\",\"TV-MA\",\"TV-14\",\"NR\",\"TV-MA\",\"TV-MA\",\"TV-MA\",\"R\",\"PG-13\",\"NR\",\"TV-G\",\"TV-MA\",\"NR\",\"TV-14\",\"TV-MA\",null,\"TV-MA\",\"TV-MA\",\"TV-MA\",\"NR\",\"NR\",\"TV-MA\",\"R\",\"TV-14\",\"TV-MA\",\"R\",\"PG-13\",\"TV-MA\",\"NR\",\"TV-PG\",\"TV-14\",\"TV-14\",\"NR\",\"TV-MA\",\"TV-MA\",\"NR\",\"TV-14\",\"NR\",\"R\",\"TV-14\",\"NR\",\"NR\",\"UR\",\"TV-14\",\"TV-MA\",\"PG\",\"TV-MA\",\"TV-14\",\"TV-MA\",\"PG-13\",\"TV-14\",\"TV-PG\",\"TV-Y7-FV\",\"TV-14\",\"NR\",\"TV-MA\",\"TV-MA\",\"PG\",\"TV-MA\",\"TV-PG\",\"TV-MA\",\"PG\",\"TV-14\",\"TV-MA\",\"TV-PG\",\"TV-MA\",\"TV-MA\",\"TV-PG\",\"TV-14\",\"TV-MA\",\"TV-MA\",\"TV-MA\",\"TV-14\",\"NR\",\"TV-MA\",\"TV-MA\",\"PG-13\",\"TV-PG\",\"TV-Y7\",\"NR\",\"TV-14\",\"PG\",\"NR\",\"NR\",\"TV-MA\",\"NR\",\"TV-MA\",\"TV-14\",\"NR\",\"TV-14\",\"TV-14\",\"TV-PG\",\"NR\",\"TV-MA\",\"PG-13\",\"TV-MA\",\"TV-14\",\"NR\",\"TV-G\",\"TV-14\",\"TV-MA\",\"NR\",\"TV-MA\",\"TV-PG\",\"TV-MA\",\"TV-MA\",\"TV-MA\",\"TV-MA\",\"NR\",\"NR\",\"TV-14\",\"UR\",\"PG-13\",\"TV-PG\",\"NR\",\"TV-PG\",\"NR\",\"TV-MA\",\"R\",\"NR\",\"TV-MA\",\"TV-Y7\",\"NR\",\"TV-Y7\",\"TV-14\",\"TV-MA\",\"TV-MA\",\"TV-MA\",\"TV-MA\",\"TV-MA\",\"TV-MA\",\"NR\",\"TV-MA\",\"TV-MA\",\"NR\",\"TV-MA\",null,\"TV-14\",\"TV-14\",\"TV-MA\",\"TV-14\",\"TV-MA\",\"TV-14\",\"NR\",\"NR\",\"TV-PG\",\"NR\",\"TV-Y7\",\"NR\",\"NR\",\"R\",\"TV-PG\",\"NR\",\"NR\",\"G\",\"TV-14\",\"TV-PG\",\"TV-PG\",\"TV-MA\",\"TV-MA\",\"TV-MA\",\"TV-MA\",\"TV-PG\",\"TV-14\",\"TV-MA\",\"NR\",\"NR\",\"TV-14\",\"TV-14\",\"TV-14\",\"TV-MA\",\"TV-MA\",\"TV-PG\",\"TV-MA\",\"TV-MA\",\"TV-MA\",\"TV-Y7\",\"TV-MA\",\"NR\",\"TV-14\",\"NR\",\"TV-MA\",\"TV-Y7\",\"TV-Y7\",\"NR\",\"TV-14\",\"NR\",\"TV-14\",\"TV-MA\",\"TV-14\",\"TV-MA\",\"TV-14\",\"TV-MA\",\"TV-MA\",\"TV-MA\",\"TV-MA\",\"TV-MA\",\"TV-MA\",\"TV-MA\",\"TV-MA\",null,\"NR\",\"TV-14\",\"R\",\"TV-14\",\"TV-PG\",\"TV-MA\",\"TV-PG\",\"NR\",\"TV-14\",\"TV-14\",\"TV-Y7\",\"TV-PG\",\"NR\",\"TV-MA\",\"TV-14\",\"TV-MA\",\"NC-17\",\"TV-14\",\"TV-MA\",\"TV-MA\",\"TV-PG\",\"TV-MA\",\"TV-14\",\"TV-14\",null,\"TV-14\",\"NR\",\"TV-14\",\"TV-PG\",\"TV-14\",\"TV-14\",\"TV-MA\",\"PG\",\"NR\",\"NR\",\"TV-MA\",\"TV-PG\",\"NR\",\"TV-PG\",\"TV-14\",\"TV-14\",\"TV-MA\",\"TV-14\",\"TV-14\",\"NR\",\"NR\",\"TV-MA\",\"TV-MA\",\"R\",\"NR\",\"NR\",\"TV-MA\",\"TV-MA\",\"TV-MA\",\"NR\",\"NR\",\"TV-PG\",\"NR\",\"NR\",\"NR\",\"NR\",\"TV-14\",\"TV-MA\",\"TV-MA\",\"PG-13\",\"R\",\"TV-MA\",\"TV-14\",\"TV-MA\",\"TV-MA\",\"NR\",\"TV-MA\",\"TV-PG\",\"TV-14\",\"NR\",\"TV-MA\",\"NR\",\"TV-14\",\"TV-MA\",\"TV-PG\",\"TV-MA\",\"TV-14\",\"NR\",\"TV-14\",\"TV-MA\",\"R\",\"NR\",\"NR\",\"NR\",\"NR\",\"R\",\"TV-MA\",\"R\",\"NR\",\"PG-13\",\"TV-G\",\"TV-PG\",\"PG\",\"R\",\"TV-MA\",\"TV-14\",\"TV-PG\",\"G\",\"NR\",\"TV-14\",\"TV-PG\",\"R\",\"NR\",\"NR\",\"NR\",\"TV-14\",\"PG-13\",\"PG\",\"TV-Y7\",\"TV-Y7-FV\",\"R\",\"R\",\"TV-MA\",\"NR\",\"TV-PG\",\"TV-PG\",\"TV-MA\",\"R\",\"R\",\"TV-MA\",\"NR\",\"TV-Y7-FV\",\"TV-Y7-FV\",\"TV-Y7-FV\",\"TV-Y7\",\"TV-Y7-FV\",\"TV-Y7-FV\",\"TV-Y7-FV\",\"TV-Y7-FV\",\"NR\",\"TV-MA\",null,null,\"TV-Y7-FV\",\"TV-Y\",\"TV-G\",\"TV-MA\",\"TV-G\",\"TV-MA\",\"NR\",\"TV-14\",\"TV-MA\",\"TV-14\",\"TV-Y\",\"TV-14\",\"NR\",\"TV-MA\",\"NR\",\"NR\",\"TV-G\",\"R\",\"TV-MA\",\"NR\",\"NR\",\"NR\",\"NR\",\"TV-14\",\"TV-Y7\",\"PG-13\",\"TV-PG\",\"NR\",\"NR\",\"PG-13\",\"TV-MA\",\"PG\",\"TV-14\",\"R\",\"R\",\"TV-MA\",\"TV-G\",\"NR\",\"NR\",\"NR\",\"NR\",\"NR\",\"TV-MA\",\"TV-14\",\"G\",\"PG\",\"TV-MA\",\"TV-PG\",\"TV-MA\",\"NR\",\"TV-MA\",\"NR\",\"NR\",\"TV-MA\",\"TV-MA\",\"TV-PG\",\"TV-Y\",\"PG\",\"NR\",\"NR\",\"TV-MA\",\"NR\",\"TV-MA\",\"PG\",\"TV-MA\",\"TV-14\",\"TV-Y7\",\"NR\",\"G\",\"NR\",\"PG\",\"TV-PG\",\"TV-MA\",\"TV-G\",\"PG\",\"NR\",\"NR\",\"NR\",\"NR\",\"TV-PG\",\"R\",\"TV-G\",\"PG\",\"NR\",\"NR\",\"NR\",\"NR\",\"TV-PG\",\"NR\",\"TV-PG\",\"NR\",\"TV-PG\",\"NR\",\"NR\",\"TV-PG\",\"NR\",\"NR\",\"TV-14\",\"NR\",\"NR\"],\"yaxis\":\"y\",\"type\":\"scattergl\"}],                        {\"template\":{\"data\":{\"histogram2dcontour\":[{\"type\":\"histogram2dcontour\",\"colorbar\":{\"outlinewidth\":0,\"ticks\":\"\"},\"colorscale\":[[0.0,\"#0d0887\"],[0.1111111111111111,\"#46039f\"],[0.2222222222222222,\"#7201a8\"],[0.3333333333333333,\"#9c179e\"],[0.4444444444444444,\"#bd3786\"],[0.5555555555555556,\"#d8576b\"],[0.6666666666666666,\"#ed7953\"],[0.7777777777777778,\"#fb9f3a\"],[0.8888888888888888,\"#fdca26\"],[1.0,\"#f0f921\"]]}],\"choropleth\":[{\"type\":\"choropleth\",\"colorbar\":{\"outlinewidth\":0,\"ticks\":\"\"}}],\"histogram2d\":[{\"type\":\"histogram2d\",\"colorbar\":{\"outlinewidth\":0,\"ticks\":\"\"},\"colorscale\":[[0.0,\"#0d0887\"],[0.1111111111111111,\"#46039f\"],[0.2222222222222222,\"#7201a8\"],[0.3333333333333333,\"#9c179e\"],[0.4444444444444444,\"#bd3786\"],[0.5555555555555556,\"#d8576b\"],[0.6666666666666666,\"#ed7953\"],[0.7777777777777778,\"#fb9f3a\"],[0.8888888888888888,\"#fdca26\"],[1.0,\"#f0f921\"]]}],\"heatmap\":[{\"type\":\"heatmap\",\"colorbar\":{\"outlinewidth\":0,\"ticks\":\"\"},\"colorscale\":[[0.0,\"#0d0887\"],[0.1111111111111111,\"#46039f\"],[0.2222222222222222,\"#7201a8\"],[0.3333333333333333,\"#9c179e\"],[0.4444444444444444,\"#bd3786\"],[0.5555555555555556,\"#d8576b\"],[0.6666666666666666,\"#ed7953\"],[0.7777777777777778,\"#fb9f3a\"],[0.8888888888888888,\"#fdca26\"],[1.0,\"#f0f921\"]]}],\"heatmapgl\":[{\"type\":\"heatmapgl\",\"colorbar\":{\"outlinewidth\":0,\"ticks\":\"\"},\"colorscale\":[[0.0,\"#0d0887\"],[0.1111111111111111,\"#46039f\"],[0.2222222222222222,\"#7201a8\"],[0.3333333333333333,\"#9c179e\"],[0.4444444444444444,\"#bd3786\"],[0.5555555555555556,\"#d8576b\"],[0.6666666666666666,\"#ed7953\"],[0.7777777777777778,\"#fb9f3a\"],[0.8888888888888888,\"#fdca26\"],[1.0,\"#f0f921\"]]}],\"contourcarpet\":[{\"type\":\"contourcarpet\",\"colorbar\":{\"outlinewidth\":0,\"ticks\":\"\"}}],\"contour\":[{\"type\":\"contour\",\"colorbar\":{\"outlinewidth\":0,\"ticks\":\"\"},\"colorscale\":[[0.0,\"#0d0887\"],[0.1111111111111111,\"#46039f\"],[0.2222222222222222,\"#7201a8\"],[0.3333333333333333,\"#9c179e\"],[0.4444444444444444,\"#bd3786\"],[0.5555555555555556,\"#d8576b\"],[0.6666666666666666,\"#ed7953\"],[0.7777777777777778,\"#fb9f3a\"],[0.8888888888888888,\"#fdca26\"],[1.0,\"#f0f921\"]]}],\"surface\":[{\"type\":\"surface\",\"colorbar\":{\"outlinewidth\":0,\"ticks\":\"\"},\"colorscale\":[[0.0,\"#0d0887\"],[0.1111111111111111,\"#46039f\"],[0.2222222222222222,\"#7201a8\"],[0.3333333333333333,\"#9c179e\"],[0.4444444444444444,\"#bd3786\"],[0.5555555555555556,\"#d8576b\"],[0.6666666666666666,\"#ed7953\"],[0.7777777777777778,\"#fb9f3a\"],[0.8888888888888888,\"#fdca26\"],[1.0,\"#f0f921\"]]}],\"mesh3d\":[{\"type\":\"mesh3d\",\"colorbar\":{\"outlinewidth\":0,\"ticks\":\"\"}}],\"scatter\":[{\"fillpattern\":{\"fillmode\":\"overlay\",\"size\":10,\"solidity\":0.2},\"type\":\"scatter\"}],\"parcoords\":[{\"type\":\"parcoords\",\"line\":{\"colorbar\":{\"outlinewidth\":0,\"ticks\":\"\"}}}],\"scatterpolargl\":[{\"type\":\"scatterpolargl\",\"marker\":{\"colorbar\":{\"outlinewidth\":0,\"ticks\":\"\"}}}],\"bar\":[{\"error_x\":{\"color\":\"#2a3f5f\"},\"error_y\":{\"color\":\"#2a3f5f\"},\"marker\":{\"line\":{\"color\":\"#E5ECF6\",\"width\":0.5},\"pattern\":{\"fillmode\":\"overlay\",\"size\":10,\"solidity\":0.2}},\"type\":\"bar\"}],\"scattergeo\":[{\"type\":\"scattergeo\",\"marker\":{\"colorbar\":{\"outlinewidth\":0,\"ticks\":\"\"}}}],\"scatterpolar\":[{\"type\":\"scatterpolar\",\"marker\":{\"colorbar\":{\"outlinewidth\":0,\"ticks\":\"\"}}}],\"histogram\":[{\"marker\":{\"pattern\":{\"fillmode\":\"overlay\",\"size\":10,\"solidity\":0.2}},\"type\":\"histogram\"}],\"scattergl\":[{\"type\":\"scattergl\",\"marker\":{\"colorbar\":{\"outlinewidth\":0,\"ticks\":\"\"}}}],\"scatter3d\":[{\"type\":\"scatter3d\",\"line\":{\"colorbar\":{\"outlinewidth\":0,\"ticks\":\"\"}},\"marker\":{\"colorbar\":{\"outlinewidth\":0,\"ticks\":\"\"}}}],\"scattermapbox\":[{\"type\":\"scattermapbox\",\"marker\":{\"colorbar\":{\"outlinewidth\":0,\"ticks\":\"\"}}}],\"scatterternary\":[{\"type\":\"scatterternary\",\"marker\":{\"colorbar\":{\"outlinewidth\":0,\"ticks\":\"\"}}}],\"scattercarpet\":[{\"type\":\"scattercarpet\",\"marker\":{\"colorbar\":{\"outlinewidth\":0,\"ticks\":\"\"}}}],\"carpet\":[{\"aaxis\":{\"endlinecolor\":\"#2a3f5f\",\"gridcolor\":\"white\",\"linecolor\":\"white\",\"minorgridcolor\":\"white\",\"startlinecolor\":\"#2a3f5f\"},\"baxis\":{\"endlinecolor\":\"#2a3f5f\",\"gridcolor\":\"white\",\"linecolor\":\"white\",\"minorgridcolor\":\"white\",\"startlinecolor\":\"#2a3f5f\"},\"type\":\"carpet\"}],\"table\":[{\"cells\":{\"fill\":{\"color\":\"#EBF0F8\"},\"line\":{\"color\":\"white\"}},\"header\":{\"fill\":{\"color\":\"#C8D4E3\"},\"line\":{\"color\":\"white\"}},\"type\":\"table\"}],\"barpolar\":[{\"marker\":{\"line\":{\"color\":\"#E5ECF6\",\"width\":0.5},\"pattern\":{\"fillmode\":\"overlay\",\"size\":10,\"solidity\":0.2}},\"type\":\"barpolar\"}],\"pie\":[{\"automargin\":true,\"type\":\"pie\"}]},\"layout\":{\"autotypenumbers\":\"strict\",\"colorway\":[\"#636efa\",\"#EF553B\",\"#00cc96\",\"#ab63fa\",\"#FFA15A\",\"#19d3f3\",\"#FF6692\",\"#B6E880\",\"#FF97FF\",\"#FECB52\"],\"font\":{\"color\":\"#2a3f5f\"},\"hovermode\":\"closest\",\"hoverlabel\":{\"align\":\"left\"},\"paper_bgcolor\":\"white\",\"plot_bgcolor\":\"#E5ECF6\",\"polar\":{\"bgcolor\":\"#E5ECF6\",\"angularaxis\":{\"gridcolor\":\"white\",\"linecolor\":\"white\",\"ticks\":\"\"},\"radialaxis\":{\"gridcolor\":\"white\",\"linecolor\":\"white\",\"ticks\":\"\"}},\"ternary\":{\"bgcolor\":\"#E5ECF6\",\"aaxis\":{\"gridcolor\":\"white\",\"linecolor\":\"white\",\"ticks\":\"\"},\"baxis\":{\"gridcolor\":\"white\",\"linecolor\":\"white\",\"ticks\":\"\"},\"caxis\":{\"gridcolor\":\"white\",\"linecolor\":\"white\",\"ticks\":\"\"}},\"coloraxis\":{\"colorbar\":{\"outlinewidth\":0,\"ticks\":\"\"}},\"colorscale\":{\"sequential\":[[0.0,\"#0d0887\"],[0.1111111111111111,\"#46039f\"],[0.2222222222222222,\"#7201a8\"],[0.3333333333333333,\"#9c179e\"],[0.4444444444444444,\"#bd3786\"],[0.5555555555555556,\"#d8576b\"],[0.6666666666666666,\"#ed7953\"],[0.7777777777777778,\"#fb9f3a\"],[0.8888888888888888,\"#fdca26\"],[1.0,\"#f0f921\"]],\"sequentialminus\":[[0.0,\"#0d0887\"],[0.1111111111111111,\"#46039f\"],[0.2222222222222222,\"#7201a8\"],[0.3333333333333333,\"#9c179e\"],[0.4444444444444444,\"#bd3786\"],[0.5555555555555556,\"#d8576b\"],[0.6666666666666666,\"#ed7953\"],[0.7777777777777778,\"#fb9f3a\"],[0.8888888888888888,\"#fdca26\"],[1.0,\"#f0f921\"]],\"diverging\":[[0,\"#8e0152\"],[0.1,\"#c51b7d\"],[0.2,\"#de77ae\"],[0.3,\"#f1b6da\"],[0.4,\"#fde0ef\"],[0.5,\"#f7f7f7\"],[0.6,\"#e6f5d0\"],[0.7,\"#b8e186\"],[0.8,\"#7fbc41\"],[0.9,\"#4d9221\"],[1,\"#276419\"]]},\"xaxis\":{\"gridcolor\":\"white\",\"linecolor\":\"white\",\"ticks\":\"\",\"title\":{\"standoff\":15},\"zerolinecolor\":\"white\",\"automargin\":true,\"zerolinewidth\":2},\"yaxis\":{\"gridcolor\":\"white\",\"linecolor\":\"white\",\"ticks\":\"\",\"title\":{\"standoff\":15},\"zerolinecolor\":\"white\",\"automargin\":true,\"zerolinewidth\":2},\"scene\":{\"xaxis\":{\"backgroundcolor\":\"#E5ECF6\",\"gridcolor\":\"white\",\"linecolor\":\"white\",\"showbackground\":true,\"ticks\":\"\",\"zerolinecolor\":\"white\",\"gridwidth\":2},\"yaxis\":{\"backgroundcolor\":\"#E5ECF6\",\"gridcolor\":\"white\",\"linecolor\":\"white\",\"showbackground\":true,\"ticks\":\"\",\"zerolinecolor\":\"white\",\"gridwidth\":2},\"zaxis\":{\"backgroundcolor\":\"#E5ECF6\",\"gridcolor\":\"white\",\"linecolor\":\"white\",\"showbackground\":true,\"ticks\":\"\",\"zerolinecolor\":\"white\",\"gridwidth\":2}},\"shapedefaults\":{\"line\":{\"color\":\"#2a3f5f\"}},\"annotationdefaults\":{\"arrowcolor\":\"#2a3f5f\",\"arrowhead\":0,\"arrowwidth\":1},\"geo\":{\"bgcolor\":\"white\",\"landcolor\":\"#E5ECF6\",\"subunitcolor\":\"white\",\"showland\":true,\"showlakes\":true,\"lakecolor\":\"white\"},\"title\":{\"x\":0.05},\"mapbox\":{\"style\":\"light\"}}},\"xaxis\":{\"anchor\":\"y\",\"domain\":[0.0,1.0],\"title\":{\"text\":\"duration_minutes\"}},\"yaxis\":{\"anchor\":\"x\",\"domain\":[0.0,1.0],\"title\":{\"text\":\"rating\"}},\"legend\":{\"tracegroupgap\":0},\"title\":{\"text\":\"Movie Duration vs. Rating\"}},                        {\"responsive\": true}                    ).then(function(){\n",
              "                            \n",
              "var gd = document.getElementById('b5032454-65d6-4846-9d07-87fd2af6a438');\n",
              "var x = new MutationObserver(function (mutations, observer) {{\n",
              "        var display = window.getComputedStyle(gd).display;\n",
              "        if (!display || display === 'none') {{\n",
              "            console.log([gd, 'removed!']);\n",
              "            Plotly.purge(gd);\n",
              "            observer.disconnect();\n",
              "        }}\n",
              "}});\n",
              "\n",
              "// Listen for the removal of the full notebook cells\n",
              "var notebookContainer = gd.closest('#notebook-container');\n",
              "if (notebookContainer) {{\n",
              "    x.observe(notebookContainer, {childList: true});\n",
              "}}\n",
              "\n",
              "// Listen for the clearing of the current output cell\n",
              "var outputEl = gd.closest('.output');\n",
              "if (outputEl) {{\n",
              "    x.observe(outputEl, {childList: true});\n",
              "}}\n",
              "\n",
              "                        })                };                            </script>        </div>\n",
              "</body>\n",
              "</html>"
            ]
          },
          "metadata": {}
        }
      ]
    },
    {
      "source": [
        "from collections import Counter\n",
        "import plotly.express as px\n",
        "\n",
        "# Combine all genres into a single list\n",
        "all_genres = []\n",
        "for index, row in df.iterrows():\n",
        "  genres = str(row['listed_in']).split(', ')\n",
        "  all_genres.extend(genres)\n",
        "\n",
        "# Count the occurrences of each genre\n",
        "genre_counts = Counter(all_genres)\n",
        "\n",
        "# Create a bar chart of the top 10 genres\n",
        "top_genres = genre_counts.most_common(10)\n",
        "genre_df = pd.DataFrame(top_genres, columns=['Genre', 'Count'])\n",
        "fig = px.bar(genre_df, x='Genre', y='Count',\n",
        "             title='Top 10 Genres on Netflix')\n",
        "fig.show()"
      ],
      "cell_type": "code",
      "metadata": {
        "colab": {
          "base_uri": "https://localhost:8080/",
          "height": 542
        },
        "id": "9KdAN9Ep9f1l",
        "outputId": "9ec473b4-8791-4c52-f35e-fdebc53f7204"
      },
      "execution_count": 6,
      "outputs": [
        {
          "output_type": "display_data",
          "data": {
            "text/html": [
              "<html>\n",
              "<head><meta charset=\"utf-8\" /></head>\n",
              "<body>\n",
              "    <div>            <script src=\"https://cdnjs.cloudflare.com/ajax/libs/mathjax/2.7.5/MathJax.js?config=TeX-AMS-MML_SVG\"></script><script type=\"text/javascript\">if (window.MathJax && window.MathJax.Hub && window.MathJax.Hub.Config) {window.MathJax.Hub.Config({SVG: {font: \"STIX-Web\"}});}</script>                <script type=\"text/javascript\">window.PlotlyConfig = {MathJaxConfig: 'local'};</script>\n",
              "        <script charset=\"utf-8\" src=\"https://cdn.plot.ly/plotly-2.35.2.min.js\"></script>                <div id=\"cdfaca8a-0261-42fb-bf56-53ee100623e4\" class=\"plotly-graph-div\" style=\"height:525px; width:100%;\"></div>            <script type=\"text/javascript\">                                    window.PLOTLYENV=window.PLOTLYENV || {};                                    if (document.getElementById(\"cdfaca8a-0261-42fb-bf56-53ee100623e4\")) {                    Plotly.newPlot(                        \"cdfaca8a-0261-42fb-bf56-53ee100623e4\",                        [{\"alignmentgroup\":\"True\",\"hovertemplate\":\"Genre=%{x}\\u003cbr\\u003eCount=%{y}\\u003cextra\\u003e\\u003c\\u002fextra\\u003e\",\"legendgroup\":\"\",\"marker\":{\"color\":\"#636efa\",\"pattern\":{\"shape\":\"\"}},\"name\":\"\",\"offsetgroup\":\"\",\"orientation\":\"v\",\"showlegend\":false,\"textposition\":\"auto\",\"x\":[\"International Movies\",\"Dramas\",\"Comedies\",\"International TV Shows\",\"Documentaries\",\"TV Dramas\",\"Action & Adventure\",\"Independent Movies\",\"TV Comedies\",\"Crime TV Shows\"],\"xaxis\":\"x\",\"y\":[1797,1488,992,965,658,573,532,516,425,355],\"yaxis\":\"y\",\"type\":\"bar\"}],                        {\"template\":{\"data\":{\"histogram2dcontour\":[{\"type\":\"histogram2dcontour\",\"colorbar\":{\"outlinewidth\":0,\"ticks\":\"\"},\"colorscale\":[[0.0,\"#0d0887\"],[0.1111111111111111,\"#46039f\"],[0.2222222222222222,\"#7201a8\"],[0.3333333333333333,\"#9c179e\"],[0.4444444444444444,\"#bd3786\"],[0.5555555555555556,\"#d8576b\"],[0.6666666666666666,\"#ed7953\"],[0.7777777777777778,\"#fb9f3a\"],[0.8888888888888888,\"#fdca26\"],[1.0,\"#f0f921\"]]}],\"choropleth\":[{\"type\":\"choropleth\",\"colorbar\":{\"outlinewidth\":0,\"ticks\":\"\"}}],\"histogram2d\":[{\"type\":\"histogram2d\",\"colorbar\":{\"outlinewidth\":0,\"ticks\":\"\"},\"colorscale\":[[0.0,\"#0d0887\"],[0.1111111111111111,\"#46039f\"],[0.2222222222222222,\"#7201a8\"],[0.3333333333333333,\"#9c179e\"],[0.4444444444444444,\"#bd3786\"],[0.5555555555555556,\"#d8576b\"],[0.6666666666666666,\"#ed7953\"],[0.7777777777777778,\"#fb9f3a\"],[0.8888888888888888,\"#fdca26\"],[1.0,\"#f0f921\"]]}],\"heatmap\":[{\"type\":\"heatmap\",\"colorbar\":{\"outlinewidth\":0,\"ticks\":\"\"},\"colorscale\":[[0.0,\"#0d0887\"],[0.1111111111111111,\"#46039f\"],[0.2222222222222222,\"#7201a8\"],[0.3333333333333333,\"#9c179e\"],[0.4444444444444444,\"#bd3786\"],[0.5555555555555556,\"#d8576b\"],[0.6666666666666666,\"#ed7953\"],[0.7777777777777778,\"#fb9f3a\"],[0.8888888888888888,\"#fdca26\"],[1.0,\"#f0f921\"]]}],\"heatmapgl\":[{\"type\":\"heatmapgl\",\"colorbar\":{\"outlinewidth\":0,\"ticks\":\"\"},\"colorscale\":[[0.0,\"#0d0887\"],[0.1111111111111111,\"#46039f\"],[0.2222222222222222,\"#7201a8\"],[0.3333333333333333,\"#9c179e\"],[0.4444444444444444,\"#bd3786\"],[0.5555555555555556,\"#d8576b\"],[0.6666666666666666,\"#ed7953\"],[0.7777777777777778,\"#fb9f3a\"],[0.8888888888888888,\"#fdca26\"],[1.0,\"#f0f921\"]]}],\"contourcarpet\":[{\"type\":\"contourcarpet\",\"colorbar\":{\"outlinewidth\":0,\"ticks\":\"\"}}],\"contour\":[{\"type\":\"contour\",\"colorbar\":{\"outlinewidth\":0,\"ticks\":\"\"},\"colorscale\":[[0.0,\"#0d0887\"],[0.1111111111111111,\"#46039f\"],[0.2222222222222222,\"#7201a8\"],[0.3333333333333333,\"#9c179e\"],[0.4444444444444444,\"#bd3786\"],[0.5555555555555556,\"#d8576b\"],[0.6666666666666666,\"#ed7953\"],[0.7777777777777778,\"#fb9f3a\"],[0.8888888888888888,\"#fdca26\"],[1.0,\"#f0f921\"]]}],\"surface\":[{\"type\":\"surface\",\"colorbar\":{\"outlinewidth\":0,\"ticks\":\"\"},\"colorscale\":[[0.0,\"#0d0887\"],[0.1111111111111111,\"#46039f\"],[0.2222222222222222,\"#7201a8\"],[0.3333333333333333,\"#9c179e\"],[0.4444444444444444,\"#bd3786\"],[0.5555555555555556,\"#d8576b\"],[0.6666666666666666,\"#ed7953\"],[0.7777777777777778,\"#fb9f3a\"],[0.8888888888888888,\"#fdca26\"],[1.0,\"#f0f921\"]]}],\"mesh3d\":[{\"type\":\"mesh3d\",\"colorbar\":{\"outlinewidth\":0,\"ticks\":\"\"}}],\"scatter\":[{\"fillpattern\":{\"fillmode\":\"overlay\",\"size\":10,\"solidity\":0.2},\"type\":\"scatter\"}],\"parcoords\":[{\"type\":\"parcoords\",\"line\":{\"colorbar\":{\"outlinewidth\":0,\"ticks\":\"\"}}}],\"scatterpolargl\":[{\"type\":\"scatterpolargl\",\"marker\":{\"colorbar\":{\"outlinewidth\":0,\"ticks\":\"\"}}}],\"bar\":[{\"error_x\":{\"color\":\"#2a3f5f\"},\"error_y\":{\"color\":\"#2a3f5f\"},\"marker\":{\"line\":{\"color\":\"#E5ECF6\",\"width\":0.5},\"pattern\":{\"fillmode\":\"overlay\",\"size\":10,\"solidity\":0.2}},\"type\":\"bar\"}],\"scattergeo\":[{\"type\":\"scattergeo\",\"marker\":{\"colorbar\":{\"outlinewidth\":0,\"ticks\":\"\"}}}],\"scatterpolar\":[{\"type\":\"scatterpolar\",\"marker\":{\"colorbar\":{\"outlinewidth\":0,\"ticks\":\"\"}}}],\"histogram\":[{\"marker\":{\"pattern\":{\"fillmode\":\"overlay\",\"size\":10,\"solidity\":0.2}},\"type\":\"histogram\"}],\"scattergl\":[{\"type\":\"scattergl\",\"marker\":{\"colorbar\":{\"outlinewidth\":0,\"ticks\":\"\"}}}],\"scatter3d\":[{\"type\":\"scatter3d\",\"line\":{\"colorbar\":{\"outlinewidth\":0,\"ticks\":\"\"}},\"marker\":{\"colorbar\":{\"outlinewidth\":0,\"ticks\":\"\"}}}],\"scattermapbox\":[{\"type\":\"scattermapbox\",\"marker\":{\"colorbar\":{\"outlinewidth\":0,\"ticks\":\"\"}}}],\"scatterternary\":[{\"type\":\"scatterternary\",\"marker\":{\"colorbar\":{\"outlinewidth\":0,\"ticks\":\"\"}}}],\"scattercarpet\":[{\"type\":\"scattercarpet\",\"marker\":{\"colorbar\":{\"outlinewidth\":0,\"ticks\":\"\"}}}],\"carpet\":[{\"aaxis\":{\"endlinecolor\":\"#2a3f5f\",\"gridcolor\":\"white\",\"linecolor\":\"white\",\"minorgridcolor\":\"white\",\"startlinecolor\":\"#2a3f5f\"},\"baxis\":{\"endlinecolor\":\"#2a3f5f\",\"gridcolor\":\"white\",\"linecolor\":\"white\",\"minorgridcolor\":\"white\",\"startlinecolor\":\"#2a3f5f\"},\"type\":\"carpet\"}],\"table\":[{\"cells\":{\"fill\":{\"color\":\"#EBF0F8\"},\"line\":{\"color\":\"white\"}},\"header\":{\"fill\":{\"color\":\"#C8D4E3\"},\"line\":{\"color\":\"white\"}},\"type\":\"table\"}],\"barpolar\":[{\"marker\":{\"line\":{\"color\":\"#E5ECF6\",\"width\":0.5},\"pattern\":{\"fillmode\":\"overlay\",\"size\":10,\"solidity\":0.2}},\"type\":\"barpolar\"}],\"pie\":[{\"automargin\":true,\"type\":\"pie\"}]},\"layout\":{\"autotypenumbers\":\"strict\",\"colorway\":[\"#636efa\",\"#EF553B\",\"#00cc96\",\"#ab63fa\",\"#FFA15A\",\"#19d3f3\",\"#FF6692\",\"#B6E880\",\"#FF97FF\",\"#FECB52\"],\"font\":{\"color\":\"#2a3f5f\"},\"hovermode\":\"closest\",\"hoverlabel\":{\"align\":\"left\"},\"paper_bgcolor\":\"white\",\"plot_bgcolor\":\"#E5ECF6\",\"polar\":{\"bgcolor\":\"#E5ECF6\",\"angularaxis\":{\"gridcolor\":\"white\",\"linecolor\":\"white\",\"ticks\":\"\"},\"radialaxis\":{\"gridcolor\":\"white\",\"linecolor\":\"white\",\"ticks\":\"\"}},\"ternary\":{\"bgcolor\":\"#E5ECF6\",\"aaxis\":{\"gridcolor\":\"white\",\"linecolor\":\"white\",\"ticks\":\"\"},\"baxis\":{\"gridcolor\":\"white\",\"linecolor\":\"white\",\"ticks\":\"\"},\"caxis\":{\"gridcolor\":\"white\",\"linecolor\":\"white\",\"ticks\":\"\"}},\"coloraxis\":{\"colorbar\":{\"outlinewidth\":0,\"ticks\":\"\"}},\"colorscale\":{\"sequential\":[[0.0,\"#0d0887\"],[0.1111111111111111,\"#46039f\"],[0.2222222222222222,\"#7201a8\"],[0.3333333333333333,\"#9c179e\"],[0.4444444444444444,\"#bd3786\"],[0.5555555555555556,\"#d8576b\"],[0.6666666666666666,\"#ed7953\"],[0.7777777777777778,\"#fb9f3a\"],[0.8888888888888888,\"#fdca26\"],[1.0,\"#f0f921\"]],\"sequentialminus\":[[0.0,\"#0d0887\"],[0.1111111111111111,\"#46039f\"],[0.2222222222222222,\"#7201a8\"],[0.3333333333333333,\"#9c179e\"],[0.4444444444444444,\"#bd3786\"],[0.5555555555555556,\"#d8576b\"],[0.6666666666666666,\"#ed7953\"],[0.7777777777777778,\"#fb9f3a\"],[0.8888888888888888,\"#fdca26\"],[1.0,\"#f0f921\"]],\"diverging\":[[0,\"#8e0152\"],[0.1,\"#c51b7d\"],[0.2,\"#de77ae\"],[0.3,\"#f1b6da\"],[0.4,\"#fde0ef\"],[0.5,\"#f7f7f7\"],[0.6,\"#e6f5d0\"],[0.7,\"#b8e186\"],[0.8,\"#7fbc41\"],[0.9,\"#4d9221\"],[1,\"#276419\"]]},\"xaxis\":{\"gridcolor\":\"white\",\"linecolor\":\"white\",\"ticks\":\"\",\"title\":{\"standoff\":15},\"zerolinecolor\":\"white\",\"automargin\":true,\"zerolinewidth\":2},\"yaxis\":{\"gridcolor\":\"white\",\"linecolor\":\"white\",\"ticks\":\"\",\"title\":{\"standoff\":15},\"zerolinecolor\":\"white\",\"automargin\":true,\"zerolinewidth\":2},\"scene\":{\"xaxis\":{\"backgroundcolor\":\"#E5ECF6\",\"gridcolor\":\"white\",\"linecolor\":\"white\",\"showbackground\":true,\"ticks\":\"\",\"zerolinecolor\":\"white\",\"gridwidth\":2},\"yaxis\":{\"backgroundcolor\":\"#E5ECF6\",\"gridcolor\":\"white\",\"linecolor\":\"white\",\"showbackground\":true,\"ticks\":\"\",\"zerolinecolor\":\"white\",\"gridwidth\":2},\"zaxis\":{\"backgroundcolor\":\"#E5ECF6\",\"gridcolor\":\"white\",\"linecolor\":\"white\",\"showbackground\":true,\"ticks\":\"\",\"zerolinecolor\":\"white\",\"gridwidth\":2}},\"shapedefaults\":{\"line\":{\"color\":\"#2a3f5f\"}},\"annotationdefaults\":{\"arrowcolor\":\"#2a3f5f\",\"arrowhead\":0,\"arrowwidth\":1},\"geo\":{\"bgcolor\":\"white\",\"landcolor\":\"#E5ECF6\",\"subunitcolor\":\"white\",\"showland\":true,\"showlakes\":true,\"lakecolor\":\"white\"},\"title\":{\"x\":0.05},\"mapbox\":{\"style\":\"light\"}}},\"xaxis\":{\"anchor\":\"y\",\"domain\":[0.0,1.0],\"title\":{\"text\":\"Genre\"}},\"yaxis\":{\"anchor\":\"x\",\"domain\":[0.0,1.0],\"title\":{\"text\":\"Count\"}},\"legend\":{\"tracegroupgap\":0},\"title\":{\"text\":\"Top 10 Genres on Netflix\"},\"barmode\":\"relative\"},                        {\"responsive\": true}                    ).then(function(){\n",
              "                            \n",
              "var gd = document.getElementById('cdfaca8a-0261-42fb-bf56-53ee100623e4');\n",
              "var x = new MutationObserver(function (mutations, observer) {{\n",
              "        var display = window.getComputedStyle(gd).display;\n",
              "        if (!display || display === 'none') {{\n",
              "            console.log([gd, 'removed!']);\n",
              "            Plotly.purge(gd);\n",
              "            observer.disconnect();\n",
              "        }}\n",
              "}});\n",
              "\n",
              "// Listen for the removal of the full notebook cells\n",
              "var notebookContainer = gd.closest('#notebook-container');\n",
              "if (notebookContainer) {{\n",
              "    x.observe(notebookContainer, {childList: true});\n",
              "}}\n",
              "\n",
              "// Listen for the clearing of the current output cell\n",
              "var outputEl = gd.closest('.output');\n",
              "if (outputEl) {{\n",
              "    x.observe(outputEl, {childList: true});\n",
              "}}\n",
              "\n",
              "                        })                };                            </script>        </div>\n",
              "</body>\n",
              "</html>"
            ]
          },
          "metadata": {}
        }
      ]
    },
    {
      "source": [
        "import plotly.express as px\n",
        "\n",
        "# Create a DataFrame with countries and their counts\n",
        "country_counts = df['country'].value_counts().reset_index()\n",
        "country_counts.columns = ['Country', 'Count']\n",
        "\n",
        "# Create a bar chart of the top 10 countries\n",
        "top_countries = country_counts.head(10)\n",
        "fig = px.bar(top_countries, x='Country', y='Count',\n",
        "             title='Top 10 Content Producing Countries on Netflix')\n",
        "fig.show()"
      ],
      "cell_type": "code",
      "metadata": {
        "colab": {
          "base_uri": "https://localhost:8080/",
          "height": 542
        },
        "id": "2r5Au8zN9p8f",
        "outputId": "78bd272c-17e2-4df1-e21b-87207ea03c2f"
      },
      "execution_count": 7,
      "outputs": [
        {
          "output_type": "display_data",
          "data": {
            "text/html": [
              "<html>\n",
              "<head><meta charset=\"utf-8\" /></head>\n",
              "<body>\n",
              "    <div>            <script src=\"https://cdnjs.cloudflare.com/ajax/libs/mathjax/2.7.5/MathJax.js?config=TeX-AMS-MML_SVG\"></script><script type=\"text/javascript\">if (window.MathJax && window.MathJax.Hub && window.MathJax.Hub.Config) {window.MathJax.Hub.Config({SVG: {font: \"STIX-Web\"}});}</script>                <script type=\"text/javascript\">window.PlotlyConfig = {MathJaxConfig: 'local'};</script>\n",
              "        <script charset=\"utf-8\" src=\"https://cdn.plot.ly/plotly-2.35.2.min.js\"></script>                <div id=\"de3fe2b9-a5a8-4f6e-9ba9-6fd0d947de0c\" class=\"plotly-graph-div\" style=\"height:525px; width:100%;\"></div>            <script type=\"text/javascript\">                                    window.PLOTLYENV=window.PLOTLYENV || {};                                    if (document.getElementById(\"de3fe2b9-a5a8-4f6e-9ba9-6fd0d947de0c\")) {                    Plotly.newPlot(                        \"de3fe2b9-a5a8-4f6e-9ba9-6fd0d947de0c\",                        [{\"alignmentgroup\":\"True\",\"hovertemplate\":\"Country=%{x}\\u003cbr\\u003eCount=%{y}\\u003cextra\\u003e\\u003c\\u002fextra\\u003e\",\"legendgroup\":\"\",\"marker\":{\"color\":\"#636efa\",\"pattern\":{\"shape\":\"\"}},\"name\":\"\",\"offsetgroup\":\"\",\"orientation\":\"v\",\"showlegend\":false,\"textposition\":\"auto\",\"x\":[\"United States\",\"India\",\"United Kingdom\",\"Japan\",\"Canada\",\"South Korea\",\"Spain\",\"France\",\"Mexico\",\"Turkey\"],\"xaxis\":\"x\",\"y\":[1907,697,336,168,139,133,113,85,80,78],\"yaxis\":\"y\",\"type\":\"bar\"}],                        {\"template\":{\"data\":{\"histogram2dcontour\":[{\"type\":\"histogram2dcontour\",\"colorbar\":{\"outlinewidth\":0,\"ticks\":\"\"},\"colorscale\":[[0.0,\"#0d0887\"],[0.1111111111111111,\"#46039f\"],[0.2222222222222222,\"#7201a8\"],[0.3333333333333333,\"#9c179e\"],[0.4444444444444444,\"#bd3786\"],[0.5555555555555556,\"#d8576b\"],[0.6666666666666666,\"#ed7953\"],[0.7777777777777778,\"#fb9f3a\"],[0.8888888888888888,\"#fdca26\"],[1.0,\"#f0f921\"]]}],\"choropleth\":[{\"type\":\"choropleth\",\"colorbar\":{\"outlinewidth\":0,\"ticks\":\"\"}}],\"histogram2d\":[{\"type\":\"histogram2d\",\"colorbar\":{\"outlinewidth\":0,\"ticks\":\"\"},\"colorscale\":[[0.0,\"#0d0887\"],[0.1111111111111111,\"#46039f\"],[0.2222222222222222,\"#7201a8\"],[0.3333333333333333,\"#9c179e\"],[0.4444444444444444,\"#bd3786\"],[0.5555555555555556,\"#d8576b\"],[0.6666666666666666,\"#ed7953\"],[0.7777777777777778,\"#fb9f3a\"],[0.8888888888888888,\"#fdca26\"],[1.0,\"#f0f921\"]]}],\"heatmap\":[{\"type\":\"heatmap\",\"colorbar\":{\"outlinewidth\":0,\"ticks\":\"\"},\"colorscale\":[[0.0,\"#0d0887\"],[0.1111111111111111,\"#46039f\"],[0.2222222222222222,\"#7201a8\"],[0.3333333333333333,\"#9c179e\"],[0.4444444444444444,\"#bd3786\"],[0.5555555555555556,\"#d8576b\"],[0.6666666666666666,\"#ed7953\"],[0.7777777777777778,\"#fb9f3a\"],[0.8888888888888888,\"#fdca26\"],[1.0,\"#f0f921\"]]}],\"heatmapgl\":[{\"type\":\"heatmapgl\",\"colorbar\":{\"outlinewidth\":0,\"ticks\":\"\"},\"colorscale\":[[0.0,\"#0d0887\"],[0.1111111111111111,\"#46039f\"],[0.2222222222222222,\"#7201a8\"],[0.3333333333333333,\"#9c179e\"],[0.4444444444444444,\"#bd3786\"],[0.5555555555555556,\"#d8576b\"],[0.6666666666666666,\"#ed7953\"],[0.7777777777777778,\"#fb9f3a\"],[0.8888888888888888,\"#fdca26\"],[1.0,\"#f0f921\"]]}],\"contourcarpet\":[{\"type\":\"contourcarpet\",\"colorbar\":{\"outlinewidth\":0,\"ticks\":\"\"}}],\"contour\":[{\"type\":\"contour\",\"colorbar\":{\"outlinewidth\":0,\"ticks\":\"\"},\"colorscale\":[[0.0,\"#0d0887\"],[0.1111111111111111,\"#46039f\"],[0.2222222222222222,\"#7201a8\"],[0.3333333333333333,\"#9c179e\"],[0.4444444444444444,\"#bd3786\"],[0.5555555555555556,\"#d8576b\"],[0.6666666666666666,\"#ed7953\"],[0.7777777777777778,\"#fb9f3a\"],[0.8888888888888888,\"#fdca26\"],[1.0,\"#f0f921\"]]}],\"surface\":[{\"type\":\"surface\",\"colorbar\":{\"outlinewidth\":0,\"ticks\":\"\"},\"colorscale\":[[0.0,\"#0d0887\"],[0.1111111111111111,\"#46039f\"],[0.2222222222222222,\"#7201a8\"],[0.3333333333333333,\"#9c179e\"],[0.4444444444444444,\"#bd3786\"],[0.5555555555555556,\"#d8576b\"],[0.6666666666666666,\"#ed7953\"],[0.7777777777777778,\"#fb9f3a\"],[0.8888888888888888,\"#fdca26\"],[1.0,\"#f0f921\"]]}],\"mesh3d\":[{\"type\":\"mesh3d\",\"colorbar\":{\"outlinewidth\":0,\"ticks\":\"\"}}],\"scatter\":[{\"fillpattern\":{\"fillmode\":\"overlay\",\"size\":10,\"solidity\":0.2},\"type\":\"scatter\"}],\"parcoords\":[{\"type\":\"parcoords\",\"line\":{\"colorbar\":{\"outlinewidth\":0,\"ticks\":\"\"}}}],\"scatterpolargl\":[{\"type\":\"scatterpolargl\",\"marker\":{\"colorbar\":{\"outlinewidth\":0,\"ticks\":\"\"}}}],\"bar\":[{\"error_x\":{\"color\":\"#2a3f5f\"},\"error_y\":{\"color\":\"#2a3f5f\"},\"marker\":{\"line\":{\"color\":\"#E5ECF6\",\"width\":0.5},\"pattern\":{\"fillmode\":\"overlay\",\"size\":10,\"solidity\":0.2}},\"type\":\"bar\"}],\"scattergeo\":[{\"type\":\"scattergeo\",\"marker\":{\"colorbar\":{\"outlinewidth\":0,\"ticks\":\"\"}}}],\"scatterpolar\":[{\"type\":\"scatterpolar\",\"marker\":{\"colorbar\":{\"outlinewidth\":0,\"ticks\":\"\"}}}],\"histogram\":[{\"marker\":{\"pattern\":{\"fillmode\":\"overlay\",\"size\":10,\"solidity\":0.2}},\"type\":\"histogram\"}],\"scattergl\":[{\"type\":\"scattergl\",\"marker\":{\"colorbar\":{\"outlinewidth\":0,\"ticks\":\"\"}}}],\"scatter3d\":[{\"type\":\"scatter3d\",\"line\":{\"colorbar\":{\"outlinewidth\":0,\"ticks\":\"\"}},\"marker\":{\"colorbar\":{\"outlinewidth\":0,\"ticks\":\"\"}}}],\"scattermapbox\":[{\"type\":\"scattermapbox\",\"marker\":{\"colorbar\":{\"outlinewidth\":0,\"ticks\":\"\"}}}],\"scatterternary\":[{\"type\":\"scatterternary\",\"marker\":{\"colorbar\":{\"outlinewidth\":0,\"ticks\":\"\"}}}],\"scattercarpet\":[{\"type\":\"scattercarpet\",\"marker\":{\"colorbar\":{\"outlinewidth\":0,\"ticks\":\"\"}}}],\"carpet\":[{\"aaxis\":{\"endlinecolor\":\"#2a3f5f\",\"gridcolor\":\"white\",\"linecolor\":\"white\",\"minorgridcolor\":\"white\",\"startlinecolor\":\"#2a3f5f\"},\"baxis\":{\"endlinecolor\":\"#2a3f5f\",\"gridcolor\":\"white\",\"linecolor\":\"white\",\"minorgridcolor\":\"white\",\"startlinecolor\":\"#2a3f5f\"},\"type\":\"carpet\"}],\"table\":[{\"cells\":{\"fill\":{\"color\":\"#EBF0F8\"},\"line\":{\"color\":\"white\"}},\"header\":{\"fill\":{\"color\":\"#C8D4E3\"},\"line\":{\"color\":\"white\"}},\"type\":\"table\"}],\"barpolar\":[{\"marker\":{\"line\":{\"color\":\"#E5ECF6\",\"width\":0.5},\"pattern\":{\"fillmode\":\"overlay\",\"size\":10,\"solidity\":0.2}},\"type\":\"barpolar\"}],\"pie\":[{\"automargin\":true,\"type\":\"pie\"}]},\"layout\":{\"autotypenumbers\":\"strict\",\"colorway\":[\"#636efa\",\"#EF553B\",\"#00cc96\",\"#ab63fa\",\"#FFA15A\",\"#19d3f3\",\"#FF6692\",\"#B6E880\",\"#FF97FF\",\"#FECB52\"],\"font\":{\"color\":\"#2a3f5f\"},\"hovermode\":\"closest\",\"hoverlabel\":{\"align\":\"left\"},\"paper_bgcolor\":\"white\",\"plot_bgcolor\":\"#E5ECF6\",\"polar\":{\"bgcolor\":\"#E5ECF6\",\"angularaxis\":{\"gridcolor\":\"white\",\"linecolor\":\"white\",\"ticks\":\"\"},\"radialaxis\":{\"gridcolor\":\"white\",\"linecolor\":\"white\",\"ticks\":\"\"}},\"ternary\":{\"bgcolor\":\"#E5ECF6\",\"aaxis\":{\"gridcolor\":\"white\",\"linecolor\":\"white\",\"ticks\":\"\"},\"baxis\":{\"gridcolor\":\"white\",\"linecolor\":\"white\",\"ticks\":\"\"},\"caxis\":{\"gridcolor\":\"white\",\"linecolor\":\"white\",\"ticks\":\"\"}},\"coloraxis\":{\"colorbar\":{\"outlinewidth\":0,\"ticks\":\"\"}},\"colorscale\":{\"sequential\":[[0.0,\"#0d0887\"],[0.1111111111111111,\"#46039f\"],[0.2222222222222222,\"#7201a8\"],[0.3333333333333333,\"#9c179e\"],[0.4444444444444444,\"#bd3786\"],[0.5555555555555556,\"#d8576b\"],[0.6666666666666666,\"#ed7953\"],[0.7777777777777778,\"#fb9f3a\"],[0.8888888888888888,\"#fdca26\"],[1.0,\"#f0f921\"]],\"sequentialminus\":[[0.0,\"#0d0887\"],[0.1111111111111111,\"#46039f\"],[0.2222222222222222,\"#7201a8\"],[0.3333333333333333,\"#9c179e\"],[0.4444444444444444,\"#bd3786\"],[0.5555555555555556,\"#d8576b\"],[0.6666666666666666,\"#ed7953\"],[0.7777777777777778,\"#fb9f3a\"],[0.8888888888888888,\"#fdca26\"],[1.0,\"#f0f921\"]],\"diverging\":[[0,\"#8e0152\"],[0.1,\"#c51b7d\"],[0.2,\"#de77ae\"],[0.3,\"#f1b6da\"],[0.4,\"#fde0ef\"],[0.5,\"#f7f7f7\"],[0.6,\"#e6f5d0\"],[0.7,\"#b8e186\"],[0.8,\"#7fbc41\"],[0.9,\"#4d9221\"],[1,\"#276419\"]]},\"xaxis\":{\"gridcolor\":\"white\",\"linecolor\":\"white\",\"ticks\":\"\",\"title\":{\"standoff\":15},\"zerolinecolor\":\"white\",\"automargin\":true,\"zerolinewidth\":2},\"yaxis\":{\"gridcolor\":\"white\",\"linecolor\":\"white\",\"ticks\":\"\",\"title\":{\"standoff\":15},\"zerolinecolor\":\"white\",\"automargin\":true,\"zerolinewidth\":2},\"scene\":{\"xaxis\":{\"backgroundcolor\":\"#E5ECF6\",\"gridcolor\":\"white\",\"linecolor\":\"white\",\"showbackground\":true,\"ticks\":\"\",\"zerolinecolor\":\"white\",\"gridwidth\":2},\"yaxis\":{\"backgroundcolor\":\"#E5ECF6\",\"gridcolor\":\"white\",\"linecolor\":\"white\",\"showbackground\":true,\"ticks\":\"\",\"zerolinecolor\":\"white\",\"gridwidth\":2},\"zaxis\":{\"backgroundcolor\":\"#E5ECF6\",\"gridcolor\":\"white\",\"linecolor\":\"white\",\"showbackground\":true,\"ticks\":\"\",\"zerolinecolor\":\"white\",\"gridwidth\":2}},\"shapedefaults\":{\"line\":{\"color\":\"#2a3f5f\"}},\"annotationdefaults\":{\"arrowcolor\":\"#2a3f5f\",\"arrowhead\":0,\"arrowwidth\":1},\"geo\":{\"bgcolor\":\"white\",\"landcolor\":\"#E5ECF6\",\"subunitcolor\":\"white\",\"showland\":true,\"showlakes\":true,\"lakecolor\":\"white\"},\"title\":{\"x\":0.05},\"mapbox\":{\"style\":\"light\"}}},\"xaxis\":{\"anchor\":\"y\",\"domain\":[0.0,1.0],\"title\":{\"text\":\"Country\"}},\"yaxis\":{\"anchor\":\"x\",\"domain\":[0.0,1.0],\"title\":{\"text\":\"Count\"}},\"legend\":{\"tracegroupgap\":0},\"title\":{\"text\":\"Top 10 Content Producing Countries on Netflix\"},\"barmode\":\"relative\"},                        {\"responsive\": true}                    ).then(function(){\n",
              "                            \n",
              "var gd = document.getElementById('de3fe2b9-a5a8-4f6e-9ba9-6fd0d947de0c');\n",
              "var x = new MutationObserver(function (mutations, observer) {{\n",
              "        var display = window.getComputedStyle(gd).display;\n",
              "        if (!display || display === 'none') {{\n",
              "            console.log([gd, 'removed!']);\n",
              "            Plotly.purge(gd);\n",
              "            observer.disconnect();\n",
              "        }}\n",
              "}});\n",
              "\n",
              "// Listen for the removal of the full notebook cells\n",
              "var notebookContainer = gd.closest('#notebook-container');\n",
              "if (notebookContainer) {{\n",
              "    x.observe(notebookContainer, {childList: true});\n",
              "}}\n",
              "\n",
              "// Listen for the clearing of the current output cell\n",
              "var outputEl = gd.closest('.output');\n",
              "if (outputEl) {{\n",
              "    x.observe(outputEl, {childList: true});\n",
              "}}\n",
              "\n",
              "                        })                };                            </script>        </div>\n",
              "</body>\n",
              "</html>"
            ]
          },
          "metadata": {}
        }
      ]
    },
    {
      "cell_type": "code",
      "source": [],
      "metadata": {
        "id": "yHSg90wQ87dU"
      },
      "execution_count": null,
      "outputs": []
    }
  ]
}