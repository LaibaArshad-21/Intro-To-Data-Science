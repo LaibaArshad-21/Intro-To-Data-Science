{
 "cells": [
  {
   "cell_type": "code",
   "execution_count": null,
   "metadata": {},
   "outputs": [
    {
     "ename": "",
     "evalue": "",
     "output_type": "error",
     "traceback": [
      "\u001b[1;31mFailed to start the Kernel. \n",
      "\u001b[1;31mTraceback (most recent call last):\n",
      "\u001b[1;31m  File \"<frozen runpy>\", line 198, in _run_module_as_main\n",
      "\u001b[1;31m  File \"<frozen runpy>\", line 88, in _run_code\n",
      "\u001b[1;31m  File \"C:\\Users\\AA\\AppData\\Roaming\\Python\\Python311\\site-packages\\ipykernel_launcher.py\", line 15, in <module>\n",
      "\u001b[1;31m    from ipykernel import kernelapp as app\n",
      "\u001b[1;31m  File \"C:\\Users\\AA\\AppData\\Roaming\\Python\\Python311\\site-packages\\ipykernel\\kernelapp.py\", line 42, in <module>\n",
      "\u001b[1;31m    from .ipkernel import IPythonKernel\n",
      "\u001b[1;31m  File \"C:\\Users\\AA\\AppData\\Roaming\\Python\\Python311\\site-packages\\ipykernel\\ipkernel.py\", line 38, in <module>\n",
      "\u001b[1;31m    from .debugger import Debugger\n",
      "\u001b[1;31m  File \"C:\\Users\\AA\\AppData\\Roaming\\Python\\Python311\\site-packages\\ipykernel\\debugger.py\", line 23, in <module>\n",
      "\u001b[1;31m    from debugpy.server import api  # noqa\n",
      "\u001b[1;31m    ^^^^^^^^^^^^^^^^^^^^^^^^^^^^^^\n",
      "\u001b[1;31m  File \"C:\\Users\\AA\\AppData\\Roaming\\Python\\Python311\\site-packages\\debugpy\\server\\__init__.py\", line 7, in <module>\n",
      "\u001b[1;31m    import debugpy._vendored.force_pydevd  # noqa\n",
      "\u001b[1;31m    ^^^^^^^^^^^^^^^^^^^^^^^^^^^^^^^^^^^^^\n",
      "\u001b[1;31m  File \"C:\\Users\\AA\\AppData\\Roaming\\Python\\Python311\\site-packages\\debugpy\\_vendored\\force_pydevd.py\", line 34, in <module>\n",
      "\u001b[1;31m    pydevd_constants = import_module('_pydevd_bundle.pydevd_constants')\n",
      "\u001b[1;31m                       ^^^^^^^^^^^^^^^^^^^^^^^^^^^^^^^^^^^^^^^^^^^^^^^^\n",
      "\u001b[1;31m  File \"c:\\Program Files\\Python311\\Lib\\importlib\\__init__.py\", line 126, in import_module\n",
      "\u001b[1;31m    return _bootstrap._gcd_import(name[level:], package, level)\n",
      "\u001b[1;31m           ^^^^^^^^^^^^^^^^^^^^^^^^^^^^^^^^^^^^^^^^^^^^^^^^^^^^\n",
      "\u001b[1;31m  File \"C:\\Users\\AA\\AppData\\Roaming\\Python\\Python311\\site-packages\\debugpy\\_vendored\\pydevd\\_pydevd_bundle\\pydevd_constants.py\", line 428, in <module>\n",
      "\u001b[1;31m    from _pydev_bundle._pydev_saved_modules import thread, threading\n",
      "\u001b[1;31m  File \"C:\\Users\\AA\\AppData\\Roaming\\Python\\Python311\\site-packages\\debugpy\\_vendored\\pydevd\\_pydev_bundle\\_pydev_saved_modules.py\", line 105, in <module>\n",
      "\u001b[1;31m    verify_shadowed.check(_code, [\"compile_command\", \"InteractiveInterpreter\"])\n",
      "\u001b[1;31m  File \"C:\\Users\\AA\\AppData\\Roaming\\Python\\Python311\\site-packages\\debugpy\\_vendored\\pydevd\\_pydev_bundle\\_pydev_saved_modules.py\", line 76, in check\n",
      "\u001b[1;31m    raise DebuggerInitializationError(msg)\n",
      "\u001b[1;31m_pydev_bundle._pydev_saved_modules.DebuggerInitializationError: It was not possible to initialize the debugger due to a module name conflict.\n",
      "\u001b[1;31m\n",
      "\u001b[1;31mi.e.: the module \"code\" could not be imported because it is shadowed by:\n",
      "\u001b[1;31mc:\\Users\\AA\\ASSIGNEMNT_2\\code.py\n",
      "\u001b[1;31mPlease rename this file/folder so that the original module from the standard library can be imported. \n",
      "\u001b[1;31mView Jupyter <a href='command:jupyter.viewOutput'>log</a> for further details."
     ]
    }
   ],
   "source": [
    "# 1)  Initializing Temperature and Humidity Data\n",
    "\n",
    "import numpy as np\n",
    "\n",
    "# Generate temperature data (-10 to 40 degrees Celsius)\n",
    "temperature_data = np.random.uniform(-10, 40, (500, 365))\n",
    "\n",
    "# Generate humidity data (0 to 100 percent)\n",
    "humidity_data = np.random.uniform(0, 100, (500, 365))\n"
   ]
  },
  {
   "cell_type": "code",
   "execution_count": null,
   "metadata": {},
   "outputs": [],
   "source": [
    "# 2) Simulate Missing Data \n",
    "\n",
    "num_missing = int(0.05 * temperature_data.size)\n",
    "\n",
    "# Randomly choose indices to set to NaN\n",
    "temp_indices = np.random.choice(temperature_data.size, num_missing, replace=False)\n",
    "humidity_indices = np.random.choice(humidity_data.size, num_missing, replace=False)\n",
    "\n",
    "# Set chosen indices to NaN\n",
    "temperature_data.ravel()[temp_indices] = np.nan\n",
    "humidity_data.ravel()[humidity_indices] = np.nan\n",
    "\n",
    "# Count total NaN values\n",
    "num_missing_temp = np.isnan(temperature_data).sum()\n",
    "num_missing_humidity = np.isnan(humidity_data).sum()\n",
    "\n",
    "print(\"Total missing temperature entries:\", num_missing_temp)\n",
    "print(\"Total missing humidity entries:\", num_missing_humidity)\n"
   ]
  },
  {
   "cell_type": "code",
   "execution_count": null,
   "metadata": {},
   "outputs": [
    {
     "ename": "",
     "evalue": "",
     "output_type": "error",
     "traceback": [
      "\u001b[1;31mFailed to start the Kernel. \n",
      "\u001b[1;31mTraceback (most recent call last):\n",
      "\u001b[1;31m  File \"<frozen runpy>\", line 198, in _run_module_as_main\n",
      "\u001b[1;31m  File \"<frozen runpy>\", line 88, in _run_code\n",
      "\u001b[1;31m  File \"C:\\Users\\AA\\AppData\\Roaming\\Python\\Python311\\site-packages\\ipykernel_launcher.py\", line 15, in <module>\n",
      "\u001b[1;31m    from ipykernel import kernelapp as app\n",
      "\u001b[1;31m  File \"C:\\Users\\AA\\AppData\\Roaming\\Python\\Python311\\site-packages\\ipykernel\\kernelapp.py\", line 42, in <module>\n",
      "\u001b[1;31m    from .ipkernel import IPythonKernel\n",
      "\u001b[1;31m  File \"C:\\Users\\AA\\AppData\\Roaming\\Python\\Python311\\site-packages\\ipykernel\\ipkernel.py\", line 38, in <module>\n",
      "\u001b[1;31m    from .debugger import Debugger\n",
      "\u001b[1;31m  File \"C:\\Users\\AA\\AppData\\Roaming\\Python\\Python311\\site-packages\\ipykernel\\debugger.py\", line 23, in <module>\n",
      "\u001b[1;31m    from debugpy.server import api  # noqa\n",
      "\u001b[1;31m    ^^^^^^^^^^^^^^^^^^^^^^^^^^^^^^\n",
      "\u001b[1;31m  File \"C:\\Users\\AA\\AppData\\Roaming\\Python\\Python311\\site-packages\\debugpy\\server\\__init__.py\", line 7, in <module>\n",
      "\u001b[1;31m    import debugpy._vendored.force_pydevd  # noqa\n",
      "\u001b[1;31m    ^^^^^^^^^^^^^^^^^^^^^^^^^^^^^^^^^^^^^\n",
      "\u001b[1;31m  File \"C:\\Users\\AA\\AppData\\Roaming\\Python\\Python311\\site-packages\\debugpy\\_vendored\\force_pydevd.py\", line 34, in <module>\n",
      "\u001b[1;31m    pydevd_constants = import_module('_pydevd_bundle.pydevd_constants')\n",
      "\u001b[1;31m                       ^^^^^^^^^^^^^^^^^^^^^^^^^^^^^^^^^^^^^^^^^^^^^^^^\n",
      "\u001b[1;31m  File \"c:\\Program Files\\Python311\\Lib\\importlib\\__init__.py\", line 126, in import_module\n",
      "\u001b[1;31m    return _bootstrap._gcd_import(name[level:], package, level)\n",
      "\u001b[1;31m           ^^^^^^^^^^^^^^^^^^^^^^^^^^^^^^^^^^^^^^^^^^^^^^^^^^^^\n",
      "\u001b[1;31m  File \"C:\\Users\\AA\\AppData\\Roaming\\Python\\Python311\\site-packages\\debugpy\\_vendored\\pydevd\\_pydevd_bundle\\pydevd_constants.py\", line 428, in <module>\n",
      "\u001b[1;31m    from _pydev_bundle._pydev_saved_modules import thread, threading\n",
      "\u001b[1;31m  File \"C:\\Users\\AA\\AppData\\Roaming\\Python\\Python311\\site-packages\\debugpy\\_vendored\\pydevd\\_pydev_bundle\\_pydev_saved_modules.py\", line 105, in <module>\n",
      "\u001b[1;31m    verify_shadowed.check(_code, [\"compile_command\", \"InteractiveInterpreter\"])\n",
      "\u001b[1;31m  File \"C:\\Users\\AA\\AppData\\Roaming\\Python\\Python311\\site-packages\\debugpy\\_vendored\\pydevd\\_pydev_bundle\\_pydev_saved_modules.py\", line 76, in check\n",
      "\u001b[1;31m    raise DebuggerInitializationError(msg)\n",
      "\u001b[1;31m_pydev_bundle._pydev_saved_modules.DebuggerInitializationError: It was not possible to initialize the debugger due to a module name conflict.\n",
      "\u001b[1;31m\n",
      "\u001b[1;31mi.e.: the module \"code\" could not be imported because it is shadowed by:\n",
      "\u001b[1;31mc:\\Users\\AA\\ASSIGNEMNT_2\\code.py\n",
      "\u001b[1;31mPlease rename this file/folder so that the original module from the standard library can be imported. \n",
      "\u001b[1;31mView Jupyter <a href='command:jupyter.viewOutput'>log</a> for further details."
     ]
    }
   ],
   "source": [
    "# 3) Convert Temperature and Calculate Discomfort Index\n",
    "\n",
    "# Convert Celsius to Fahrenheit\n",
    "temperature_data_fahrenheit = (temperature_data * 9/5) + 32\n",
    "\n",
    "# Calculate the discomfort index\n",
    "discomfort_index = 0.5 * (temperature_data_fahrenheit + 61.0 + ((temperature_data_fahrenheit - 68.0) * 1.2) + (humidity_data * 0.094))\n",
    "\n",
    "# Cap discomfort index at 80\n",
    "discomfort_index = np.where(discomfort_index > 80, 80, discomfort_index)\n"
   ]
  },
  {
   "cell_type": "code",
   "execution_count": null,
   "metadata": {},
   "outputs": [],
   "source": [
    "# 4. Analyze January Temperatures\n",
    "\n",
    "january_temperatures = temperature_data[:, :31]  # First 31 days for January\n",
    "average_january_temp = np.nanmean(january_temperatures)\n",
    "\n",
    "print(\"Average January temperature across all locations:\", average_january_temp)\n"
   ]
  },
  {
   "cell_type": "code",
   "execution_count": null,
   "metadata": {},
   "outputs": [],
   "source": [
    "# 5. Identify Extreme Temperatures\n",
    "\n",
    "extreme_condition = temperature_data > 35\n",
    "temperature_data[extreme_condition] = np.nan\n",
    "\n",
    "# Count NaNs per location\n",
    "nan_count_per_location = np.isnan(temperature_data).sum(axis=1)\n",
    "\n",
    "print(\"Number of extreme temperatures replaced by NaN per location:\")\n",
    "print(nan_count_per_location)\n"
   ]
  },
  {
   "cell_type": "code",
   "execution_count": null,
   "metadata": {},
   "outputs": [],
   "source": [
    "# 6. Calculate Quarterly Temperature Averages\n",
    "\n",
    "# Split data into four quarters and calculate average per location\n",
    "quarters = np.split(temperature_data, 4, axis=1)\n",
    "quarterly_averages = [np.nanmean(quarter, axis=1) for quarter in quarters]\n",
    "\n",
    "print(\"Quarterly average temperatures for each location:\")\n",
    "for i, avg in enumerate(quarterly_averages):\n",
    "    print(f\"Q{i+1}: {avg}\")\n"
   ]
  },
  {
   "cell_type": "code",
   "execution_count": null,
   "metadata": {},
   "outputs": [],
   "source": [
    "# 7. Classify Humidity Levels\n",
    "\n",
    "dry_days = humidity_data < 30\n",
    "humid_days = humidity_data > 70\n",
    "\n",
    "dry_days_count = np.sum(dry_days, axis=1)\n",
    "humid_days_count = np.sum(humid_days, axis=1)\n",
    "\n",
    "print(\"Number of dry days per location:\", dry_days_count)\n",
    "print(\"Number of humid days per location:\", humid_days_count)\n"
   ]
  },
  {
   "cell_type": "code",
   "execution_count": null,
   "metadata": {},
   "outputs": [],
   "source": [
    "# 8. Apply Daily Pressure Trend to Temperature Data\n",
    "\n",
    "# Generate a pressure trend (e.g., a sine wave pattern)\n",
    "pressure_trend = 2 * np.sin(np.linspace(0, 2 * np.pi, 365))\n",
    "\n",
    "# Apply the pressure trend to each location's temperature data\n",
    "adjusted_temperature_data = temperature_data + pressure_trend\n",
    "\n",
    "print(\"Adjusted temperature data with pressure trend applied.\")\n"
   ]
  }
 ],
 "metadata": {
  "kernelspec": {
   "display_name": "Python 3",
   "language": "python",
   "name": "python3"
  },
  "language_info": {
   "name": "python",
   "version": "3.11.4"
  }
 },
 "nbformat": 4,
 "nbformat_minor": 2
}
