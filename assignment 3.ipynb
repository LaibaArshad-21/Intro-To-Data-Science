{
 "cells": [
  {
   "cell_type": "markdown",
   "id": "995a442d-f186-46cd-9538-1ce50e029cd0",
   "metadata": {},
   "source": [
    "# TASK-1 ( ECOMMERCE DATA PROCESSING)\n",
    "***"
   ]
  },
  {
   "cell_type": "markdown",
   "id": "1b14b384-47c9-4950-9fe8-5ab3a8b76872",
   "metadata": {},
   "source": [
    "## PART - A  "
   ]
  },
  {
   "cell_type": "code",
   "execution_count": 1,
   "id": "103d0d44-549a-4d5a-8c1c-43035d05a50e",
   "metadata": {},
   "outputs": [
    {
     "name": "stdout",
     "output_type": "stream",
     "text": [
      "Invalid order {'customer': 'Bob', 'total': 'invalid_data'}: could not convert string to float: 'invalid_data'\n",
      "Invalid order {'customer': 'Eve', 'total': -30}: Total cannot be negative\n",
      "Valid Orders: [{'customer': 'Alice', 'total': 250.5}, {'customer': 'Charlie', 'total': 450}, {'customer': 'Daisy', 'total': 100.0}]\n"
     ]
    }
   ],
   "source": [
    "from typing import List, Dict\n",
    "\n",
    "orders = [\n",
    "    {\"customer\": \"Alice\", \"total\": 250.5},\n",
    "    {\"customer\": \"Bob\", \"total\": \"invalid_data\"},\n",
    "    {\"customer\": \"Charlie\", \"total\": 450},\n",
    "    {\"customer\": \"Daisy\", \"total\": 100.0},\n",
    "    {\"customer\": \"Eve\", \"total\": -30}, # Invalid total\n",
    "]\n",
    "\n",
    "def validate_orders(orders: List[Dict[str, any]]) -> List[Dict[str, float]]:\n",
    "    def is_valid(order):\n",
    "        try:\n",
    "            total = float(order[\"total\"])\n",
    "            if total < 0:\n",
    "                raise ValueError(\"Total cannot be negative\")\n",
    "            return True\n",
    "        except (ValueError, TypeError) as e:\n",
    "            print(f\"Invalid order {order}: {e}\")\n",
    "            return False\n",
    "\n",
    "    return list(filter(lambda order: is_valid(order), orders))\n",
    "\n",
    "valid_orders = validate_orders(orders)\n",
    "print(\"Valid Orders:\", valid_orders)\n"
   ]
  },
  {
   "cell_type": "markdown",
   "id": "cd8483ef-8dca-4adb-81c8-a765b5454f6d",
   "metadata": {},
   "source": [
    "## PART - B"
   ]
  },
  {
   "cell_type": "code",
   "execution_count": 2,
   "id": "fe50d038-2702-428c-9d96-886692bb253f",
   "metadata": {},
   "outputs": [
    {
     "name": "stdout",
     "output_type": "stream",
     "text": [
      "Discounted Orders: [{'customer': 'Alice', 'total': 250.5}, {'customer': 'Charlie', 'total': 405.0}, {'customer': 'Daisy', 'total': 100.0}]\n"
     ]
    }
   ],
   "source": [
    "def apply_discount(orders: List[Dict[str, float]]) -> List[Dict[str, float]]:\n",
    "    return list(map(lambda order: {**order, \"total\": order[\"total\"] * 0.9} if order[\"total\"] > 300 else order, orders))\n",
    "\n",
    "discounted_orders = apply_discount(valid_orders)\n",
    "print(\"Discounted Orders:\", discounted_orders)\n"
   ]
  },
  {
   "cell_type": "markdown",
   "id": "171c1c06-4312-4acf-a394-3ff6d5e0202b",
   "metadata": {},
   "source": [
    "## PART - C"
   ]
  },
  {
   "cell_type": "code",
   "execution_count": 3,
   "id": "30277176-169d-4243-82b1-786c2f7cb958",
   "metadata": {},
   "outputs": [
    {
     "name": "stdout",
     "output_type": "stream",
     "text": [
      "Total Sales: 755.5\n"
     ]
    }
   ],
   "source": [
    "from functools import reduce\n",
    "\n",
    "def calculate_total_sales(orders: List[Dict[str, float]]) -> float:\n",
    "    return reduce(lambda acc, order: acc + order[\"total\"], orders, 0)\n",
    "\n",
    "total_sales = calculate_total_sales(discounted_orders)\n",
    "print(\"Total Sales:\", total_sales)\n"
   ]
  },
  {
   "cell_type": "markdown",
   "id": "1552fd14-8a76-4ea3-859d-b53f26874c1b",
   "metadata": {},
   "source": [
    "# TASK - 2 ( ITERATOR AND GENERATOR )\n",
    "***"
   ]
  },
  {
   "cell_type": "markdown",
   "id": "49cd7c9f-d6a7-4149-b020-4484db1d17f3",
   "metadata": {},
   "source": [
    "## PART -A "
   ]
  },
  {
   "cell_type": "code",
   "execution_count": 4,
   "id": "ee7eaf8c-71ef-4847-88ab-f5ed0a4bc4e6",
   "metadata": {},
   "outputs": [
    {
     "name": "stdout",
     "output_type": "stream",
     "text": [
      "1\n",
      "4\n",
      "9\n",
      "16\n",
      "25\n"
     ]
    }
   ],
   "source": [
    "class SquareIterator:\n",
    "    def __init__(self, n):\n",
    "        self.n = n\n",
    "        self.current = 1\n",
    "\n",
    "    def __iter__(self):\n",
    "        return self\n",
    "\n",
    "    def __next__(self):\n",
    "        if self.current <= self.n:\n",
    "            result = self.current ** 2\n",
    "            self.current += 1\n",
    "            return result\n",
    "        else:\n",
    "            raise StopIteration\n",
    "\n",
    "# Example usage:\n",
    "squares = SquareIterator(5)\n",
    "for square in squares:\n",
    "    print(square)\n"
   ]
  },
  {
   "cell_type": "markdown",
   "id": "49f486d6-96e1-4d8d-af55-61547f7d6049",
   "metadata": {},
   "source": [
    "## PART - B"
   ]
  },
  {
   "cell_type": "code",
   "execution_count": 5,
   "id": "384c22ca-6db8-43d0-9674-c8f0ebe129cb",
   "metadata": {},
   "outputs": [
    {
     "name": "stdout",
     "output_type": "stream",
     "text": [
      "0\n",
      "1\n",
      "1\n",
      "2\n",
      "3\n",
      "5\n",
      "8\n",
      "13\n",
      "21\n"
     ]
    }
   ],
   "source": [
    "def fibonacci_generator(n):\n",
    "    a, b = 0, 1\n",
    "    while a <= n:\n",
    "        yield a\n",
    "        a, b = b, a + b\n",
    "\n",
    "# Example usage:\n",
    "for number in fibonacci_generator(21):\n",
    "    print(number)\n"
   ]
  },
  {
   "cell_type": "markdown",
   "id": "d5e3a38f-84b0-4506-b711-13c8b494a63d",
   "metadata": {},
   "source": [
    "# TASK - 3 ( EXCEPTION HANDLING AND DECORATOR)\n",
    "***"
   ]
  },
  {
   "cell_type": "markdown",
   "id": "fa6a0c9f-ceea-4c20-b6bc-99227ea925f1",
   "metadata": {},
   "source": [
    "## PART -A "
   ]
  },
  {
   "cell_type": "code",
   "execution_count": 6,
   "id": "43224f6d-806c-4d18-894b-28e534a1ea94",
   "metadata": {},
   "outputs": [
    {
     "name": "stdout",
     "output_type": "stream",
     "text": [
      "Error: Divisor cannot be zero\n"
     ]
    }
   ],
   "source": [
    "class DivisionByZeroError(Exception):\n",
    "    pass\n",
    "\n",
    "def divide_numbers(numbers, divisor):\n",
    "    try:\n",
    "        if divisor == 0:\n",
    "            raise DivisionByZeroError(\"Divisor cannot be zero\")\n",
    "        return [num / divisor for num in numbers]\n",
    "    except DivisionByZeroError as e:\n",
    "        raise e\n",
    "    except Exception as e:\n",
    "        raise ValueError(\"Invalid input\") from e\n",
    "\n",
    "# Example usage:\n",
    "try:\n",
    "    result = divide_numbers([10, 20, \"invalid\"], 0)\n",
    "except Exception as e:\n",
    "    print(f\"Error: {e}\")\n"
   ]
  },
  {
   "cell_type": "markdown",
   "id": "ccc1ca55-e58e-46d0-b08c-2b6eef703ef5",
   "metadata": {},
   "source": [
    "## PART - B"
   ]
  },
  {
   "cell_type": "code",
   "execution_count": 7,
   "id": "e2d1adfd-f778-4406-a18d-c23e6ec8d5e9",
   "metadata": {},
   "outputs": [
    {
     "name": "stderr",
     "output_type": "stream",
     "text": [
      "ERROR:root:Exception in faulty_function: ZeroDivisionError - division by zero\n"
     ]
    }
   ],
   "source": [
    "import functools\n",
    "import logging\n",
    "\n",
    "logging.basicConfig(level=logging.ERROR)\n",
    "\n",
    "def log_exceptions(func):\n",
    "    @functools.wraps(func)\n",
    "    def wrapper(*args, **kwargs):\n",
    "        try:\n",
    "            return func(*args, **kwargs)\n",
    "        except Exception as e:\n",
    "            logging.error(f\"Exception in {func.__name__}: {e.__class__.__name__} - {e}\")\n",
    "            raise\n",
    "    return wrapper\n",
    "\n",
    "# Example usage:\n",
    "\n",
    "@log_exceptions\n",
    "def faulty_function(x):\n",
    "    return 10 / x\n",
    "\n",
    "try:\n",
    "    faulty_function(0)\n",
    "except ZeroDivisionError:\n",
    "    pass\n"
   ]
  }
 ],
 "metadata": {
  "kernelspec": {
   "display_name": "Python 3 (ipykernel)",
   "language": "python",
   "name": "python3"
  },
  "language_info": {
   "codemirror_mode": {
    "name": "ipython",
    "version": 3
   },
   "file_extension": ".py",
   "mimetype": "text/x-python",
   "name": "python",
   "nbconvert_exporter": "python",
   "pygments_lexer": "ipython3",
   "version": "3.12.7"
  }
 },
 "nbformat": 4,
 "nbformat_minor": 5
}
